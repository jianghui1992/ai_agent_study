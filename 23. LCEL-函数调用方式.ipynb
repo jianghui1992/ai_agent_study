{
 "cells": [
  {
   "cell_type": "code",
   "id": "initial_id",
   "metadata": {
    "collapsed": true,
    "ExecuteTime": {
     "end_time": "2024-04-27T09:34:54.298619Z",
     "start_time": "2024-04-27T09:34:54.279856Z"
    }
   },
   "source": [
    "from dotenv import load_dotenv\n",
    "\n",
    "load_dotenv(\"openai.env\")"
   ],
   "outputs": [
    {
     "data": {
      "text/plain": [
       "True"
      ]
     },
     "execution_count": 1,
     "metadata": {},
     "output_type": "execute_result"
    }
   ],
   "execution_count": 1
  },
  {
   "metadata": {
    "ExecuteTime": {
     "end_time": "2024-04-27T09:36:49.346822Z",
     "start_time": "2024-04-27T09:36:49.315344Z"
    }
   },
   "cell_type": "code",
   "source": [
    "from langchain_core.prompts import ChatPromptTemplate\n",
    "from langchain_openai import ChatOpenAI\n",
    "\n",
    "prompt = ChatPromptTemplate.from_template(\"给我讲一个关于{topic}的笑话\")\n",
    "model = ChatOpenAI(temperature=0)\n",
    "chain = prompt | model"
   ],
   "id": "527ed719934a3d95",
   "outputs": [],
   "execution_count": 7
  },
  {
   "metadata": {
    "ExecuteTime": {
     "end_time": "2024-04-27T09:36:52.716668Z",
     "start_time": "2024-04-27T09:36:50.181049Z"
    }
   },
   "cell_type": "code",
   "source": "chain.invoke({\"topic\": \"大头\"})",
   "id": "13e1ce7433af987a",
   "outputs": [
    {
     "data": {
      "text/plain": [
       "AIMessage(content='好的，这里有一个关于大头的笑话：\\n\\n为什么大头总是很聪明？\\n\\n因为大脑藏在大头里啊！哈哈哈！', response_metadata={'token_usage': {'completion_tokens': 47, 'prompt_tokens': 19, 'total_tokens': 66}, 'model_name': 'gpt-3.5-turbo', 'system_fingerprint': 'fp_3b956da36b', 'finish_reason': 'stop', 'logprobs': None}, id='run-f5a38bed-c237-4c39-8e23-0dc20078d6fb-0')"
      ]
     },
     "execution_count": 8,
     "metadata": {},
     "output_type": "execute_result"
    }
   ],
   "execution_count": 8
  },
  {
   "metadata": {},
   "cell_type": "markdown",
   "source": "# 自定义停止输出符",
   "id": "472b9d23ed70d4ca"
  },
  {
   "metadata": {
    "ExecuteTime": {
     "end_time": "2024-04-27T09:36:25.595368Z",
     "start_time": "2024-04-27T09:36:24.219063Z"
    }
   },
   "cell_type": "code",
   "source": [
    "# stop=[\"\\n\"] 碰到换行就自动停止输出\n",
    "chain = prompt | model.bind(stop=[\"\\n\"])\n",
    "chain.invoke({\"topic\": \"大头\"})"
   ],
   "id": "70511a200ef80c83",
   "outputs": [
    {
     "data": {
      "text/plain": [
       "AIMessage(content='好的，这里有一个关于大头的笑话：', response_metadata={'token_usage': {'completion_tokens': 15, 'prompt_tokens': 19, 'total_tokens': 34}, 'model_name': 'gpt-3.5-turbo', 'system_fingerprint': 'fp_3b956da36b', 'finish_reason': 'stop', 'logprobs': None}, id='run-759b0f10-4b6e-48a0-bbcb-ebc9ade2d2f0-0')"
      ]
     },
     "execution_count": 6,
     "metadata": {},
     "output_type": "execute_result"
    }
   ],
   "execution_count": 6
  },
  {
   "metadata": {},
   "cell_type": "markdown",
   "source": "# 兼容openai函数调用的方式",
   "id": "f99ee292c7f593bf"
  },
  {
   "metadata": {
    "ExecuteTime": {
     "end_time": "2024-04-27T09:37:55.168664Z",
     "start_time": "2024-04-27T09:37:55.164675Z"
    }
   },
   "cell_type": "code",
   "source": [
    "functions = [\n",
    "    {\n",
    "        \"name\": \"joke\",\n",
    "        \"description\": \"讲笑话\",\n",
    "        \"parameters\": {\n",
    "            \"type\": \"object\",\n",
    "            \"properties\": {\n",
    "                \"setup\": {\"type\": \"string\", \"description\": \"笑话的开头\"},\n",
    "                \"punchline\": {\"type\": \"string\", \"description\": \"爆梗的结尾\"},\n",
    "            },\n",
    "            \"required\": [\"setup\", \"punchline\"],\n",
    "        },\n",
    "    }\n",
    "]\n",
    "chain = prompt | model.bind(function_call={\"name\": \"joke\"}, functions=functions)"
   ],
   "id": "69d646dfdc2c8f36",
   "outputs": [],
   "execution_count": 9
  },
  {
   "metadata": {
    "ExecuteTime": {
     "end_time": "2024-04-27T09:38:16.385121Z",
     "start_time": "2024-04-27T09:38:13.388689Z"
    }
   },
   "cell_type": "code",
   "source": "chain.invoke({\"topic\": \"男人\"}, config={})",
   "id": "57177ca25fa7d4ad",
   "outputs": [
    {
     "data": {
      "text/plain": [
       "AIMessage(content='', additional_kwargs={'function_call': {'arguments': 'const joke: functions.joke = ({ setup, punchline }) => {\\n  console.log(setup);\\n  console.log(punchline);\\n}\\n\\njoke({\\n  setup: \"为什么男人总是喜欢开车？\",\\n  punchline: \"因为开车的时候，他们可以控制方向盘，而不是被女人控制。\"\\n});', 'name': 'joke'}}, response_metadata={'token_usage': {'completion_tokens': 90, 'prompt_tokens': 89, 'total_tokens': 179}, 'model_name': 'gpt-3.5-turbo', 'system_fingerprint': None, 'finish_reason': 'stop', 'logprobs': None}, id='run-5835f478-2b25-46d2-b2dc-5cbfaa1962af-0')"
      ]
     },
     "execution_count": 11,
     "metadata": {},
     "output_type": "execute_result"
    }
   ],
   "execution_count": 11
  },
  {
   "metadata": {
    "ExecuteTime": {
     "end_time": "2024-04-27T09:39:12.973656Z",
     "start_time": "2024-04-27T09:39:11.406645Z"
    }
   },
   "cell_type": "code",
   "source": [
    "from langchain.output_parsers.openai_functions import JsonOutputFunctionsParser\n",
    "\n",
    "chain = (\n",
    "        prompt\n",
    "        | model.bind(function_call={\"name\": \"joke\"}, functions=functions)\n",
    "        | JsonOutputFunctionsParser()\n",
    ")\n",
    "chain.invoke({\"topic\": \"女人\"})"
   ],
   "id": "b08de4d48d193c47",
   "outputs": [
    {
     "data": {
      "text/plain": [
       "{'setup': '为什么女人喜欢逛街？', 'punchline': '因为那是唯一能让她们感觉自己在控制的地方！'}"
      ]
     },
     "execution_count": 14,
     "metadata": {},
     "output_type": "execute_result"
    }
   ],
   "execution_count": 14
  },
  {
   "metadata": {},
   "cell_type": "markdown",
   "source": "# 指定输出字段-只输出setup",
   "id": "f3e89c331cea4722"
  },
  {
   "metadata": {
    "ExecuteTime": {
     "end_time": "2024-04-27T09:40:36.342478Z",
     "start_time": "2024-04-27T09:40:34.450984Z"
    }
   },
   "cell_type": "code",
   "source": [
    "from langchain.output_parsers.openai_functions import JsonKeyOutputFunctionsParser\n",
    "from langchain_core.runnables import RunnablePassthrough\n",
    "\n",
    "chain = (\n",
    "        {\"topic\": RunnablePassthrough()}  #使用RunnablePassthrough()跳过prompt\n",
    "        | prompt\n",
    "        | model.bind(function_call={\"name\": \"joke\"}, functions=functions)\n",
    "        | JsonKeyOutputFunctionsParser(key_name=\"setup\")  # 定义输出的key\n",
    ")\n",
    "\n",
    "#chain.invoke({\"foo\": \"女人\"})\n",
    "chain.invoke(\"女人\")"
   ],
   "id": "dc97860bc93b7c30",
   "outputs": [
    {
     "data": {
      "text/plain": [
       "'为什么女人喜欢逛街？'"
      ]
     },
     "execution_count": 16,
     "metadata": {},
     "output_type": "execute_result"
    }
   ],
   "execution_count": 16
  }
 ],
 "metadata": {
  "kernelspec": {
   "display_name": "Python 3",
   "language": "python",
   "name": "python3"
  },
  "language_info": {
   "codemirror_mode": {
    "name": "ipython",
    "version": 2
   },
   "file_extension": ".py",
   "mimetype": "text/x-python",
   "name": "python",
   "nbconvert_exporter": "python",
   "pygments_lexer": "ipython2",
   "version": "2.7.6"
  }
 },
 "nbformat": 4,
 "nbformat_minor": 5
}
