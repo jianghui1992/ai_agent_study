{
 "cells": [
  {
   "cell_type": "code",
   "id": "initial_id",
   "metadata": {
    "collapsed": true,
    "ExecuteTime": {
     "end_time": "2024-04-25T14:06:29.426215Z",
     "start_time": "2024-04-25T14:06:29.408792Z"
    }
   },
   "source": [
    "from dotenv import load_dotenv\n",
    "\n",
    "load_dotenv(\"openai.env\")"
   ],
   "outputs": [
    {
     "data": {
      "text/plain": [
       "True"
      ]
     },
     "execution_count": 1,
     "metadata": {},
     "output_type": "execute_result"
    }
   ],
   "execution_count": 1
  },
  {
   "metadata": {},
   "cell_type": "markdown",
   "source": [
    "# 在agent与tool之间共享记忆\n",
    "\n",
    "- 自定义一个工具用来LLMChain来总结内容\n",
    "- 使用readonlymemory来共享记忆\n",
    "- 观察共享与不共享的区别\n",
    "<hr>"
   ],
   "id": "fa74960f8d3c9c51"
  },
  {
   "metadata": {
    "ExecuteTime": {
     "end_time": "2024-04-25T14:07:44.894200Z",
     "start_time": "2024-04-25T14:07:42.541411Z"
    }
   },
   "cell_type": "code",
   "source": [
    "from langchain.agents import initialize_agent, Tool, AgentType\n",
    "from langchain.memory import ConversationBufferMemory, ReadOnlySharedMemory\n",
    "from langchain.llms import OpenAI\n",
    "from langchain.chains import LLMChain\n",
    "from langchain.prompts import PromptTemplate, MessagesPlaceholder\n",
    "from langchain.utilities import SerpAPIWrapper\n",
    "\n",
    "# 创建llm\n",
    "llm = OpenAI(\n",
    "    temperature=0,\n",
    "    model=\"gpt-3.5-turbo-instruct\",\n",
    ")"
   ],
   "id": "c87a79e445436d16",
   "outputs": [
    {
     "name": "stderr",
     "output_type": "stream",
     "text": [
      "/Users/jianghui/PycharmProjects/ai_agent_study/venv/lib/python3.11/site-packages/langchain_core/_api/deprecation.py:117: LangChainDeprecationWarning: The class `langchain_community.llms.openai.OpenAI` was deprecated in langchain-community 0.0.10 and will be removed in 0.2.0. An updated version of the class exists in the langchain-openai package and should be used instead. To use it run `pip install -U langchain-openai` and import as `from langchain_openai import OpenAI`.\n",
      "  warn_deprecated(\n"
     ]
    }
   ],
   "execution_count": 2
  },
  {
   "metadata": {},
   "cell_type": "markdown",
   "source": "创建一条链来总结对话",
   "id": "e6d4927d779f2be5"
  },
  {
   "metadata": {
    "ExecuteTime": {
     "end_time": "2024-04-25T14:07:48.440458Z",
     "start_time": "2024-04-25T14:07:48.436121Z"
    }
   },
   "cell_type": "code",
   "source": [
    "template = \"\"\"以下是一段AI机器人和人类的对话:\n",
    "{chat_history}\n",
    "根据输入和上面的对话记录写一份对话总结.\n",
    "输入: {input}\"\"\"\n",
    "\n",
    "prompt = PromptTemplate(\n",
    "    input_variables=[\"input\", \"chat_history\"],\n",
    "    template=template,\n",
    ")\n",
    "\n",
    "memory = ConversationBufferMemory(\n",
    "    memory_key=\"chat_history\",\n",
    "    return_messages=True,\n",
    ")\n",
    "readonly_memory = ReadOnlySharedMemory(memory=memory)\n",
    "summary_chain = LLMChain(\n",
    "    llm=llm,\n",
    "    prompt=prompt,\n",
    "    verbose=True,\n",
    "    memory=readonly_memory,\n",
    ")\n"
   ],
   "id": "b7d331d07d746a11",
   "outputs": [],
   "execution_count": 3
  },
  {
   "metadata": {},
   "cell_type": "markdown",
   "source": "构建工具",
   "id": "3da5d58fd54d2bc3"
  },
  {
   "metadata": {
    "ExecuteTime": {
     "end_time": "2024-04-25T14:08:43.443681Z",
     "start_time": "2024-04-25T14:08:43.429170Z"
    }
   },
   "cell_type": "code",
   "source": [
    "import os\n",
    "\n",
    "os.environ[\"SERPAPI_API_KEY\"] = \"32109af1224c43d11768866970c41e4e681e03bf220c7bd2b9a16af817431719\"\n",
    "#搜索工具\n",
    "search = SerpAPIWrapper()\n",
    "\n",
    "\n",
    "#总结工具\n",
    "def summary_chain_fun(history):\n",
    "    print(\"\\n==============总结链开始运行==============\")\n",
    "    print(\"输入历史: \", history)\n",
    "    summary_chain.run(history)\n",
    "\n",
    "tools = [\n",
    "    Tool(\n",
    "        name=\"Search\",\n",
    "        func=search.run,\n",
    "        description=\"当需要了解实时的信息或者你不知道的事时候可以使用搜索工具\",\n",
    "    ),\n",
    "    Tool(\n",
    "        name=\"Summary\",\n",
    "        func=summary_chain_fun,\n",
    "        description=\"当你被要求总结一段对话的时候可以使用这个工具，工具输入必须为字符串，只在必要时使用\",\n",
    "    ),\n",
    "]\n",
    "print(tools)"
   ],
   "id": "7ced54b51b544479",
   "outputs": [
    {
     "name": "stdout",
     "output_type": "stream",
     "text": [
      "[Tool(name='Search', description='当需要了解实时的信息或者你不知道的事时候可以使用搜索工具', func=<bound method SerpAPIWrapper.run of SerpAPIWrapper(search_engine=<class 'serpapi.google_search.GoogleSearch'>, params={'engine': 'google', 'google_domain': 'google.com', 'gl': 'us', 'hl': 'en'}, serpapi_api_key='32109af1224c43d11768866970c41e4e681e03bf220c7bd2b9a16af817431719', aiosession=None)>), Tool(name='Summary', description='当你被要求总结一段对话的时候可以使用这个工具，工具输入必须为字符串，只在必要时使用', func=<function summary_chain_fun at 0x111230d60>)]\n"
     ]
    }
   ],
   "execution_count": 4
  },
  {
   "metadata": {},
   "cell_type": "markdown",
   "source": "创建记忆组件",
   "id": "c574d8347e496e6c"
  },
  {
   "metadata": {
    "ExecuteTime": {
     "end_time": "2024-04-25T14:09:22.092497Z",
     "start_time": "2024-04-25T14:09:22.089618Z"
    }
   },
   "cell_type": "code",
   "source": [
    "memory = ConversationBufferMemory(\n",
    "    memory_key=\"chat_history\",\n",
    "    return_messages=True,\n",
    ")"
   ],
   "id": "2ea52e6297b1e604",
   "outputs": [],
   "execution_count": 5
  },
  {
   "metadata": {},
   "cell_type": "markdown",
   "source": "创建agent",
   "id": "4e333b5f2dd6f3e6"
  },
  {
   "metadata": {
    "ExecuteTime": {
     "end_time": "2024-04-25T14:09:34.884695Z",
     "start_time": "2024-04-25T14:09:34.839329Z"
    }
   },
   "cell_type": "code",
   "source": [
    "agent_chain = initialize_agent(\n",
    "    tools,\n",
    "    llm,\n",
    "    agent=AgentType.ZERO_SHOT_REACT_DESCRIPTION,\n",
    "    verbose=True,\n",
    "    handle_parsing_errors=True,\n",
    "    memory=memory,\n",
    ")"
   ],
   "id": "4d752d1d2da46b47",
   "outputs": [
    {
     "name": "stderr",
     "output_type": "stream",
     "text": [
      "/Users/jianghui/PycharmProjects/ai_agent_study/venv/lib/python3.11/site-packages/langchain_core/_api/deprecation.py:117: LangChainDeprecationWarning: The function `initialize_agent` was deprecated in LangChain 0.1.0 and will be removed in 0.2.0. Use Use new agent constructor methods like create_react_agent, create_json_agent, create_structured_chat_agent, etc. instead.\n",
      "  warn_deprecated(\n"
     ]
    }
   ],
   "execution_count": 6
  },
  {
   "metadata": {
    "ExecuteTime": {
     "end_time": "2024-04-25T14:10:38.200235Z",
     "start_time": "2024-04-25T14:10:38.196721Z"
    }
   },
   "cell_type": "code",
   "source": "print(agent_chain.agent.llm_chain.prompt.template)",
   "id": "30a3da066b4d6633",
   "outputs": [
    {
     "name": "stdout",
     "output_type": "stream",
     "text": [
      "Answer the following questions as best you can. You have access to the following tools:\n",
      "\n",
      "Search: 当需要了解实时的信息或者你不知道的事时候可以使用搜索工具\n",
      "Summary: 当你被要求总结一段对话的时候可以使用这个工具，工具输入必须为字符串，只在必要时使用\n",
      "\n",
      "Use the following format:\n",
      "\n",
      "Question: the input question you must answer\n",
      "Thought: you should always think about what to do\n",
      "Action: the action to take, should be one of [Search, Summary]\n",
      "Action Input: the input to the action\n",
      "Observation: the result of the action\n",
      "... (this Thought/Action/Action Input/Observation can repeat N times)\n",
      "Thought: I now know the final answer\n",
      "Final Answer: the final answer to the original input question\n",
      "\n",
      "Begin!\n",
      "\n",
      "Question: {input}\n",
      "Thought:{agent_scratchpad}\n"
     ]
    }
   ],
   "execution_count": 8
  },
  {
   "metadata": {},
   "cell_type": "markdown",
   "source": "重构prompt,加入历史记录",
   "id": "369fdb5408e08423"
  },
  {
   "metadata": {
    "ExecuteTime": {
     "end_time": "2024-04-25T14:12:03.047613Z",
     "start_time": "2024-04-25T14:12:03.042493Z"
    }
   },
   "cell_type": "code",
   "source": [
    "prefix = \"\"\"Answer the following questions as best you can. You have access to the following tools:\"\"\"\n",
    "suffix = \"\"\"Begin!\n",
    "{chat_history}\n",
    "Question: {input}\n",
    "Thought:{agent_scratchpad}\n",
    "\"\"\"\n",
    "\n",
    "agent_chain = initialize_agent(\n",
    "    tools,\n",
    "    llm,\n",
    "    agent=AgentType.ZERO_SHOT_REACT_DESCRIPTION,\n",
    "    verbose=True,\n",
    "    handle_parsing_errors=True,\n",
    "    agent_kwargs={\n",
    "        \"prefix\":prefix,\n",
    "        \"suffix\":suffix,\n",
    "        \"chat_history\":MessagesPlaceholder(\"chat_history\"),\n",
    "        \"input\":MessagesPlaceholder(\"input\"),\n",
    "        \"agent_scratchpad\":MessagesPlaceholder(\"agent_scratchpad\"),\n",
    "    },\n",
    "    memory=memory,\n",
    ")\n",
    "print(agent_chain.agent.llm_chain.prompt.template)"
   ],
   "id": "9c30052ca7561ed2",
   "outputs": [
    {
     "name": "stdout",
     "output_type": "stream",
     "text": [
      "Answer the following questions as best you can. You have access to the following tools:\n",
      "\n",
      "Search: 当需要了解实时的信息或者你不知道的事时候可以使用搜索工具\n",
      "Summary: 当你被要求总结一段对话的时候可以使用这个工具，工具输入必须为字符串，只在必要时使用\n",
      "\n",
      "Use the following format:\n",
      "\n",
      "Question: the input question you must answer\n",
      "Thought: you should always think about what to do\n",
      "Action: the action to take, should be one of [Search, Summary]\n",
      "Action Input: the input to the action\n",
      "Observation: the result of the action\n",
      "... (this Thought/Action/Action Input/Observation can repeat N times)\n",
      "Thought: I now know the final answer\n",
      "Final Answer: the final answer to the original input question\n",
      "\n",
      "Begin!\n",
      "{chat_history}\n",
      "Question: {input}\n",
      "Thought:{agent_scratchpad}\n",
      "\n"
     ]
    }
   ],
   "execution_count": 10
  },
  {
   "metadata": {
    "ExecuteTime": {
     "end_time": "2024-04-25T14:12:41.148322Z",
     "start_time": "2024-04-25T14:12:16.949618Z"
    }
   },
   "cell_type": "code",
   "source": "agent_chain.invoke(input=\"美国第45任总统是谁?\")",
   "id": "8cbffd38473d9971",
   "outputs": [
    {
     "name": "stdout",
     "output_type": "stream",
     "text": [
      "\n",
      "\n",
      "\u001B[1m> Entering new AgentExecutor chain...\u001B[0m\n",
      "\u001B[32;1m\u001B[1;3mAction: Search\n",
      "Action Input: 美国第45任总统\u001B[0m\n",
      "Observation: \u001B[36;1m\u001B[1;3m唐納·約翰·川普（英語：Donald John Trump [註4]；1946年6月14日—），美國政治人物，第45任美国总统。 從政前為企业家、媒體名人。 川普出生并成长于纽约州紐約市皇后區，为特朗普集團前任董事長兼总裁及特朗普娱乐公司的創辦人，在全世界经营房地产、賭場和酒店 [註5]。\u001B[0m\n",
      "Thought:\u001B[32;1m\u001B[1;3mAction: Summary\n",
      "Action Input: 唐納·約翰·川普（英語：Donald John Trump [註4]；1946年6月14日—）\u001B[0m\n",
      "==============总结链开始运行==============\n",
      "输入历史:  唐納·約翰·川普（英語：Donald John Trump [註4]；1946年6月14日—）\n",
      "\n",
      "\n",
      "\u001B[1m> Entering new LLMChain chain...\u001B[0m\n",
      "Prompt after formatting:\n",
      "\u001B[32;1m\u001B[1;3m以下是一段AI机器人和人类的对话:\n",
      "[]\n",
      "根据输入和上面的对话记录写一份对话总结.\n",
      "输入: 唐納·約翰·川普（英語：Donald John Trump [註4]；1946年6月14日—）\u001B[0m\n"
     ]
    },
    {
     "name": "stderr",
     "output_type": "stream",
     "text": [
      "/Users/jianghui/PycharmProjects/ai_agent_study/venv/lib/python3.11/site-packages/langchain_core/_api/deprecation.py:117: LangChainDeprecationWarning: The function `run` was deprecated in LangChain 0.1.0 and will be removed in 0.2.0. Use invoke instead.\n",
      "  warn_deprecated(\n"
     ]
    },
    {
     "name": "stdout",
     "output_type": "stream",
     "text": [
      "\n",
      "\u001B[1m> Finished chain.\u001B[0m\n",
      "\n",
      "Observation: \u001B[33;1m\u001B[1;3mNone\u001B[0m\n",
      "Thought:\u001B[32;1m\u001B[1;3mAction: Summary\n",
      "Action Input: 川普出生并成长于纽约州紐約市皇后區，为特朗普集團前任董事長兼总裁及特朗普娱乐公司的創辦人，在全世界经营房地产、賭場和酒店 [註5]\u001B[0m\n",
      "==============总结链开始运行==============\n",
      "输入历史:  川普出生并成长于纽约州紐約市皇后區，为特朗普集團前任董事長兼总裁及特朗普娱乐公司的創辦人，在全世界经营房地产、賭場和酒店 [註5]\n",
      "\n",
      "\n",
      "\u001B[1m> Entering new LLMChain chain...\u001B[0m\n",
      "Prompt after formatting:\n",
      "\u001B[32;1m\u001B[1;3m以下是一段AI机器人和人类的对话:\n",
      "[]\n",
      "根据输入和上面的对话记录写一份对话总结.\n",
      "输入: 川普出生并成长于纽约州紐約市皇后區，为特朗普集團前任董事長兼总裁及特朗普娱乐公司的創辦人，在全世界经营房地产、賭場和酒店 [註5]\u001B[0m\n",
      "\n",
      "\u001B[1m> Finished chain.\u001B[0m\n",
      "\n",
      "Observation: \u001B[33;1m\u001B[1;3mNone\u001B[0m\n",
      "Thought:\u001B[32;1m\u001B[1;3mFinal Answer: 唐納·約翰·川普（英語：Donald John Trump [註4]；1946年6月14日—），美國政治人物，第45任美国总统。\u001B[0m\n",
      "\n",
      "\u001B[1m> Finished chain.\u001B[0m\n"
     ]
    },
    {
     "data": {
      "text/plain": [
       "{'input': '美国第45任总统是谁?',\n",
       " 'chat_history': [HumanMessage(content='美国第45任总统是谁?'),\n",
       "  AIMessage(content='唐納·約翰·川普（英語：Donald John Trump [註4]；1946年6月14日—），美國政治人物，第45任美国总统。')],\n",
       " 'output': '唐納·約翰·川普（英語：Donald John Trump [註4]；1946年6月14日—），美國政治人物，第45任美国总统。'}"
      ]
     },
     "execution_count": 11,
     "metadata": {},
     "output_type": "execute_result"
    }
   ],
   "execution_count": 11
  },
  {
   "metadata": {
    "ExecuteTime": {
     "end_time": "2024-04-25T14:13:14.994522Z",
     "start_time": "2024-04-25T14:12:46.554077Z"
    }
   },
   "cell_type": "code",
   "source": "agent_chain.invoke(input=\"他的夫人叫什么名字?\")",
   "id": "f2982b09c84b2f9a",
   "outputs": [
    {
     "name": "stdout",
     "output_type": "stream",
     "text": [
      "\n",
      "\n",
      "\u001B[1m> Entering new AgentExecutor chain...\u001B[0m\n",
      "\u001B[32;1m\u001B[1;3mAction: Search\n",
      "Action Input: 唐納·約翰·川普\u001B[0m\n",
      "Observation: \u001B[36;1m\u001B[1;3m['Donald John Trump is an American politician, media personality, and businessman who served as the 45th president of the United States from 2017 to 2021. Trump received a Bachelor of Science in economics from the University of Pennsylvania in 1968, and his father named him president of his real estate business in 1971.', 'Donald Trump (唐納·川普) type: 45th U.S. President.', 'Donald Trump (唐納·川普) entity_type: people, people.', 'Donald Trump (唐納·川普) main_tab_text: Overview.', 'Donald Trump (唐納·川普) kgmid: /m/0cqt90.', 'Donald Trump (唐納·川普) born: June 14, 1946 (age 77 years), Jamaica Hospital Medical Center, New York, NY.', 'Donald Trump (唐納·川普) party: Republican Party.', 'Donald Trump (唐納·川普) spouse: Melania Trump (m. 2005), Marla Maples (m. 1993–1999), Ivana Trump (m. 1977–1990).', 'Donald Trump (唐納·川普) net_worth: 4.4 billion USD (2024).', 'Donald Trump (唐納·川普) vice_president: Mike Pence (2017–2021).', 'Donald Trump (唐納·川普) organizations_founded: Save America, Trump Winery.', 'Donald Trump (唐納·川普) cousins: John Gordon Trump, Karen Ingraham, Christine Philp.', '唐納·約翰·川普（英語：Donald John Trump；1946年6月14日—），美國政治人物，第45任美国总统。從政前為企业家、媒體名人。 唐納·川普. Donald Trump. 2017年美國 ...', '唐納·約翰·川普，美國共和黨籍政治人物，第45任美國總統。在踏入政壇前，川普也是企業家、主持人、電影演員，他於總統任期內所秉持基本盤密切相關的意識形態、政治風格 ...', '這些都是好看的鈔票,正面和背面都有全彩!!! 尺寸與真正的美國錢相同。 這是一款新穎的鈔票,僅供收藏用途...非常適合開場話題、禮物或裱框精美!', 'Amazon.com: 圓珠筆批量川普筆,讓AMERICA GREAT AGAIN 2024 年我們的總統唐納·約翰·川普選舉標語MAGA,支持川普GOP USA,給川普粉絲、男女性支持者的禮物(50 入黑色墨水) ...', '唐納德·特朗普（Donald Trump，1946年6月14日—），出生於美國紐約，祖籍德國巴伐利亞自由州，德裔美國共和黨籍政治家、企業家、房地產商人、電視人，第45任美國 ...', '唐納·約翰·川普（英語：Donald John Trump，1946年6月14日－），美國共和黨籍政治人物，第45任美國總統。在踏入政壇前，川普也是企業家、電視節目主持人、電影演員。', '角色信息 ; 英文原名. Donald John Trump ; 台灣譯名. 台灣土雞電（台積電）的董事長 ; 性別. 男 ; 頭髮. 金色 ; 年齡. 77 ...', '指美国第45任总统川普。 唐納·約翰·川普（英語：Donald John Trump；1946年6月14日—），美國政治人物，第45任美国总统。從政前為企业家、媒體名人。 川普出生并成长于 ...', '唐納·川普. 美國商人及政治家、第45任美國總統 / 維基百科，自由的 encyclopedia. 唐納·約翰·川普（英語：Donald John Trump；1946年6月14日—），美國政治人物，第 ...', '1946年的今天，唐納·川普（Donald John Trump，1946年6月14日－）出生於美國紐約市皇后區。 唐納·川普是美國共和黨籍政治人物，第45任美國總統。在踏入政壇前，川普是 ...']\u001B[0m\n",
      "Thought:\u001B[32;1m\u001B[1;3mAction: Summary\n",
      "Action Input: 唐納·約翰·川普\u001B[0m\n",
      "==============总结链开始运行==============\n",
      "输入历史:  唐納·約翰·川普\n",
      "\n",
      "\n",
      "\u001B[1m> Entering new LLMChain chain...\u001B[0m\n",
      "Prompt after formatting:\n",
      "\u001B[32;1m\u001B[1;3m以下是一段AI机器人和人类的对话:\n",
      "[]\n",
      "根据输入和上面的对话记录写一份对话总结.\n",
      "输入: 唐納·約翰·川普\u001B[0m\n",
      "\n",
      "\u001B[1m> Finished chain.\u001B[0m\n",
      "\n",
      "Observation: \u001B[33;1m\u001B[1;3mNone\u001B[0m\n",
      "Thought:\u001B[32;1m\u001B[1;3mAction: Search\n",
      "Action Input: 唐納·約翰·川普\u001B[0m\n",
      "Observation: \u001B[36;1m\u001B[1;3m['Donald John Trump is an American politician, media personality, and businessman who served as the 45th president of the United States from 2017 to 2021. Trump received a Bachelor of Science in economics from the University of Pennsylvania in 1968, and his father named him president of his real estate business in 1971.', 'Donald Trump (唐納·川普) type: 45th U.S. President.', 'Donald Trump (唐納·川普) entity_type: people, people.', 'Donald Trump (唐納·川普) main_tab_text: Overview.', 'Donald Trump (唐納·川普) kgmid: /m/0cqt90.', 'Donald Trump (唐納·川普) born: June 14, 1946 (age 77 years), Jamaica Hospital Medical Center, New York, NY.', 'Donald Trump (唐納·川普) party: Republican Party.', 'Donald Trump (唐納·川普) spouse: Melania Trump (m. 2005), Marla Maples (m. 1993–1999), Ivana Trump (m. 1977–1990).', 'Donald Trump (唐納·川普) net_worth: 4.4 billion USD (2024).', 'Donald Trump (唐納·川普) vice_president: Mike Pence (2017–2021).', 'Donald Trump (唐納·川普) organizations_founded: Save America, Trump Winery.', 'Donald Trump (唐納·川普) cousins: John Gordon Trump, Karen Ingraham, Christine Philp.', '唐納·約翰·川普（英語：Donald John Trump；1946年6月14日—），美國政治人物，第45任美国总统。從政前為企业家、媒體名人。 唐納·川普. Donald Trump. 2017年美國 ...', '唐納·約翰·川普，美國共和黨籍政治人物，第45任美國總統。在踏入政壇前，川普也是企業家、主持人、電影演員，他於總統任期內所秉持基本盤密切相關的意識形態、政治風格 ...', '這些都是好看的鈔票,正面和背面都有全彩!!! 尺寸與真正的美國錢相同。 這是一款新穎的鈔票,僅供收藏用途...非常適合開場話題、禮物或裱框精美!', 'Amazon.com: 圓珠筆批量川普筆,讓AMERICA GREAT AGAIN 2024 年我們的總統唐納·約翰·川普選舉標語MAGA,支持川普GOP USA,給川普粉絲、男女性支持者的禮物(50 入黑色墨水) ...', '唐納德·特朗普（Donald Trump，1946年6月14日—），出生於美國紐約，祖籍德國巴伐利亞自由州，德裔美國共和黨籍政治家、企業家、房地產商人、電視人，第45任美國 ...', '唐納·約翰·川普（英語：Donald John Trump，1946年6月14日－），美國共和黨籍政治人物，第45任美國總統。在踏入政壇前，川普也是企業家、電視節目主持人、電影演員。', '角色信息 ; 英文原名. Donald John Trump ; 台灣譯名. 台灣土雞電（台積電）的董事長 ; 性別. 男 ; 頭髮. 金色 ; 年齡. 77 ...', '指美国第45任总统川普。 唐納·約翰·川普（英語：Donald John Trump；1946年6月14日—），美國政治人物，第45任美国总统。從政前為企业家、媒體名人。 川普出生并成长于 ...', '唐納·川普. 美國商人及政治家、第45任美國總統 / 維基百科，自由的 encyclopedia. 唐納·約翰·川普（英語：Donald John Trump；1946年6月14日—），美國政治人物，第 ...', '1946年的今天，唐納·川普（Donald John Trump，1946年6月14日－）出生於美國紐約市皇后區。 唐納·川普是美國共和黨籍政治人物，第45任美國總統。在踏入政壇前，川普是 ...']\u001B[0m\n",
      "Thought:\u001B[32;1m\u001B[1;3mAction: Summary\n",
      "Action Input: 唐納·約翰·川普\u001B[0m\n",
      "==============总结链开始运行==============\n",
      "输入历史:  唐納·約翰·川普\n",
      "\n",
      "\n",
      "\u001B[1m> Entering new LLMChain chain...\u001B[0m\n",
      "Prompt after formatting:\n",
      "\u001B[32;1m\u001B[1;3m以下是一段AI机器人和人类的对话:\n",
      "[]\n",
      "根据输入和上面的对话记录写一份对话总结.\n",
      "输入: 唐納·約翰·川普\u001B[0m\n",
      "\n",
      "\u001B[1m> Finished chain.\u001B[0m\n",
      "\n",
      "Observation: \u001B[33;1m\u001B[1;3mNone\u001B[0m\n",
      "Thought:\u001B[32;1m\u001B[1;3mFinal Answer: 唐納·約翰·川普（Donald John Trump）\u001B[0m\n",
      "\n",
      "\u001B[1m> Finished chain.\u001B[0m\n"
     ]
    },
    {
     "data": {
      "text/plain": [
       "{'input': '他的夫人叫什么名字?',\n",
       " 'chat_history': [HumanMessage(content='美国第45任总统是谁?'),\n",
       "  AIMessage(content='唐納·約翰·川普（英語：Donald John Trump [註4]；1946年6月14日—），美國政治人物，第45任美国总统。'),\n",
       "  HumanMessage(content='他的夫人叫什么名字?'),\n",
       "  AIMessage(content='唐納·約翰·川普（Donald John Trump）')],\n",
       " 'output': '唐納·約翰·川普（Donald John Trump）'}"
      ]
     },
     "execution_count": 12,
     "metadata": {},
     "output_type": "execute_result"
    }
   ],
   "execution_count": 12
  }
 ],
 "metadata": {
  "kernelspec": {
   "display_name": "Python 3",
   "language": "python",
   "name": "python3"
  },
  "language_info": {
   "codemirror_mode": {
    "name": "ipython",
    "version": 2
   },
   "file_extension": ".py",
   "mimetype": "text/x-python",
   "name": "python",
   "nbconvert_exporter": "python",
   "pygments_lexer": "ipython2",
   "version": "2.7.6"
  }
 },
 "nbformat": 4,
 "nbformat_minor": 5
}
