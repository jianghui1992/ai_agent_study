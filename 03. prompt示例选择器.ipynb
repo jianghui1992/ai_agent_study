{
 "cells": [
  {
   "metadata": {},
   "cell_type": "markdown",
   "source": [
    "> 有时我们给大模型的prompt中会带着示例 比如: 你是一个起名大师,请模仿示例起3个具有美国男孩特色的名字,示例：男孩常用名sam,女孩常用名lucy\n",
    "- 上述prompt中sam和lucy就是示例\n",
    "- 有时为了让结果更精确,我们会给出多组示例,但是prompt提示词是有长度限制的,langchain提供了一些工具帮助我们选择合适的示例/合适的长度的示例给到llm\n",
    " "
   ],
   "id": "92d0d1bc810f3310"
  },
  {
   "metadata": {
    "ExecuteTime": {
     "end_time": "2024-04-17T11:46:13.825884Z",
     "start_time": "2024-04-17T11:46:13.823040Z"
    }
   },
   "cell_type": "code",
   "source": [
    "import os\n",
    "os.environ[\"OPENAI_KEY\"] = \"sk-bQGeRZevfQI95TPb1b1a3e80011c4f368150270f687dF163\"\n",
    "os.environ[\"OPENAI_API_BASE\"] = \"https://api.aihubmix.com/v1\""
   ],
   "id": "2634eeed00b4e157",
   "outputs": [],
   "execution_count": 2
  },
  {
   "metadata": {},
   "cell_type": "markdown",
   "source": [
    "# 场景: 实现反义词生成器\n",
    "同时会给出一些示例给大模型参考"
   ],
   "id": "beefa16e3f09a052"
  },
  {
   "metadata": {
    "ExecuteTime": {
     "end_time": "2024-04-17T11:47:59.257715Z",
     "start_time": "2024-04-17T11:47:59.253621Z"
    }
   },
   "cell_type": "code",
   "source": [
    "#假设已经有这么多的提示词示例组\n",
    "examples = [\n",
    "    {\"input\":\"happy\",\"output\":\"sad\"},\n",
    "    {\"input\":\"tall\",\"output\":\"short\"},\n",
    "    {\"input\":\"sunny\",\"output\":\"gloomy\"},\n",
    "    {\"input\":\"windy\",\"output\":\"calm\"},\n",
    "    {\"input\":\"高兴\",\"output\":\"悲伤\"}\n",
    "]"
   ],
   "id": "cf5e96a5f6f8f48c",
   "outputs": [],
   "execution_count": 3
  },
  {
   "metadata": {},
   "cell_type": "markdown",
   "source": "# 根据长度要求智能选择示例",
   "id": "5767c50695254fe1"
  },
  {
   "metadata": {
    "ExecuteTime": {
     "end_time": "2024-04-17T11:50:50.492964Z",
     "start_time": "2024-04-17T11:50:50.488732Z"
    }
   },
   "cell_type": "code",
   "source": [
    "#根据输入的提示词长度综合计算最终长度，智能截取或者添加提示词的示例\n",
    "from langchain.prompts import PromptTemplate\n",
    "# FewShotPromptTemplate: 小样本量示例选择器\n",
    "from langchain.prompts import FewShotPromptTemplate\n",
    "# LengthBasedExampleSelector: 基于长度的示例选择器\n",
    "from langchain.prompts.example_selector import LengthBasedExampleSelector\n",
    "\n",
    "#构造提示词模板\n",
    "example_prompt = PromptTemplate(\n",
    "    input_variables=[\"input\",\"output\"],\n",
    "    template=\"原词与反义词 : {input} - {output}\"\n",
    ")\n",
    "\n",
    "#调用长度示例选择器\n",
    "example_selector = LengthBasedExampleSelector(\n",
    "    #传入提示词示例组\n",
    "    examples=examples,\n",
    "    #传入提示词模板\n",
    "    example_prompt=example_prompt,\n",
    "    #设置格式化后的提示词最大长度\n",
    "    max_length=25,\n",
    "    #内置的get_text_length,如果默认分词计算方式不满足，可以自己扩展\n",
    "    #get_text_length:Callable[[str],int] = lambda x:len(re.split(\"\\n| \",x))\n",
    ")\n",
    "\n",
    "#使用小样本提示词模版来实现动态示例的调用\n",
    "dynamic_prompt = FewShotPromptTemplate(\n",
    "    example_prompt=example_prompt,\n",
    "    example_selector=example_selector,\n",
    "    prefix=\"给出每个输入词的反义词\",\n",
    "    suffix=\"原词：{adjective} - 反义词: \",\n",
    "    input_variables=[\"adjective\"]\n",
    ")"
   ],
   "id": "ec34ba02fa293cbb",
   "outputs": [],
   "execution_count": 6
  },
  {
   "metadata": {
    "ExecuteTime": {
     "end_time": "2024-04-17T11:51:59.171996Z",
     "start_time": "2024-04-17T11:51:59.168806Z"
    }
   },
   "cell_type": "code",
   "source": [
    "#小样本获得所有示例\n",
    "print(dynamic_prompt.format(adjective=\"big\"))"
   ],
   "id": "d453ceb1977ac47a",
   "outputs": [
    {
     "name": "stdout",
     "output_type": "stream",
     "text": [
      "给出每个输入词的反义词\n",
      "\n",
      "原词与反义词 : happy - sad\n",
      "\n",
      "原词与反义词 : tall - short\n",
      "\n",
      "原词与反义词 : sunny - gloomy\n",
      "\n",
      "原词与反义词 : windy - calm\n",
      "\n",
      "原词：big - 反义词: \n"
     ]
    }
   ],
   "execution_count": 9
  },
  {
   "metadata": {
    "ExecuteTime": {
     "end_time": "2024-04-17T11:52:29.365035Z",
     "start_time": "2024-04-17T11:52:29.361817Z"
    }
   },
   "cell_type": "code",
   "source": [
    "#如果输入长度很长，则最终输出会根据长度要求减少\n",
    "long_string = \"big and huge adn massive and large and gigantic and tall \"\n",
    "print(dynamic_prompt.format(adjective=long_string))"
   ],
   "id": "8838ea0ef3ca3583",
   "outputs": [
    {
     "name": "stdout",
     "output_type": "stream",
     "text": [
      "给出每个输入词的反义词\n",
      "\n",
      "原词与反义词 : happy - sad\n",
      "\n",
      "原词与反义词 : tall - short\n",
      "\n",
      "原词：big and huge adn massive and large and gigantic and tall  - 反义词: \n"
     ]
    }
   ],
   "execution_count": 13
  },
  {
   "metadata": {},
   "cell_type": "markdown",
   "source": [
    "# 根据输入相似度选择示例(最大边际相关性)\n",
    "- MMR是一种在信息检索中常用的方法，它的目标是在相关性和多样性之间找到一个平衡\n",
    "- MMR会首先找出与输入最相似（即余弦相似度最大）的一个样本\n",
    "- 然后在迭代添加样本的过程中(一个一个的添加)，对于与已选择样本过于接近（即相似度过高）的样本进行惩罚\n",
    "- MMR既能确保选出的一些样本与输入高度相关，又能保证选出的样本之间有足够的多样性\n",
    "- 关注如何在相关性和多样性之间找到一个平衡\n"
   ],
   "id": "6aaf94c0389d1ed0"
  },
  {
   "metadata": {
    "ExecuteTime": {
     "end_time": "2024-04-17T11:57:43.392381Z",
     "start_time": "2024-04-17T11:57:39.605721Z"
    }
   },
   "cell_type": "code",
   "source": [
    "# 后续需要使用的python内置的向量数据库\n",
    "! pip install faiss-cpu "
   ],
   "id": "2341f0efbca7b040",
   "outputs": [
    {
     "name": "stdout",
     "output_type": "stream",
     "text": [
      "Looking in indexes: http://mirrors.aliyun.com/pypi/simple/\r\n",
      "Collecting faiss-cpu\r\n",
      "  Downloading http://mirrors.aliyun.com/pypi/packages/34/7b/d2c76b92d3082998f74b6318c86f350f33f9a6bca7f671641744ba74b73d/faiss_cpu-1.8.0-cp311-cp311-macosx_10_14_x86_64.whl (7.3 MB)\r\n",
      "\u001B[2K     \u001B[90m━━━━━━━━━━━━━━━━━━━━━━━━━━━━━━━━━━━━━━━━\u001B[0m \u001B[32m7.3/7.3 MB\u001B[0m \u001B[31m10.1 MB/s\u001B[0m eta \u001B[36m0:00:00\u001B[0m00:01\u001B[0m00:01\u001B[0m\r\n",
      "\u001B[?25hRequirement already satisfied: numpy in ./venv/lib/python3.11/site-packages (from faiss-cpu) (1.26.4)\r\n",
      "Installing collected packages: faiss-cpu\r\n",
      "Successfully installed faiss-cpu-1.8.0\r\n"
     ]
    }
   ],
   "execution_count": 16
  },
  {
   "metadata": {
    "ExecuteTime": {
     "end_time": "2024-04-17T11:58:04.375487Z",
     "start_time": "2024-04-17T11:58:02.571191Z"
    }
   },
   "cell_type": "code",
   "source": [
    "#使用MMR来检索相关示例，以使示例尽量符合输入\n",
    "\n",
    "from langchain.prompts.example_selector import MaxMarginalRelevanceExampleSelector\n",
    "# FAISS是langchain内置的向量数据库\n",
    "from langchain.vectorstores import FAISS\n",
    "# from langchain.embeddings import OpenAIEmbeddings\n",
    "from langchain_openai import OpenAIEmbeddings\n",
    "from langchain.prompts import FewShotPromptTemplate,PromptTemplate\n",
    "import os\n",
    "\n",
    "#构造提示词模版\n",
    "example_prompt = PromptTemplate(\n",
    "    input_variables=[\"input\",\"output\"],\n",
    "    template=\"原词：{input}\\n反义：{output}\"\n",
    ")\n",
    "\n",
    "#调用MMR\n",
    "example_selector = MaxMarginalRelevanceExampleSelector.from_examples(\n",
    "    #传入示例组\n",
    "    examples,\n",
    "    #使用openai的嵌入来做相似性搜索\n",
    "    OpenAIEmbeddings(\n",
    "        openai_api_key=os.getenv(\"OPENAI_KEY\"),\n",
    "        openai_api_base=os.getenv(\"OPENAI_API_BASE\")\n",
    "    ),\n",
    "    #设置使用的向量数据库是什么\n",
    "    FAISS,\n",
    "    #结果条数\n",
    "    k=2,\n",
    ")\n",
    "\n",
    "#使用小样本模版\n",
    "mmr_prompt = FewShotPromptTemplate(\n",
    "    example_selector=example_selector,\n",
    "    example_prompt=example_prompt,\n",
    "    prefix=\"给出每个输入词的反义词\",\n",
    "    suffix=\"原词：{adjective} - 反义：\",\n",
    "    input_variables=[\"adjective\"]\n",
    ")"
   ],
   "id": "adc0719ddf0a4613",
   "outputs": [],
   "execution_count": 17
  },
  {
   "metadata": {
    "ExecuteTime": {
     "end_time": "2024-04-17T11:58:24.934054Z",
     "start_time": "2024-04-17T11:58:21.389851Z"
    }
   },
   "cell_type": "code",
   "source": [
    "# 当我们输入一个描述情绪的词语的时候，应该选择同样是描述情绪的一对示例组来填充提示词模版\n",
    "# 同时为了符合多样性,也会返回一组无关的提示词模板\n",
    "print(mmr_prompt.format(adjective=\"难过\"))"
   ],
   "id": "eebb61224a31eeff",
   "outputs": [
    {
     "name": "stdout",
     "output_type": "stream",
     "text": [
      "给出每个输入词的反义词\n",
      "\n",
      "原词：高兴\n",
      "反义：悲伤\n",
      "\n",
      "原词：tall\n",
      "反义：short\n",
      "\n",
      "原词：难过 - 反义：\n"
     ]
    }
   ],
   "execution_count": 18
  },
  {
   "metadata": {},
   "cell_type": "markdown",
   "source": [
    "# 根据输入相似度选择示例（最大余弦相似度）\n",
    "- 一种常见的相似度计算方法\n",
    "- 它通过计算两个向量（在这里，向量可以代表文本、句子或词语）之间的余弦值来衡量它们的相似度\n",
    "- 余弦值越接近1，表示两个向量越相似\n",
    "- 主要关注的是如何准确衡量两个向量的相似度"
   ],
   "id": "1336cbbe3791415a"
  },
  {
   "metadata": {},
   "cell_type": "code",
   "source": [
    "# 也是一种向量数据库\n",
    "! pip install chromadb"
   ],
   "id": "9a89a71e6fb333d8",
   "outputs": [],
   "execution_count": null
  },
  {
   "metadata": {
    "ExecuteTime": {
     "end_time": "2024-04-17T12:01:26.509184Z",
     "start_time": "2024-04-17T12:01:21.838147Z"
    }
   },
   "cell_type": "code",
   "source": [
    "# 使用最大余弦相似度来检索相关示例，以使示例尽量符合输入\n",
    "from langchain.prompts.example_selector import SemanticSimilarityExampleSelector\n",
    "from langchain.vectorstores import Chroma\n",
    "from langchain.embeddings import OpenAIEmbeddings\n",
    "from langchain.prompts import FewShotPromptTemplate, PromptTemplate\n",
    "import os\n",
    "\n",
    "example_prompt = PromptTemplate(\n",
    "    input_variables=[\"input\", \"output\"],\n",
    "    template=\"原词: {input} - 反义: {output}\",\n",
    ")\n",
    "example_selector = SemanticSimilarityExampleSelector.from_examples(\n",
    "    # 传入示例组.\n",
    "    examples,\n",
    "    # 使用openAI嵌入来做相似性搜索\n",
    "    OpenAIEmbeddings(\n",
    "        openai_api_key=os.getenv(\"OPENAI_KEY\"),\n",
    "        openai_api_base=os.getenv(\"OPENAI_API_BASE\")\n",
    "    ),\n",
    "    # 使用Chroma向量数据库来实现对相似结果的过程存储\n",
    "    Chroma,\n",
    "    # 结果条数\n",
    "    k=2,\n",
    ")\n",
    "\n",
    "#使用小样本提示词模板\n",
    "similar_prompt = FewShotPromptTemplate(\n",
    "    # 传入选择器和模板以及前缀后缀和输入变量\n",
    "    example_selector=example_selector,\n",
    "    example_prompt=example_prompt,\n",
    "    prefix=\"给出每个输入词的反义词\",\n",
    "    suffix=\"原词: {adjective} - 反义:\",\n",
    "    input_variables=[\"adjective\"],\n",
    ")"
   ],
   "id": "fa75627f20e2bd95",
   "outputs": [],
   "execution_count": 20
  },
  {
   "metadata": {
    "ExecuteTime": {
     "end_time": "2024-04-19T13:59:02.231510Z",
     "start_time": "2024-04-19T13:59:02.045021Z"
    }
   },
   "cell_type": "code",
   "source": [
    "# 输入一个形容感觉的词语，应该查找近似的 happy/sad 示例\n",
    "print(similar_prompt.format(adjective=\"worried\"))"
   ],
   "id": "ffd62836717f5746",
   "outputs": [
    {
     "ename": "NameError",
     "evalue": "name 'similar_prompt' is not defined",
     "output_type": "error",
     "traceback": [
      "\u001B[0;31m---------------------------------------------------------------------------\u001B[0m",
      "\u001B[0;31mNameError\u001B[0m                                 Traceback (most recent call last)",
      "Cell \u001B[0;32mIn[1], line 2\u001B[0m\n\u001B[1;32m      1\u001B[0m \u001B[38;5;66;03m# 输入一个形容感觉的词语，应该查找近似的 happy/sad 示例\u001B[39;00m\n\u001B[0;32m----> 2\u001B[0m \u001B[38;5;28mprint\u001B[39m(\u001B[43msimilar_prompt\u001B[49m\u001B[38;5;241m.\u001B[39mformat(adjective\u001B[38;5;241m=\u001B[39m\u001B[38;5;124m\"\u001B[39m\u001B[38;5;124mworried\u001B[39m\u001B[38;5;124m\"\u001B[39m))\n",
      "\u001B[0;31mNameError\u001B[0m: name 'similar_prompt' is not defined"
     ]
    }
   ],
   "execution_count": 1
  },
  {
   "metadata": {},
   "cell_type": "code",
   "outputs": [],
   "execution_count": null,
   "source": "",
   "id": "4fb722845c78d5a8"
  }
 ],
 "metadata": {
  "kernelspec": {
   "display_name": "Python 3",
   "language": "python",
   "name": "python3"
  },
  "language_info": {
   "codemirror_mode": {
    "name": "ipython",
    "version": 2
   },
   "file_extension": ".py",
   "mimetype": "text/x-python",
   "name": "python",
   "nbconvert_exporter": "python",
   "pygments_lexer": "ipython2",
   "version": "2.7.6"
  }
 },
 "nbformat": 4,
 "nbformat_minor": 5
}
