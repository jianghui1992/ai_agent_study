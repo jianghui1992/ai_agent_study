{
 "cells": [
  {
   "cell_type": "code",
   "id": "initial_id",
   "metadata": {
    "collapsed": true,
    "ExecuteTime": {
     "end_time": "2024-04-24T12:54:11.677278Z",
     "start_time": "2024-04-24T12:54:11.663823Z"
    }
   },
   "source": [
    "from dotenv import load_dotenv\n",
    "\n",
    "load_dotenv(\"openai.env\")"
   ],
   "outputs": [
    {
     "data": {
      "text/plain": [
       "True"
      ]
     },
     "execution_count": 4,
     "metadata": {},
     "output_type": "execute_result"
    }
   ],
   "execution_count": 4
  },
  {
   "metadata": {},
   "cell_type": "markdown",
   "source": [
    "# 文档切割\n",
    "1. 将文档分成小的、有意义的块(句子).\n",
    "2. 将小的块组合成为一个更大的块，直到达到一定的大小.\n",
    "3. 一旦达到一定的大小，接着开始创建与下一个块重叠的部分.(避免切割后造成语义不连贯)\n",
    "4. 重复步骤2和3，直到所有内容都被处理."
   ],
   "id": "d6d648f70660a84c"
  },
  {
   "metadata": {},
   "cell_type": "markdown",
   "source": "## 字符串切割",
   "id": "f12284caec4d99b8"
  },
  {
   "metadata": {
    "ExecuteTime": {
     "end_time": "2024-04-19T13:22:44.377900Z",
     "start_time": "2024-04-19T13:22:44.371454Z"
    }
   },
   "cell_type": "code",
   "source": [
    "from langchain.text_splitter import CharacterTextSplitter\n",
    "\n",
    "#加载要切分的文档\n",
    "with open(\"testfile/fiction.txt\") as f:\n",
    "    fiction = f.read()\n",
    "\n",
    "#初始化切分器\n",
    "text_splitter = CharacterTextSplitter(\n",
    "    separator=\"。\",  #切割的标志字符，默认是\\n\n",
    "    chunk_size=200,  #切分的文本块大小，一般通过长度函数计算\n",
    "    chunk_overlap=20,  #切分的文本块重叠大小，一般通过长度函数计算\n",
    "    length_function=len,  #长度函数,也可以传递tokenize函数\n",
    "    add_start_index=True,  #是否添加起始索引\n",
    "    is_separator_regex=False,  #是否是正则表达式\n",
    ")\n",
    "documents = text_splitter.create_documents([fiction])\n",
    "for doc in documents:\n",
    "    print(doc)"
   ],
   "id": "a8957eb2eed2666e",
   "outputs": [
    {
     "name": "stdout",
     "output_type": "stream",
     "text": [
      "page_content='房产也能以旧换新？\\n“老房子卖不掉，怎么买新房？”吴刚的心声恐怕是郑州许多二手房主的共同想法。他当初全款购房时用掉了大部分积蓄，如今再换房，只能拿到了旧房房款才有购房资金。\\n中指研究院河南公司总经理梁波涛告诉《中国新闻周刊》，当前地产行业下行压力尚未缓解，居民整体置业动力不足，加上普遍的“买涨不买跌”的心理加剧购房观望情绪，在二手房存量压力叠加置业动力不足的影响下，二手房市场的困局仍在持续' metadata={'start_index': 0}\n",
      "page_content='自2023年以来，全国二手房挂牌量持续走高。截至今年3月30日，已经有重庆、成都、天津、青岛、南京、武汉、郑州等12个城市二手房挂牌量超过10万套，当中重庆、成都、天津、苏州、南京、杭州6个城市的挂牌量已经突破15万套，重庆和成都更是超过了22万套。\\n而国家统计局数据显示，2023年全国新建商品房销售面积11.2亿平方米，同比下降8.5％，新建商品房销售额11.7万亿元，同比下降6.5％' metadata={'start_index': 198}\n",
      "page_content='为了破解新房和二手房的困境，不少城市先后通过优化限购政策、调整住房公积金支持政策、降低首付比例和利率门槛、发放购房补贴、首套房“认房不认贷”等来鼓励购房者入市。\\n而以旧换新的房产政策也应运而生。所谓住房以旧换新政策，是由购房者先锁定新房房源，再由中介、房企等帮助销售或直接收购旧房，地方政府可提供换房补贴或给予税收减免优惠' metadata={'start_index': 395}\n",
      "page_content='“市面上住房以旧换新模式总体上出于两方面考量，一是为了满足改善性的住房需求；二是在较大的一手房市场和二手房存量下，通过以旧换新推动一手房市场和二手房市场的交易。”中国人民大学商学院教授、国家发展与战略研究院城市与房地产研究中心主任况伟大在接受《中国新闻周刊》采访时表示。\\n2022年，深圳南山一个楼盘推出“以房换房、以旧换新”活动，以开发商的公寓房换业主的住宅房' metadata={'start_index': 558}\n",
      "page_content='不过，这一尝试在当时饱受质疑，被认为是开发商花样促销的“噱头”。\\n这一政策真正成为网络热词是在去年8月底，山东淄博推出《“以旧换新”省心购房倡议书》，自带流量的淄博将此模式一下子拉进大众视野。随后，类似模式逐渐落地多个城市，南京、泰安、太仓、扬州、连云港、宁波、宣城、亳州等地纷纷入局。据《中国新闻周刊》不完全统计，至少有超过30个城市表态参与住房以旧换新。\\n从实施效果来看，不同地区差异很大' metadata={'start_index': 740}\n",
      "page_content='从实施效果来看，不同地区差异很大。早在去年10月就加入住房以旧换新阵营的宁波市场反应较积极，在“换新购”启动后的第一周内，据宁波市房产交易信息服务网数据，二手房成交量环比上升15％，创下半年单周成交量新高；新房备案量环比上升20％。\\n也有部分城市市场反响一般。中指研究院本月的报告指出，整体来看，尽管不少区域提出了住房以旧换新的政策，但仍处于探索阶段，当前整体效果尚不明显' metadata={'start_index': 920}\n",
      "page_content='中原地产首席分析师张大伟并不看好这一政策。他认为，参与置换的房源品质一般不太好或价位不合适，否则根本不愁卖，也无需参与以旧换新。因此住房以旧换新模式本质上是将“卖不出去的二手房”置换“卖不出去的一手房”，“将一个难题置换成另一个难题”。\\n在这些前提下，郑州的住房以旧换新方案不可谓不是“大手笔”' metadata={'start_index': 1108}\n",
      "page_content='《方案》明确今年设下1万套的换购目标：其中在主城区的5000套指标是由郑州城市发展集团有限公司（以下简称“郑州城发”）作为收购主体，用作保障性租赁住房；余下5000套的任务，则通过购房者、中介机构、房企“三方协商”的市场化方式完成' metadata={'start_index': 1256}\n"
     ]
    }
   ],
   "execution_count": 7
  },
  {
   "metadata": {},
   "cell_type": "markdown",
   "source": "## 代码文档切割",
   "id": "2583633b4f78d3c5"
  },
  {
   "metadata": {
    "ExecuteTime": {
     "end_time": "2024-04-19T13:25:33.998087Z",
     "start_time": "2024-04-19T13:25:33.992910Z"
    }
   },
   "cell_type": "code",
   "source": [
    "from langchain.text_splitter import (\n",
    "    RecursiveCharacterTextSplitter,\n",
    "    Language,\n",
    ")\n",
    "\n",
    "#支持解析的编程语言\n",
    "print([e.value for e in Language])\n",
    "\n",
    "#要切割的代码文档\n",
    "PYTHON_CODE = \"\"\"\n",
    "def hello_world():\n",
    "    print(\"Hello, World!\")\n",
    "#调用函数\n",
    "hello_world()\n",
    "\"\"\"\n",
    "py_spliter = RecursiveCharacterTextSplitter.from_language(\n",
    "    language=Language.PYTHON,\n",
    "    chunk_size=50,\n",
    "    chunk_overlap=10,\n",
    ")\n",
    "python_docs = py_spliter.create_documents([PYTHON_CODE])\n",
    "print(python_docs)"
   ],
   "id": "402ea4c8786944b1",
   "outputs": [
    {
     "name": "stdout",
     "output_type": "stream",
     "text": [
      "['cpp', 'go', 'java', 'kotlin', 'js', 'ts', 'php', 'proto', 'python', 'rst', 'ruby', 'rust', 'scala', 'swift', 'markdown', 'latex', 'html', 'sol', 'csharp', 'cobol', 'c', 'lua', 'perl']\n",
      "[Document(page_content='def hello_world():\\n    print(\"Hello, World!\")'), Document(page_content='#调用函数\\nhello_world()')]\n"
     ]
    }
   ],
   "execution_count": 11
  },
  {
   "metadata": {},
   "cell_type": "markdown",
   "source": "## 按token来切割文档",
   "id": "4419ae64efc9b689"
  },
  {
   "metadata": {
    "ExecuteTime": {
     "end_time": "2024-04-19T13:26:30.021984Z",
     "start_time": "2024-04-19T13:26:21.859336Z"
    }
   },
   "cell_type": "code",
   "source": [
    "from langchain.text_splitter import CharacterTextSplitter\n",
    "\n",
    "#要切割的文档\n",
    "with open(\"testfile/fiction.txt\") as f:\n",
    "    fiction = f.read()\n",
    "\n",
    "#初始化切分器\n",
    "text_splitter = CharacterTextSplitter.from_tiktoken_encoder(\n",
    "    chunk_size=4000,#切分的文本块大小，一般通过长度函数计算\n",
    "    chunk_overlap=30,#切分的文本块重叠大小，一般通过长度函数计算\n",
    ")\n",
    "\n",
    "text = text_splitter.create_documents([fiction])\n",
    "print(text[0])"
   ],
   "id": "c83c1bb7fd67384d",
   "outputs": [
    {
     "name": "stdout",
     "output_type": "stream",
     "text": [
      "page_content='房产也能以旧换新？\\n“老房子卖不掉，怎么买新房？”吴刚的心声恐怕是郑州许多二手房主的共同想法。他当初全款购房时用掉了大部分积蓄，如今再换房，只能拿到了旧房房款才有购房资金。\\n中指研究院河南公司总经理梁波涛告诉《中国新闻周刊》，当前地产行业下行压力尚未缓解，居民整体置业动力不足，加上普遍的“买涨不买跌”的心理加剧购房观望情绪，在二手房存量压力叠加置业动力不足的影响下，二手房市场的困局仍在持续。\\n自2023年以来，全国二手房挂牌量持续走高。截至今年3月30日，已经有重庆、成都、天津、青岛、南京、武汉、郑州等12个城市二手房挂牌量超过10万套，当中重庆、成都、天津、苏州、南京、杭州6个城市的挂牌量已经突破15万套，重庆和成都更是超过了22万套。\\n而国家统计局数据显示，2023年全国新建商品房销售面积11.2亿平方米，同比下降8.5％，新建商品房销售额11.7万亿元，同比下降6.5％。\\n为了破解新房和二手房的困境，不少城市先后通过优化限购政策、调整住房公积金支持政策、降低首付比例和利率门槛、发放购房补贴、首套房“认房不认贷”等来鼓励购房者入市。\\n而以旧换新的房产政策也应运而生。所谓住房以旧换新政策，是由购房者先锁定新房房源，再由中介、房企等帮助销售或直接收购旧房，地方政府可提供换房补贴或给予税收减免优惠。\\n“市面上住房以旧换新模式总体上出于两方面考量，一是为了满足改善性的住房需求；二是在较大的一手房市场和二手房存量下，通过以旧换新推动一手房市场和二手房市场的交易。”中国人民大学商学院教授、国家发展与战略研究院城市与房地产研究中心主任况伟大在接受《中国新闻周刊》采访时表示。\\n2022年，深圳南山一个楼盘推出“以房换房、以旧换新”活动，以开发商的公寓房换业主的住宅房。不过，这一尝试在当时饱受质疑，被认为是开发商花样促销的“噱头”。\\n这一政策真正成为网络热词是在去年8月底，山东淄博推出《“以旧换新”省心购房倡议书》，自带流量的淄博将此模式一下子拉进大众视野。随后，类似模式逐渐落地多个城市，南京、泰安、太仓、扬州、连云港、宁波、宣城、亳州等地纷纷入局。据《中国新闻周刊》不完全统计，至少有超过30个城市表态参与住房以旧换新。\\n从实施效果来看，不同地区差异很大。早在去年10月就加入住房以旧换新阵营的宁波市场反应较积极，在“换新购”启动后的第一周内，据宁波市房产交易信息服务网数据，二手房成交量环比上升15％，创下半年单周成交量新高；新房备案量环比上升20％。\\n也有部分城市市场反响一般。中指研究院本月的报告指出，整体来看，尽管不少区域提出了住房以旧换新的政策，但仍处于探索阶段，当前整体效果尚不明显。\\n中原地产首席分析师张大伟并不看好这一政策。他认为，参与置换的房源品质一般不太好或价位不合适，否则根本不愁卖，也无需参与以旧换新。因此住房以旧换新模式本质上是将“卖不出去的二手房”置换“卖不出去的一手房”，“将一个难题置换成另一个难题”。\\n在这些前提下，郑州的住房以旧换新方案不可谓不是“大手笔”。《方案》明确今年设下1万套的换购目标：其中在主城区的5000套指标是由郑州城市发展集团有限公司（以下简称“郑州城发”）作为收购主体，用作保障性租赁住房；余下5000套的任务，则通过购房者、中介机构、房企“三方协商”的市场化方式完成。'\n"
     ]
    }
   ],
   "execution_count": 12
  },
  {
   "metadata": {},
   "cell_type": "markdown",
   "source": "# 文档总结,精炼和翻译",
   "id": "58c87cc55659b898"
  },
  {
   "metadata": {},
   "cell_type": "code",
   "source": [
    "# doctran是一个python库,在openai上做了二次封装,方便我们快捷实现文档总结,精炼,翻译\n",
    "! pip install doctran_openai"
   ],
   "id": "74a612e619d4937a",
   "outputs": [],
   "execution_count": null
  },
  {
   "metadata": {
    "ExecuteTime": {
     "end_time": "2024-04-24T12:58:42.338028Z",
     "start_time": "2024-04-24T12:58:42.335040Z"
    }
   },
   "cell_type": "code",
   "source": [
    "#加载文档\n",
    "with open(\"testfile/letter.txt\") as f:\n",
    "    content = f.read()"
   ],
   "id": "fc49060f9557f4d0",
   "outputs": [],
   "execution_count": 15
  },
  {
   "metadata": {
    "ExecuteTime": {
     "end_time": "2024-04-24T12:59:50.563949Z",
     "start_time": "2024-04-24T12:59:50.530251Z"
    }
   },
   "cell_type": "code",
   "source": [
    "from doctran_openai import DoctranOpenai\n",
    "import os\n",
    "doctrans = DoctranOpenai(\n",
    "    openai_model=\"gpt-3.5-turbo-1125\",\n",
    "    openai_api_key=  os.getenv(\"OPENAI_API_KEY\"),\n",
    "    openai_token_limit=8000,\n",
    ")\n",
    "doctrans.config.openai.base_url = os.environ.get(\"OPENAI_API_BASE\")\n",
    "document = doctrans.parse(content=content)"
   ],
   "id": "61ac934493909075",
   "outputs": [],
   "execution_count": 18
  },
  {
   "metadata": {
    "ExecuteTime": {
     "end_time": "2024-04-24T13:05:08.355960Z",
     "start_time": "2024-04-24T13:05:05.417882Z"
    }
   },
   "cell_type": "code",
   "source": [
    "# #总结文档\n",
    "# summary = documents.summarize(token_limit=100).execute()\n",
    "# print(summary.transformed_content)\n",
    "# 总结，token 限制在 100 字以内  \n",
    "summary = document.summarize(token_limit=100).execute()\n",
    "print(summary)"
   ],
   "id": "44c1d49ce185bab5",
   "outputs": [
    {
     "name": "stdout",
     "output_type": "stream",
     "text": [
      "uri='0da3eeb6-9531-4f65-b0d9-b12cc203f27b' id='23d972b0-bd17-417a-b6dc-f0c836f97e51' content_type=<ContentType.text: 'text'> raw_content=\"[Generated with ChatGPT]\\n\\nConfidential Document - For Internal Use Only\\n\\nDate: July 1, 2023\\n\\nSubject: Updates and Discussions on Various Topics\\n\\nDear Team,\\n\\nI hope this email finds you well. In this document, I would like to provide you with some important updates and discuss various topics that require our attention. Please treat the information contained herein as highly confidential.\\n\\nSecurity and Privacy Measures\\nAs part of our ongoing commitment to ensure the security and privacy of our customers' data, we have implemented robust measures across all our systems. We would like to commend John Doe (email: john.doe@example.com) from the IT department for his diligent work in enhancing our network security. Moving forward, we kindly remind everyone to strictly adhere to our data protection policies and guidelines. Additionally, if you come across any potential security risks or incidents, please report them immediately to our dedicated team at security@example.com.\\n\\nHR Updates and Employee Benefits\\nRecently, we welcomed several new team members who have made significant contributions to their respective departments. I would like to recognize Jane Smith (SSN: 049-45-5928) for her outstanding performance in customer service. Jane has consistently received positive feedback from our clients. Furthermore, please remember that the open enrollment period for our employee benefits program is fast approaching. Should you have any questions or require assistance, please contact our HR representative, Michael Johnson (phone: 418-492-3850, email: michael.johnson@example.com).\\n\\nMarketing Initiatives and Campaigns\\nOur marketing team has been actively working on developing new strategies to increase brand awareness and drive customer engagement. We would like to thank Sarah Thompson (phone: 415-555-1234) for her exceptional efforts in managing our social media platforms. Sarah has successfully increased our follower base by 20% in the past month alone. Moreover, please mark your calendars for the upcoming product launch event on July 15th. We encourage all team members to attend and support this exciting milestone for our company.\\n\\nResearch and Development Projects\\nIn our pursuit of innovation, our research and development department has been working tirelessly on various projects. I would like to acknowledge the exceptional work of David Rodriguez (email: david.rodriguez@example.com) in his role as project lead. David's contributions to the development of our cutting-edge technology have been instrumental. Furthermore, we would like to remind everyone to share their ideas and suggestions for potential new projects during our monthly R&D brainstorming session, scheduled for July 10th.\\n\\nPlease treat the information in this document with utmost confidentiality and ensure that it is not shared with unauthorized individuals. If you have any questions or concerns regarding the topics discussed, please do not hesitate to reach out to me directly.\\n\\nThank you for your attention, and let's continue to work together to achieve our goals.\\n\\nBest regards,\\n\\nJason Fan\\nCofounder & CEO\\nPsychic\\njason@psychic.dev\" transformed_content=\"[Generated with ChatGPT]\\n\\nConfidential Document - For Internal Use Only\\n\\nDate: July 1, 2023\\n\\nSubject: Updates and Discussions on Various Topics\\n\\nDear Team,\\n\\nI hope this email finds you well. In this document, I would like to provide you with some important updates and discuss various topics that require our attention. Please treat the information contained herein as highly confidential.\\n\\nSecurity and Privacy Measures\\nAs part of our ongoing commitment to ensure the security and privacy of our customers' data, we have implemented robust measures across all our systems. We would like to commend John Doe (email: john.doe@example.com) from the IT department for his diligent work in enhancing our network security. Moving forward, we kindly remind everyone to strictly adhere to our data protection policies and guidelines. Additionally, if you come across any potential security risks or incidents, please report them immediately to our dedicated team at security@example.com.\\n\\nHR Updates and Employee Benefits\\nRecently, we welcomed several new team members who have made significant contributions to their respective departments. I would like to recognize Jane Smith (SSN: 049-45-5928) for her outstanding performance in customer service. Jane has consistently received positive feedback from our clients. Furthermore, please remember that the open enrollment period for our employee benefits program is fast approaching. Should you have any questions or require assistance, please contact our HR representative, Michael Johnson (phone: 418-492-3850, email: michael.johnson@example.com).\\n\\nMarketing Initiatives and Campaigns\\nOur marketing team has been actively working on developing new strategies to increase brand awareness and drive customer engagement. We would like to thank Sarah Thompson (phone: 415-555-1234) for her exceptional efforts in managing our social media platforms. Sarah has successfully increased our follower base by 20% in the past month alone. Moreover, please mark your calendars for the upcoming product launch event on July 15th. We encourage all team members to attend and support this exciting milestone for our company.\\n\\nResearch and Development Projects\\nIn our pursuit of innovation, our research and development department has been working tirelessly on various projects. I would like to acknowledge the exceptional work of David Rodriguez (email: david.rodriguez@example.com) in his role as project lead. David's contributions to the development of our cutting-edge technology have been instrumental. Furthermore, we would like to remind everyone to share their ideas and suggestions for potential new projects during our monthly R&D brainstorming session, scheduled for July 10th.\\n\\nPlease treat the information in this document with utmost confidentiality and ensure that it is not shared with unauthorized individuals. If you have any questions or concerns regarding the topics discussed, please do not hesitate to reach out to me directly.\\n\\nThank you for your attention, and let's continue to work together to achieve our goals.\\n\\nBest regards,\\n\\nJason Fan\\nCofounder & CEO\\nPsychic\\njason@psychic.dev\" config=DoctranConfig(openai_deployment_id=None, openai_model='gpt-3.5-turbo', openai=<openai.OpenAI object at 0x10f301390>, openai_token_limit=8000) extracted_properties={'summary': 'This document contains updates and discussions on various topics including security and privacy measures, HR updates and employee benefits, marketing initiatives and campaigns, and research and development projects. It highlights the contributions of specific team members and reminds employees of important upcoming events and deadlines. The document emphasizes the importance of confidentiality and encourages employees to report security risks promptly. It is signed by Jason Fan, the Cofounder & CEO of Psychic.', '': ''} metadata=None\n"
     ]
    }
   ],
   "execution_count": 31
  },
  {
   "metadata": {
    "ExecuteTime": {
     "end_time": "2024-04-24T13:04:42.147262Z",
     "start_time": "2024-04-24T13:04:19.453534Z"
    }
   },
   "cell_type": "code",
   "source": [
    "# #翻译一下文档\n",
    "translation = document.translate(language=\"chinese\").execute()\n",
    "print(translation.transformed_content)"
   ],
   "id": "9bb75f2c8a8aef71",
   "outputs": [
    {
     "name": "stdout",
     "output_type": "stream",
     "text": [
      "机密文件-仅供内部使用\n",
      "\n",
      "日期：2023年7月1日\n",
      "\n",
      "主题：各种话题的更新和讨论\n",
      "\n",
      "亲爱的团队，\n",
      "\n",
      "希望这封邮件能够找到您。在这份文件中，我想向您提供一些重要的更新，并讨论需要我们关注的各种话题。请将此处包含的信息视为高度机密。\n",
      "\n",
      "安全和隐私措施\n",
      "为了确保客户数据的安全和隐私，我们已在所有系统中实施了强有力的措施。我们要赞扬IT部门的John Doe（电子邮件：john.doe@example.com）在增强我们网络安全方面的勤奋工作。展望未来，我们提醒每个人严格遵守我们的数据保护政策和准则。此外，如果您发现任何潜在的安全风险或事件，请立即向我们专门的团队security@example.com报告。\n",
      "\n",
      "人力资源更新和员工福利\n",
      "最近，我们迎来了几位新团队成员，他们对各自部门做出了重大贡献。我想表彰Jane Smith（社会安全号码：049-45-5928）在客户服务方面的出色表现。Jane一直从客户那里收到积极的反馈。此外，请记住，我们的员工福利计划的开放报名期限即将到来。如果您有任何问题或需要帮助，请联系我们的人力资源代表Michael Johnson（电话：418-492-3850，电子邮件：michael.johnson@example.com）。\n",
      "\n",
      "营销活动和宣传\n",
      "我们的营销团队一直在积极开发新策略，以增加品牌知名度并推动客户参与。我们要感谢Sarah Thompson（电话：415-555-1234）在管理我们的社交媒体平台方面的杰出努力。Sarah仅在过去一个月就成功将我们的关注者基数增加了20%。此外，请记住7月15日即将举行的产品发布活动。我们鼓励所有团队成员参加并支持我们公司的这一激动人心的里程碑。\n",
      "\n",
      "研发项目\n",
      "在追求创新的过程中，我们的研发部门一直在为各种项目不懈努力。我要感谢David Rodriguez（电子邮件：david.rodriguez@example.com）在项目负责人角色上的杰出工作。David对我们尖端技术的发展做出了重要贡献。此外，我们提醒每个人在7月10日定于举行的每月研发头脑风暴会议上分享他们的想法和建议，以便开展潜在的新项目。\n",
      "\n",
      "请将此文件中的信息视为最机密，并确保不与未经授权的人分享。如果您对讨论的话题有任何疑问或顾虑，请随时直接与我联系。\n",
      "\n",
      "感谢您的关注，让我们继续共同努力实现我们的目标。\n",
      "\n",
      "此致，\n",
      "\n",
      "Jason Fan\n",
      "创始人兼首席执行官\n",
      "Psychic\n",
      "jason@psychic.dev\n"
     ]
    }
   ],
   "execution_count": 28
  },
  {
   "metadata": {
    "ExecuteTime": {
     "end_time": "2024-04-24T13:05:05.414219Z",
     "start_time": "2024-04-24T13:04:58.120731Z"
    }
   },
   "cell_type": "code",
   "source": [
    "# #精炼文档，删除除了某个主题或关键词之外的内容，仅保留与主题相关的内容\n",
    "refined = document.refine(topics=[\"marketing\",\"Development\"]).execute()\n",
    "print(refined)"
   ],
   "id": "bfc28fa18750edab",
   "outputs": [
    {
     "name": "stdout",
     "output_type": "stream",
     "text": [
      "uri='0da3eeb6-9531-4f65-b0d9-b12cc203f27b' id='23d972b0-bd17-417a-b6dc-f0c836f97e51' content_type=<ContentType.text: 'text'> raw_content=\"[Generated with ChatGPT]\\n\\nConfidential Document - For Internal Use Only\\n\\nDate: July 1, 2023\\n\\nSubject: Updates and Discussions on Various Topics\\n\\nDear Team,\\n\\nI hope this email finds you well. In this document, I would like to provide you with some important updates and discuss various topics that require our attention. Please treat the information contained herein as highly confidential.\\n\\nSecurity and Privacy Measures\\nAs part of our ongoing commitment to ensure the security and privacy of our customers' data, we have implemented robust measures across all our systems. We would like to commend John Doe (email: john.doe@example.com) from the IT department for his diligent work in enhancing our network security. Moving forward, we kindly remind everyone to strictly adhere to our data protection policies and guidelines. Additionally, if you come across any potential security risks or incidents, please report them immediately to our dedicated team at security@example.com.\\n\\nHR Updates and Employee Benefits\\nRecently, we welcomed several new team members who have made significant contributions to their respective departments. I would like to recognize Jane Smith (SSN: 049-45-5928) for her outstanding performance in customer service. Jane has consistently received positive feedback from our clients. Furthermore, please remember that the open enrollment period for our employee benefits program is fast approaching. Should you have any questions or require assistance, please contact our HR representative, Michael Johnson (phone: 418-492-3850, email: michael.johnson@example.com).\\n\\nMarketing Initiatives and Campaigns\\nOur marketing team has been actively working on developing new strategies to increase brand awareness and drive customer engagement. We would like to thank Sarah Thompson (phone: 415-555-1234) for her exceptional efforts in managing our social media platforms. Sarah has successfully increased our follower base by 20% in the past month alone. Moreover, please mark your calendars for the upcoming product launch event on July 15th. We encourage all team members to attend and support this exciting milestone for our company.\\n\\nResearch and Development Projects\\nIn our pursuit of innovation, our research and development department has been working tirelessly on various projects. I would like to acknowledge the exceptional work of David Rodriguez (email: david.rodriguez@example.com) in his role as project lead. David's contributions to the development of our cutting-edge technology have been instrumental. Furthermore, we would like to remind everyone to share their ideas and suggestions for potential new projects during our monthly R&D brainstorming session, scheduled for July 10th.\\n\\nPlease treat the information in this document with utmost confidentiality and ensure that it is not shared with unauthorized individuals. If you have any questions or concerns regarding the topics discussed, please do not hesitate to reach out to me directly.\\n\\nThank you for your attention, and let's continue to work together to achieve our goals.\\n\\nBest regards,\\n\\nJason Fan\\nCofounder & CEO\\nPsychic\\njason@psychic.dev\" transformed_content=\"Marketing Initiatives and Campaigns\\nOur marketing team has been actively working on developing new strategies to increase brand awareness and drive customer engagement. We would like to thank Sarah Thompson (phone: 415-555-1234) for her exceptional efforts in managing our social media platforms. Sarah has successfully increased our follower base by 20% in the past month alone. Moreover, please mark your calendars for the upcoming product launch event on July 15th. We encourage all team members to attend and support this exciting milestone for our company.\\n\\nResearch and Development Projects\\nIn our pursuit of innovation, our research and development department has been working tirelessly on various projects. I would like to acknowledge the exceptional work of David Rodriguez (email: david.rodriguez@example.com) in his role as project lead. David's contributions to the development of our cutting-edge technology have been instrumental. Furthermore, we would like to remind everyone to share their ideas and suggestions for potential new projects during our monthly R&D brainstorming session, scheduled for July 10th.\" config=DoctranConfig(openai_deployment_id=None, openai_model='gpt-3.5-turbo', openai=<openai.OpenAI object at 0x10f301390>, openai_token_limit=8000) extracted_properties={} metadata=None\n"
     ]
    }
   ],
   "execution_count": 30
  }
 ],
 "metadata": {
  "kernelspec": {
   "display_name": "Python 3",
   "language": "python",
   "name": "python3"
  },
  "language_info": {
   "codemirror_mode": {
    "name": "ipython",
    "version": 2
   },
   "file_extension": ".py",
   "mimetype": "text/x-python",
   "name": "python",
   "nbconvert_exporter": "python",
   "pygments_lexer": "ipython2",
   "version": "2.7.6"
  }
 },
 "nbformat": 4,
 "nbformat_minor": 5
}
