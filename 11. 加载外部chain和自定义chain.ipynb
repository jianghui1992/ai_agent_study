{
 "cells": [
  {
   "cell_type": "code",
   "id": "initial_id",
   "metadata": {
    "collapsed": true,
    "ExecuteTime": {
     "end_time": "2024-04-22T15:11:49.192540Z",
     "start_time": "2024-04-22T15:11:49.177307Z"
    }
   },
   "source": [
    "from dotenv import load_dotenv\n",
    "\n",
    "load_dotenv(\"openai.env\")"
   ],
   "outputs": [
    {
     "data": {
      "text/plain": [
       "True"
      ]
     },
     "execution_count": 7,
     "metadata": {},
     "output_type": "execute_result"
    }
   ],
   "execution_count": 7
  },
  {
   "metadata": {},
   "cell_type": "markdown",
   "source": [
    "# 使用文件加载专用chains\n",
    "\n",
    "-  https://smith.langchain.com/hub有大量实现好的chains,方便我们直接调用 \n"
   ],
   "id": "8945bcb1bb5a7dae"
  },
  {
   "metadata": {},
   "cell_type": "code",
   "source": "! pip install langchainhub",
   "id": "5efab739a57fdc17",
   "outputs": [],
   "execution_count": null
  },
  {
   "metadata": {
    "ExecuteTime": {
     "end_time": "2024-04-22T15:16:10.839788Z",
     "start_time": "2024-04-22T15:16:07.240297Z"
    }
   },
   "cell_type": "code",
   "source": [
    "from langchain.chat_models import ChatOpenAI\n",
    "from langchain.schema.output_parser import StrOutputParser\n",
    "from langchain import hub\n",
    "\n",
    "# https://smith.langchain.com/hub\n",
    "# Pull down prompt\n",
    "prompt = hub.pull(\"rlm/text-to-sql\")\n",
    "# Initialize model\n",
    "model = ChatOpenAI()\n",
    "\n",
    "# 入参\n",
    "# lambda x: 表示是一个匿名函数\n",
    "inputs = {\n",
    "    \"table_info\": lambda x: \"customers\",\n",
    "    \"input\": lambda x: x[\"question\"],\n",
    "    \"few_shot_examples\": lambda x: \"\",\n",
    "    \"dialect\": lambda x: \"mysql\",\n",
    "}\n",
    "sql_response = (\n",
    "        inputs\n",
    "        | prompt\n",
    "        | model.bind(stop=[\"\\nSQLResult:\"])\n",
    "        | StrOutputParser()\n",
    ")\n",
    "\n",
    "# Call with a given question\n",
    "response = sql_response.invoke({\"question\": \"How many customers are there?\"})\n",
    "\n",
    "print(response)"
   ],
   "id": "ac8b48caf6b3ac35",
   "outputs": [
    {
     "name": "stdout",
     "output_type": "stream",
     "text": [
      "SQLQuery: SELECT COUNT(*) FROM customers;\n"
     ]
    }
   ],
   "execution_count": 14
  },
  {
   "metadata": {},
   "cell_type": "markdown",
   "source": [
    "# CustomChain\n",
    "当通用链不满足的时候，可以自行构建来实现特定的目的\n",
    "<hr>"
   ],
   "id": "9e73820a9c272c86"
  },
  {
   "metadata": {
    "ExecuteTime": {
     "end_time": "2024-04-22T15:27:23.071046Z",
     "start_time": "2024-04-22T15:27:23.062133Z"
    }
   },
   "cell_type": "code",
   "source": [
    "from typing import List, Dict, Any, Optional\n",
    "from langchain.callbacks.manager import (\n",
    "    CallbackManagerForChainRun\n",
    ")\n",
    "from langchain.chains.base import Chain\n",
    "from langchain.prompts.base import BasePromptTemplate\n",
    "from langchain.base_language import BaseLanguageModel\n",
    "\n",
    "\n",
    "class wiki_article_chain(Chain):\n",
    "    \"\"\"开发一个wiki文章生成器\"\"\"\n",
    "    prompt: BasePromptTemplate\n",
    "    llm: BaseLanguageModel\n",
    "    out_key: str = \"text\"\n",
    "\n",
    "    @property\n",
    "    def input_keys(self) -> List[str]:\n",
    "        \"\"\"将返回Prompt所需的所有键\"\"\"\n",
    "        return self.prompt.input_variables\n",
    "\n",
    "    @property\n",
    "    def output_keys(self) -> List[str]:\n",
    "        \"\"\"将始终返回text键\"\"\"\n",
    "        return [self.out_key]\n",
    "\n",
    "    @property\n",
    "    def _chain_type(self) -> str:\n",
    "        \"\"\"链类型\"\"\"\n",
    "        return \"wiki_article_chain\"\n",
    "\n",
    "    def _call(\n",
    "            self,\n",
    "            inputs: Dict[str, Any],\n",
    "            run_manager: Optional[CallbackManagerForChainRun] = None,\n",
    "    ) -> Dict[str, Any]:\n",
    "        \"\"\"运行链\"\"\"\n",
    "        prompt_value = self.prompt.format_prompt(**inputs)\n",
    "        print(\"prompt_value:\", prompt_value)\n",
    "        response = self.llm.generate_prompt(\n",
    "            [prompt_value], callbacks=run_manager.get_child() if run_manager else None\n",
    "        )\n",
    "        # print(\"response:\", response)\n",
    "        if run_manager:\n",
    "            run_manager.on_text(\"wiki article is written\")\n",
    "        return {self.out_key: response.generations[0][0].text}\n"
   ],
   "id": "da9241ad084d55f5",
   "outputs": [],
   "execution_count": 25
  },
  {
   "metadata": {
    "ExecuteTime": {
     "end_time": "2024-04-22T15:28:49.671822Z",
     "start_time": "2024-04-22T15:27:50.375099Z"
    }
   },
   "cell_type": "code",
   "source": [
    "from langchain.chat_models import ChatOpenAI\n",
    "from langchain.prompts import PromptTemplate\n",
    "\n",
    "chain = wiki_article_chain(\n",
    "    prompt=PromptTemplate(\n",
    "        template=\"写一篇关于{topic}的维基百科形式的文章\",\n",
    "        input_variables=[\"topic\"]\n",
    "    ),\n",
    "    llm=ChatOpenAI(temperature=0),\n",
    ")\n",
    "\n",
    "result = chain.invoke({\"topic\": \"大头同学\"})\n",
    "print(result)"
   ],
   "id": "400477d56624a802",
   "outputs": [
    {
     "name": "stdout",
     "output_type": "stream",
     "text": [
      "prompt_value: text='写一篇关于大头同学的维基百科形式的文章'\n",
      "{'topic': '大头同学', 'text': '### 大头同学\\n\\n**大头同学**是中国著名网络文化人物之一，以其幽默风趣的表现和独特的创作风格而闻名于网络社区。他的作品涵盖了视频内容、文字创作以及社交媒体互动等多个领域，在中国互联网文化圈拥有广泛的影响力。\\n\\n---\\n\\n#### 个人资料\\n\\n- **姓名：** 大头同学\\n- **出生日期：** 暂无确切资料\\n- **国籍：** 中国\\n- **职业：** 网络文化人物、视频创作者\\n- **知名平台：** Bilibili、YouTube等\\n\\n#### 创作风格\\n\\n大头同学以幽默诙谐的表现方式和独特的创意脱颖而出。他常常在自己的视频中运用夸张的表情、搞笑的配音和生动的画面，将各种生活场景和话题进行有趣的演绎和解读。其创作涵盖了各种题材，包括但不限于日常生活、社会现象、影视评论等，且常常融入了大量的流行文化元素和网络用语，使得其作品更具有时代感和亲和力。\\n\\n#### 成就和影响\\n\\n大头同学的作品深受广大网友的喜爱，其视频在网络平台上拥有众多的粉丝和观众群体。他的创作不仅在中国，也在国际上获得了一定的知名度，吸引了许多海外观众的关注。除了在视频领域取得成功外，大头同学还活跃于各种社交媒体平台，与粉丝们进行互动，分享生活趣事和创作心得，进一步增强了他与粉丝之间的联系。\\n\\n#### 社会影响\\n\\n大头同学作为一名网络文化人物，不仅仅是娱乐大众的角色，他的作品也常常带有一定的思考和反思，对于社会现象、人生态度等方面进行了一定的探讨和表达。他的影响力不仅仅停留在娱乐领域，还扩展到了对年轻人价值观念的影响和引导，成为了许多年轻人心目中的偶像和榜样。\\n\\n#### 未来展望\\n\\n随着网络文化的不断发展和演变，大头同学作为其中的佼佼者之一，将继续为广大网友带来更多精彩的创作和内容。他的成功经验也将为更多的年轻人提供启示，激励他们在网络创作领域中追求自己的梦想，为中国网络文化的繁荣做出更多的贡献。\\n\\n---\\n\\n这是一份简要的关于大头同学的维基百科形式的文章，有什么需要补充或修改的吗？'}\n"
     ]
    }
   ],
   "execution_count": 27
  },
  {
   "metadata": {},
   "cell_type": "code",
   "outputs": [],
   "execution_count": null,
   "source": "",
   "id": "5c9618c066d6ad49"
  }
 ],
 "metadata": {
  "kernelspec": {
   "display_name": "Python 3",
   "language": "python",
   "name": "python3"
  },
  "language_info": {
   "codemirror_mode": {
    "name": "ipython",
    "version": 2
   },
   "file_extension": ".py",
   "mimetype": "text/x-python",
   "name": "python",
   "nbconvert_exporter": "python",
   "pygments_lexer": "ipython2",
   "version": "2.7.6"
  }
 },
 "nbformat": 4,
 "nbformat_minor": 5
}
