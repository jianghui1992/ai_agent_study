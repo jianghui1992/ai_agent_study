{
 "cells": [
  {
   "cell_type": "code",
   "id": "initial_id",
   "metadata": {
    "collapsed": true,
    "ExecuteTime": {
     "end_time": "2024-04-27T08:16:19.477294Z",
     "start_time": "2024-04-27T08:16:19.460489Z"
    }
   },
   "source": [
    "from dotenv import load_dotenv\n",
    "\n",
    "load_dotenv(\"openai.env\")"
   ],
   "outputs": [
    {
     "data": {
      "text/plain": [
       "True"
      ]
     },
     "execution_count": 1,
     "metadata": {},
     "output_type": "execute_result"
    }
   ],
   "execution_count": 1
  },
  {
   "metadata": {
    "ExecuteTime": {
     "end_time": "2024-04-27T08:16:22.138076Z",
     "start_time": "2024-04-27T08:16:20.537884Z"
    }
   },
   "cell_type": "code",
   "source": [
    "from langchain_core.prompts import ChatPromptTemplate\n",
    "from langchain_openai import ChatOpenAI\n",
    "\n",
    "model = ChatOpenAI()\n",
    "prompt = ChatPromptTemplate.from_template(\"给我讲一个关于{topic}的30字以内的笑话\")\n",
    "chain = prompt | model"
   ],
   "id": "91efb771b5808fc",
   "outputs": [],
   "execution_count": 2
  },
  {
   "metadata": {},
   "cell_type": "markdown",
   "source": "# invoke",
   "id": "58c41532888f0b68"
  },
  {
   "metadata": {
    "ExecuteTime": {
     "end_time": "2024-04-27T08:16:51.565939Z",
     "start_time": "2024-04-27T08:16:48.077139Z"
    }
   },
   "cell_type": "code",
   "source": "chain.invoke({\"topic\": \"熊\"})",
   "id": "c1c06451ca935386",
   "outputs": [
    {
     "data": {
      "text/plain": [
       "AIMessage(content='为什么熊在沙漠里找不到方向？因为它们总是在绕圈子，不知道北方南方东方西方。', response_metadata={'token_usage': {'completion_tokens': 45, 'prompt_tokens': 25, 'total_tokens': 70}, 'model_name': 'gpt-3.5-turbo', 'system_fingerprint': 'fp_3b956da36b', 'finish_reason': 'stop', 'logprobs': None}, id='run-e9d19c4c-2fe9-40fb-a7e1-076ad2b51992-0')"
      ]
     },
     "execution_count": 3,
     "metadata": {},
     "output_type": "execute_result"
    }
   ],
   "execution_count": 3
  },
  {
   "metadata": {},
   "cell_type": "markdown",
   "source": "# stream-流式调用-实时返回结果",
   "id": "82e8489df93f8135"
  },
  {
   "metadata": {
    "ExecuteTime": {
     "end_time": "2024-04-27T08:17:20.762717Z",
     "start_time": "2024-04-27T08:17:19.124522Z"
    }
   },
   "cell_type": "code",
   "source": [
    "for s in chain.stream({\"topic\": \"熊\"}):\n",
    "    print(s.content, end=\"\", flush=True)"
   ],
   "id": "e7ded029387a0f01",
   "outputs": [
    {
     "name": "stdout",
     "output_type": "stream",
     "text": [
      "为什么熊不喜欢去参加派对？因为它们总是被要求“熊样”！"
     ]
    }
   ],
   "execution_count": 4
  },
  {
   "metadata": {},
   "cell_type": "markdown",
   "source": "# batch-批量调用-一次性返回结果",
   "id": "48659d37a3af7da3"
  },
  {
   "metadata": {
    "ExecuteTime": {
     "end_time": "2024-04-27T08:18:21.118957Z",
     "start_time": "2024-04-27T08:18:18.329410Z"
    }
   },
   "cell_type": "code",
   "source": "chain.batch([{\"topic\": \"熊\"}, {\"topic\": \"猫\"}])",
   "id": "31f473e5f727af37",
   "outputs": [
    {
     "data": {
      "text/plain": [
       "[AIMessage(content='为什么熊喜欢在森林里打篮球？因为他们喜欢熊抱！', response_metadata={'token_usage': {'completion_tokens': 36, 'prompt_tokens': 25, 'total_tokens': 61}, 'model_name': 'gpt-3.5-turbo', 'system_fingerprint': 'fp_3b956da36b', 'finish_reason': 'stop', 'logprobs': None}, id='run-5dd2e6f4-8e0c-41de-8e0b-70e07f4192c6-0'),\n",
       " AIMessage(content='猫咪问老鼠：你为什么总是跑？老鼠回答：因为我是老鼠啊！猫咪说：那我是猫，我也可以不跑啊。老鼠：可是你是宠物猫。', response_metadata={'token_usage': {'completion_tokens': 82, 'prompt_tokens': 26, 'total_tokens': 108}, 'model_name': 'gpt-3.5-turbo', 'system_fingerprint': None, 'finish_reason': 'stop', 'logprobs': None}, id='run-344410cf-abba-4fc4-8192-05d64f2c65ac-0')]"
      ]
     },
     "execution_count": 5,
     "metadata": {},
     "output_type": "execute_result"
    }
   ],
   "execution_count": 5
  },
  {
   "metadata": {
    "ExecuteTime": {
     "end_time": "2024-04-27T08:24:29.403792Z",
     "start_time": "2024-04-27T08:24:25.997973Z"
    }
   },
   "cell_type": "code",
   "source": [
    "%%time\n",
    "#max_concurrency控制并发数,具体怎么控制的还不太清楚\n",
    "chain.batch([{\"topic\": \"熊\"}, {\"topic\": \"猫\"}, {\"topic\": \"狗\"}], config={\"max_concurrency\": 1})"
   ],
   "id": "cb022a8a151b9eca",
   "outputs": [
    {
     "name": "stdout",
     "output_type": "stream",
     "text": [
      "CPU times: user 16 ms, sys: 2.33 ms, total: 18.3 ms\n",
      "Wall time: 3.4 s\n"
     ]
    },
    {
     "data": {
      "text/plain": [
       "[AIMessage(content='为什么熊不喜欢在雨天出去玩？因为它怕被淋湿变成“熊猫”！😄', response_metadata={'token_usage': {'completion_tokens': 46, 'prompt_tokens': 25, 'total_tokens': 71}, 'model_name': 'gpt-3.5-turbo', 'system_fingerprint': 'fp_3b956da36b', 'finish_reason': 'stop', 'logprobs': None}, id='run-bac38712-90e1-4be6-8f81-bc2813eaf2a2-0'),\n",
       " AIMessage(content='猫问狗：你为什么总不追我？狗回答：因为我不想被你抓住！', response_metadata={'token_usage': {'completion_tokens': 40, 'prompt_tokens': 26, 'total_tokens': 66}, 'model_name': 'gpt-3.5-turbo', 'system_fingerprint': None, 'finish_reason': 'stop', 'logprobs': None}, id='run-4da6acc6-c6ac-49c4-8a9f-b7ef1dc71ba6-0'),\n",
       " AIMessage(content='为什么狗喜欢在草地上打滚？因为它们觉得草地上滚起来的感觉像在按摩！', response_metadata={'token_usage': {'completion_tokens': 46, 'prompt_tokens': 25, 'total_tokens': 71}, 'model_name': 'gpt-3.5-turbo', 'system_fingerprint': 'fp_3b956da36b', 'finish_reason': 'stop', 'logprobs': None}, id='run-2fb9eeb7-42ac-4393-b8ac-d19302041e42-0')]"
      ]
     },
     "execution_count": 21,
     "metadata": {},
     "output_type": "execute_result"
    }
   ],
   "execution_count": 21
  },
  {
   "metadata": {},
   "cell_type": "markdown",
   "source": "# astream-异步流式调用-实时返回结果",
   "id": "b2d5a4fd69095842"
  },
  {
   "metadata": {
    "ExecuteTime": {
     "end_time": "2024-04-27T08:25:48.208442Z",
     "start_time": "2024-04-27T08:25:43.855514Z"
    }
   },
   "cell_type": "code",
   "source": [
    "async for s in chain.astream({\"topic\": \"女人\"}):\n",
    "    print(s.content, end=\"\", flush=True)"
   ],
   "id": "6c3d58121f8e1a44",
   "outputs": [
    {
     "name": "stdout",
     "output_type": "stream",
     "text": [
      "女人是上帝的杰作，但有时候上帝也会开个小玩笑，比如给她们一张脸，但却让她们喜欢购买化妆品。"
     ]
    }
   ],
   "execution_count": 22
  },
  {
   "metadata": {},
   "cell_type": "markdown",
   "source": "# ainvoke-异步调用",
   "id": "4f883a196306198d"
  },
  {
   "metadata": {
    "ExecuteTime": {
     "end_time": "2024-04-27T08:26:24.630348Z",
     "start_time": "2024-04-27T08:26:23.222544Z"
    }
   },
   "cell_type": "code",
   "source": "await chain.ainvoke({\"topic\": \"男人\"})",
   "id": "f22b6201b216d484",
   "outputs": [
    {
     "data": {
      "text/plain": [
       "AIMessage(content='男人永远不会懂女人为什么要买那么多鞋，就像女人永远不会懂男人为什么要买那么多游戏。', response_metadata={'token_usage': {'completion_tokens': 57, 'prompt_tokens': 25, 'total_tokens': 82}, 'model_name': 'gpt-3.5-turbo', 'system_fingerprint': None, 'finish_reason': 'stop', 'logprobs': None}, id='run-7d838ebc-871b-4f95-8d20-b3a54b556846-0')"
      ]
     },
     "execution_count": 23,
     "metadata": {},
     "output_type": "execute_result"
    }
   ],
   "execution_count": 23
  },
  {
   "metadata": {},
   "cell_type": "markdown",
   "source": "# abatch-异步批量调用",
   "id": "e7f273dbc71fce15"
  },
  {
   "metadata": {
    "ExecuteTime": {
     "end_time": "2024-04-27T08:27:21.396779Z",
     "start_time": "2024-04-27T08:27:16.349055Z"
    }
   },
   "cell_type": "code",
   "source": "await chain.abatch([{\"topic\": \"熊\"}, {\"topic\": \"女人\"}])",
   "id": "c6f60c134e883227",
   "outputs": [
    {
     "data": {
      "text/plain": [
       "[AIMessage(content='为什么熊不喜欢在大雨中玩耍？因为它怕淋湿变成水熊！哈哈哈哈哈哈哈哈哈哈哈哈哈哈哈哈哈哈哈。', response_metadata={'token_usage': {'completion_tokens': 59, 'prompt_tokens': 25, 'total_tokens': 84}, 'model_name': 'gpt-3.5-turbo', 'system_fingerprint': 'fp_3b956da36b', 'finish_reason': 'stop', 'logprobs': None}, id='run-6a89f46e-5fcc-40cc-9cd7-f32c468e29f2-0'),\n",
       " AIMessage(content='为什么女人喜欢买包包？因为包包可以装下她们的秘密，还可以装下她们的银行卡，最重要的是，包包永远不会嫌弃她们买的太多。', response_metadata={'token_usage': {'completion_tokens': 73, 'prompt_tokens': 24, 'total_tokens': 97}, 'model_name': 'gpt-3.5-turbo', 'system_fingerprint': 'fp_3b956da36b', 'finish_reason': 'stop', 'logprobs': None}, id='run-a924af82-1dc9-4936-9fc4-a2b74aa1dbb1-0')]"
      ]
     },
     "execution_count": 24,
     "metadata": {},
     "output_type": "execute_result"
    }
   ],
   "execution_count": 24
  },
  {
   "metadata": {},
   "cell_type": "markdown",
   "source": "# 异步获取中间步骤",
   "id": "1b055acd9175d6de"
  },
  {
   "metadata": {
    "ExecuteTime": {
     "end_time": "2024-04-27T08:28:30.092246Z",
     "start_time": "2024-04-27T08:28:27.666554Z"
    }
   },
   "cell_type": "code",
   "source": [
    "from langchain_community.vectorstores import FAISS\n",
    "from langchain_core.output_parsers import StrOutputParser\n",
    "from langchain_core.runnables import RunnablePassthrough\n",
    "from langchain_openai import OpenAIEmbeddings\n",
    "\n",
    "template = \"\"\"基于下面的上下文来回答问题:\n",
    "{context}\n",
    "Question: {question}\n",
    "\"\"\"\n",
    "prompt = ChatPromptTemplate.from_template(template)\n",
    "\n",
    "vectorstore = FAISS.from_texts([\"柯基犬是一种中型家庭宠物犬\"], embedding=OpenAIEmbeddings())\n",
    "retriever = vectorstore.as_retriever()\n",
    "\n",
    "retrieval_chain = (\n",
    "        {\"context\": retriever.with_config(run_name=\"Docs\"), \"question\": RunnablePassthrough()}\n",
    "        | prompt\n",
    "        | model\n",
    "        | StrOutputParser()\n",
    ")"
   ],
   "id": "ac59c03056baa0c6",
   "outputs": [],
   "execution_count": 25
  },
  {
   "metadata": {
    "ExecuteTime": {
     "end_time": "2024-04-27T08:28:50.342721Z",
     "start_time": "2024-04-27T08:28:47.766160Z"
    }
   },
   "cell_type": "code",
   "source": [
    "async for chunk in retrieval_chain.astream_log(\"柯基是什么?\", include_names=[\"Docs\"]):\n",
    "    print(\"-\" * 40)\n",
    "    print(chunk)"
   ],
   "id": "cdd8dafcfe81c659",
   "outputs": [
    {
     "name": "stdout",
     "output_type": "stream",
     "text": [
      "----------------------------------------\n",
      "RunLogPatch({'op': 'replace',\n",
      "  'path': '',\n",
      "  'value': {'final_output': None,\n",
      "            'id': '005d3f61-7286-4691-982c-c880769adf69',\n",
      "            'logs': {},\n",
      "            'name': 'RunnableSequence',\n",
      "            'streamed_output': [],\n",
      "            'type': 'chain'}})\n",
      "----------------------------------------\n",
      "RunLogPatch({'op': 'add',\n",
      "  'path': '/logs/Docs',\n",
      "  'value': {'end_time': None,\n",
      "            'final_output': None,\n",
      "            'id': 'dd53b490-b315-47e7-83e1-2a538d7f79c3',\n",
      "            'metadata': {},\n",
      "            'name': 'Docs',\n",
      "            'start_time': '2024-04-27T08:28:48.006+00:00',\n",
      "            'streamed_output': [],\n",
      "            'streamed_output_str': [],\n",
      "            'tags': ['map:key:context', 'FAISS', 'OpenAIEmbeddings'],\n",
      "            'type': 'retriever'}})\n",
      "----------------------------------------\n",
      "RunLogPatch({'op': 'add',\n",
      "  'path': '/logs/Docs/final_output',\n",
      "  'value': {'documents': [Document(page_content='柯基犬是一种中型家庭宠物犬')]}},\n",
      " {'op': 'add',\n",
      "  'path': '/logs/Docs/end_time',\n",
      "  'value': '2024-04-27T08:28:48.758+00:00'})\n",
      "----------------------------------------\n",
      "RunLogPatch({'op': 'add', 'path': '/streamed_output/-', 'value': ''},\n",
      " {'op': 'replace', 'path': '/final_output', 'value': ''})\n",
      "----------------------------------------\n",
      "RunLogPatch({'op': 'add', 'path': '/streamed_output/-', 'value': '柯'},\n",
      " {'op': 'replace', 'path': '/final_output', 'value': '柯'})\n",
      "----------------------------------------\n",
      "RunLogPatch({'op': 'add', 'path': '/streamed_output/-', 'value': '基'},\n",
      " {'op': 'replace', 'path': '/final_output', 'value': '柯基'})\n",
      "----------------------------------------\n",
      "RunLogPatch({'op': 'add', 'path': '/streamed_output/-', 'value': '是'},\n",
      " {'op': 'replace', 'path': '/final_output', 'value': '柯基是'})\n",
      "----------------------------------------\n",
      "RunLogPatch({'op': 'add', 'path': '/streamed_output/-', 'value': '一'},\n",
      " {'op': 'replace', 'path': '/final_output', 'value': '柯基是一'})\n",
      "----------------------------------------\n",
      "RunLogPatch({'op': 'add', 'path': '/streamed_output/-', 'value': '种'},\n",
      " {'op': 'replace', 'path': '/final_output', 'value': '柯基是一种'})\n",
      "----------------------------------------\n",
      "RunLogPatch({'op': 'add', 'path': '/streamed_output/-', 'value': '中'},\n",
      " {'op': 'replace', 'path': '/final_output', 'value': '柯基是一种中'})\n",
      "----------------------------------------\n",
      "RunLogPatch({'op': 'add', 'path': '/streamed_output/-', 'value': '型'},\n",
      " {'op': 'replace', 'path': '/final_output', 'value': '柯基是一种中型'})\n",
      "----------------------------------------\n",
      "RunLogPatch({'op': 'add', 'path': '/streamed_output/-', 'value': '家'},\n",
      " {'op': 'replace', 'path': '/final_output', 'value': '柯基是一种中型家'})\n",
      "----------------------------------------\n",
      "RunLogPatch({'op': 'add', 'path': '/streamed_output/-', 'value': '庭'},\n",
      " {'op': 'replace', 'path': '/final_output', 'value': '柯基是一种中型家庭'})\n",
      "----------------------------------------\n",
      "RunLogPatch({'op': 'add', 'path': '/streamed_output/-', 'value': '宠'},\n",
      " {'op': 'replace', 'path': '/final_output', 'value': '柯基是一种中型家庭宠'})\n",
      "----------------------------------------\n",
      "RunLogPatch({'op': 'add', 'path': '/streamed_output/-', 'value': '物'},\n",
      " {'op': 'replace', 'path': '/final_output', 'value': '柯基是一种中型家庭宠物'})\n",
      "----------------------------------------\n",
      "RunLogPatch({'op': 'add', 'path': '/streamed_output/-', 'value': '犬'},\n",
      " {'op': 'replace', 'path': '/final_output', 'value': '柯基是一种中型家庭宠物犬'})\n",
      "----------------------------------------\n",
      "RunLogPatch({'op': 'add', 'path': '/streamed_output/-', 'value': '。'},\n",
      " {'op': 'replace', 'path': '/final_output', 'value': '柯基是一种中型家庭宠物犬。'})\n",
      "----------------------------------------\n",
      "RunLogPatch({'op': 'add', 'path': '/streamed_output/-', 'value': ''})\n"
     ]
    }
   ],
   "execution_count": 26
  },
  {
   "metadata": {
    "ExecuteTime": {
     "end_time": "2024-04-27T08:30:03.470440Z",
     "start_time": "2024-04-27T08:29:59.131494Z"
    }
   },
   "cell_type": "code",
   "source": [
    "async for chunk in retrieval_chain.astream_log(\"柯基是什么?\", include_names=[\"Docs\"], diff=False):\n",
    "    print(\"-\" * 70)\n",
    "    print(chunk)"
   ],
   "id": "b401988509b14db6",
   "outputs": [
    {
     "name": "stdout",
     "output_type": "stream",
     "text": [
      "----------------------------------------------------------------------\n",
      "RunLog({'final_output': None,\n",
      " 'id': '8753e60f-d329-4426-bcd0-c836a6f8ebf9',\n",
      " 'logs': {},\n",
      " 'name': 'RunnableSequence',\n",
      " 'streamed_output': [],\n",
      " 'type': 'chain'})\n",
      "----------------------------------------------------------------------\n",
      "RunLog({'final_output': None,\n",
      " 'id': '8753e60f-d329-4426-bcd0-c836a6f8ebf9',\n",
      " 'logs': {'Docs': {'end_time': None,\n",
      "                   'final_output': None,\n",
      "                   'id': 'ee5e9345-f174-4e11-ac1f-bbb2de2921eb',\n",
      "                   'metadata': {},\n",
      "                   'name': 'Docs',\n",
      "                   'start_time': '2024-04-27T08:29:59.139+00:00',\n",
      "                   'streamed_output': [],\n",
      "                   'streamed_output_str': [],\n",
      "                   'tags': ['map:key:context', 'FAISS', 'OpenAIEmbeddings'],\n",
      "                   'type': 'retriever'}},\n",
      " 'name': 'RunnableSequence',\n",
      " 'streamed_output': [],\n",
      " 'type': 'chain'})\n",
      "----------------------------------------------------------------------\n",
      "RunLog({'final_output': None,\n",
      " 'id': '8753e60f-d329-4426-bcd0-c836a6f8ebf9',\n",
      " 'logs': {'Docs': {'end_time': '2024-04-27T08:30:02.213+00:00',\n",
      "                   'final_output': {'documents': [Document(page_content='柯基犬是一种中型家庭宠物犬')]},\n",
      "                   'id': 'ee5e9345-f174-4e11-ac1f-bbb2de2921eb',\n",
      "                   'metadata': {},\n",
      "                   'name': 'Docs',\n",
      "                   'start_time': '2024-04-27T08:29:59.139+00:00',\n",
      "                   'streamed_output': [],\n",
      "                   'streamed_output_str': [],\n",
      "                   'tags': ['map:key:context', 'FAISS', 'OpenAIEmbeddings'],\n",
      "                   'type': 'retriever'}},\n",
      " 'name': 'RunnableSequence',\n",
      " 'streamed_output': [],\n",
      " 'type': 'chain'})\n",
      "----------------------------------------------------------------------\n",
      "RunLog({'final_output': '',\n",
      " 'id': '8753e60f-d329-4426-bcd0-c836a6f8ebf9',\n",
      " 'logs': {'Docs': {'end_time': '2024-04-27T08:30:02.213+00:00',\n",
      "                   'final_output': {'documents': [Document(page_content='柯基犬是一种中型家庭宠物犬')]},\n",
      "                   'id': 'ee5e9345-f174-4e11-ac1f-bbb2de2921eb',\n",
      "                   'metadata': {},\n",
      "                   'name': 'Docs',\n",
      "                   'start_time': '2024-04-27T08:29:59.139+00:00',\n",
      "                   'streamed_output': [],\n",
      "                   'streamed_output_str': [],\n",
      "                   'tags': ['map:key:context', 'FAISS', 'OpenAIEmbeddings'],\n",
      "                   'type': 'retriever'}},\n",
      " 'name': 'RunnableSequence',\n",
      " 'streamed_output': [''],\n",
      " 'type': 'chain'})\n",
      "----------------------------------------------------------------------\n",
      "RunLog({'final_output': 'Answer',\n",
      " 'id': '8753e60f-d329-4426-bcd0-c836a6f8ebf9',\n",
      " 'logs': {'Docs': {'end_time': '2024-04-27T08:30:02.213+00:00',\n",
      "                   'final_output': {'documents': [Document(page_content='柯基犬是一种中型家庭宠物犬')]},\n",
      "                   'id': 'ee5e9345-f174-4e11-ac1f-bbb2de2921eb',\n",
      "                   'metadata': {},\n",
      "                   'name': 'Docs',\n",
      "                   'start_time': '2024-04-27T08:29:59.139+00:00',\n",
      "                   'streamed_output': [],\n",
      "                   'streamed_output_str': [],\n",
      "                   'tags': ['map:key:context', 'FAISS', 'OpenAIEmbeddings'],\n",
      "                   'type': 'retriever'}},\n",
      " 'name': 'RunnableSequence',\n",
      " 'streamed_output': ['', 'Answer'],\n",
      " 'type': 'chain'})\n",
      "----------------------------------------------------------------------\n",
      "RunLog({'final_output': 'Answer:',\n",
      " 'id': '8753e60f-d329-4426-bcd0-c836a6f8ebf9',\n",
      " 'logs': {'Docs': {'end_time': '2024-04-27T08:30:02.213+00:00',\n",
      "                   'final_output': {'documents': [Document(page_content='柯基犬是一种中型家庭宠物犬')]},\n",
      "                   'id': 'ee5e9345-f174-4e11-ac1f-bbb2de2921eb',\n",
      "                   'metadata': {},\n",
      "                   'name': 'Docs',\n",
      "                   'start_time': '2024-04-27T08:29:59.139+00:00',\n",
      "                   'streamed_output': [],\n",
      "                   'streamed_output_str': [],\n",
      "                   'tags': ['map:key:context', 'FAISS', 'OpenAIEmbeddings'],\n",
      "                   'type': 'retriever'}},\n",
      " 'name': 'RunnableSequence',\n",
      " 'streamed_output': ['', 'Answer', ':'],\n",
      " 'type': 'chain'})\n",
      "----------------------------------------------------------------------\n",
      "RunLog({'final_output': 'Answer: 柯',\n",
      " 'id': '8753e60f-d329-4426-bcd0-c836a6f8ebf9',\n",
      " 'logs': {'Docs': {'end_time': '2024-04-27T08:30:02.213+00:00',\n",
      "                   'final_output': {'documents': [Document(page_content='柯基犬是一种中型家庭宠物犬')]},\n",
      "                   'id': 'ee5e9345-f174-4e11-ac1f-bbb2de2921eb',\n",
      "                   'metadata': {},\n",
      "                   'name': 'Docs',\n",
      "                   'start_time': '2024-04-27T08:29:59.139+00:00',\n",
      "                   'streamed_output': [],\n",
      "                   'streamed_output_str': [],\n",
      "                   'tags': ['map:key:context', 'FAISS', 'OpenAIEmbeddings'],\n",
      "                   'type': 'retriever'}},\n",
      " 'name': 'RunnableSequence',\n",
      " 'streamed_output': ['', 'Answer', ':', ' 柯'],\n",
      " 'type': 'chain'})\n",
      "----------------------------------------------------------------------\n",
      "RunLog({'final_output': 'Answer: 柯基',\n",
      " 'id': '8753e60f-d329-4426-bcd0-c836a6f8ebf9',\n",
      " 'logs': {'Docs': {'end_time': '2024-04-27T08:30:02.213+00:00',\n",
      "                   'final_output': {'documents': [Document(page_content='柯基犬是一种中型家庭宠物犬')]},\n",
      "                   'id': 'ee5e9345-f174-4e11-ac1f-bbb2de2921eb',\n",
      "                   'metadata': {},\n",
      "                   'name': 'Docs',\n",
      "                   'start_time': '2024-04-27T08:29:59.139+00:00',\n",
      "                   'streamed_output': [],\n",
      "                   'streamed_output_str': [],\n",
      "                   'tags': ['map:key:context', 'FAISS', 'OpenAIEmbeddings'],\n",
      "                   'type': 'retriever'}},\n",
      " 'name': 'RunnableSequence',\n",
      " 'streamed_output': ['', 'Answer', ':', ' 柯', '基'],\n",
      " 'type': 'chain'})\n",
      "----------------------------------------------------------------------\n",
      "RunLog({'final_output': 'Answer: 柯基是',\n",
      " 'id': '8753e60f-d329-4426-bcd0-c836a6f8ebf9',\n",
      " 'logs': {'Docs': {'end_time': '2024-04-27T08:30:02.213+00:00',\n",
      "                   'final_output': {'documents': [Document(page_content='柯基犬是一种中型家庭宠物犬')]},\n",
      "                   'id': 'ee5e9345-f174-4e11-ac1f-bbb2de2921eb',\n",
      "                   'metadata': {},\n",
      "                   'name': 'Docs',\n",
      "                   'start_time': '2024-04-27T08:29:59.139+00:00',\n",
      "                   'streamed_output': [],\n",
      "                   'streamed_output_str': [],\n",
      "                   'tags': ['map:key:context', 'FAISS', 'OpenAIEmbeddings'],\n",
      "                   'type': 'retriever'}},\n",
      " 'name': 'RunnableSequence',\n",
      " 'streamed_output': ['', 'Answer', ':', ' 柯', '基', '是'],\n",
      " 'type': 'chain'})\n",
      "----------------------------------------------------------------------\n",
      "RunLog({'final_output': 'Answer: 柯基是一',\n",
      " 'id': '8753e60f-d329-4426-bcd0-c836a6f8ebf9',\n",
      " 'logs': {'Docs': {'end_time': '2024-04-27T08:30:02.213+00:00',\n",
      "                   'final_output': {'documents': [Document(page_content='柯基犬是一种中型家庭宠物犬')]},\n",
      "                   'id': 'ee5e9345-f174-4e11-ac1f-bbb2de2921eb',\n",
      "                   'metadata': {},\n",
      "                   'name': 'Docs',\n",
      "                   'start_time': '2024-04-27T08:29:59.139+00:00',\n",
      "                   'streamed_output': [],\n",
      "                   'streamed_output_str': [],\n",
      "                   'tags': ['map:key:context', 'FAISS', 'OpenAIEmbeddings'],\n",
      "                   'type': 'retriever'}},\n",
      " 'name': 'RunnableSequence',\n",
      " 'streamed_output': ['', 'Answer', ':', ' 柯', '基', '是', '一'],\n",
      " 'type': 'chain'})\n",
      "----------------------------------------------------------------------\n",
      "RunLog({'final_output': 'Answer: 柯基是一种',\n",
      " 'id': '8753e60f-d329-4426-bcd0-c836a6f8ebf9',\n",
      " 'logs': {'Docs': {'end_time': '2024-04-27T08:30:02.213+00:00',\n",
      "                   'final_output': {'documents': [Document(page_content='柯基犬是一种中型家庭宠物犬')]},\n",
      "                   'id': 'ee5e9345-f174-4e11-ac1f-bbb2de2921eb',\n",
      "                   'metadata': {},\n",
      "                   'name': 'Docs',\n",
      "                   'start_time': '2024-04-27T08:29:59.139+00:00',\n",
      "                   'streamed_output': [],\n",
      "                   'streamed_output_str': [],\n",
      "                   'tags': ['map:key:context', 'FAISS', 'OpenAIEmbeddings'],\n",
      "                   'type': 'retriever'}},\n",
      " 'name': 'RunnableSequence',\n",
      " 'streamed_output': ['', 'Answer', ':', ' 柯', '基', '是', '一', '种'],\n",
      " 'type': 'chain'})\n",
      "----------------------------------------------------------------------\n",
      "RunLog({'final_output': 'Answer: 柯基是一种中',\n",
      " 'id': '8753e60f-d329-4426-bcd0-c836a6f8ebf9',\n",
      " 'logs': {'Docs': {'end_time': '2024-04-27T08:30:02.213+00:00',\n",
      "                   'final_output': {'documents': [Document(page_content='柯基犬是一种中型家庭宠物犬')]},\n",
      "                   'id': 'ee5e9345-f174-4e11-ac1f-bbb2de2921eb',\n",
      "                   'metadata': {},\n",
      "                   'name': 'Docs',\n",
      "                   'start_time': '2024-04-27T08:29:59.139+00:00',\n",
      "                   'streamed_output': [],\n",
      "                   'streamed_output_str': [],\n",
      "                   'tags': ['map:key:context', 'FAISS', 'OpenAIEmbeddings'],\n",
      "                   'type': 'retriever'}},\n",
      " 'name': 'RunnableSequence',\n",
      " 'streamed_output': ['', 'Answer', ':', ' 柯', '基', '是', '一', '种', '中'],\n",
      " 'type': 'chain'})\n",
      "----------------------------------------------------------------------\n",
      "RunLog({'final_output': 'Answer: 柯基是一种中型',\n",
      " 'id': '8753e60f-d329-4426-bcd0-c836a6f8ebf9',\n",
      " 'logs': {'Docs': {'end_time': '2024-04-27T08:30:02.213+00:00',\n",
      "                   'final_output': {'documents': [Document(page_content='柯基犬是一种中型家庭宠物犬')]},\n",
      "                   'id': 'ee5e9345-f174-4e11-ac1f-bbb2de2921eb',\n",
      "                   'metadata': {},\n",
      "                   'name': 'Docs',\n",
      "                   'start_time': '2024-04-27T08:29:59.139+00:00',\n",
      "                   'streamed_output': [],\n",
      "                   'streamed_output_str': [],\n",
      "                   'tags': ['map:key:context', 'FAISS', 'OpenAIEmbeddings'],\n",
      "                   'type': 'retriever'}},\n",
      " 'name': 'RunnableSequence',\n",
      " 'streamed_output': ['', 'Answer', ':', ' 柯', '基', '是', '一', '种', '中', '型'],\n",
      " 'type': 'chain'})\n",
      "----------------------------------------------------------------------\n",
      "RunLog({'final_output': 'Answer: 柯基是一种中型家',\n",
      " 'id': '8753e60f-d329-4426-bcd0-c836a6f8ebf9',\n",
      " 'logs': {'Docs': {'end_time': '2024-04-27T08:30:02.213+00:00',\n",
      "                   'final_output': {'documents': [Document(page_content='柯基犬是一种中型家庭宠物犬')]},\n",
      "                   'id': 'ee5e9345-f174-4e11-ac1f-bbb2de2921eb',\n",
      "                   'metadata': {},\n",
      "                   'name': 'Docs',\n",
      "                   'start_time': '2024-04-27T08:29:59.139+00:00',\n",
      "                   'streamed_output': [],\n",
      "                   'streamed_output_str': [],\n",
      "                   'tags': ['map:key:context', 'FAISS', 'OpenAIEmbeddings'],\n",
      "                   'type': 'retriever'}},\n",
      " 'name': 'RunnableSequence',\n",
      " 'streamed_output': ['',\n",
      "                     'Answer',\n",
      "                     ':',\n",
      "                     ' 柯',\n",
      "                     '基',\n",
      "                     '是',\n",
      "                     '一',\n",
      "                     '种',\n",
      "                     '中',\n",
      "                     '型',\n",
      "                     '家'],\n",
      " 'type': 'chain'})\n",
      "----------------------------------------------------------------------\n",
      "RunLog({'final_output': 'Answer: 柯基是一种中型家庭',\n",
      " 'id': '8753e60f-d329-4426-bcd0-c836a6f8ebf9',\n",
      " 'logs': {'Docs': {'end_time': '2024-04-27T08:30:02.213+00:00',\n",
      "                   'final_output': {'documents': [Document(page_content='柯基犬是一种中型家庭宠物犬')]},\n",
      "                   'id': 'ee5e9345-f174-4e11-ac1f-bbb2de2921eb',\n",
      "                   'metadata': {},\n",
      "                   'name': 'Docs',\n",
      "                   'start_time': '2024-04-27T08:29:59.139+00:00',\n",
      "                   'streamed_output': [],\n",
      "                   'streamed_output_str': [],\n",
      "                   'tags': ['map:key:context', 'FAISS', 'OpenAIEmbeddings'],\n",
      "                   'type': 'retriever'}},\n",
      " 'name': 'RunnableSequence',\n",
      " 'streamed_output': ['',\n",
      "                     'Answer',\n",
      "                     ':',\n",
      "                     ' 柯',\n",
      "                     '基',\n",
      "                     '是',\n",
      "                     '一',\n",
      "                     '种',\n",
      "                     '中',\n",
      "                     '型',\n",
      "                     '家',\n",
      "                     '庭'],\n",
      " 'type': 'chain'})\n",
      "----------------------------------------------------------------------\n",
      "RunLog({'final_output': 'Answer: 柯基是一种中型家庭宠',\n",
      " 'id': '8753e60f-d329-4426-bcd0-c836a6f8ebf9',\n",
      " 'logs': {'Docs': {'end_time': '2024-04-27T08:30:02.213+00:00',\n",
      "                   'final_output': {'documents': [Document(page_content='柯基犬是一种中型家庭宠物犬')]},\n",
      "                   'id': 'ee5e9345-f174-4e11-ac1f-bbb2de2921eb',\n",
      "                   'metadata': {},\n",
      "                   'name': 'Docs',\n",
      "                   'start_time': '2024-04-27T08:29:59.139+00:00',\n",
      "                   'streamed_output': [],\n",
      "                   'streamed_output_str': [],\n",
      "                   'tags': ['map:key:context', 'FAISS', 'OpenAIEmbeddings'],\n",
      "                   'type': 'retriever'}},\n",
      " 'name': 'RunnableSequence',\n",
      " 'streamed_output': ['',\n",
      "                     'Answer',\n",
      "                     ':',\n",
      "                     ' 柯',\n",
      "                     '基',\n",
      "                     '是',\n",
      "                     '一',\n",
      "                     '种',\n",
      "                     '中',\n",
      "                     '型',\n",
      "                     '家',\n",
      "                     '庭',\n",
      "                     '宠'],\n",
      " 'type': 'chain'})\n",
      "----------------------------------------------------------------------\n",
      "RunLog({'final_output': 'Answer: 柯基是一种中型家庭宠物',\n",
      " 'id': '8753e60f-d329-4426-bcd0-c836a6f8ebf9',\n",
      " 'logs': {'Docs': {'end_time': '2024-04-27T08:30:02.213+00:00',\n",
      "                   'final_output': {'documents': [Document(page_content='柯基犬是一种中型家庭宠物犬')]},\n",
      "                   'id': 'ee5e9345-f174-4e11-ac1f-bbb2de2921eb',\n",
      "                   'metadata': {},\n",
      "                   'name': 'Docs',\n",
      "                   'start_time': '2024-04-27T08:29:59.139+00:00',\n",
      "                   'streamed_output': [],\n",
      "                   'streamed_output_str': [],\n",
      "                   'tags': ['map:key:context', 'FAISS', 'OpenAIEmbeddings'],\n",
      "                   'type': 'retriever'}},\n",
      " 'name': 'RunnableSequence',\n",
      " 'streamed_output': ['',\n",
      "                     'Answer',\n",
      "                     ':',\n",
      "                     ' 柯',\n",
      "                     '基',\n",
      "                     '是',\n",
      "                     '一',\n",
      "                     '种',\n",
      "                     '中',\n",
      "                     '型',\n",
      "                     '家',\n",
      "                     '庭',\n",
      "                     '宠',\n",
      "                     '物'],\n",
      " 'type': 'chain'})\n",
      "----------------------------------------------------------------------\n",
      "RunLog({'final_output': 'Answer: 柯基是一种中型家庭宠物犬',\n",
      " 'id': '8753e60f-d329-4426-bcd0-c836a6f8ebf9',\n",
      " 'logs': {'Docs': {'end_time': '2024-04-27T08:30:02.213+00:00',\n",
      "                   'final_output': {'documents': [Document(page_content='柯基犬是一种中型家庭宠物犬')]},\n",
      "                   'id': 'ee5e9345-f174-4e11-ac1f-bbb2de2921eb',\n",
      "                   'metadata': {},\n",
      "                   'name': 'Docs',\n",
      "                   'start_time': '2024-04-27T08:29:59.139+00:00',\n",
      "                   'streamed_output': [],\n",
      "                   'streamed_output_str': [],\n",
      "                   'tags': ['map:key:context', 'FAISS', 'OpenAIEmbeddings'],\n",
      "                   'type': 'retriever'}},\n",
      " 'name': 'RunnableSequence',\n",
      " 'streamed_output': ['',\n",
      "                     'Answer',\n",
      "                     ':',\n",
      "                     ' 柯',\n",
      "                     '基',\n",
      "                     '是',\n",
      "                     '一',\n",
      "                     '种',\n",
      "                     '中',\n",
      "                     '型',\n",
      "                     '家',\n",
      "                     '庭',\n",
      "                     '宠',\n",
      "                     '物',\n",
      "                     '犬'],\n",
      " 'type': 'chain'})\n",
      "----------------------------------------------------------------------\n",
      "RunLog({'final_output': 'Answer: 柯基是一种中型家庭宠物犬。',\n",
      " 'id': '8753e60f-d329-4426-bcd0-c836a6f8ebf9',\n",
      " 'logs': {'Docs': {'end_time': '2024-04-27T08:30:02.213+00:00',\n",
      "                   'final_output': {'documents': [Document(page_content='柯基犬是一种中型家庭宠物犬')]},\n",
      "                   'id': 'ee5e9345-f174-4e11-ac1f-bbb2de2921eb',\n",
      "                   'metadata': {},\n",
      "                   'name': 'Docs',\n",
      "                   'start_time': '2024-04-27T08:29:59.139+00:00',\n",
      "                   'streamed_output': [],\n",
      "                   'streamed_output_str': [],\n",
      "                   'tags': ['map:key:context', 'FAISS', 'OpenAIEmbeddings'],\n",
      "                   'type': 'retriever'}},\n",
      " 'name': 'RunnableSequence',\n",
      " 'streamed_output': ['',\n",
      "                     'Answer',\n",
      "                     ':',\n",
      "                     ' 柯',\n",
      "                     '基',\n",
      "                     '是',\n",
      "                     '一',\n",
      "                     '种',\n",
      "                     '中',\n",
      "                     '型',\n",
      "                     '家',\n",
      "                     '庭',\n",
      "                     '宠',\n",
      "                     '物',\n",
      "                     '犬',\n",
      "                     '。'],\n",
      " 'type': 'chain'})\n",
      "----------------------------------------------------------------------\n",
      "RunLog({'final_output': 'Answer: 柯基是一种中型家庭宠物犬。',\n",
      " 'id': '8753e60f-d329-4426-bcd0-c836a6f8ebf9',\n",
      " 'logs': {'Docs': {'end_time': '2024-04-27T08:30:02.213+00:00',\n",
      "                   'final_output': {'documents': [Document(page_content='柯基犬是一种中型家庭宠物犬')]},\n",
      "                   'id': 'ee5e9345-f174-4e11-ac1f-bbb2de2921eb',\n",
      "                   'metadata': {},\n",
      "                   'name': 'Docs',\n",
      "                   'start_time': '2024-04-27T08:29:59.139+00:00',\n",
      "                   'streamed_output': [],\n",
      "                   'streamed_output_str': [],\n",
      "                   'tags': ['map:key:context', 'FAISS', 'OpenAIEmbeddings'],\n",
      "                   'type': 'retriever'}},\n",
      " 'name': 'RunnableSequence',\n",
      " 'streamed_output': ['',\n",
      "                     'Answer',\n",
      "                     ':',\n",
      "                     ' 柯',\n",
      "                     '基',\n",
      "                     '是',\n",
      "                     '一',\n",
      "                     '种',\n",
      "                     '中',\n",
      "                     '型',\n",
      "                     '家',\n",
      "                     '庭',\n",
      "                     '宠',\n",
      "                     '物',\n",
      "                     '犬',\n",
      "                     '。',\n",
      "                     ''],\n",
      " 'type': 'chain'})\n"
     ]
    }
   ],
   "execution_count": 27
  },
  {
   "metadata": {},
   "cell_type": "markdown",
   "source": "# 并行支持",
   "id": "44c12ecbbda0091a"
  },
  {
   "metadata": {
    "ExecuteTime": {
     "end_time": "2024-04-27T08:31:19.847183Z",
     "start_time": "2024-04-27T08:31:19.843501Z"
    }
   },
   "cell_type": "code",
   "source": [
    "from langchain_core.runnables import RunnableParallel\n",
    "\n",
    "chain1 = ChatPromptTemplate.from_template(\"给我讲一个关于{topic}的笑话\") | model\n",
    "chain2 = ChatPromptTemplate.from_template(\"写两行关于{topic}的诗歌\") | model\n",
    "combined = RunnableParallel(joke=chain1, poem=chain2)"
   ],
   "id": "8e54101f9f14eb8",
   "outputs": [],
   "execution_count": 28
  },
  {
   "metadata": {
    "ExecuteTime": {
     "end_time": "2024-04-27T08:31:31.869874Z",
     "start_time": "2024-04-27T08:31:28.531907Z"
    }
   },
   "cell_type": "code",
   "source": [
    "%%time\n",
    "chain1.invoke({\"topic\": \"熊\"})"
   ],
   "id": "c987e5993b98171c",
   "outputs": [
    {
     "name": "stdout",
     "output_type": "stream",
     "text": [
      "CPU times: user 10.1 ms, sys: 2.24 ms, total: 12.4 ms\n",
      "Wall time: 3.33 s\n"
     ]
    },
    {
     "data": {
      "text/plain": [
       "AIMessage(content='为什么熊不喜欢雨天？\\n\\n因为它会让它的熊耳朵变得毛躁！哈哈哈！', response_metadata={'token_usage': {'completion_tokens': 45, 'prompt_tokens': 20, 'total_tokens': 65}, 'model_name': 'gpt-3.5-turbo', 'system_fingerprint': 'fp_3b956da36b', 'finish_reason': 'stop', 'logprobs': None}, id='run-1dc40995-1311-4cda-9f44-291373330123-0')"
      ]
     },
     "execution_count": 29,
     "metadata": {},
     "output_type": "execute_result"
    }
   ],
   "execution_count": 29
  },
  {
   "metadata": {
    "ExecuteTime": {
     "end_time": "2024-04-27T08:31:38.767755Z",
     "start_time": "2024-04-27T08:31:37.210255Z"
    }
   },
   "cell_type": "code",
   "source": [
    "%%time\n",
    "chain2.invoke({\"topic\": \"熊\"})"
   ],
   "id": "7866dc42bd590cc1",
   "outputs": [
    {
     "name": "stdout",
     "output_type": "stream",
     "text": [
      "CPU times: user 9.24 ms, sys: 2.55 ms, total: 11.8 ms\n",
      "Wall time: 1.55 s\n"
     ]
    },
    {
     "data": {
      "text/plain": [
       "AIMessage(content='森林深处有只熊，\\n毛茸茸的身子像棉花。', response_metadata={'token_usage': {'completion_tokens': 28, 'prompt_tokens': 20, 'total_tokens': 48}, 'model_name': 'gpt-3.5-turbo', 'system_fingerprint': 'fp_3b956da36b', 'finish_reason': 'stop', 'logprobs': None}, id='run-7a592325-626f-4038-bb68-dc2e61aa6224-0')"
      ]
     },
     "execution_count": 30,
     "metadata": {},
     "output_type": "execute_result"
    }
   ],
   "execution_count": 30
  },
  {
   "metadata": {},
   "cell_type": "markdown",
   "source": "并行执行,会执行2个链",
   "id": "76ac6013499f8715"
  },
  {
   "metadata": {
    "ExecuteTime": {
     "end_time": "2024-04-27T08:31:56.699183Z",
     "start_time": "2024-04-27T08:31:51.618556Z"
    }
   },
   "cell_type": "code",
   "source": [
    "%%time\n",
    "combined.invoke({\"topic\": \"熊\"})"
   ],
   "id": "2a926a12f68152c8",
   "outputs": [
    {
     "name": "stdout",
     "output_type": "stream",
     "text": [
      "CPU times: user 21.7 ms, sys: 3.85 ms, total: 25.5 ms\n",
      "Wall time: 5.08 s\n"
     ]
    },
    {
     "data": {
      "text/plain": [
       "{'joke': AIMessage(content='好的，这是一个关于熊的笑话：\\n\\n一只熊走进一家酒吧，他走到吧台前，对酒保说：“我想要一杯……” 但是他突然停下来，他发现他不知道喜欢什么饮料。\\n\\n于是他问酒保：“你有什么特别好喝的东西吗？”\\n\\n酒保回答：“我们这里有一种特别好喝的饮料，叫做‘熊之吻’。”\\n\\n熊非常高兴，他说：“太好了，那我要来一杯‘熊之吻’。”\\n\\n酒保给他倒了一杯饮料，熊喝了一口，然后他把杯子放在吧台上，问道：“这是什么味道？”\\n\\n酒保答道：“这是一种非常甜美的水果味道。”\\n\\n熊皱起了眉头，他说：“可我不喜欢甜的东西。”\\n\\n酒保一脸惊讶地问：“那你为什么要点‘熊之吻’呢？”\\n\\n熊回答：“我看到它上面有一只熊，我以为它是熊的吻呢！”', response_metadata={'token_usage': {'completion_tokens': 361, 'prompt_tokens': 21, 'total_tokens': 382}, 'model_name': 'gpt-3.5-turbo', 'system_fingerprint': None, 'finish_reason': 'stop', 'logprobs': None}, id='run-543190b1-0603-465f-9824-1f22ca1647da-0'),\n",
       " 'poem': AIMessage(content='森林深处有只熊，\\n毛茸茸的身影在树间穿。', response_metadata={'token_usage': {'completion_tokens': 29, 'prompt_tokens': 20, 'total_tokens': 49}, 'model_name': 'gpt-3.5-turbo', 'system_fingerprint': 'fp_3b956da36b', 'finish_reason': 'stop', 'logprobs': None}, id='run-432a35ea-3379-462e-844f-cee10d905ccd-0')}"
      ]
     },
     "execution_count": 31,
     "metadata": {},
     "output_type": "execute_result"
    }
   ],
   "execution_count": 31
  },
  {
   "metadata": {},
   "cell_type": "markdown",
   "source": "并行批处理",
   "id": "14ef83de1b1e90fd"
  },
  {
   "metadata": {
    "ExecuteTime": {
     "end_time": "2024-04-27T08:32:58.456800Z",
     "start_time": "2024-04-27T08:32:55.156339Z"
    }
   },
   "cell_type": "code",
   "source": [
    "%%time\n",
    "combined.batch([{\"topic\": \"熊\"}, {\"topic\": \"猫\"}])"
   ],
   "id": "1ba1d73118b2768",
   "outputs": [
    {
     "name": "stdout",
     "output_type": "stream",
     "text": [
      "CPU times: user 41.5 ms, sys: 8.23 ms, total: 49.8 ms\n",
      "Wall time: 3.29 s\n"
     ]
    },
    {
     "data": {
      "text/plain": [
       "[{'joke': AIMessage(content='为什么熊不喜欢在雨天出去玩耍？\\n\\n因为它怕变成“湿熊”！哈哈哈哈哈~', response_metadata={'token_usage': {'completion_tokens': 45, 'prompt_tokens': 20, 'total_tokens': 65}, 'model_name': 'gpt-3.5-turbo', 'system_fingerprint': 'fp_3b956da36b', 'finish_reason': 'stop', 'logprobs': None}, id='run-ec6f7326-f322-4c54-a11c-37510b3ad71c-0'),\n",
       "  'poem': AIMessage(content='1.\\n\\n森林深处熊徜徉，\\n蓬勃生命力不凋零。\\n\\n2.\\n\\n熊傻傻，胖墩墩，\\n抱树玩耍真可爱。', response_metadata={'token_usage': {'completion_tokens': 63, 'prompt_tokens': 21, 'total_tokens': 84}, 'model_name': 'gpt-3.5-turbo', 'system_fingerprint': None, 'finish_reason': 'stop', 'logprobs': None}, id='run-980761ae-de84-4999-8a1a-553f5e60f524-0')},\n",
       " {'joke': AIMessage(content='为什么猫不喜欢古典音乐？\\n\\n因为它们只喜欢猫步舞曲！', response_metadata={'token_usage': {'completion_tokens': 39, 'prompt_tokens': 21, 'total_tokens': 60}, 'model_name': 'gpt-3.5-turbo', 'system_fingerprint': None, 'finish_reason': 'stop', 'logprobs': None}, id='run-9be9c7de-b69b-40bd-846a-acd19286b2df-0'),\n",
       "  'poem': AIMessage(content='1. 猫儿静候，眼神灵动，轻盈的步伐，默默地追逐着梦想。\\n2. 伸懒腰，舒展身躯，猫儿优雅慵懒，宛如一幅动人的画卷。', response_metadata={'token_usage': {'completion_tokens': 95, 'prompt_tokens': 21, 'total_tokens': 116}, 'model_name': 'gpt-3.5-turbo', 'system_fingerprint': None, 'finish_reason': 'stop', 'logprobs': None}, id='run-bb9791fd-98d1-40c2-99ad-ced98ee9c41c-0')}]"
      ]
     },
     "execution_count": 32,
     "metadata": {},
     "output_type": "execute_result"
    }
   ],
   "execution_count": 32
  }
 ],
 "metadata": {
  "kernelspec": {
   "display_name": "Python 3",
   "language": "python",
   "name": "python3"
  },
  "language_info": {
   "codemirror_mode": {
    "name": "ipython",
    "version": 2
   },
   "file_extension": ".py",
   "mimetype": "text/x-python",
   "name": "python",
   "nbconvert_exporter": "python",
   "pygments_lexer": "ipython2",
   "version": "2.7.6"
  }
 },
 "nbformat": 4,
 "nbformat_minor": 5
}
