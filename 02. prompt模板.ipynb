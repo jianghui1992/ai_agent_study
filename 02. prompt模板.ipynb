{
 "cells": [
  {
   "metadata": {},
   "cell_type": "markdown",
   "source": "> 我们可以把给llm的提示词预选做成模板,实现提示词的复用,版本管理,动态变化等",
   "id": "a226788e36dab260"
  },
  {
   "metadata": {
    "ExecuteTime": {
     "end_time": "2024-04-27T00:27:23.241322Z",
     "start_time": "2024-04-27T00:27:23.233294Z"
    }
   },
   "cell_type": "code",
   "source": [
    "import os\n",
    "os.environ[\"OPENAI_KEY\"] = \"sk-bQGeRZevfQI95TPb1b1a3e80011c4f368150270f687dF163\"\n",
    "os.environ[\"OPENAI_API_BASE\"] = \"https://api.aihubmix.com/v1\""
   ],
   "id": "76f1041c909cabe2",
   "outputs": [],
   "execution_count": 1
  },
  {
   "metadata": {},
   "cell_type": "markdown",
   "source": [
    "# PromptTemplate\n",
    "普通的字符串模板"
   ],
   "id": "3a3de9f200775b41"
  },
  {
   "metadata": {
    "ExecuteTime": {
     "end_time": "2024-04-17T11:34:59.497236Z",
     "start_time": "2024-04-17T11:34:59.493218Z"
    }
   },
   "cell_type": "code",
   "source": [
    "#字符模板\n",
    "from langchain.prompts import PromptTemplate\n",
    "\n",
    "# 定义模板\n",
    "prompt = PromptTemplate.from_template(\"你是一个{name},帮我起1个具有{county}特色的{sex}名字\")\n",
    "# 使用模板生成提示词\n",
    "prompt.format(name=\"算命大师\", county=\"法国\", sex=\"女孩\")"
   ],
   "id": "62f995906b8ecb40",
   "outputs": [
    {
     "data": {
      "text/plain": [
       "'你是一个算命大师,帮我起1个具有法国特色的女孩名字'"
      ]
     },
     "execution_count": 30,
     "metadata": {},
     "output_type": "execute_result"
    }
   ],
   "execution_count": 30
  },
  {
   "metadata": {},
   "cell_type": "markdown",
   "source": [
    "# ChatPromptTemplate\n",
    "对话模型模板\n",
    " "
   ],
   "id": "80fd4f21a104dfad"
  },
  {
   "metadata": {
    "ExecuteTime": {
     "end_time": "2024-04-27T00:27:26.470757Z",
     "start_time": "2024-04-27T00:27:25.785126Z"
    }
   },
   "cell_type": "code",
   "source": [
    "# 对话模板具有结构，对应-chat models\n",
    "from langchain.prompts import ChatPromptTemplate\n",
    "\n",
    "# system,human,ai,assistant是系统的默认角色\n",
    "chat_template = ChatPromptTemplate.from_messages(\n",
    "    [\n",
    "        (\"system\", \"你是一个起名大师. 你的名字叫{name}.\"),\n",
    "        (\"human\", \"你好{name},你感觉如何？\"),\n",
    "        (\"ai\", \"你好！我状态非常好!\"),\n",
    "        (\"human\", \"你叫什么名字呢?\"),\n",
    "        (\"ai\", \"你好！我叫{name}\"),\n",
    "        (\"human\", \"{user_input}\"),\n",
    "    ]\n",
    ")\n",
    "\n",
    "chat_template.format_messages(name=\"陈大师\", user_input=\"你的父亲是谁呢?\")\n",
    "\n",
    "# 我们可以解析后的chat_template传递给大模型\n",
    "# 最后一句话就是我们的问题,之前的对话就是提供给大模型的上下文,上下文越多回答越准确"
   ],
   "id": "12f3190f6f494ac0",
   "outputs": [
    {
     "data": {
      "text/plain": [
       "[SystemMessage(content='你是一个起名大师. 你的名字叫陈大师.'),\n",
       " HumanMessage(content='你好陈大师,你感觉如何？'),\n",
       " AIMessage(content='你好！我状态非常好!'),\n",
       " HumanMessage(content='你叫什么名字呢?'),\n",
       " AIMessage(content='你好！我叫陈大师'),\n",
       " HumanMessage(content='你的父亲是谁呢?')]"
      ]
     },
     "execution_count": 2,
     "metadata": {},
     "output_type": "execute_result"
    }
   ],
   "execution_count": 2
  },
  {
   "metadata": {},
   "cell_type": "markdown",
   "source": "可以使用langchain.schema中提供的方法替代上述写法",
   "id": "6030f4708b3a845e"
  },
  {
   "metadata": {
    "ExecuteTime": {
     "end_time": "2024-04-17T11:34:59.515712Z",
     "start_time": "2024-04-17T11:34:59.509625Z"
    }
   },
   "cell_type": "code",
   "source": [
    "\n",
    "from langchain.schema import SystemMessage\n",
    "from langchain.schema import HumanMessage\n",
    "from langchain.schema import AIMessage\n",
    "\n",
    "# 直接创建消息\n",
    "sy = SystemMessage(\n",
    "    content=\"你是一个起名大师\",\n",
    "    additional_kwargs={\"大师姓名\": \"陈瞎子\"}\n",
    ")\n",
    "\n",
    "hu = HumanMessage(\n",
    "    content=\"请问大师叫什么?\"\n",
    ")\n",
    "ai = AIMessage(\n",
    "    content=\"我叫陈瞎子\"\n",
    ")\n",
    "[sy, hu, ai]\n"
   ],
   "id": "462fcdab1c7a2712",
   "outputs": [
    {
     "data": {
      "text/plain": [
       "[SystemMessage(content='你是一个起名大师', additional_kwargs={'大师姓名': '陈瞎子'}),\n",
       " HumanMessage(content='请问大师叫什么?'),\n",
       " AIMessage(content='我叫陈瞎子')]"
      ]
     },
     "execution_count": 32,
     "metadata": {},
     "output_type": "execute_result"
    }
   ],
   "execution_count": 32
  },
  {
   "metadata": {},
   "cell_type": "markdown",
   "source": "langchain帮我们把这几类角色都初始化好了,可以直接使用",
   "id": "cf6f9ff091f72c8"
  },
  {
   "metadata": {
    "ExecuteTime": {
     "end_time": "2024-04-17T11:34:59.534295Z",
     "start_time": "2024-04-17T11:34:59.528766Z"
    }
   },
   "cell_type": "code",
   "source": [
    "# langchain帮我们把这几类角色都初始化好了,可以直接使用\n",
    "from langchain.prompts import AIMessagePromptTemplate\n",
    "from langchain.prompts import SystemMessagePromptTemplate\n",
    "from langchain.prompts import HumanMessagePromptTemplate\n",
    "# 支持自定义角色\n",
    "from langchain.prompts import ChatMessagePromptTemplate\n",
    "\n",
    "prompt = \"愿{subject}与你同在！\"\n",
    "\n",
    "# ChatMessagePromptTemplate模板的作用是支持我们自定义角色\n",
    "chat_message_prompt = ChatMessagePromptTemplate.from_template(role=\"天行者\", template=prompt)\n",
    "#chat_message_prompt = AIMessagePromptTemplate.from_template(template=prompt) 默认就是AI角色\n",
    "\n",
    "chat_message_prompt.format(subject=\"原力\")"
   ],
   "id": "84c25d69b393161a",
   "outputs": [
    {
     "data": {
      "text/plain": [
       "ChatMessage(content='愿原力与你同在！', role='天行者')"
      ]
     },
     "execution_count": 33,
     "metadata": {},
     "output_type": "execute_result"
    }
   ],
   "execution_count": 33
  },
  {
   "metadata": {},
   "cell_type": "markdown",
   "source": [
    "# 自定义模板\n",
    "场景: 函数大师：根据函数名称，查找函数代码，并给出中文的代码说明"
   ],
   "id": "c69c4ec300385fe7"
  },
  {
   "metadata": {
    "ExecuteTime": {
     "end_time": "2024-04-17T11:34:59.610738Z",
     "start_time": "2024-04-17T11:34:59.603042Z"
    }
   },
   "cell_type": "code",
   "source": [
    "from langchain.prompts import StringPromptTemplate\n",
    "# py内置类,方便我们通过方法名获取方法源代码\n",
    "import inspect\n",
    "\n",
    "\n",
    "# 定义一个简单的函数作为示例效果\n",
    "def add(i, j):\n",
    "    return i + j\n",
    "\n",
    "\n",
    "PROMPT = \"\"\"\n",
    "你是一个非常有经验和天赋的程序员，现在给你如下函数名称，你会按照如下格式，输出这段代码的名称、源代码、中文解释。\n",
    "函数名称: {function_name}\n",
    "源代码: \n",
    "    {source_code}\n",
    "代码解释:\n",
    "\"\"\"\n",
    "\n",
    "\n",
    "#自定义的模板class\n",
    "# **kwargs :接收任意数量的关键字参数\n",
    "# def example_function(**kwargs):\n",
    "#     name = kwargs[\"name\"]\n",
    "#     for key, value in kwargs.items():\n",
    "#         print(key, value)\n",
    "# \n",
    "# # 调用\n",
    "# example_function(name='John', age=25, city='New York')\n",
    "\n",
    "# 这种写法表示继承\n",
    "class CustmPrompt(StringPromptTemplate):  \n",
    "\n",
    "    def format(self, **kwargs) -> str:\n",
    "        # 从参数获取\n",
    "        function_name = kwargs[\"function_name\"]\n",
    "        # 生成提示词模板\n",
    "        prompt = PROMPT.format(\n",
    "            function_name=function_name.__name__,  # __name__ 获取函数名的默认属性\n",
    "            source_code=inspect.getsource(function_name)\n",
    "        )\n",
    "        return prompt\n",
    "\n",
    "\n",
    "a = CustmPrompt(input_variables=[\"function_name\"])\n",
    "pm = a.format(function_name=add)\n",
    "\n",
    "print(pm)"
   ],
   "id": "9b1e48f82ad0f72e",
   "outputs": [
    {
     "name": "stdout",
     "output_type": "stream",
     "text": [
      "\n",
      "你是一个非常有经验和天赋的程序员，现在给你如下函数名称，你会按照如下格式，输出这段代码的名称、源代码、中文解释。\n",
      "函数名称: add\n",
      "源代码: \n",
      "    def add(i, j):\n",
      "    return i + j\n",
      "\n",
      "代码解释:\n",
      "\n"
     ]
    }
   ],
   "execution_count": 34
  },
  {
   "metadata": {
    "ExecuteTime": {
     "end_time": "2024-04-17T11:35:02.612845Z",
     "start_time": "2024-04-17T11:34:59.659910Z"
    }
   },
   "cell_type": "code",
   "source": [
    "#和LLM连接起来\n",
    "from langchain.llms import OpenAI\n",
    "import os\n",
    "\n",
    "llm = OpenAI(\n",
    "    model=\"gpt-3.5-turbo-instruct\",\n",
    "    temperature=0,\n",
    "    openai_api_key=os.getenv(\"OPENAI_KEY\"),\n",
    "    openai_api_base=os.getenv(\"OPENAI_API_BASE\")\n",
    ")\n",
    "msg = llm.invoke(pm)\n",
    "print(msg)"
   ],
   "id": "a5245f3b8e30014a",
   "outputs": [
    {
     "name": "stdout",
     "output_type": "stream",
     "text": [
      "函数名称: add\n",
      "源代码: \n",
      "    def add(i, j):\n",
      "    return i + j\n",
      "\n",
      "代码解释:\n",
      "这是一个名为add的函数，它接受两个参数i和j，并返回它们的和。\n"
     ]
    }
   ],
   "execution_count": 35
  },
  {
   "metadata": {},
   "cell_type": "markdown",
   "source": [
    "# 使用jinji2与f-string来实现提示词模板格式化\n",
    "这2都是 python支持的字符串处理工具"
   ],
   "id": "1389b4140352b59b"
  },
  {
   "metadata": {
    "ExecuteTime": {
     "end_time": "2024-04-17T11:35:02.618621Z",
     "start_time": "2024-04-17T11:35:02.614949Z"
    }
   },
   "cell_type": "code",
   "source": [
    "##f-string是python内置的一种模板引擎\n",
    "from langchain.prompts import PromptTemplate\n",
    "\n",
    "fstring_template = \"\"\"\n",
    "给我讲一个关于{name}的{what}故事\n",
    "\"\"\"\n",
    "\n",
    "prompt = PromptTemplate.from_template(fstring_template)\n",
    "print(prompt.format(name=\"翠花\", what=\"悲伤\"))"
   ],
   "id": "53628a0796d9596a",
   "outputs": [
    {
     "name": "stdout",
     "output_type": "stream",
     "text": [
      "\n",
      "给我讲一个关于翠花的悲伤故事\n",
      "\n"
     ]
    }
   ],
   "execution_count": 36
  },
  {
   "metadata": {
    "ExecuteTime": {
     "end_time": "2024-04-17T11:35:02.622840Z",
     "start_time": "2024-04-17T11:35:02.619835Z"
    }
   },
   "cell_type": "code",
   "source": "# ! pip install jinja2",
   "id": "6bfb34f77ba3eed2",
   "outputs": [],
   "execution_count": 37
  },
  {
   "metadata": {
    "ExecuteTime": {
     "end_time": "2024-04-17T11:35:02.635345Z",
     "start_time": "2024-04-17T11:35:02.627144Z"
    }
   },
   "cell_type": "code",
   "source": [
    "##Jinja2是一个灵活、高效的Python模板引擎，可以方便地生成各种标记格式的文档。\n",
    "from langchain.prompts import PromptTemplate\n",
    "## 使用2个括号来标注关键词\n",
    "jinja2_template = \"给我讲一个关于{{name}}的{{what}}故事\"\n",
    "prompt = PromptTemplate.from_template(jinja2_template, template_format=\"jinja2\")\n",
    "\n",
    "prompt.format(name=\"狗剩\", what=\"高兴\")"
   ],
   "id": "497c7a67ab4c8dca",
   "outputs": [
    {
     "data": {
      "text/plain": [
       "'给我讲一个关于狗剩的高兴故事'"
      ]
     },
     "execution_count": 38,
     "metadata": {},
     "output_type": "execute_result"
    }
   ],
   "execution_count": 38
  },
  {
   "metadata": {},
   "cell_type": "markdown",
   "source": [
    "# 组合式提示词模板\n",
    "> 针对一些提示词比较复杂的场景,我们可以把提示词做拆分,然后合并\n",
    "- Final prompt: 最终返回的提示词模板\n",
    "- Pipeline prompts：组成提示词管道的模板"
   ],
   "id": "97213e8460b27f5b"
  },
  {
   "metadata": {},
   "cell_type": "markdown",
   "source": "* 三层提示词设计",
   "id": "9ffafcc949d33404"
  },
  {
   "metadata": {
    "ExecuteTime": {
     "end_time": "2024-04-17T11:35:11.710280Z",
     "start_time": "2024-04-17T11:35:11.707128Z"
    }
   },
   "cell_type": "code",
   "source": [
    "from langchain.prompts.pipeline import PipelinePromptTemplate\n",
    "from langchain.prompts.prompt import PromptTemplate\n",
    "\n",
    "# Final Prompt由一系列变量构成\n",
    "full_template = \"\"\"\n",
    "{Character}\n",
    "{behavior}\n",
    "{prohibit}\"\"\"\n",
    "full_prompt = PromptTemplate.from_template(full_template)"
   ],
   "id": "447d3f2338430352",
   "outputs": [],
   "execution_count": 44
  },
  {
   "metadata": {},
   "cell_type": "markdown",
   "source": "* 定义每一层的提示词模板",
   "id": "5fd31e7968e29afc"
  },
  {
   "metadata": {
    "ExecuteTime": {
     "end_time": "2024-04-17T11:35:14.704219Z",
     "start_time": "2024-04-17T11:35:14.700715Z"
    }
   },
   "cell_type": "code",
   "source": [
    "# 第一层基本性格设计\n",
    "Character_template = \"\"\"你是{person}，你有着{character}.\"\"\"\n",
    "Character_prompt = PromptTemplate.from_template(Character_template)\n",
    "\n",
    "# 第二层行为设计\n",
    "behavior_template = \"\"\"你遵从以下的行为:\n",
    "{behavior_list}\"\"\"\n",
    "behavior_prompt = PromptTemplate.from_template(behavior_template)\n",
    "\n",
    "# 第三层不允许的行为\n",
    "prohibit_template = \"\"\"你不允许有以下行为:\n",
    "{prohibit_list}\"\"\"\n",
    "prohibit_prompt = PromptTemplate.from_template(prohibit_template)"
   ],
   "id": "f99010196a2c8f71",
   "outputs": [],
   "execution_count": 45
  },
  {
   "metadata": {},
   "cell_type": "markdown",
   "source": "- 将三层提示称组合起来",
   "id": "2cf759ed699333ad"
  },
  {
   "metadata": {
    "ExecuteTime": {
     "end_time": "2024-04-17T11:35:17.506317Z",
     "start_time": "2024-04-17T11:35:17.503123Z"
    }
   },
   "cell_type": "code",
   "source": [
    "input_prompts = [\n",
    "    (\"Character\", Character_prompt),\n",
    "    (\"behavior\", behavior_prompt),\n",
    "    (\"prohibit\", prohibit_prompt)\n",
    "]\n",
    "pipeline_prompt = PipelinePromptTemplate(final_prompt=full_prompt, pipeline_prompts=input_prompts)"
   ],
   "id": "8cbc841ba04f45e5",
   "outputs": [],
   "execution_count": 46
  },
  {
   "metadata": {},
   "cell_type": "markdown",
   "source": "- 打印下组合后模板里的可传递参数",
   "id": "2060819170a3ca08"
  },
  {
   "metadata": {
    "ExecuteTime": {
     "end_time": "2024-04-17T11:35:20.106596Z",
     "start_time": "2024-04-17T11:35:20.102042Z"
    }
   },
   "cell_type": "code",
   "source": "pipeline_prompt.input_variables",
   "id": "a914fceadc9f81ae",
   "outputs": [
    {
     "data": {
      "text/plain": [
       "['person', 'behavior_list', 'character', 'prohibit_list']"
      ]
     },
     "execution_count": 47,
     "metadata": {},
     "output_type": "execute_result"
    }
   ],
   "execution_count": 47
  },
  {
   "metadata": {},
   "cell_type": "markdown",
   "source": "- 调用组合后的提示词模板",
   "id": "b5fb965d71bfb7d3"
  },
  {
   "metadata": {
    "ExecuteTime": {
     "end_time": "2024-04-17T11:35:47.077570Z",
     "start_time": "2024-04-17T11:35:47.073403Z"
    }
   },
   "cell_type": "code",
   "source": [
    "pm = pipeline_prompt.format(\n",
    "    person=\"埃隆马斯克\",\n",
    "    character=\"钢铁般的意志，你是世界首富，精通物理、天文、商业，你是商业奇才，你的终极梦想是殖民火星.\",\n",
    "    behavior_list=\" 1.你喜欢冒险 \\n 2.你非常崇拜爱因斯坦 \\n 3.你总是乐于助人，回答用户各种问题.\",\n",
    "    prohibit_list=\" 1.你不可以说自己是一个人工智能助手或者机器人 \\n 2.当你不知道答案的时候，可以说让我再想想. \"\n",
    ")\n",
    "print(pm)"
   ],
   "id": "f528f5893ad4dd23",
   "outputs": [
    {
     "name": "stdout",
     "output_type": "stream",
     "text": [
      "\n",
      "你是埃隆马斯克，你有着钢铁般的意志，你是世界首富，精通物理、天文、商业，你是商业奇才，你的终极梦想是殖民火星..\n",
      "你遵从以下的行为:\n",
      " 1.你喜欢冒险 \n",
      " 2.你非常崇拜爱因斯坦 \n",
      " 3.你总是乐于助人，回答用户各种问题.\n",
      "你不允许有以下行为:\n",
      " 1.你不可以说自己是一个人工智能助手或者机器人 \n",
      " 2.当你不知道答案的时候，可以说让我再想想. \n"
     ]
    }
   ],
   "execution_count": 49
  },
  {
   "metadata": {},
   "cell_type": "markdown",
   "source": [
    "# 序列化：使用文件来管理提示词模板\n",
    "\n",
    "- 便于共享\n",
    "- 便于版本管理\n",
    "- 便于存储\n",
    "- 支持常见格式(json/yaml/txt)"
   ],
   "id": "ddb48047bd22589b"
  },
  {
   "metadata": {},
   "cell_type": "markdown",
   "source": "## yarn格式支持",
   "id": "1c4be8a8ef58463d"
  },
  {
   "metadata": {
    "ExecuteTime": {
     "end_time": "2024-04-19T13:02:36.188907Z",
     "start_time": "2024-04-19T13:02:35.237187Z"
    }
   },
   "cell_type": "code",
   "source": "from langchain.prompts import load_prompt",
   "id": "b1d4f4eff4293926",
   "outputs": [],
   "execution_count": 2
  },
  {
   "metadata": {
    "ExecuteTime": {
     "end_time": "2024-04-19T13:02:37.003257Z",
     "start_time": "2024-04-19T13:02:36.998157Z"
    }
   },
   "cell_type": "code",
   "source": [
    "#加载yaml格式的prompt模版\n",
    "prompt = load_prompt(\"testfile/simple_prompt.yaml\")\n",
    "print(prompt.format(name=\"小黑\",what=\"恐怖的\"))"
   ],
   "id": "397b386fe83348e5",
   "outputs": [
    {
     "name": "stdout",
     "output_type": "stream",
     "text": [
      "给我讲一个关于小黑的恐怖的故事\n"
     ]
    }
   ],
   "execution_count": 3
  },
  {
   "metadata": {},
   "cell_type": "markdown",
   "source": "## json格式支持",
   "id": "743c7901a2f79c82"
  },
  {
   "metadata": {
    "ExecuteTime": {
     "end_time": "2024-04-19T13:02:39.370514Z",
     "start_time": "2024-04-19T13:02:39.366715Z"
    }
   },
   "cell_type": "code",
   "source": [
    "#加载json格式的prompt模版\n",
    "prompt = load_prompt(\"testfile/simple_prompt.json\")\n",
    "print(prompt.format(name=\"小红\",what=\"搞笑的\"))"
   ],
   "id": "a6877d8ab1500d00",
   "outputs": [
    {
     "name": "stdout",
     "output_type": "stream",
     "text": [
      "给我讲一个关于小红的搞笑的故事\n"
     ]
    }
   ],
   "execution_count": 4
  },
  {
   "metadata": {},
   "cell_type": "code",
   "outputs": [],
   "execution_count": null,
   "source": "",
   "id": "92acd54bc496c29a"
  }
 ],
 "metadata": {
  "kernelspec": {
   "display_name": "Python 3",
   "language": "python",
   "name": "python3"
  },
  "language_info": {
   "codemirror_mode": {
    "name": "ipython",
    "version": 2
   },
   "file_extension": ".py",
   "mimetype": "text/x-python",
   "name": "python",
   "nbconvert_exporter": "python",
   "pygments_lexer": "ipython2",
   "version": "2.7.6"
  }
 },
 "nbformat": 4,
 "nbformat_minor": 5
}
