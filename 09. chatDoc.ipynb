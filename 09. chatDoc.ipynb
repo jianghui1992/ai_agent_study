{
 "cells": [
  {
   "metadata": {
    "ExecuteTime": {
     "end_time": "2024-04-20T09:18:23.680524Z",
     "start_time": "2024-04-20T09:18:23.669803Z"
    }
   },
   "cell_type": "code",
   "source": [
    "import os\n",
    "from dotenv import load_dotenv\n",
    "\n",
    "# Load environment variables from openai.env file\n",
    "load_dotenv(\"openai.env\")\n",
    "# Read the OPENAI_API_KEY from the environment\n",
    "api_key = os.getenv(\"OPENAI_API_KEY\")\n",
    "api_base = os.getenv(\"OPENAI_API_BASE\")\n",
    "# os.environ[\"OPENAI_API_KEY\"] = api_key\n",
    "# os.environ[\"OPENAI_API_BASE\"] = api_base"
   ],
   "id": "ca050998e2bf1b66",
   "outputs": [],
   "execution_count": 9
  },
  {
   "metadata": {},
   "cell_type": "markdown",
   "source": [
    "# ChatDoc:又一个智能文档助手\n",
    "\n",
    "- 读取pdf、excel、doc三种常见的文档格式\n",
    "- 根据文档内容，智能抽取内容并输出相应格式\n",
    "<hr>"
   ],
   "id": "bd55df4c1e58a220"
  },
  {
   "metadata": {},
   "cell_type": "code",
   "source": [
    "#安装必须的包\n",
    "# 处理doc文档的包\n",
    "! pip install docx2txt\n",
    "# 处理pdf的包\n",
    "! pip install pypdf\n",
    "! pip install nltk"
   ],
   "id": "c1152b67aa009df6",
   "outputs": [],
   "execution_count": null
  },
  {
   "metadata": {},
   "cell_type": "markdown",
   "source": "## 文档加载切割",
   "id": "613a4ac67c407eac"
  },
  {
   "metadata": {
    "ExecuteTime": {
     "end_time": "2024-04-20T09:10:56.047356Z",
     "start_time": "2024-04-20T09:10:56.028881Z"
    }
   },
   "cell_type": "code",
   "source": [
    "#导入必须的包\n",
    "from langchain.document_loaders import UnstructuredExcelLoader, Docx2txtLoader, PyPDFLoader\n",
    "from langchain.text_splitter import CharacterTextSplitter\n",
    "\n",
    "\n",
    "#定义chatdoc\n",
    "class ChatDoc():\n",
    "    def __init__(self, doc):\n",
    "        self.doc = doc\n",
    "        self.splitText = []  #分割后的文本\n",
    "\n",
    "    # 文档加载\n",
    "    def getFile(self):\n",
    "        doc = self.doc\n",
    "        loaders = {\n",
    "            \"docx\": Docx2txtLoader,\n",
    "            \"pdf\": PyPDFLoader,\n",
    "            \"xlsx\": UnstructuredExcelLoader,\n",
    "        }\n",
    "        file_extension = doc.split(\".\")[-1]\n",
    "        loader_class = loaders.get(file_extension)\n",
    "        if loader_class:\n",
    "            try:\n",
    "                loader = loader_class(doc)\n",
    "                text = loader.load()\n",
    "                return text\n",
    "            except Exception as e:\n",
    "                print(f\"Error loading {file_extension} files:{e}\")\n",
    "                return None\n",
    "        else:\n",
    "            print(f\"Unsupported file extension: {file_extension}\")\n",
    "            return None\n",
    "\n",
    "    #处理文档的函数\n",
    "    def splitSentences(self):\n",
    "        full_text = self.getFile()  #获取文档内容\n",
    "        if full_text != None:\n",
    "            #对文档进行分割\n",
    "            text_split = CharacterTextSplitter(\n",
    "                chunk_size=150,\n",
    "                chunk_overlap=20,\n",
    "            )\n",
    "            texts = text_split.split_documents(full_text)\n",
    "            self.splitText = texts\n",
    "\n",
    "\n",
    "chat_doc = ChatDoc(doc=\"testfile/loader.docx\")\n",
    "chat_doc.splitSentences()\n",
    "chat_doc.splitText"
   ],
   "id": "fa87780229a8216c",
   "outputs": [
    {
     "data": {
      "text/plain": [
       "[Document(page_content='一、公司基本信息\\n\\n名称：宏图科技发展有限公司\\n\\n注册地址：江苏省南京市雨花台区软件大道101号\\n\\n成立日期：2011年5月16日\\n\\n法定代表人：李强\\n\\n注册资本：人民币5000万元\\n\\n员工人数：约200人\\n\\n联系电话：025-88888888\\n\\n电子邮箱：info@hongtutech.cn', metadata={'source': 'testfile/loader.docx'}),\n",
       " Document(page_content='二、财务状况概述\\n\\n截至2023年第一季度，宏图科技发展有限公司财务状况堪忧，具体情况如下：\\n\\n1. 资产总额：人民币1.2亿元，较上年同期下降30%。\\n\\n2. 负债总额：人民币1.8亿元，较上年同期上升50%，资不抵债。\\n\\n3. 营业收入：人民币3000万元，较上年同期下降60%。', metadata={'source': 'testfile/loader.docx'}),\n",
       " Document(page_content='4. 净利润：亏损人民币800万元，去年同期为盈利人民币200万元。\\n\\n5. 现金流量：公司现金流量紧张，现金及现金等价物余额为人民币500万元，难以支撑日常运营。\\n\\n6. 存货：存货积压严重，库存商品价值约为人民币400万元，大部分产品滞销。', metadata={'source': 'testfile/loader.docx'}),\n",
       " Document(page_content='7. 应收账款：应收账款高达人民币600万元，回收难度大，坏账准备不足。\\n\\n三、主营业务及市场状况\\n\\n宏图科技发展有限公司主要从事计算机软件的研发与销售。近年来，由于市场竞争加剧、技术更新换代速度快和管理层决策失误等原因，公司主营业务收入持续下降。目前，公司面临的主要问题有：', metadata={'source': 'testfile/loader.docx'}),\n",
       " Document(page_content='1. 产品同质化严重，缺乏核心竞争力。\\n\\n2. 新产品开发进度缓慢，未能及时抓住市场需求变化。\\n\\n3. 市场营销策略不当，导致市场份额大幅缩水。\\n\\n4. 行业内新兴企业崛起迅速，原有客户流失严重。\\n\\n四、债权债务情况\\n\\n宏图科技发展有限公司目前面临的债务问题严峻，具体情况如下：', metadata={'source': 'testfile/loader.docx'}),\n",
       " Document(page_content='1. 银行贷款：公司向多家银行贷款总额达人民币1亿元，部分贷款已逾期未还。\\n\\n2. 供应商欠款：因现金流紧张，公司拖欠供应商货款达人民币300万元。\\n\\n3. 员工工资及社保：由于资金链断裂，公司拖欠员工工资及社保费用共计人民币200万元。', metadata={'source': 'testfile/loader.docx'}),\n",
       " Document(page_content='4. 其他应付款项：包括税费、租赁费用等其他应付款项累计约人民币100万元。\\n\\n五、资产清单\\n\\n宏图科技发展有限公司目前拥有的主要资产包括：\\n\\n1. 固定资产：公司办公用房和设备原值合计人民币800万元，累计折旧约400万元。', metadata={'source': 'testfile/loader.docx'}),\n",
       " Document(page_content='2. 无形资产：包括软件著作权、专利权等无形资产原值合计人民币300万元。\\n\\n3. 存货资产：存货包括已完成软件产品和半成品，价值约为人民币400万元。\\n\\n4. 应收账款：主要包括对外销售软件的应收账款合计人民币600万元。\\n\\n六、潜在风险及预警', metadata={'source': 'testfile/loader.docx'}),\n",
       " Document(page_content='六、潜在风险及预警\\n\\n1. 经营风险：由于连续亏损，公司可能面临破产清算的风险。\\n\\n2. 债务风险：负债累累，若短期内无法筹措足够资金偿还债务，可能面临诉讼或资产被查封的风险。\\n\\n3. 市场风险：行业竞争加剧和市场需求不明朗，可能导致公司未来业绩继续恶化。', metadata={'source': 'testfile/loader.docx'}),\n",
       " Document(page_content='4. 法律风险：因未能按时支付债务和相关费用，可能面临相关法律诉讼或处罚。\\n\\n七、结论与建议', metadata={'source': 'testfile/loader.docx'}),\n",
       " Document(page_content='七、结论与建议\\n\\n综上所述，宏图科技发展有限公司目前处于财务困境之中，若无外部资金注入或业务转型成功，短期内难以扭转局势。对于不良资产收购方来说，在考虑收购宏图科技的相关资产前，建议进行深入的尽职调查，并制定详细的风险控制和资产处置方案。同时，在估值时应充分考虑到公司所面临的各种潜在风险和清收难度。', metadata={'source': 'testfile/loader.docx'}),\n",
       " Document(page_content='报告撰写日期：2023年4月20日', metadata={'source': 'testfile/loader.docx'})]"
      ]
     },
     "execution_count": 7,
     "metadata": {},
     "output_type": "execute_result"
    }
   ],
   "execution_count": 7
  },
  {
   "metadata": {},
   "cell_type": "markdown",
   "source": "## 向量化与向量存储",
   "id": "c7323ad652526fc7"
  },
  {
   "metadata": {
    "ExecuteTime": {
     "end_time": "2024-04-20T09:19:14.644087Z",
     "start_time": "2024-04-20T09:19:12.814623Z"
    }
   },
   "cell_type": "code",
   "source": [
    "from langchain_community.vectorstores import Chroma\n",
    "from langchain_openai import OpenAIEmbeddings  #向量化与向量存储\n",
    "\n",
    "\n",
    "#向量化与向量存储\n",
    "def embedding_and_vectordb(chat_doc):\n",
    "    embeddings = OpenAIEmbeddings()\n",
    "    db = Chroma.from_documents(\n",
    "        documents=chat_doc.splitText,\n",
    "        embedding=embeddings,\n",
    "    )\n",
    "    return db\n",
    "\n",
    "\n",
    "emb = embedding_and_vectordb(chat_doc);\n",
    "print(emb);"
   ],
   "id": "3bc403c7066fa7ac",
   "outputs": [
    {
     "name": "stdout",
     "output_type": "stream",
     "text": [
      "<langchain_community.vectorstores.chroma.Chroma object at 0x13a5841d0>\n"
     ]
    }
   ],
   "execution_count": 12
  },
  {
   "metadata": {},
   "cell_type": "markdown",
   "source": "## 索引并使用自然语言找出相关的文本块",
   "id": "dd5041bd3244fb7"
  },
  {
   "metadata": {
    "ExecuteTime": {
     "end_time": "2024-04-20T09:23:25.144597Z",
     "start_time": "2024-04-20T09:23:21.636925Z"
    }
   },
   "cell_type": "code",
   "source": [
    " #提问并找到相关的文本块\n",
    "def ask_and_find_files(chat_doc, question):\n",
    "    db = embedding_and_vectordb(chat_doc)\n",
    "    retriever = db.as_retriever()\n",
    "    results = retriever.invoke(question)\n",
    "    return results\n",
    "\n",
    "\n",
    "chat_doc = ChatDoc(doc=\"testfile/loader.docx\")\n",
    "chat_doc.splitSentences()\n",
    "ask_and_find_files(chat_doc, \"这家公司叫什么名字?\")\n",
    "# 可以看到检索结果不精准,返回了很多, 所以需要优化检索,提高检索精确度"
   ],
   "id": "7876ba82b68dc54",
   "outputs": [
    {
     "data": {
      "text/plain": [
       "[Document(page_content='一、公司基本信息\\n\\n名称：宏图科技发展有限公司\\n\\n注册地址：江苏省南京市雨花台区软件大道101号\\n\\n成立日期：2011年5月16日\\n\\n法定代表人：李强\\n\\n注册资本：人民币5000万元\\n\\n员工人数：约200人\\n\\n联系电话：025-88888888\\n\\n电子邮箱：info@hongtutech.cn', metadata={'source': 'testfile/loader.docx'}),\n",
       " Document(page_content='一、公司基本信息\\n\\n名称：宏图科技发展有限公司\\n\\n注册地址：江苏省南京市雨花台区软件大道101号\\n\\n成立日期：2011年5月16日\\n\\n法定代表人：李强\\n\\n注册资本：人民币5000万元\\n\\n员工人数：约200人\\n\\n联系电话：025-88888888\\n\\n电子邮箱：info@hongtutech.cn', metadata={'source': 'testfile/loader.docx'}),\n",
       " Document(page_content='一、公司基本信息\\n\\n名称：宏图科技发展有限公司\\n\\n注册地址：江苏省南京市雨花台区软件大道101号\\n\\n成立日期：2011年5月16日\\n\\n法定代表人：李强\\n\\n注册资本：人民币5000万元\\n\\n员工人数：约200人\\n\\n联系电话：025-88888888\\n\\n电子邮箱：info@hongtutech.cn', metadata={'source': 'testfile/loader.docx'}),\n",
       " Document(page_content='一、公司基本信息\\n\\n名称：宏图科技发展有限公司\\n\\n注册地址：江苏省南京市雨花台区软件大道101号\\n\\n成立日期：2011年5月16日\\n\\n法定代表人：李强\\n\\n注册资本：人民币5000万元\\n\\n员工人数：约200人\\n\\n联系电话：025-88888888\\n\\n电子邮箱：info@hongtutech.cn', metadata={'source': 'testfile/loader.docx'})]"
      ]
     },
     "execution_count": 15,
     "metadata": {},
     "output_type": "execute_result"
    }
   ],
   "execution_count": 15
  },
  {
   "metadata": {},
   "cell_type": "markdown",
   "source": "# 检索优化",
   "id": "155ccbeb6e6ac92c"
  },
  {
   "metadata": {},
   "cell_type": "markdown",
   "source": "## 使用多重查询提高文档检索精确度",
   "id": "8442cfdf1d0c4bc5"
  },
  {
   "metadata": {
    "ExecuteTime": {
     "end_time": "2024-04-20T09:28:29.215885Z",
     "start_time": "2024-04-20T09:28:24.299144Z"
    }
   },
   "cell_type": "code",
   "source": [
    "from langchain.chat_models import ChatOpenAI\n",
    "from langchain.retrievers.multi_query import MultiQueryRetriever\n",
    "\n",
    "\n",
    "def ask_and_find_files(chat_doc, question):\n",
    "    db = embedding_and_vectordb(chat_doc)\n",
    "    retriever = db.as_retriever()\n",
    "    #把问题交给LLM进行多角度的扩展\n",
    "    llm = ChatOpenAI(temperature=0)\n",
    "    retriever_from_llm = MultiQueryRetriever.from_llm(\n",
    "        retriever=retriever,\n",
    "        llm=llm,\n",
    "    )\n",
    "    return retriever_from_llm.get_relevant_documents(question)\n",
    "\n",
    "\n",
    "chat_doc = ChatDoc(doc=\"testfile/loader.docx\")\n",
    "chat_doc.splitSentences()\n",
    "#设置下logging查看生成查询\n",
    "import logging\n",
    "\n",
    "logging.basicConfig(level=logging.INFO)\n",
    "# 大模型会从不同角度将该问题扩展为多个不同的问题,然后从检索会获得多个答案 ,然后会选择多个答案中重复出现的答案作为最终结果返回\n",
    "logging.getLogger(\"langchain.retrievers.multi_query\").setLevel(logging.DEBUG)\n",
    "ask_and_find_files(chat_doc, \"这家公司叫什么名字?\")\n",
    "# 可以看到检索结果不精准,返回了很多, 所以需要优化检索,提高检索精确度"
   ],
   "id": "3172ca441ceaa52a",
   "outputs": [
    {
     "name": "stderr",
     "output_type": "stream",
     "text": [
      "INFO:httpx:HTTP Request: POST https://api.aihubmix.com/v1/embeddings \"HTTP/1.1 200 OK\"\n",
      "/Users/jianghui/PycharmProjects/ai_agent_study/venv/lib/python3.11/site-packages/langchain_core/_api/deprecation.py:117: LangChainDeprecationWarning: The class `langchain_community.chat_models.openai.ChatOpenAI` was deprecated in langchain-community 0.0.10 and will be removed in 0.2.0. An updated version of the class exists in the langchain-openai package and should be used instead. To use it run `pip install -U langchain-openai` and import as `from langchain_openai import ChatOpenAI`.\n",
      "  warn_deprecated(\n",
      "INFO:httpx:HTTP Request: POST https://api.aihubmix.com/v1/chat/completions \"HTTP/1.1 200 OK\"\n",
      "INFO:langchain.retrievers.multi_query:Generated queries: ['1. 请问这个企业的名称是什么？', '2. 你知道这家公司的名字是什么吗？', '3. 可以告诉我这个公司的名称吗？']\n",
      "INFO:httpx:HTTP Request: POST https://api.aihubmix.com/v1/embeddings \"HTTP/1.1 200 OK\"\n",
      "INFO:httpx:HTTP Request: POST https://api.aihubmix.com/v1/embeddings \"HTTP/1.1 200 OK\"\n",
      "INFO:httpx:HTTP Request: POST https://api.aihubmix.com/v1/embeddings \"HTTP/1.1 200 OK\"\n"
     ]
    },
    {
     "data": {
      "text/plain": [
       "[Document(page_content='一、公司基本信息\\n\\n名称：宏图科技发展有限公司\\n\\n注册地址：江苏省南京市雨花台区软件大道101号\\n\\n成立日期：2011年5月16日\\n\\n法定代表人：李强\\n\\n注册资本：人民币5000万元\\n\\n员工人数：约200人\\n\\n联系电话：025-88888888\\n\\n电子邮箱：info@hongtutech.cn', metadata={'source': 'testfile/loader.docx'})]"
      ]
     },
     "execution_count": 18,
     "metadata": {},
     "output_type": "execute_result"
    }
   ],
   "execution_count": 18
  },
  {
   "metadata": {},
   "cell_type": "markdown",
   "source": [
    "## 使用上下文压缩检索降低冗余信息\n",
    "1. 先使用向量数据库检索\n",
    "2. 把问题和结果调用大模型做压缩,剔除不相关的内容,然后返回"
   ],
   "id": "c4eeb5a2edb2ee06"
  },
  {
   "metadata": {},
   "cell_type": "markdown",
   "source": "![111](contextual_compression.png)",
   "id": "1c7cce1d3fe05d0f"
  },
  {
   "metadata": {
    "ExecuteTime": {
     "end_time": "2024-04-20T09:39:06.675032Z",
     "start_time": "2024-04-20T09:38:57.239937Z"
    }
   },
   "cell_type": "code",
   "source": [
    "from langchain.retrievers import ContextualCompressionRetriever\n",
    "from langchain.retrievers.document_compressors import LLMChainExtractor\n",
    "from langchain.chat_models import ChatOpenAI\n",
    "from langchain.retrievers.multi_query import MultiQueryRetriever\n",
    "\n",
    "\n",
    "def ask_and_find_files(chat_doc, question):\n",
    "    db = embedding_and_vectordb(chat_doc)\n",
    "    retriever = db.as_retriever()\n",
    "    #把问题交给LLM进行多角度的扩展\n",
    "    llm = ChatOpenAI(temperature=0)\n",
    "    compressor = LLMChainExtractor.from_llm(llm=llm)\n",
    "    compressor_retriever = ContextualCompressionRetriever(base_retriever=retriever, base_compressor=compressor)\n",
    "    return compressor_retriever.get_relevant_documents(query=question)\n",
    "\n",
    "\n",
    "chat_doc = ChatDoc(doc=\"testfile/loader.docx\")\n",
    "chat_doc.splitSentences()\n",
    "ask_and_find_files(chat_doc, \"这家公司注册地点在哪里?\")\n",
    "# ask_and_find_files(chat_doc, \"这家公司负债多少?\")"
   ],
   "id": "f4266dcc0b3eca25",
   "outputs": [
    {
     "name": "stderr",
     "output_type": "stream",
     "text": [
      "INFO:httpx:HTTP Request: POST https://api.aihubmix.com/v1/embeddings \"HTTP/1.1 200 OK\"\n",
      "INFO:httpx:HTTP Request: POST https://api.aihubmix.com/v1/embeddings \"HTTP/1.1 200 OK\"\n",
      "/Users/jianghui/PycharmProjects/ai_agent_study/venv/lib/python3.11/site-packages/langchain/chains/llm.py:316: UserWarning: The predict_and_parse method is deprecated, instead pass an output parser directly to LLMChain.\n",
      "  warnings.warn(\n",
      "INFO:httpx:HTTP Request: POST https://api.aihubmix.com/v1/chat/completions \"HTTP/1.1 200 OK\"\n",
      "/Users/jianghui/PycharmProjects/ai_agent_study/venv/lib/python3.11/site-packages/langchain/chains/llm.py:316: UserWarning: The predict_and_parse method is deprecated, instead pass an output parser directly to LLMChain.\n",
      "  warnings.warn(\n",
      "INFO:httpx:HTTP Request: POST https://api.aihubmix.com/v1/chat/completions \"HTTP/1.1 200 OK\"\n",
      "/Users/jianghui/PycharmProjects/ai_agent_study/venv/lib/python3.11/site-packages/langchain/chains/llm.py:316: UserWarning: The predict_and_parse method is deprecated, instead pass an output parser directly to LLMChain.\n",
      "  warnings.warn(\n",
      "INFO:httpx:HTTP Request: POST https://api.aihubmix.com/v1/chat/completions \"HTTP/1.1 200 OK\"\n",
      "/Users/jianghui/PycharmProjects/ai_agent_study/venv/lib/python3.11/site-packages/langchain/chains/llm.py:316: UserWarning: The predict_and_parse method is deprecated, instead pass an output parser directly to LLMChain.\n",
      "  warnings.warn(\n",
      "INFO:httpx:HTTP Request: POST https://api.aihubmix.com/v1/chat/completions \"HTTP/1.1 200 OK\"\n"
     ]
    },
    {
     "data": {
      "text/plain": [
       "[Document(page_content='注册地址：江苏省南京市雨花台区软件大道101号', metadata={'source': 'testfile/loader.docx'}),\n",
       " Document(page_content='注册地址：江苏省南京市雨花台区软件大道101号', metadata={'source': 'testfile/loader.docx'}),\n",
       " Document(page_content='注册地址：江苏省南京市雨花台区软件大道101号', metadata={'source': 'testfile/loader.docx'}),\n",
       " Document(page_content='注册地址：江苏省南京市雨花台区软件大道101号', metadata={'source': 'testfile/loader.docx'})]"
      ]
     },
     "execution_count": 23,
     "metadata": {},
     "output_type": "execute_result"
    }
   ],
   "execution_count": 23
  },
  {
   "metadata": {},
   "cell_type": "markdown",
   "source": "## 在向量存储里使用最大边际相似性（MMR）和相似性打分",
   "id": "f53ff9f367d1eaa4"
  },
  {
   "metadata": {
    "ExecuteTime": {
     "end_time": "2024-04-20T09:40:46.442229Z",
     "start_time": "2024-04-20T09:40:44.242397Z"
    }
   },
   "cell_type": "code",
   "source": [
    "from langchain.retrievers import ContextualCompressionRetriever\n",
    "from langchain.retrievers.document_compressors import LLMChainExtractor\n",
    "from langchain.chat_models import ChatOpenAI\n",
    "from langchain.retrievers.multi_query import MultiQueryRetriever\n",
    "\n",
    "\n",
    "def ask_and_find_files(chat_doc, question):\n",
    "    db = embedding_and_vectordb(chat_doc)\n",
    "    retriever = db.as_retriever(search_type=\"mmr\")\n",
    "    # retriever = db.as_retriever(search_type=\"similarity_score_threshold\", search_kwargs={\"score_threshold\": .1, \"k\": 1})\n",
    "    return retriever.get_relevant_documents(query=question)\n",
    "\n",
    "\n",
    "chat_doc = ChatDoc(doc=\"testfile/loader.docx\")\n",
    "chat_doc.splitSentences()\n",
    "# ask_and_find_files(chat_doc, \"这家公司注册地点在哪里?\")\n",
    "ask_and_find_files(chat_doc, \"这家公司负债多少?\")"
   ],
   "id": "26a2cb673e5d19e1",
   "outputs": [
    {
     "name": "stderr",
     "output_type": "stream",
     "text": [
      "INFO:httpx:HTTP Request: POST https://api.aihubmix.com/v1/embeddings \"HTTP/1.1 200 OK\"\n",
      "INFO:httpx:HTTP Request: POST https://api.aihubmix.com/v1/embeddings \"HTTP/1.1 200 OK\"\n"
     ]
    },
    {
     "data": {
      "text/plain": [
       "[Document(page_content='1. 银行贷款：公司向多家银行贷款总额达人民币1亿元，部分贷款已逾期未还。\\n\\n2. 供应商欠款：因现金流紧张，公司拖欠供应商货款达人民币300万元。\\n\\n3. 员工工资及社保：由于资金链断裂，公司拖欠员工工资及社保费用共计人民币200万元。', metadata={'source': 'testfile/loader.docx'}),\n",
       " Document(page_content='1. 银行贷款：公司向多家银行贷款总额达人民币1亿元，部分贷款已逾期未还。\\n\\n2. 供应商欠款：因现金流紧张，公司拖欠供应商货款达人民币300万元。\\n\\n3. 员工工资及社保：由于资金链断裂，公司拖欠员工工资及社保费用共计人民币200万元。', metadata={'source': 'testfile/loader.docx'}),\n",
       " Document(page_content='1. 银行贷款：公司向多家银行贷款总额达人民币1亿元，部分贷款已逾期未还。\\n\\n2. 供应商欠款：因现金流紧张，公司拖欠供应商货款达人民币300万元。\\n\\n3. 员工工资及社保：由于资金链断裂，公司拖欠员工工资及社保费用共计人民币200万元。', metadata={'source': 'testfile/loader.docx'}),\n",
       " Document(page_content='4. 净利润：亏损人民币800万元，去年同期为盈利人民币200万元。\\n\\n5. 现金流量：公司现金流量紧张，现金及现金等价物余额为人民币500万元，难以支撑日常运营。\\n\\n6. 存货：存货积压严重，库存商品价值约为人民币400万元，大部分产品滞销。', metadata={'source': 'testfile/loader.docx'})]"
      ]
     },
     "execution_count": 26,
     "metadata": {},
     "output_type": "execute_result"
    }
   ],
   "execution_count": 26
  },
  {
   "metadata": {},
   "cell_type": "markdown",
   "source": [
    "# 和文件聊天\n",
    "\n",
    "- 先使用本地向量数据库选择出相关的上下文\n",
    "- 将问题和相关上下文传递给大模型,大模型会根据上下文返回答案"
   ],
   "id": "a0e74cff41d87485"
  },
  {
   "metadata": {
    "ExecuteTime": {
     "end_time": "2024-04-20T09:45:04.914474Z",
     "start_time": "2024-04-20T09:44:58.120872Z"
    }
   },
   "cell_type": "code",
   "source": [
    "#导入必须的包\n",
    "from langchain.document_loaders import UnstructuredExcelLoader, Docx2txtLoader, PyPDFLoader\n",
    "from langchain.text_splitter import CharacterTextSplitter\n",
    "from langchain.embeddings import OpenAIEmbeddings\n",
    "from langchain.vectorstores import Chroma\n",
    "#导入聊天所需的模块\n",
    "from langchain.chat_models import ChatOpenAI\n",
    "from langchain.prompts import ChatPromptTemplate\n",
    "\n",
    "\n",
    "#定义chatdoc\n",
    "class ChatDoc():\n",
    "    def __init__(self, doc):\n",
    "        self.doc = doc\n",
    "        self.splitText = []  #分割后的文本\n",
    "        self.template = [\n",
    "            (\"system\",\n",
    "             \"你是一个处理文档的秘书,你从不说自己是一个大模型或者AI助手,你会根据下面提供的上下文内容来继续回答问题.\\n 上下文内容\\n {context} \\n\"),\n",
    "            (\"human\", \"你好！\"),\n",
    "            (\"ai\", \"你好\"),\n",
    "            (\"human\", \"{question}\"),\n",
    "        ]\n",
    "        self.prompt = ChatPromptTemplate.from_messages(self.template)\n",
    "\n",
    "    def getFile(self):\n",
    "        doc = self.doc\n",
    "        loaders = {\n",
    "            \"docx\": Docx2txtLoader,\n",
    "            \"pdf\": PyPDFLoader,\n",
    "            \"xlsx\": UnstructuredExcelLoader,\n",
    "        }\n",
    "        file_extension = doc.split(\".\")[-1]\n",
    "        loader_class = loaders.get(file_extension)\n",
    "        if loader_class:\n",
    "            try:\n",
    "                loader = loader_class(doc)\n",
    "                text = loader.load()\n",
    "                return text\n",
    "            except Exception as e:\n",
    "                print(f\"Error loading {file_extension} files:{e}\")\n",
    "                return None\n",
    "        else:\n",
    "            print(f\"Unsupported file extension: {file_extension}\")\n",
    "            return None\n",
    "\n",
    "    #处理文档的函数\n",
    "    def splitSentences(self):\n",
    "        full_text = self.getFile()  #获取文档内容\n",
    "        if full_text != None:\n",
    "            #对文档进行分割\n",
    "            text_split = CharacterTextSplitter(chunk_size=150, chunk_overlap=20)\n",
    "            texts = text_split.split_documents(full_text)\n",
    "            self.splitText = texts\n",
    "\n",
    "    #向量化与向量存储\n",
    "    def embeddingAndVectorDB(self):\n",
    "        embeddings = OpenAIEmbeddings()\n",
    "        db = Chroma.from_documents(documents=self.splitText, embedding=embeddings)\n",
    "        return db\n",
    "\n",
    "    #提问并找到相关的文本块\n",
    "    def askAndFindFiles(self, question):\n",
    "        db = self.embeddingAndVectorDB()\n",
    "        retriever = db.as_retriever(search_type=\"similarity_score_threshold\",\n",
    "                                    search_kwargs={\"score_threshold\": .5, \"k\": 1})\n",
    "        return retriever.get_relevant_documents(query=question)\n",
    "\n",
    "    #用自然语言和文档聊天\n",
    "    def chatWithDoc(self, question):\n",
    "        _content = \"\"\n",
    "        context = self.askAndFindFiles(question)\n",
    "        for i in context:\n",
    "            _content += i.page_content\n",
    "\n",
    "        messages = self.prompt.format_messages(context=_content, question=question)\n",
    "        logging.info(messages)\n",
    "        chat = ChatOpenAI(model=\"gpt-4\", temperature=0)\n",
    "        return chat.invoke(messages)\n",
    "\n",
    "\n",
    "chat_doc = ChatDoc(doc=\"testfile/loader.docx\")\n",
    "chat_doc.splitSentences()\n",
    "# chat_doc.chatWithDoc(\"公司注册地址是哪里？\")\n",
    "# chat_doc.chatWithDoc(\"公司盈利了吗?\")\n",
    "chat_doc.chatWithDoc(\"公司上市了吗?\")\n"
   ],
   "id": "9849cc453e03b5ef",
   "outputs": [
    {
     "name": "stderr",
     "output_type": "stream",
     "text": [
      "INFO:httpx:HTTP Request: POST https://api.aihubmix.com/v1/embeddings \"HTTP/1.1 200 OK\"\n",
      "INFO:httpx:HTTP Request: POST https://api.aihubmix.com/v1/embeddings \"HTTP/1.1 200 OK\"\n",
      "INFO:root:[SystemMessage(content='你是一个处理文档的秘书,你从不说自己是一个大模型或者AI助手,你会根据下面提供的上下文内容来继续回答问题.\\n 上下文内容\\n 4. 净利润：亏损人民币800万元，去年同期为盈利人民币200万元。\\n\\n5. 现金流量：公司现金流量紧张，现金及现金等价物余额为人民币500万元，难以支撑日常运营。\\n\\n6. 存货：存货积压严重，库存商品价值约为人民币400万元，大部分产品滞销。 \\n'), HumanMessage(content='你好！'), AIMessage(content='你好'), HumanMessage(content='公司上市了吗?')]\n",
      "INFO:httpx:HTTP Request: POST https://api.aihubmix.com/v1/chat/completions \"HTTP/1.1 200 OK\"\n"
     ]
    },
    {
     "data": {
      "text/plain": [
       "AIMessage(content='对不起，根据提供的信息，我无法确定公司是否已经上市。您是否有更多的信息可以提供？', response_metadata={'token_usage': {'completion_tokens': 34, 'prompt_tokens': 213, 'total_tokens': 247}, 'model_name': 'gpt-4', 'system_fingerprint': None, 'finish_reason': 'stop', 'logprobs': None}, id='run-79fdf554-f03f-45fd-8105-202d1252f60f-0')"
      ]
     },
     "execution_count": 30,
     "metadata": {},
     "output_type": "execute_result"
    }
   ],
   "execution_count": 30
  }
 ],
 "metadata": {
  "kernelspec": {
   "display_name": "Python 3",
   "language": "python",
   "name": "python3"
  },
  "language_info": {
   "codemirror_mode": {
    "name": "ipython",
    "version": 2
   },
   "file_extension": ".py",
   "mimetype": "text/x-python",
   "name": "python",
   "nbconvert_exporter": "python",
   "pygments_lexer": "ipython2",
   "version": "2.7.6"
  }
 },
 "nbformat": 4,
 "nbformat_minor": 5
}
