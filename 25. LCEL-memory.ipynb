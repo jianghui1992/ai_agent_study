{
 "cells": [
  {
   "cell_type": "code",
   "id": "initial_id",
   "metadata": {
    "collapsed": true,
    "ExecuteTime": {
     "end_time": "2024-04-27T10:04:54.879225Z",
     "start_time": "2024-04-27T10:04:54.866023Z"
    }
   },
   "source": [
    "from dotenv import load_dotenv\n",
    "\n",
    "load_dotenv(\"openai.env\")"
   ],
   "outputs": [
    {
     "data": {
      "text/plain": [
       "True"
      ]
     },
     "execution_count": 4,
     "metadata": {},
     "output_type": "execute_result"
    }
   ],
   "execution_count": 4
  },
  {
   "metadata": {},
   "cell_type": "markdown",
   "source": [
    "# LCEL:memory添加方式\n",
    "<hr>"
   ],
   "id": "2edf541b0d020912"
  },
  {
   "metadata": {
    "ExecuteTime": {
     "end_time": "2024-04-27T10:06:35.643548Z",
     "start_time": "2024-04-27T10:06:35.604078Z"
    }
   },
   "cell_type": "code",
   "source": [
    "from operator import itemgetter\n",
    "\n",
    "from langchain.memory import ConversationBufferMemory\n",
    "from langchain_core.prompts import ChatPromptTemplate, MessagesPlaceholder\n",
    "from langchain_core.runnables import RunnableLambda, RunnablePassthrough\n",
    "from langchain_openai import ChatOpenAI\n",
    "\n",
    "model = ChatOpenAI()\n",
    "prompt = ChatPromptTemplate.from_messages(\n",
    "    [\n",
    "        (\"system\", \"你是一个乐于助人的机器人\"),\n",
    "        MessagesPlaceholder(variable_name=\"history\"),\n",
    "        (\"human\", \"{input}\"),\n",
    "    ]\n",
    ")\n",
    "memory = ConversationBufferMemory(return_messages=True)\n",
    "memory.load_memory_variables({})"
   ],
   "id": "ecf955464208199",
   "outputs": [
    {
     "data": {
      "text/plain": [
       "{'history': []}"
      ]
     },
     "execution_count": 9,
     "metadata": {},
     "output_type": "execute_result"
    }
   ],
   "execution_count": 9
  },
  {
   "metadata": {},
   "cell_type": "markdown",
   "source": "定义一条链",
   "id": "ebb851198e5ca188"
  },
  {
   "metadata": {
    "ExecuteTime": {
     "end_time": "2024-04-27T10:07:23.592713Z",
     "start_time": "2024-04-27T10:07:21.982578Z"
    }
   },
   "cell_type": "code",
   "source": [
    "chain = (\n",
    "        RunnablePassthrough.assign(\n",
    "            history=RunnableLambda(memory.load_memory_variables) | itemgetter(\"history\")\n",
    "        )\n",
    "        | prompt\n",
    "        | model\n",
    ")\n",
    "inputs = {\"input\": \"你好我是tom\"}\n",
    "response = chain.invoke(inputs)\n",
    "print(response)"
   ],
   "id": "3d917f01cb4d3f5",
   "outputs": [
    {
     "name": "stdout",
     "output_type": "stream",
     "text": [
      "content='你好，Tom！有什么问题我可以帮助你解决吗？' response_metadata={'token_usage': {'completion_tokens': 23, 'prompt_tokens': 29, 'total_tokens': 52}, 'model_name': 'gpt-3.5-turbo', 'system_fingerprint': 'fp_3b956da36b', 'finish_reason': 'stop', 'logprobs': None} id='run-aaccd67c-b57e-4ef7-8a89-2c432e94bfeb-0'\n"
     ]
    }
   ],
   "execution_count": 11
  },
  {
   "metadata": {},
   "cell_type": "markdown",
   "source": "# 手动保存记忆",
   "id": "ba9dc34424da2d6f"
  },
  {
   "metadata": {
    "ExecuteTime": {
     "end_time": "2024-04-27T10:07:30.881728Z",
     "start_time": "2024-04-27T10:07:30.877212Z"
    }
   },
   "cell_type": "code",
   "source": [
    "#保存记忆\n",
    "memory.save_context(inputs, {\"output\": response.content})\n",
    "memory.load_memory_variables({})"
   ],
   "id": "8c5685e9e0920a46",
   "outputs": [
    {
     "data": {
      "text/plain": [
       "{'history': [HumanMessage(content='你好我是tom'),\n",
       "  AIMessage(content='你好，Tom！有什么问题我可以帮助你解决吗？')]}"
      ]
     },
     "execution_count": 12,
     "metadata": {},
     "output_type": "execute_result"
    }
   ],
   "execution_count": 12
  },
  {
   "metadata": {
    "ExecuteTime": {
     "end_time": "2024-04-27T10:07:57.734969Z",
     "start_time": "2024-04-27T10:07:56.365888Z"
    }
   },
   "cell_type": "code",
   "source": [
    "response = chain.invoke({\"input\": \"我叫什么名字?\"})\n",
    "response"
   ],
   "id": "350b1eb0ae47903c",
   "outputs": [
    {
     "data": {
      "text/plain": [
       "AIMessage(content='你告诉我你的名字是Tom。', response_metadata={'token_usage': {'completion_tokens': 12, 'prompt_tokens': 69, 'total_tokens': 81}, 'model_name': 'gpt-3.5-turbo', 'system_fingerprint': 'fp_3b956da36b', 'finish_reason': 'stop', 'logprobs': None}, id='run-d3704fd5-23eb-4c28-afee-5482d895467d-0')"
      ]
     },
     "execution_count": 13,
     "metadata": {},
     "output_type": "execute_result"
    }
   ],
   "execution_count": 13
  },
  {
   "metadata": {},
   "cell_type": "markdown",
   "source": "# 使用Redis来实现长时记忆",
   "id": "f854e4f2cd459c25"
  },
  {
   "metadata": {
    "ExecuteTime": {
     "end_time": "2024-04-27T10:08:25.200079Z",
     "start_time": "2024-04-27T10:08:21.078837Z"
    }
   },
   "cell_type": "code",
   "source": "! pip install redis",
   "id": "918a10ba1ddf305a",
   "outputs": [
    {
     "name": "stdout",
     "output_type": "stream",
     "text": [
      "Looking in indexes: http://mirrors.aliyun.com/pypi/simple/\r\n",
      "Collecting redis\r\n",
      "  Downloading http://mirrors.aliyun.com/pypi/packages/65/f2/540ad07910732733138beb192991c67c69e7f6ebf549ce1a3a77846cbae7/redis-5.0.4-py3-none-any.whl (251 kB)\r\n",
      "\u001B[2K     \u001B[90m━━━━━━━━━━━━━━━━━━━━━━━━━━━━━━━━━━━━━━━\u001B[0m \u001B[32m252.0/252.0 kB\u001B[0m \u001B[31m2.0 MB/s\u001B[0m eta \u001B[36m0:00:00\u001B[0m00:01\u001B[0m00:01\u001B[0m\r\n",
      "\u001B[?25hInstalling collected packages: redis\r\n",
      "Successfully installed redis-5.0.4\r\n"
     ]
    }
   ],
   "execution_count": 14
  },
  {
   "metadata": {
    "ExecuteTime": {
     "end_time": "2024-04-27T10:09:40.169344Z",
     "start_time": "2024-04-27T10:09:40.135978Z"
    }
   },
   "cell_type": "code",
   "source": [
    "from langchain_community.chat_message_histories import RedisChatMessageHistory\n",
    "from langchain_openai import ChatOpenAI\n",
    "from langchain_core.prompts import ChatPromptTemplate, MessagesPlaceholder\n",
    "from langchain_core.runnables.history import RunnableWithMessageHistory\n",
    "\n",
    "prompt = ChatPromptTemplate.from_messages(\n",
    "    [\n",
    "        (\"system\", \"你是一个擅长{ability}的助手\"),\n",
    "        MessagesPlaceholder(variable_name=\"history\"),\n",
    "        (\"human\", \"{question}\"),\n",
    "    ]\n",
    ")\n",
    "\n",
    "chain = prompt | ChatOpenAI(model=\"gpt-4-1106-preview\", temperature=0)\n",
    "\n",
    "chain_with_history = RunnableWithMessageHistory(\n",
    "    chain,\n",
    "    #使用redis存储聊天记录\n",
    "    lambda session_id: RedisChatMessageHistory(session_id, url=\"redis://localhost:6379/0\"),\n",
    "    input_messages_key=\"question\",\n",
    "    history_messages_key=\"history\",\n",
    ")"
   ],
   "id": "662a5ec6905c4e64",
   "outputs": [],
   "execution_count": 16
  },
  {
   "metadata": {
    "ExecuteTime": {
     "end_time": "2024-04-27T10:12:18.983732Z",
     "start_time": "2024-04-27T10:12:12.864985Z"
    }
   },
   "cell_type": "code",
   "source": [
    "#每次调用都会保存聊天记录，需要有对应的session_id\n",
    "chain_with_history.invoke(\n",
    "    {\"ability\": \"历史\", \"question\": \"中国建都时间最长的城市是哪个?\"},\n",
    "    config={\"configurable\": {\"session_id\": \"jh-1992\"}},\n",
    ")"
   ],
   "id": "40333943ca5d5e0c",
   "outputs": [
    {
     "data": {
      "text/plain": [
       "AIMessage(content='中国历史上建都时间最长的城市是西安。西安古称长安，是中国古代历史上著名的都城之一，曾是周、秦、汉、隋、唐等多个朝代的都城。特别是在唐朝时期，长安成为当时世界上最繁华的城市之一。从周朝的西周时期开始，西安作为都城的历史持续了超过一千年，是中国乃至世界历史上最重要的文化都市之一。', response_metadata={'token_usage': {'completion_tokens': 157, 'prompt_tokens': 39, 'total_tokens': 196}, 'model_name': 'gpt-4-1106-preview', 'system_fingerprint': 'fp_d2051b8491', 'finish_reason': 'stop', 'logprobs': None}, id='run-26707d12-3849-4ef0-8ba4-17f12f059e86-0')"
      ]
     },
     "execution_count": 19,
     "metadata": {},
     "output_type": "execute_result"
    }
   ],
   "execution_count": 19
  },
  {
   "metadata": {
    "ExecuteTime": {
     "end_time": "2024-04-27T10:13:41.536010Z",
     "start_time": "2024-04-27T10:12:40.735659Z"
    }
   },
   "cell_type": "code",
   "source": [
    "chain_with_history.invoke(\n",
    "    {\"ability\": \"历史\", \"question\": \"它有多少年建都历史？\"},\n",
    "    config={\"configurable\": {\"session_id\": \"jh-1992\"}},\n",
    ")"
   ],
   "id": "593f11ff9aee23df",
   "outputs": [
    {
     "data": {
      "text/plain": [
       "AIMessage(content='西安作为都城的历史非常悠久，但具体的年数需要根据不同朝代的建都时间来计算。下面是西安（长安）作为都城的主要历史时期：\\n\\n1. 西周（前1046年 - 前771年）：西周时期，周王朝的都城设在镐京（今西安西北部的周原），这标志着西安作为都城的开始。\\n2. 秦朝（前221年 - 前206年）：秦始皇统一六国后，将都城定在咸阳（今西安市西北），而长安（今西安市区）则是秦朝的一个重要城市。\\n3. 西汉（前202年 - 9年）：西汉初年，汉高祖刘邦定都长安。\\n4. 新朝（9年 - 23年）：王莽篡汉后，改长安为“常安”。\\n5. 东汉（25年 - 220年）：东汉时期，都城迁至洛阳，但长安依然是重要城市。\\n6. 西晋（265年 - 316年）：晋武帝司马炎迁都长安，但不久后因为“永嘉之乱”而失去对长安的控制。\\n7. 前赵（304年 - 329年）：汉赵时期，刘渊曾短暂定都长安。\\n8. 前秦（351年 - 394年）：苻坚定都长安，并在此建立了较为强盛的政权。\\n9. 隋朝（581年 - 618年）：隋文帝杨坚统一中国后，定都大兴城（即隋炀帝时期改称为长安）。\\n10. 唐朝（618年 - 907年）：唐朝继续以长安为都，这一时期的长安是世界上最繁华的城市之一。\\n\\n如果将上述时期作为都城的时间累加起来，西安作为都城的时间大约有1200年左右。需要注意的是，这里的计算并没有包括一些短暂或不连续的建都时期，而且在不同朝代间的过渡期，都城的地位可能会有所变动。因此，上述年数仅供参考。', response_metadata={'token_usage': {'completion_tokens': 663, 'prompt_tokens': 216, 'total_tokens': 879}, 'model_name': 'gpt-4-1106-preview', 'system_fingerprint': 'fp_2f57f81c11', 'finish_reason': 'stop', 'logprobs': None}, id='run-cfc82f6b-590c-4ef3-8a70-b533eabc16d1-0')"
      ]
     },
     "execution_count": 20,
     "metadata": {},
     "output_type": "execute_result"
    }
   ],
   "execution_count": 20
  }
 ],
 "metadata": {
  "kernelspec": {
   "display_name": "Python 3",
   "language": "python",
   "name": "python3"
  },
  "language_info": {
   "codemirror_mode": {
    "name": "ipython",
    "version": 2
   },
   "file_extension": ".py",
   "mimetype": "text/x-python",
   "name": "python",
   "nbconvert_exporter": "python",
   "pygments_lexer": "ipython2",
   "version": "2.7.6"
  }
 },
 "nbformat": 4,
 "nbformat_minor": 5
}
