{
 "cells": [
  {
   "cell_type": "markdown",
   "id": "7b773179e1adee7d",
   "metadata": {},
   "source": [
    "# 环境搭建\n",
    "1. python版本: 使用3.11.9\n",
    "2. 使用jupyter: 使用vscode/pycharm搜索jupyter插件安装\n",
    "3. langchain: 0.1.16\n",
    "4. openai: 1.19.0"
   ]
  },
  {
   "cell_type": "code",
   "execution_count": 10,
   "id": "520b798565e8046f",
   "metadata": {
    "ExecuteTime": {
     "end_time": "2024-04-17T10:42:08.911428Z",
     "start_time": "2024-04-17T10:42:08.908326Z"
    }
   },
   "outputs": [
    {
     "name": "stdout",
     "output_type": "stream",
     "text": [
      "hello AI\n"
     ]
    }
   ],
   "source": [
    "print(\"hello AI\")"
   ]
  },
  {
   "cell_type": "markdown",
   "id": "33412a6140ad3621",
   "metadata": {},
   "source": [
    "## langchain 和openai安装"
   ]
  },
  {
   "cell_type": "code",
   "id": "2854de1a10f5e0eb",
   "metadata": {
    "ExecuteTime": {
     "end_time": "2024-04-27T05:28:25.233133Z",
     "start_time": "2024-04-27T05:28:22.901670Z"
    }
   },
   "source": [
    "#  安装langchain和(langchain-openai会帮我们自动集成好openai)\n",
    "# ! pip install --upgrade langchain\n",
    "# ! pip install --upgrade langchain-openai\n",
    "# ! pip uninstall -y langchain-openai\n",
    "# ! pip install --upgrade langchain_community\n",
    "# ! pip install --upgrade langchain_core\n",
    "\n",
    "# ! pip install langchain-openai\n",
    "# ! pip install --upgrade openai\n",
    "# ! pip install --upgrade doctran-openai\n",
    "\n",
    "! pip uninstall -y langchain langchain-openai  langchain_core langchain_community\n",
    "! pip uninstall -y openai\n",
    "\n",
    "# 也可以选择单独安装openai的包\n",
    "# ! pip install openai==v0.28.1 -i https://pypi.org/simple"
   ],
   "outputs": [
    {
     "name": "stdout",
     "output_type": "stream",
     "text": [
      "\u001B[33mWARNING: Skipping langchain as it is not installed.\u001B[0m\u001B[33m\r\n",
      "\u001B[0mFound existing installation: langchain-openai 0.1.4\r\n",
      "Uninstalling langchain-openai-0.1.4:\r\n",
      "  Successfully uninstalled langchain-openai-0.1.4\r\n",
      "Found existing installation: langchain-core 0.1.46\r\n",
      "Uninstalling langchain-core-0.1.46:\r\n",
      "  Successfully uninstalled langchain-core-0.1.46\r\n",
      "Found existing installation: langchain-community 0.0.34\r\n",
      "Uninstalling langchain-community-0.0.34:\r\n",
      "  Successfully uninstalled langchain-community-0.0.34\r\n",
      "\u001B[33mWARNING: Skipping openai as it is not installed.\u001B[0m\u001B[33m\r\n",
      "\u001B[0m"
     ]
    }
   ],
   "execution_count": 3
  },
  {
   "cell_type": "markdown",
   "id": "5d6e4b45b6879b69",
   "metadata": {},
   "source": [
    "## 查看是否安装成功"
   ]
  },
  {
   "cell_type": "code",
   "id": "f2afbd6c44ac1da3",
   "metadata": {
    "ExecuteTime": {
     "end_time": "2024-04-27T05:28:31.914275Z",
     "start_time": "2024-04-27T05:28:28.727473Z"
    }
   },
   "source": [
    "# 0.1.16\n",
    "! pip show langchain\n",
    "! pip show langchain_community\n",
    "! pip show langchain_core\n",
    "! pip show langchain_openai\n",
    "\n",
    "# 1.23.3\n",
    "! pip show openai"
   ],
   "outputs": [
    {
     "name": "stdout",
     "output_type": "stream",
     "text": [
      "\u001B[33mWARNING: Package(s) not found: langchain\u001B[0m\u001B[33m\r\n",
      "\u001B[0m\u001B[33mWARNING: Package(s) not found: langchain_community\u001B[0m\u001B[33m\r\n",
      "\u001B[0m\u001B[33mWARNING: Package(s) not found: langchain_core\u001B[0m\u001B[33m\r\n",
      "\u001B[0m\u001B[33mWARNING: Package(s) not found: langchain_openai\u001B[0m\u001B[33m\r\n",
      "\u001B[0m\u001B[33mWARNING: Package(s) not found: openai\u001B[0m\u001B[33m\r\n",
      "\u001B[0m"
     ]
    }
   ],
   "execution_count": 4
  },
  {
   "cell_type": "markdown",
   "id": "3d53da718144cff5",
   "metadata": {},
   "source": [
    "## 配置openai的代理\n",
    "https://aihubmix.com  注册账号,充值后就可以使用"
   ]
  },
  {
   "cell_type": "code",
   "id": "4cecb8dc0249b128",
   "metadata": {
    "ExecuteTime": {
     "end_time": "2024-04-27T05:43:19.036873Z",
     "start_time": "2024-04-27T05:43:19.032942Z"
    }
   },
   "source": [
    "# 配置为系统变量\n",
    "import os\n",
    "os.environ[\"OPENAI_KEY\"] = \"sk-bQGeRZevfQI95TPb1b1a3e80011c4f368150270f687dF163\"\n",
    "os.environ[\"OPENAI_API_BASE\"] = \"https://api.aihubmix.com/v1\"    "
   ],
   "outputs": [],
   "execution_count": 6
  },
  {
   "cell_type": "markdown",
   "id": "9af59d1f8b364b6",
   "metadata": {},
   "source": [
    "# 使用openai api调用"
   ]
  },
  {
   "cell_type": "code",
   "id": "72b981f20a76df90",
   "metadata": {
    "ExecuteTime": {
     "end_time": "2024-04-27T05:44:06.746174Z",
     "start_time": "2024-04-27T05:43:20.796958Z"
    }
   },
   "source": [
    "from openai import OpenAI\n",
    "\n",
    "client = OpenAI(\n",
    "    # #将这里换成你在aihubmix api keys拿到的密钥\n",
    "    api_key=os.getenv(\"OPENAI_KEY\"),\n",
    "    # 这里将官方的接口访问地址，替换成aihubmix的入口地址\n",
    "    base_url=os.getenv(\"OPENAI_API_BASE\")\n",
    ")\n",
    "\n",
    "res = client.chat.completions.create(\n",
    "    # messages=[{\"role\": \"user\",\"content\": \"请介绍自己\"}],\n",
    "    messages=[{\"role\": \"user\",\"content\": \"我想使用python语言通过调用大模型实现文档翻译,总结和精炼,直接调用代码太繁琐,是否有成熟的python库,比如doctran包, 可以支持我这个需求\"}],\n",
    "    # model=\"gpt-3.5-turbo\",\n",
    "    model=\"gpt-4-1106-preview\",\n",
    "    temperature=0,\n",
    ")\n",
    "# print(res)\n",
    "print(res.choices[0].message.content)"
   ],
   "outputs": [
    {
     "name": "stdout",
     "output_type": "stream",
     "text": [
      "截至我的知识更新日期（2023年），没有一个特定的Python库叫做`doctran`，但是有一些其他的库和服务可以帮助你实现文档翻译、总结和精炼。以下是一些可能对你有用的资源：\n",
      "\n",
      "1. **Google Cloud Translation API**: Google提供的云翻译API可以帮助你实现文档翻译。你需要注册Google Cloud服务，设置API密钥，并在你的Python代码中使用它。\n",
      "\n",
      "2. **DeepL API**: DeepL也提供了一个非常强大的翻译API，它通常被认为在某些语言对中提供比Google更自然的翻译。\n",
      "\n",
      "3. **Hugging Face Transformers**: 对于文档总结，你可以使用Hugging Face的Transformers库，它提供了许多预训练的大型语言模型，如GPT-3、BERT、T5等，这些模型可以用于文本摘要和其他自然语言处理任务。\n",
      "\n",
      "4. **spaCy**: 对于文本的精炼和处理，spaCy是一个强大的库，它可以帮助你进行诸如分词、词性标注、命名实体识别等任务，这些都是文本精炼的基础。\n",
      "\n",
      "5. **TextBlob**: TextBlob是一个简单的文本处理库，它提供了基本的翻译和摘要功能。\n",
      "\n",
      "如果你想要一个更集成的解决方案，你可能需要使用多个库和API来实现你的需求。以下是一个简单的例子，展示了如何使用Hugging Face的Transformers库来进行文本摘要：\n",
      "\n",
      "```python\n",
      "from transformers import pipeline\n",
      "\n",
      "# 初始化摘要模型\n",
      "summarizer = pipeline(\"summarization\")\n",
      "\n",
      "# 假设你有一个长文本\n",
      "long_text = \"\"\"\n",
      "Your long text goes here...\n",
      "\"\"\"\n",
      "\n",
      "# 生成摘要\n",
      "summary = summarizer(long_text, max_length=130, min_length=30, do_sample=False)\n",
      "\n",
      "print(summary[0]['summary_text'])\n",
      "```\n",
      "\n",
      "对于翻译，你可以使用类似的方法调用翻译API。请注意，对于商业用途，大多数API都是付费的，而且你需要遵守它们的使用条款。\n",
      "\n",
      "请记住，这些模型和API的性能可能会因为你的特定需求和文档的复杂性而有所不同，因此在实际部署之前进行充分的测试是很重要的。\n"
     ]
    }
   ],
   "execution_count": 7
  },
  {
   "cell_type": "markdown",
   "id": "2e8c5cc190a0fcec",
   "metadata": {},
   "source": [
    "# 使用langchain api调用"
   ]
  },
  {
   "cell_type": "code",
   "id": "2c989052741f526f",
   "metadata": {
    "ExecuteTime": {
     "end_time": "2024-04-17T10:49:07.683793Z",
     "start_time": "2024-04-17T10:49:03.074561Z"
    }
   },
   "source": [
    "#hello world\n",
    "from langchain.llms import OpenAI\n",
    "import os\n",
    "\n",
    "api_base = os.getenv(\"OPENAI_API_BASE\")\n",
    "api_key = os.getenv(\"OPENAI_KEY\")\n",
    "llm = OpenAI(\n",
    "    model=\"gpt-3.5-turbo-instruct\",\n",
    "    temperature=0,\n",
    "    openai_api_key=api_key,\n",
    "    openai_api_base=api_base\n",
    "    )\n",
    "llm.invoke(\"介绍下你自己\")"
   ],
   "outputs": [
    {
     "data": {
      "text/plain": [
       "'\\n\\n我是一名来自广东的大学生，性格开朗、乐观向上。我喜欢阅读、旅行和运动，对新事物充满好奇心，喜欢不断学习和挑战自己。在校期间，我担任过学生会干部，参加过多项社会实践活动，积累了一定的组织能力和团队合作精神。我也曾在一家公司实习过，学习了一些专业知识和实践经验。我希望能够通过不断努力，提升自己的能力，为将来的工作做好准备。'"
      ]
     },
     "execution_count": 15,
     "metadata": {},
     "output_type": "execute_result"
    }
   ],
   "execution_count": 15
  },
  {
   "metadata": {},
   "cell_type": "markdown",
   "source": "# demo 起名大师",
   "id": "661d4c7829c77bff"
  },
  {
   "metadata": {
    "ExecuteTime": {
     "end_time": "2024-04-17T10:51:01.982418Z",
     "start_time": "2024-04-17T10:50:59.294397Z"
    }
   },
   "cell_type": "code",
   "source": [
    "#起名大师\n",
    "from langchain.llms import OpenAI\n",
    "from langchain.prompts import PromptTemplate\n",
    "import os\n",
    "api_base = os.getenv(\"OPENAI_API_BASE\")\n",
    "api_key = os.getenv(\"OPENAI_KEY\")\n",
    "llm = OpenAI(\n",
    "    model=\"gpt-3.5-turbo-instruct\",\n",
    "    temperature=0,\n",
    "    openai_api_key=api_key,\n",
    "    openai_api_base=api_base\n",
    ")\n",
    "# 初始化一个模板,后续可以支持多种场景\n",
    "prompt = PromptTemplate.from_template(\"你是一个起名大师,请模仿示例起3个{county}名字,比如男孩经常被叫做{boy},女孩经常被叫做{girl}\")\n",
    "message = prompt.format(county=\"中国特色的\",boy=\"狗蛋\",girl=\"翠花\")\n",
    "print(message)\n",
    "print(llm.invoke(message))"
   ],
   "id": "a34088845f773031",
   "outputs": [
    {
     "name": "stdout",
     "output_type": "stream",
     "text": [
      "你是一个起名大师,请模仿示例起3个中国特色的名字,比如男孩经常被叫做狗蛋,女孩经常被叫做翠花\n",
      "\n",
      "\n",
      "男孩: 龙飞、铁柱、小虎\n",
      "女孩: 玉兰、梅香、小红梅\n"
     ]
    }
   ],
   "execution_count": 17
  },
  {
   "metadata": {},
   "cell_type": "markdown",
   "source": "# 格式化输出结果",
   "id": "84d866380ff6127"
  },
  {
   "metadata": {
    "ExecuteTime": {
     "end_time": "2024-04-17T10:52:00.993781Z",
     "start_time": "2024-04-17T10:52:00.980572Z"
    }
   },
   "cell_type": "code",
   "source": [
    "from langchain.schema import BaseOutputParser\n",
    "# CommaSeparatedListOutputParser(BaseOutputParser):表示当前类继承BaseOutputParser\n",
    "class CommaSeparatedListOutputParser(BaseOutputParser):\n",
    "\n",
    "    def parse(self, text: str):\n",
    "        # strip():去除空格 ,split(\",\"):将结果按照逗号分隔\n",
    "        return text.strip().split(\", \")\n",
    "\n",
    "CommaSeparatedListOutputParser().parse(\"hi, bye\") # 返回一个dict"
   ],
   "id": "72e4a4dded8e56f6",
   "outputs": [
    {
     "data": {
      "text/plain": [
       "['hi', 'bye']"
      ]
     },
     "execution_count": 18,
     "metadata": {},
     "output_type": "execute_result"
    }
   ],
   "execution_count": 18
  },
  {
   "metadata": {
    "ExecuteTime": {
     "end_time": "2024-04-17T10:52:37.985169Z",
     "start_time": "2024-04-17T10:52:33.246426Z"
    }
   },
   "cell_type": "code",
   "source": [
    "#起名大师，输出格式为一个数组\n",
    "from langchain.llms import OpenAI\n",
    "from langchain.prompts import PromptTemplate\n",
    "import os\n",
    "from langchain.schema import BaseOutputParser\n",
    "\n",
    "#自定义结果类\n",
    "class CommaSeparatedListOutputParser(BaseOutputParser):\n",
    "    def parse(self, text: str):\n",
    "        print(text)\n",
    "        return text.strip().split(\",\")\n",
    "\n",
    "llm = OpenAI(\n",
    "    model=\"gpt-3.5-turbo-instruct\",\n",
    "    temperature=0,\n",
    "    openai_api_key=os.getenv(\"OPENAI_KEY\"),\n",
    "    openai_api_base=os.getenv(\"OPENAI_API_BASE\")\n",
    ")\n",
    "prompt = PromptTemplate.from_template(\"你是一个起名大师,请模仿示例起3个具有{county}特色的名字,示例：男孩常用名{boy},女孩常用名{girl}。\"\n",
    "                                      \"请返回以逗号分隔的列表形式。仅返回逗号分隔的列表，不要返回其他内容。\")\n",
    "message = prompt.format(county=\"美国男孩\",boy=\"sam\",girl=\"lucy\")\n",
    "print(message)\n",
    "strs = llm.predict(message)\n",
    "CommaSeparatedListOutputParser().parse(strs)"
   ],
   "id": "25ba68dadbe1374a",
   "outputs": [
    {
     "name": "stdout",
     "output_type": "stream",
     "text": [
      "你是一个起名大师,请模仿示例起3个具有美国男孩特色的名字,示例：男孩常用名sam,女孩常用名lucy。请返回以逗号分隔的列表形式。仅返回逗号分隔的列表，不要返回其他内容。\n",
      "\n",
      "\n",
      "jack, michael, jason\n"
     ]
    },
    {
     "data": {
      "text/plain": [
       "['jack', ' michael', ' jason']"
      ]
     },
     "execution_count": 19,
     "metadata": {},
     "output_type": "execute_result"
    }
   ],
   "execution_count": 19
  }
 ],
 "metadata": {
  "kernelspec": {
   "display_name": "Python 3 (ipykernel)",
   "language": "python",
   "name": "python3"
  },
  "language_info": {
   "codemirror_mode": {
    "name": "ipython",
    "version": 3
   },
   "file_extension": ".py",
   "mimetype": "text/x-python",
   "name": "python",
   "nbconvert_exporter": "python",
   "pygments_lexer": "ipython3",
   "version": "3.11.9"
  }
 },
 "nbformat": 4,
 "nbformat_minor": 5
}
