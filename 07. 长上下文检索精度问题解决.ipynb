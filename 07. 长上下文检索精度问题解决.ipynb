{
 "cells": [
  {
   "cell_type": "markdown",
   "metadata": {},
   "source": [
    "# Lost in the middle: 长上下文精度问题\n",
    "\n",
    "- 参考论文: https://arxiv.org/abs/2307.03172\n",
    "- 上输入的上下文比较长时,通常位于开头和结尾的上下文信息,性能最高. 所以langchain基于这个论文也实现了这个优化点"
   ]
  },
  {
   "metadata": {},
   "cell_type": "markdown",
   "source": "![lost in the middle](lost in the middle.png)"
  },
  {
   "metadata": {},
   "cell_type": "markdown",
   "source": "![paper](paper.png)"
  },
  {
   "cell_type": "code",
   "metadata": {},
   "source": [
    "! pip install sentence-transformers"
   ],
   "outputs": [],
   "execution_count": null
  },
  {
   "metadata": {},
   "cell_type": "markdown",
   "source": "## 因为本地连接不上https://huggingface.co/,所以以下代码未验证过"
  },
  {
   "cell_type": "code",
   "execution_count": 3,
   "metadata": {},
   "outputs": [
    {
     "name": "stderr",
     "output_type": "stream",
     "text": [
      "/Users/tomiezhang/.pyenv/versions/3.10.12/envs/langchains/lib/python3.11/site-packages/tqdm/auto.py:21: TqdmWarning: IProgress not found. Please update jupyter and ipywidgets. See https://ipywidgets.readthedocs.io/en/stable/user_install.html\n",
      "  from .autonotebook import tqdm as notebook_tqdm\n"
     ]
    },
    {
     "data": {
      "text/plain": [
       "[Document(page_content='凯尔特人队是我最喜欢的球队。', metadata={}),\n",
       " Document(page_content='我非常喜欢去看电影。', metadata={}),\n",
       " Document(page_content='带我飞往月球是我最喜欢的歌曲之一。', metadata={}),\n",
       " Document(page_content='篮球是一项伟大的运动。', metadata={}),\n",
       " Document(page_content='拉里.伯德是一位标志性的NBA球员。', metadata={}),\n",
       " Document(page_content='这只是一段随机的文字。', metadata={}),\n",
       " Document(page_content='这是一篇关于波士顿凯尔特人的文件。', metadata={}),\n",
       " Document(page_content='《艾尔登之环》是过去15年最好的游戏之一。', metadata={}),\n",
       " Document(page_content='波士顿凯尔特人队以20分的优势赢得了比赛。', metadata={}),\n",
       " Document(page_content='L.科内特是凯尔特人队最好的球员之一。', metadata={})]"
      ]
     },
     "execution_count": 3,
     "metadata": {},
     "output_type": "execute_result"
    }
   ],
   "source": [
    "from langchain.chains import LLMChain,StuffDocumentsChain\n",
    "from langchain.document_transformers import LongContextReorder\n",
    "from langchain.embeddings import HuggingFaceBgeEmbeddings\n",
    "from langchain.vectorstores import  Chroma\n",
    "\n",
    "#使用huggingface托管的开源LLM来做嵌入，MiniLM-L6-v2是一个较小的LLM \n",
    "embedings = HuggingFaceBgeEmbeddings(model_name=\"all-MiniLM-L6-v2\")\n",
    "\n",
    "text = [\n",
    "    \"篮球是一项伟大的运动。\",\n",
    "    \"带我飞往月球是我最喜欢的歌曲之一。\",\n",
    "    \"凯尔特人队是我最喜欢的球队。\",\n",
    "    \"这是一篇关于波士顿凯尔特人的文件。\",\n",
    "    \"我非常喜欢去看电影。\",\n",
    "    \"波士顿凯尔特人队以20分的优势赢得了比赛。\",\n",
    "    \"这只是一段随机的文字。\",\n",
    "    \"《艾尔登之环》是过去15年最好的游戏之一。\",\n",
    "    \"L.科内特是凯尔特人队最好的球员之一。\",\n",
    "    \"拉里.伯德是一位标志性的NBA球员。\"\n",
    "]\n",
    "\n",
    "retrieval = Chroma.from_texts(text,embedings).as_retriever(\n",
    "    search_kwargs={\"k\": 10}\n",
    ")\n",
    "query = \"关于我的喜好都知道什么?\"\n",
    "\n",
    "#根据相关性返回文本块\n",
    "docs = retrieval.get_relevant_documents(query)\n",
    "docs\n",
    "# 可以看到前3条都是我的爱好"
   ]
  },
  {
   "cell_type": "code",
   "execution_count": 4,
   "metadata": {},
   "outputs": [
    {
     "data": {
      "text/plain": [
       "[Document(page_content='我非常喜欢去看电影。', metadata={}),\n",
       " Document(page_content='篮球是一项伟大的运动。', metadata={}),\n",
       " Document(page_content='这只是一段随机的文字。', metadata={}),\n",
       " Document(page_content='《艾尔登之环》是过去15年最好的游戏之一。', metadata={}),\n",
       " Document(page_content='L.科内特是凯尔特人队最好的球员之一。', metadata={}),\n",
       " Document(page_content='波士顿凯尔特人队以20分的优势赢得了比赛。', metadata={}),\n",
       " Document(page_content='这是一篇关于波士顿凯尔特人的文件。', metadata={}),\n",
       " Document(page_content='拉里.伯德是一位标志性的NBA球员。', metadata={}),\n",
       " Document(page_content='带我飞往月球是我最喜欢的歌曲之一。', metadata={}),\n",
       " Document(page_content='凯尔特人队是我最喜欢的球队。', metadata={})]"
      ]
     },
     "execution_count": 4,
     "metadata": {},
     "output_type": "execute_result"
    }
   ],
   "source": [
    "#对检索结果进行重新排序，根据论文的方案\n",
    "#问题相关性越高的内容块放在头尾\n",
    "#问题相关性越低的内容块放在中间\n",
    "reordering = LongContextReorder()\n",
    "reo_docs = reordering.transform_documents(docs)\n",
    "\n",
    "#头尾共有3个高相关性内容块\n",
    "reo_docs"
   ]
  },
  {
   "cell_type": "code",
   "execution_count": 5,
   "metadata": {},
   "outputs": [],
   "source": [
    "from dotenv import load_dotenv\n",
    "load_dotenv(\"openai.env\")\n",
    "import os\n",
    "api_key = os.environ.get(\"OPENAI_API_KEY\")\n",
    "api_base = os.environ.get(\"OPENAI_API_BASE\")"
   ]
  },
  {
   "cell_type": "code",
   "execution_count": 6,
   "metadata": {},
   "outputs": [
    {
     "name": "stderr",
     "output_type": "stream",
     "text": [
      "/Users/tomiezhang/.pyenv/versions/3.10.12/envs/langchains/lib/python3.11/site-packages/langchain/utils/utils.py:155: UserWarning: WARNING! api_key is not default parameter.\n",
      "                api_key was transferred to model_kwargs.\n",
      "                Please confirm that api_key is what you intended.\n",
      "  warnings.warn(\n",
      "/Users/tomiezhang/.pyenv/versions/3.10.12/envs/langchains/lib/python3.11/site-packages/langchain/utils/utils.py:155: UserWarning: WARNING! api_base is not default parameter.\n",
      "                api_base was transferred to model_kwargs.\n",
      "                Please confirm that api_base is what you intended.\n",
      "  warnings.warn(\n"
     ]
    },
    {
     "data": {
      "text/plain": [
       "'\\n看电影。'"
      ]
     },
     "execution_count": 6,
     "metadata": {},
     "output_type": "execute_result"
    }
   ],
   "source": [
    "#检测下这种方案的精度效果\n",
    "from langchain.prompts import PromptTemplate\n",
    "from langchain.llms import OpenAI\n",
    "\n",
    "#设置llm\n",
    "llm = OpenAI(\n",
    "    api_key=api_key,\n",
    "    api_base=api_base,\n",
    "    model=\"gpt-3.5-turbo-instruct\",\n",
    "    temperature=0\n",
    ")\n",
    "\n",
    "document_prompt = PromptTemplate(\n",
    "    input_variables=[\"page_content\"],template=\"{page_content}\"\n",
    ")\n",
    "\n",
    "stuff_prompt_override =\"\"\"Given this text extracts:\n",
    "----------------------------------------\n",
    "{context}\n",
    "----------------------------------------\n",
    "Please answer the following questions:\n",
    "{query}\n",
    "\"\"\"\n",
    "\n",
    "prompt = PromptTemplate(\n",
    "    template=stuff_prompt_override,\n",
    "    input_variables=[\"context\",\"query\"]\n",
    ")\n",
    "\n",
    "llm_chain = LLMChain(\n",
    "    llm=llm,\n",
    "    prompt=prompt\n",
    ")\n",
    "\n",
    "WorkChain = StuffDocumentsChain(\n",
    "    llm_chain=llm_chain,\n",
    "    document_prompt=document_prompt,\n",
    "    document_variable_name=\"context\"\n",
    ")\n",
    "\n",
    "#调用\n",
    "WorkChain.run(\n",
    "    input_documents=reo_docs,\n",
    "    query=\"我最喜欢做什么事情？\"\n",
    ")\n"
   ]
  }
 ],
 "metadata": {
  "kernelspec": {
   "display_name": "langchains",
   "language": "python",
   "name": "python3"
  },
  "language_info": {
   "codemirror_mode": {
    "name": "ipython",
    "version": 3
   },
   "file_extension": ".py",
   "mimetype": "text/x-python",
   "name": "python",
   "nbconvert_exporter": "python",
   "pygments_lexer": "ipython3",
   "version": "3.11.4"
  }
 },
 "nbformat": 4,
 "nbformat_minor": 2
}
