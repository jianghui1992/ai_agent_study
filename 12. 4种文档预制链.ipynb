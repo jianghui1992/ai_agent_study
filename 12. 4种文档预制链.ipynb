{
 "cells": [
  {
   "cell_type": "code",
   "id": "initial_id",
   "metadata": {
    "collapsed": true,
    "ExecuteTime": {
     "end_time": "2024-04-27T00:27:51.154488Z",
     "start_time": "2024-04-27T00:27:51.141057Z"
    }
   },
   "source": [
    "from dotenv import load_dotenv\n",
    "\n",
    "load_dotenv(\"openai.env\")\n"
   ],
   "outputs": [
    {
     "data": {
      "text/plain": [
       "True"
      ]
     },
     "execution_count": 1,
     "metadata": {},
     "output_type": "execute_result"
    }
   ],
   "execution_count": 1
  },
  {
   "metadata": {},
   "cell_type": "markdown",
   "source": [
    "# stuffChain\n",
    "\n",
    "最常见的文档链，将文档直接塞进prompt中，为LLM回答问题提供上下文资料，适合小文档场景\n",
    "<hr>"
   ],
   "id": "8cc2e0fa0d5a1090"
  },
  {
   "metadata": {
    "ExecuteTime": {
     "end_time": "2024-04-27T00:27:57.728251Z",
     "start_time": "2024-04-27T00:27:52.249354Z"
    }
   },
   "cell_type": "code",
   "source": [
    "from langchain.chains.combine_documents.stuff import StuffDocumentsChain\n",
    "from langchain.chains import LLMChain\n",
    "from langchain.prompts import PromptTemplate\n",
    "from langchain.document_loaders import Docx2txtLoader\n",
    "from langchain.chat_models import ChatOpenAI\n",
    "\n",
    "loader = Docx2txtLoader(\"testfile/loader.docx\")\n",
    "docs = loader.load()\n",
    "\n",
    "prompt_template = \"\"\"对以下文字做简洁的总结:\n",
    "--------------------\n",
    "{text}\n",
    "--------------------\n",
    "简洁的总结:\"\"\"\n",
    "\n",
    "prompt = PromptTemplate.from_template(prompt_template)\n",
    "\n",
    "llm = ChatOpenAI(temperature=0, model=\"gpt-3.5-turbo-0125\")\n",
    "# stuff_chain是子啊llmChain上做的一层封装\n",
    "llm_chain = LLMChain(llm=llm, prompt=prompt)\n",
    "stuff_chain = StuffDocumentsChain(llm_chain=llm_chain, document_variable_name=\"text\")\n",
    "\n",
    "print(stuff_chain.invoke(docs))"
   ],
   "id": "53c0c0e6a8a5f943",
   "outputs": [
    {
     "name": "stderr",
     "output_type": "stream",
     "text": [
      "/Users/jianghui/PycharmProjects/ai_agent_study/venv/lib/python3.11/site-packages/langchain_core/_api/deprecation.py:119: LangChainDeprecationWarning: The class `ChatOpenAI` was deprecated in LangChain 0.0.10 and will be removed in 0.2.0. An updated version of the class exists in the langchain-openai package and should be used instead. To use it run `pip install -U langchain-openai` and import as `from langchain_openai import ChatOpenAI`.\n",
      "  warn_deprecated(\n"
     ]
    },
    {
     "name": "stdout",
     "output_type": "stream",
     "text": [
      "{'input_documents': [Document(page_content='一、公司基本信息\\n\\n名称：宏图科技发展有限公司\\n\\n注册地址：江苏省南京市雨花台区软件大道101号\\n\\n成立日期：2011年5月16日\\n\\n法定代表人：李强\\n\\n注册资本：人民币5000万元\\n\\n员工人数：约200人\\n\\n联系电话：025-88888888\\n\\n电子邮箱：info@hongtutech.cn\\n\\n\\n\\n二、财务状况概述\\n\\n截至2023年第一季度，宏图科技发展有限公司财务状况堪忧，具体情况如下：\\n\\n1. 资产总额：人民币1.2亿元，较上年同期下降30%。\\n\\n2. 负债总额：人民币1.8亿元，较上年同期上升50%，资不抵债。\\n\\n3. 营业收入：人民币3000万元，较上年同期下降60%。\\n\\n4. 净利润：亏损人民币800万元，去年同期为盈利人民币200万元。\\n\\n5. 现金流量：公司现金流量紧张，现金及现金等价物余额为人民币500万元，难以支撑日常运营。\\n\\n6. 存货：存货积压严重，库存商品价值约为人民币400万元，大部分产品滞销。\\n\\n7. 应收账款：应收账款高达人民币600万元，回收难度大，坏账准备不足。\\n\\n\\n\\n三、主营业务及市场状况\\n\\n宏图科技发展有限公司主要从事计算机软件的研发与销售。近年来，由于市场竞争加剧、技术更新换代速度快和管理层决策失误等原因，公司主营业务收入持续下降。目前，公司面临的主要问题有：\\n\\n1. 产品同质化严重，缺乏核心竞争力。\\n\\n2. 新产品开发进度缓慢，未能及时抓住市场需求变化。\\n\\n3. 市场营销策略不当，导致市场份额大幅缩水。\\n\\n4. 行业内新兴企业崛起迅速，原有客户流失严重。\\n\\n\\n\\n四、债权债务情况\\n\\n宏图科技发展有限公司目前面临的债务问题严峻，具体情况如下：\\n\\n1. 银行贷款：公司向多家银行贷款总额达人民币1亿元，部分贷款已逾期未还。\\n\\n2. 供应商欠款：因现金流紧张，公司拖欠供应商货款达人民币300万元。\\n\\n3. 员工工资及社保：由于资金链断裂，公司拖欠员工工资及社保费用共计人民币200万元。\\n\\n4. 其他应付款项：包括税费、租赁费用等其他应付款项累计约人民币100万元。\\n\\n\\n\\n五、资产清单\\n\\n宏图科技发展有限公司目前拥有的主要资产包括：\\n\\n1. 固定资产：公司办公用房和设备原值合计人民币800万元，累计折旧约400万元。\\n\\n2. 无形资产：包括软件著作权、专利权等无形资产原值合计人民币300万元。\\n\\n3. 存货资产：存货包括已完成软件产品和半成品，价值约为人民币400万元。\\n\\n4. 应收账款：主要包括对外销售软件的应收账款合计人民币600万元。\\n\\n\\n\\n六、潜在风险及预警\\n\\n1. 经营风险：由于连续亏损，公司可能面临破产清算的风险。\\n\\n2. 债务风险：负债累累，若短期内无法筹措足够资金偿还债务，可能面临诉讼或资产被查封的风险。\\n\\n3. 市场风险：行业竞争加剧和市场需求不明朗，可能导致公司未来业绩继续恶化。\\n\\n4. 法律风险：因未能按时支付债务和相关费用，可能面临相关法律诉讼或处罚。\\n\\n\\n\\n七、结论与建议\\n\\n综上所述，宏图科技发展有限公司目前处于财务困境之中，若无外部资金注入或业务转型成功，短期内难以扭转局势。对于不良资产收购方来说，在考虑收购宏图科技的相关资产前，建议进行深入的尽职调查，并制定详细的风险控制和资产处置方案。同时，在估值时应充分考虑到公司所面临的各种潜在风险和清收难度。\\n\\n\\n\\n报告撰写日期：2023年4月20日', metadata={'source': 'testfile/loader.docx'})], 'output_text': '宏图科技发展有限公司财务状况堪忧，资产下降、负债上升、营收减少、亏损严重，面临债务问题和市场挑战。建议进行深入尽职调查，制定风险控制方案。'}\n"
     ]
    }
   ],
   "execution_count": 2
  },
  {
   "metadata": {
    "ExecuteTime": {
     "end_time": "2024-04-27T00:28:16.650389Z",
     "start_time": "2024-04-27T00:28:12.954759Z"
    }
   },
   "cell_type": "code",
   "source": [
    "# 也使用预封装好的load_summarize_chain实现总结能力\n",
    "# 缺点:返回结果是固定的英文\n",
    "from langchain.document_loaders import Docx2txtLoader\n",
    "from langchain.chat_models import ChatOpenAI\n",
    "from langchain.chains.summarize import load_summarize_chain\n",
    "\n",
    "loader = Docx2txtLoader(\"testfile/loader.docx\")\n",
    "docs = loader.load()\n",
    "llm = ChatOpenAI(temperature=0, model=\"gpt-3.5-turbo-0125\")\n",
    "chain = load_summarize_chain(llm=llm, chain_type=\"stuff\", verbose=True)\n",
    "chain.run(docs)"
   ],
   "id": "82ea721c58056566",
   "outputs": [
    {
     "name": "stderr",
     "output_type": "stream",
     "text": [
      "/Users/jianghui/PycharmProjects/ai_agent_study/venv/lib/python3.11/site-packages/langchain_core/_api/deprecation.py:119: LangChainDeprecationWarning: The method `Chain.run` was deprecated in langchain 0.1.0 and will be removed in 0.2.0. Use invoke instead.\n",
      "  warn_deprecated(\n"
     ]
    },
    {
     "name": "stdout",
     "output_type": "stream",
     "text": [
      "\n",
      "\n",
      "\u001B[1m> Entering new StuffDocumentsChain chain...\u001B[0m\n",
      "\n",
      "\n",
      "\u001B[1m> Entering new LLMChain chain...\u001B[0m\n",
      "Prompt after formatting:\n",
      "\u001B[32;1m\u001B[1;3mWrite a concise summary of the following:\n",
      "\n",
      "\n",
      "\"一、公司基本信息\n",
      "\n",
      "名称：宏图科技发展有限公司\n",
      "\n",
      "注册地址：江苏省南京市雨花台区软件大道101号\n",
      "\n",
      "成立日期：2011年5月16日\n",
      "\n",
      "法定代表人：李强\n",
      "\n",
      "注册资本：人民币5000万元\n",
      "\n",
      "员工人数：约200人\n",
      "\n",
      "联系电话：025-88888888\n",
      "\n",
      "电子邮箱：info@hongtutech.cn\n",
      "\n",
      "\n",
      "\n",
      "二、财务状况概述\n",
      "\n",
      "截至2023年第一季度，宏图科技发展有限公司财务状况堪忧，具体情况如下：\n",
      "\n",
      "1. 资产总额：人民币1.2亿元，较上年同期下降30%。\n",
      "\n",
      "2. 负债总额：人民币1.8亿元，较上年同期上升50%，资不抵债。\n",
      "\n",
      "3. 营业收入：人民币3000万元，较上年同期下降60%。\n",
      "\n",
      "4. 净利润：亏损人民币800万元，去年同期为盈利人民币200万元。\n",
      "\n",
      "5. 现金流量：公司现金流量紧张，现金及现金等价物余额为人民币500万元，难以支撑日常运营。\n",
      "\n",
      "6. 存货：存货积压严重，库存商品价值约为人民币400万元，大部分产品滞销。\n",
      "\n",
      "7. 应收账款：应收账款高达人民币600万元，回收难度大，坏账准备不足。\n",
      "\n",
      "\n",
      "\n",
      "三、主营业务及市场状况\n",
      "\n",
      "宏图科技发展有限公司主要从事计算机软件的研发与销售。近年来，由于市场竞争加剧、技术更新换代速度快和管理层决策失误等原因，公司主营业务收入持续下降。目前，公司面临的主要问题有：\n",
      "\n",
      "1. 产品同质化严重，缺乏核心竞争力。\n",
      "\n",
      "2. 新产品开发进度缓慢，未能及时抓住市场需求变化。\n",
      "\n",
      "3. 市场营销策略不当，导致市场份额大幅缩水。\n",
      "\n",
      "4. 行业内新兴企业崛起迅速，原有客户流失严重。\n",
      "\n",
      "\n",
      "\n",
      "四、债权债务情况\n",
      "\n",
      "宏图科技发展有限公司目前面临的债务问题严峻，具体情况如下：\n",
      "\n",
      "1. 银行贷款：公司向多家银行贷款总额达人民币1亿元，部分贷款已逾期未还。\n",
      "\n",
      "2. 供应商欠款：因现金流紧张，公司拖欠供应商货款达人民币300万元。\n",
      "\n",
      "3. 员工工资及社保：由于资金链断裂，公司拖欠员工工资及社保费用共计人民币200万元。\n",
      "\n",
      "4. 其他应付款项：包括税费、租赁费用等其他应付款项累计约人民币100万元。\n",
      "\n",
      "\n",
      "\n",
      "五、资产清单\n",
      "\n",
      "宏图科技发展有限公司目前拥有的主要资产包括：\n",
      "\n",
      "1. 固定资产：公司办公用房和设备原值合计人民币800万元，累计折旧约400万元。\n",
      "\n",
      "2. 无形资产：包括软件著作权、专利权等无形资产原值合计人民币300万元。\n",
      "\n",
      "3. 存货资产：存货包括已完成软件产品和半成品，价值约为人民币400万元。\n",
      "\n",
      "4. 应收账款：主要包括对外销售软件的应收账款合计人民币600万元。\n",
      "\n",
      "\n",
      "\n",
      "六、潜在风险及预警\n",
      "\n",
      "1. 经营风险：由于连续亏损，公司可能面临破产清算的风险。\n",
      "\n",
      "2. 债务风险：负债累累，若短期内无法筹措足够资金偿还债务，可能面临诉讼或资产被查封的风险。\n",
      "\n",
      "3. 市场风险：行业竞争加剧和市场需求不明朗，可能导致公司未来业绩继续恶化。\n",
      "\n",
      "4. 法律风险：因未能按时支付债务和相关费用，可能面临相关法律诉讼或处罚。\n",
      "\n",
      "\n",
      "\n",
      "七、结论与建议\n",
      "\n",
      "综上所述，宏图科技发展有限公司目前处于财务困境之中，若无外部资金注入或业务转型成功，短期内难以扭转局势。对于不良资产收购方来说，在考虑收购宏图科技的相关资产前，建议进行深入的尽职调查，并制定详细的风险控制和资产处置方案。同时，在估值时应充分考虑到公司所面临的各种潜在风险和清收难度。\n",
      "\n",
      "\n",
      "\n",
      "报告撰写日期：2023年4月20日\"\n",
      "\n",
      "\n",
      "CONCISE SUMMARY:\u001B[0m\n",
      "\n",
      "\u001B[1m> Finished chain.\u001B[0m\n",
      "\n",
      "\u001B[1m> Finished chain.\u001B[0m\n"
     ]
    },
    {
     "data": {
      "text/plain": [
       "\"Hongtu Technology Development Co., Ltd. is a company based in Nanjing, Jiangsu Province, China, specializing in computer software development and sales. However, as of the first quarter of 2023, the company is facing financial difficulties with decreasing assets, increasing liabilities, and significant losses in revenue and profits. The company is also struggling with product homogeneity, slow product development, and market share loss. Additionally, the company is burdened with substantial debts, including bank loans, supplier debts, and unpaid employee wages and social security. The company's assets mainly consist of fixed assets, intangible assets, inventory, and accounts receivable. The company is at risk of bankruptcy, debt default, market challenges, and legal issues. It is recommended for potential buyers to conduct thorough due diligence and risk assessment before considering acquiring the company's assets.\""
      ]
     },
     "execution_count": 3,
     "metadata": {},
     "output_type": "execute_result"
    }
   ],
   "execution_count": 3
  },
  {
   "metadata": {},
   "cell_type": "markdown",
   "source": [
    "# refineChain\n",
    "通过循环引用LLM，将文档不断投喂，并产生各种中间答案，适合逻辑有上下文关联的文档，不适合交叉引用的文档\n",
    "<hr>"
   ],
   "id": "d61eb3c820413147"
  },
  {
   "metadata": {
    "ExecuteTime": {
     "end_time": "2024-04-24T09:33:18.803605Z",
     "start_time": "2024-04-24T09:33:18.764758Z"
    }
   },
   "cell_type": "code",
   "source": [
    "from langchain.prompts import PromptTemplate\n",
    "from langchain.chat_models import ChatOpenAI\n",
    "from langchain.document_loaders import Docx2txtLoader\n",
    "from langchain.text_splitter import CharacterTextSplitter\n",
    "from langchain.chains.summarize import load_summarize_chain\n",
    "\n",
    "#load\n",
    "loader = Docx2txtLoader(\"testfile/loader.docx\")\n",
    "docs = loader.load()\n",
    "#split\n",
    "text_split = CharacterTextSplitter.from_tiktoken_encoder(chunk_size=1000, chunk_overlap=0)\n",
    "split_docs = text_split.split_documents(docs)\n",
    "\n",
    "prompt_template = \"\"\"对以下文字做简洁的总结:\n",
    "{text}\n",
    "简洁的总结:\"\"\"\n",
    "prompt = PromptTemplate.from_template(prompt_template)\n",
    "\n",
    "refine_template = (\n",
    "    \"你的任务是产生最终摘要\\n\"\n",
    "    \"我们已经提供了一个到某个特定点的现有回答:{existing_answer}\\n\"\n",
    "    \"我们有机会通过下面的一些更多上下文来完善现有的回答(仅在需要时使用).\\n\"\n",
    "    \"------------\\n\"\n",
    "    \"{text}\\n\"\n",
    "    \"------------\\n\"\n",
    "    \"根据新的上下文，用中文完善原始回答.\\n\"\n",
    "    \"如果上下文没有用处,返回原始回答.\"\n",
    ")\n",
    "\n",
    "refine_prompt = PromptTemplate.from_template(refine_template)\n",
    "llm = ChatOpenAI(temperature=0, model=\"gpt-3.5-turbo\")\n",
    "\n",
    "chain = load_summarize_chain(\n",
    "    llm=llm,\n",
    "    chain_type=\"refine\",\n",
    "    question_prompt=prompt,\n",
    "    refine_prompt=refine_prompt,\n",
    "    # 返回中间结果,方便我们观察\n",
    "    return_intermediate_steps=True,\n",
    "    input_key=\"documents\",\n",
    "    output_key=\"output_text\",\n",
    ")"
   ],
   "id": "3f8142f1c7d99c19",
   "outputs": [],
   "execution_count": 15
  },
  {
   "metadata": {
    "ExecuteTime": {
     "end_time": "2024-04-24T09:33:37.390950Z",
     "start_time": "2024-04-24T09:33:20.251360Z"
    }
   },
   "cell_type": "code",
   "source": [
    "result = chain({\"documents\": split_docs}, return_only_outputs=True)\n",
    "print(result[\"output_text\"])"
   ],
   "id": "3237f747208c1292",
   "outputs": [
    {
     "name": "stdout",
     "output_type": "stream",
     "text": [
      "宏图科技发展有限公司成立于2011年，注册资本5000万元，员工约200人。然而，公司面临着财务状况堪忧的问题，资产1.2亿元，负债1.8亿元，营业收入下降60%，净利润亏损800万元。主营业务为计算机软件研发与销售，但产品同质化严重，缺乏核心竞争力。新产品开发进度缓慢，未能及时抓住市场需求变化。市场营销策略不当，导致市场份额大幅缩水。行业内新兴企业崛起迅速，原有客户流失严重。此外，公司面临着严峻的债权债务情况，包括银行贷款、供应商欠款、员工工资及社保、其他应付款项等，总额达人民币1.6亿元。公司拥有的主要资产包括固定资产、无形资产、存货资产和应收账款，总价值约为人民币2.1亿元。因此，宏图科技发展有限公司存在着潜在风险和预警，包括经营风险、债务风险、市场风险和法律风险。综上所述，宏图科技发展有限公司目前处于财务困境之中，若无外部资金注入或业务转型成功，短期内难以扭转局势。对于不良资产收购方来说，在考虑收购宏图科技的相关资产前，建议进行深入的尽职调查，并制定详细的风险控制和资产处置方案。同时，在估值时应充分考虑到公司所面临的各种潜在风险和清收难度。报告撰写日期：2023年4月20日\n"
     ]
    }
   ],
   "execution_count": 16
  },
  {
   "metadata": {
    "ExecuteTime": {
     "end_time": "2024-04-24T09:33:48.528855Z",
     "start_time": "2024-04-24T09:33:48.525601Z"
    }
   },
   "cell_type": "code",
   "source": "print(\"\\n\\n\".join(result[\"intermediate_steps\"][:3]))",
   "id": "1c186a89289c5f0e",
   "outputs": [
    {
     "name": "stdout",
     "output_type": "stream",
     "text": [
      "宏图科技发展有限公司成立于2011年，注册资本5000万元，员工约200人。财务状况堪忧，资产1.2亿元，负债1.8亿元，营业收入下降60%，净利润亏损800万元。主营业务为计算机软件研发与销售，面临市场竞争激烈和管理层决策失误等问题。\n",
      "\n",
      "宏图科技发展有限公司成立于2011年，注册资本5000万元，员工约200人。然而，公司面临着财务状况堪忧的问题，资产1.2亿元，负债1.8亿元，营业收入下降60%，净利润亏损800万元。主营业务为计算机软件研发与销售，但产品同质化严重，缺乏核心竞争力。新产品开发进度缓慢，未能及时抓住市场需求变化。市场营销策略不当，导致市场份额大幅缩水。行业内新兴企业崛起迅速，原有客户流失严重。此外，公司面临着严峻的债权债务情况，包括银行贷款、供应商欠款、员工工资及社保、其他应付款项等，总额达人民币1.6亿元。公司拥有的主要资产包括固定资产、无形资产、存货资产和应收账款，总价值约为人民币2.1亿元。因此，宏图科技发展有限公司存在着潜在风险和预警。\n",
      "\n",
      "宏图科技发展有限公司成立于2011年，注册资本5000万元，员工约200人。然而，公司面临着财务状况堪忧的问题，资产1.2亿元，负债1.8亿元，营业收入下降60%，净利润亏损800万元。主营业务为计算机软件研发与销售，但产品同质化严重，缺乏核心竞争力。新产品开发进度缓慢，未能及时抓住市场需求变化。市场营销策略不当，导致市场份额大幅缩水。行业内新兴企业崛起迅速，原有客户流失严重。此外，公司面临着严峻的债权债务情况，包括银行贷款、供应商欠款、员工工资及社保、其他应付款项等，总额达人民币1.6亿元。公司拥有的主要资产包括固定资产、无形资产、存货资产和应收账款，总价值约为人民币2.1亿元。因此，宏图科技发展有限公司存在着潜在风险和预警，包括经营风险、债务风险、市场风险和法律风险。综上所述，宏图科技发展有限公司目前处于财务困境之中，若无外部资金注入或业务转型成功，短期内难以扭转局势。对于不良资产收购方来说，在考虑收购宏图科技的相关资产前，建议进行深入的尽职调查，并制定详细的风险控制和资产处置方案。同时，在估值时应充分考虑到公司所面临的各种潜在风险和清收难度。报告撰写日期：2023年4月20日\n"
     ]
    }
   ],
   "execution_count": 17
  },
  {
   "metadata": {},
   "cell_type": "markdown",
   "source": [
    "# Map reduce\n",
    "先将每个文档或文档块分别投喂给LLM，并得到结果集（Map步骤），然后通过一个文档合并链，获得一个输出结果（Reduce步骤）\n",
    "![map](map.png)\n",
    "![reduce](reduce.jpg)\n",
    "<hr>"
   ],
   "id": "d53d49f00db9efd"
  },
  {
   "metadata": {
    "ExecuteTime": {
     "end_time": "2024-04-24T10:20:41.456717Z",
     "start_time": "2024-04-24T10:20:41.412965Z"
    }
   },
   "cell_type": "code",
   "source": [
    "from langchain.chains import MapReduceDocumentsChain\n",
    "from langchain.chains import ReduceDocumentsChain\n",
    "from langchain.chains.combine_documents.stuff import StuffDocumentsChain\n",
    "from langchain.prompts import PromptTemplate\n",
    "from langchain.chat_models import ChatOpenAI\n",
    "from langchain.chains import LLMChain\n",
    "from langchain.document_loaders import Docx2txtLoader\n",
    "from langchain.text_splitter import CharacterTextSplitter\n",
    "\n",
    "#load\n",
    "loader = Docx2txtLoader(\"testfile/loader.docx\")\n",
    "docs = loader.load()\n",
    "#split text\n",
    "text_splitter = CharacterTextSplitter.from_tiktoken_encoder(chunk_size=1000, chunk_overlap=0)\n",
    "split_docs = text_splitter.split_documents(docs)\n",
    "\n",
    "#map chain\n",
    "map_template = \"\"\"对以下文字做简洁的总结:\n",
    "\"{content}\"\n",
    "简洁的总结:\"\"\"\n",
    "map_prompt = PromptTemplate.from_template(map_template)\n",
    "llm = ChatOpenAI(temperature=0, model=\"gpt-3.5-turbo-0125\")\n",
    "map_chain = LLMChain(llm=llm, prompt=map_prompt)\n",
    "\n",
    "#reduce chain\n",
    "reduce_template = \"\"\"以下是一个摘要集合:\n",
    "{doc_summaries}\n",
    "将上述摘要与所有关键细节进行总结.\n",
    "总结:\"\"\"\n",
    "reduce_prompt = PromptTemplate.from_template(reduce_template)\n",
    "reduce_chain = LLMChain(prompt=reduce_prompt, llm=llm)\n",
    "stuff_chain = StuffDocumentsChain(llm_chain=reduce_chain, document_variable_name=\"doc_summaries\")\n",
    "\n",
    "reduce_final_chain = ReduceDocumentsChain(\n",
    "    combine_documents_chain=stuff_chain,\n",
    "    #超过4000个token就会切入到下一个stuff_chain\n",
    "    collapse_documents_chain=stuff_chain,\n",
    "    token_max=4000,\n",
    ")\n",
    "\n",
    "#map reduce chain\n",
    "map_reduce_chain = MapReduceDocumentsChain(\n",
    "    llm_chain=map_chain,\n",
    "    document_variable_name=\"content\",\n",
    "    reduce_documents_chain=reduce_final_chain,\n",
    ")"
   ],
   "id": "70d0d396135527a",
   "outputs": [],
   "execution_count": 18
  },
  {
   "metadata": {
    "ExecuteTime": {
     "end_time": "2024-04-24T10:21:57.221105Z",
     "start_time": "2024-04-24T10:21:36.518589Z"
    }
   },
   "cell_type": "code",
   "source": [
    "result = map_reduce_chain.invoke(split_docs)\n",
    "print(result)"
   ],
   "id": "f4da23c2bb6ae881",
   "outputs": [
    {
     "name": "stdout",
     "output_type": "stream",
     "text": [
      "{'input_documents': [Document(page_content='一、公司基本信息\\n\\n名称：宏图科技发展有限公司\\n\\n注册地址：江苏省南京市雨花台区软件大道101号\\n\\n成立日期：2011年5月16日\\n\\n法定代表人：李强\\n\\n注册资本：人民币5000万元\\n\\n员工人数：约200人\\n\\n联系电话：025-88888888\\n\\n电子邮箱：info@hongtutech.cn\\n\\n二、财务状况概述\\n\\n截至2023年第一季度，宏图科技发展有限公司财务状况堪忧，具体情况如下：\\n\\n1. 资产总额：人民币1.2亿元，较上年同期下降30%。\\n\\n2. 负债总额：人民币1.8亿元，较上年同期上升50%，资不抵债。\\n\\n3. 营业收入：人民币3000万元，较上年同期下降60%。\\n\\n4. 净利润：亏损人民币800万元，去年同期为盈利人民币200万元。\\n\\n5. 现金流量：公司现金流量紧张，现金及现金等价物余额为人民币500万元，难以支撑日常运营。\\n\\n6. 存货：存货积压严重，库存商品价值约为人民币400万元，大部分产品滞销。\\n\\n7. 应收账款：应收账款高达人民币600万元，回收难度大，坏账准备不足。\\n\\n三、主营业务及市场状况\\n\\n宏图科技发展有限公司主要从事计算机软件的研发与销售。近年来，由于市场竞争加剧、技术更新换代速度快和管理层决策失误等原因，公司主营业务收入持续下降。目前，公司面临的主要问题有：', metadata={'source': 'testfile/loader.docx'}), Document(page_content='1. 产品同质化严重，缺乏核心竞争力。\\n\\n2. 新产品开发进度缓慢，未能及时抓住市场需求变化。\\n\\n3. 市场营销策略不当，导致市场份额大幅缩水。\\n\\n4. 行业内新兴企业崛起迅速，原有客户流失严重。\\n\\n四、债权债务情况\\n\\n宏图科技发展有限公司目前面临的债务问题严峻，具体情况如下：\\n\\n1. 银行贷款：公司向多家银行贷款总额达人民币1亿元，部分贷款已逾期未还。\\n\\n2. 供应商欠款：因现金流紧张，公司拖欠供应商货款达人民币300万元。\\n\\n3. 员工工资及社保：由于资金链断裂，公司拖欠员工工资及社保费用共计人民币200万元。\\n\\n4. 其他应付款项：包括税费、租赁费用等其他应付款项累计约人民币100万元。\\n\\n五、资产清单\\n\\n宏图科技发展有限公司目前拥有的主要资产包括：\\n\\n1. 固定资产：公司办公用房和设备原值合计人民币800万元，累计折旧约400万元。\\n\\n2. 无形资产：包括软件著作权、专利权等无形资产原值合计人民币300万元。\\n\\n3. 存货资产：存货包括已完成软件产品和半成品，价值约为人民币400万元。\\n\\n4. 应收账款：主要包括对外销售软件的应收账款合计人民币600万元。\\n\\n六、潜在风险及预警', metadata={'source': 'testfile/loader.docx'}), Document(page_content='1. 经营风险：由于连续亏损，公司可能面临破产清算的风险。\\n\\n2. 债务风险：负债累累，若短期内无法筹措足够资金偿还债务，可能面临诉讼或资产被查封的风险。\\n\\n3. 市场风险：行业竞争加剧和市场需求不明朗，可能导致公司未来业绩继续恶化。\\n\\n4. 法律风险：因未能按时支付债务和相关费用，可能面临相关法律诉讼或处罚。\\n\\n七、结论与建议\\n\\n综上所述，宏图科技发展有限公司目前处于财务困境之中，若无外部资金注入或业务转型成功，短期内难以扭转局势。对于不良资产收购方来说，在考虑收购宏图科技的相关资产前，建议进行深入的尽职调查，并制定详细的风险控制和资产处置方案。同时，在估值时应充分考虑到公司所面临的各种潜在风险和清收难度。\\n\\n报告撰写日期：2023年4月20日', metadata={'source': 'testfile/loader.docx'})], 'output_text': '宏图科技发展有限公司成立于2011年，注册资本5000万元，员工约200人。财务状况堪忧，资产1.2亿元，负债1.8亿元，营业收入3000万元，净利润亏损800万元。主营业务为计算机软件研发与销售，面临市场竞争激烈和管理层决策失误等问题。公司面临产品同质化、市场份额下降、债务问题严峻，资产主要包括固定资产、无形资产、存货资产和应收账款。存在潜在风险和预警，需要外部资金注入或业务转型才能扭转局势。建议潜在收购方进行深入尽职调查，制定风险控制和资产处置方案。'}\n"
     ]
    }
   ],
   "execution_count": 21
  },
  {
   "metadata": {},
   "cell_type": "markdown",
   "source": [
    "# Map re-rank\n",
    "\n",
    "先将每个文档或文档块投喂给LLM,并对每个文档或文档块生成问题的答案进行打分，然后将打分最高的文档或文档块作为最终答案返回\n",
    "<hr>"
   ],
   "id": "aa04eb1035cb31a"
  },
  {
   "metadata": {
    "ExecuteTime": {
     "end_time": "2024-04-24T10:25:18.204864Z",
     "start_time": "2024-04-24T10:25:18.132320Z"
    }
   },
   "cell_type": "code",
   "source": [
    "from langchain.document_loaders import PyPDFLoader\n",
    "from langchain.text_splitter import CharacterTextSplitter\n",
    "from langchain.chat_models import ChatOpenAI\n",
    "from langchain.chains.qa_with_sources import load_qa_with_sources_chain\n",
    "from langchain.prompts import PromptTemplate\n",
    "\n",
    "llm = ChatOpenAI(temperature=0, model_name=\"gpt-3.5-turbo-1125\")\n",
    "#load\n",
    "loader = Docx2txtLoader(\"testfile/loader.docx\")\n",
    "docs = loader.load()\n",
    "#split\n",
    "text_splitter = CharacterTextSplitter.from_tiktoken_encoder(chunk_size=500, chunk_overlap=0)\n",
    "split_docs = text_splitter.split_documents(docs)\n",
    "\n",
    "chain = load_qa_with_sources_chain(\n",
    "    ChatOpenAI(temperature=0),\n",
    "    chain_type=\"map_rerank\",\n",
    "    metadata_keys=['source'],\n",
    "    # 展示中间过程\n",
    "    return_intermediate_steps=True\n",
    ")\n",
    "print(chain)"
   ],
   "id": "71aabd8879a31f52",
   "outputs": [
    {
     "name": "stdout",
     "output_type": "stream",
     "text": [
      "llm_chain=LLMChain(prompt=PromptTemplate(input_variables=['context', 'question'], output_parser=RegexParser(regex='(.*?)\\\\nScore: (\\\\d*)', output_keys=['answer', 'score']), template=\"Use the following pieces of context to answer the question at the end. If you don't know the answer, just say that you don't know, don't try to make up an answer.\\n\\nIn addition to giving an answer, also return a score of how fully it answered the user's question. This should be in the following format:\\n\\nQuestion: [question here]\\nHelpful Answer: [answer here]\\nScore: [score between 0 and 100]\\n\\nHow to determine the score:\\n- Higher is a better answer\\n- Better responds fully to the asked question, with sufficient level of detail\\n- If you do not know the answer based on the context, that should be a score of 0\\n- Don't be overconfident!\\n\\nExample #1\\n\\nContext:\\n---------\\nApples are red\\n---------\\nQuestion: what color are apples?\\nHelpful Answer: red\\nScore: 100\\n\\nExample #2\\n\\nContext:\\n---------\\nit was night and the witness forgot his glasses. he was not sure if it was a sports car or an suv\\n---------\\nQuestion: what type was the car?\\nHelpful Answer: a sports car or an suv\\nScore: 60\\n\\nExample #3\\n\\nContext:\\n---------\\nPears are either red or orange\\n---------\\nQuestion: what color are apples?\\nHelpful Answer: This document does not answer the question\\nScore: 0\\n\\nBegin!\\n\\nContext:\\n---------\\n{context}\\n---------\\nQuestion: {question}\\nHelpful Answer:\"), llm=ChatOpenAI(client=<openai.resources.chat.completions.Completions object at 0x11eeb3b90>, async_client=<openai.resources.chat.completions.AsyncCompletions object at 0x11ef1d2d0>, temperature=0.0, openai_api_key='sk-bQGeRZevfQI95TPb1b1a3e80011c4f368150270f687dF163', openai_api_base='https://api.aihubmix.com/v1', openai_proxy='https://api.aihubmix.com/v1')) document_variable_name='context' rank_key='score' answer_key='answer' metadata_keys=['source'] return_intermediate_steps=True\n"
     ]
    }
   ],
   "execution_count": 26
  },
  {
   "metadata": {},
   "cell_type": "code",
   "outputs": [],
   "execution_count": null,
   "source": [
    "\"\"\"\n",
    "Use the following pieces of context to answer the question in chinese at the end. If you don't know the answer, just say that you don't know, don't try to make up an answer.\\n\\n\n",
    "In addition to giving an answer, also return a score of how fully it answered the user's question. This should be in the following format:\\n\\n\n",
    "Question: [question here]\\n\n",
    "Helpful Answer: [answer here]\\n\n",
    "Score: [score between 0 and 100]\\n\\n\n",
    "How to determine the score:\\n\n",
    "- Higher is a better answer\\n\n",
    "- Better responds fully to the asked question, with sufficient level of detail\\n\n",
    "- If you do not know the answer based on the context, that should be a score of 0\\n\n",
    "- Don't be overconfident!\\n\\n\n",
    "Example #1\\n\\n\n",
    "Context:\\n\n",
    "---------\\n\n",
    "Apples are red\\n\n",
    "---------\\n\n",
    "Question: what color are apples?\\n\n",
    "Helpful Answer: red\\n\n",
    "Score: 100\\n\\n\n",
    "Example #2\\n\\n\n",
    "Context:\\n\n",
    "---------\\n\n",
    "it was night and the witness forgot his glasses. he was not sure if it was a sports car or an suv\\n\n",
    "---------\\n\n",
    "Question: what type was the car?\\n\n",
    "Helpful Answer: a sports car or an suv\\n\n",
    "Score: 60\\n\\n\n",
    "Example #3\\n\\n\n",
    "Context:\\n---------\\n\n",
    "Pears are either red or orange\\n\n",
    "---------\\n\n",
    "Question: what color are apples?\\n\n",
    "Helpful Answer: This document does not answer the question\\n\n",
    "Score: 0\\n\\n\n",
    "Begin!\\n\\n\n",
    "Context:\\n\n",
    "---------\\n\n",
    "{context}\\n\n",
    "---------\\n\n",
    "Question: {question}\\n\n",
    "Helpful Answer:\n",
    "\"\"\""
   ],
   "id": "6396eb80603a8ed"
  },
  {
   "metadata": {
    "ExecuteTime": {
     "end_time": "2024-04-24T10:26:30.287242Z",
     "start_time": "2024-04-24T10:26:16.559042Z"
    }
   },
   "cell_type": "code",
   "source": [
    "query = \"what is this document talk about?answer by chinese\"\n",
    "result = chain({\"input_documents\":split_docs,\"question\":query})\n",
    "result"
   ],
   "id": "82b341e6e7425c89",
   "outputs": [
    {
     "name": "stderr",
     "output_type": "stream",
     "text": [
      "/Users/jianghui/PycharmProjects/ai_agent_study/venv/lib/python3.11/site-packages/langchain/chains/llm.py:344: UserWarning: The apply_and_parse method is deprecated, instead pass an output parser directly to LLMChain.\n",
      "  warnings.warn(\n"
     ]
    },
    {
     "data": {
      "text/plain": [
       "{'input_documents': [Document(page_content='一、公司基本信息\\n\\n名称：宏图科技发展有限公司\\n\\n注册地址：江苏省南京市雨花台区软件大道101号\\n\\n成立日期：2011年5月16日\\n\\n法定代表人：李强\\n\\n注册资本：人民币5000万元\\n\\n员工人数：约200人\\n\\n联系电话：025-88888888\\n\\n电子邮箱：info@hongtutech.cn\\n\\n二、财务状况概述\\n\\n截至2023年第一季度，宏图科技发展有限公司财务状况堪忧，具体情况如下：\\n\\n1. 资产总额：人民币1.2亿元，较上年同期下降30%。\\n\\n2. 负债总额：人民币1.8亿元，较上年同期上升50%，资不抵债。\\n\\n3. 营业收入：人民币3000万元，较上年同期下降60%。', metadata={'source': 'testfile/loader.docx'}),\n",
       "  Document(page_content='4. 净利润：亏损人民币800万元，去年同期为盈利人民币200万元。\\n\\n5. 现金流量：公司现金流量紧张，现金及现金等价物余额为人民币500万元，难以支撑日常运营。\\n\\n6. 存货：存货积压严重，库存商品价值约为人民币400万元，大部分产品滞销。\\n\\n7. 应收账款：应收账款高达人民币600万元，回收难度大，坏账准备不足。\\n\\n三、主营业务及市场状况', metadata={'source': 'testfile/loader.docx'}),\n",
       "  Document(page_content='宏图科技发展有限公司主要从事计算机软件的研发与销售。近年来，由于市场竞争加剧、技术更新换代速度快和管理层决策失误等原因，公司主营业务收入持续下降。目前，公司面临的主要问题有：\\n\\n1. 产品同质化严重，缺乏核心竞争力。\\n\\n2. 新产品开发进度缓慢，未能及时抓住市场需求变化。\\n\\n3. 市场营销策略不当，导致市场份额大幅缩水。\\n\\n4. 行业内新兴企业崛起迅速，原有客户流失严重。\\n\\n四、债权债务情况\\n\\n宏图科技发展有限公司目前面临的债务问题严峻，具体情况如下：', metadata={'source': 'testfile/loader.docx'}),\n",
       "  Document(page_content='1. 银行贷款：公司向多家银行贷款总额达人民币1亿元，部分贷款已逾期未还。\\n\\n2. 供应商欠款：因现金流紧张，公司拖欠供应商货款达人民币300万元。\\n\\n3. 员工工资及社保：由于资金链断裂，公司拖欠员工工资及社保费用共计人民币200万元。\\n\\n4. 其他应付款项：包括税费、租赁费用等其他应付款项累计约人民币100万元。\\n\\n五、资产清单\\n\\n宏图科技发展有限公司目前拥有的主要资产包括：\\n\\n1. 固定资产：公司办公用房和设备原值合计人民币800万元，累计折旧约400万元。', metadata={'source': 'testfile/loader.docx'}),\n",
       "  Document(page_content='2. 无形资产：包括软件著作权、专利权等无形资产原值合计人民币300万元。\\n\\n3. 存货资产：存货包括已完成软件产品和半成品，价值约为人民币400万元。\\n\\n4. 应收账款：主要包括对外销售软件的应收账款合计人民币600万元。\\n\\n六、潜在风险及预警\\n\\n1. 经营风险：由于连续亏损，公司可能面临破产清算的风险。\\n\\n2. 债务风险：负债累累，若短期内无法筹措足够资金偿还债务，可能面临诉讼或资产被查封的风险。\\n\\n3. 市场风险：行业竞争加剧和市场需求不明朗，可能导致公司未来业绩继续恶化。', metadata={'source': 'testfile/loader.docx'}),\n",
       "  Document(page_content='4. 法律风险：因未能按时支付债务和相关费用，可能面临相关法律诉讼或处罚。\\n\\n七、结论与建议\\n\\n综上所述，宏图科技发展有限公司目前处于财务困境之中，若无外部资金注入或业务转型成功，短期内难以扭转局势。对于不良资产收购方来说，在考虑收购宏图科技的相关资产前，建议进行深入的尽职调查，并制定详细的风险控制和资产处置方案。同时，在估值时应充分考虑到公司所面临的各种潜在风险和清收难度。\\n\\n报告撰写日期：2023年4月20日', metadata={'source': 'testfile/loader.docx'})],\n",
       " 'question': 'what is this document talk about?answer by chinese',\n",
       " 'source': 'testfile/loader.docx',\n",
       " 'intermediate_steps': [{'answer': '这份文件主要介绍了宏图科技发展有限公司的基本信息和财务状况概述，包括公司名称、注册地址、成立日期、法定代表人、注册资本、员工人数、联系电话、电子邮箱等基本信息，以及截至2023年第一季度公司的资产总额、负债总额、营业收入等财务数据。 ',\n",
       "   'score': '100'},\n",
       "  {'answer': '这份文件讨论的是一家公司的财务状况和主营业务及市场状况。', 'score': '100'},\n",
       "  {'answer': '这份文件主要谈论了宏图科技发展有限公司目前面临的问题，包括产品同质化、新产品开发、市场营销策略和债权债务情况。',\n",
       "   'score': '100'},\n",
       "  {'answer': '这份文件主要讨论了公司的财务状况，包括银行贷款、供应商欠款、员工工资及社保、其他应付款项以及资产清单。',\n",
       "   'score': '100'},\n",
       "  {'answer': '这份文件主要涉及公司的资产情况，包括无形资产、存货资产和应收账款，以及潜在的经营风险、债务风险和市场风险。',\n",
       "   'score': '100'},\n",
       "  {'answer': '这份文件讨论了宏图科技发展有限公司目前的财务困境和可能面临的法律风险，以及对于不良资产收购方的建议。报告撰写日期为2023年4月20日。',\n",
       "   'score': '100'}],\n",
       " 'output_text': '这份文件主要介绍了宏图科技发展有限公司的基本信息和财务状况概述，包括公司名称、注册地址、成立日期、法定代表人、注册资本、员工人数、联系电话、电子邮箱等基本信息，以及截至2023年第一季度公司的资产总额、负债总额、营业收入等财务数据。 '}"
      ]
     },
     "execution_count": 27,
     "metadata": {},
     "output_type": "execute_result"
    }
   ],
   "execution_count": 27
  }
 ],
 "metadata": {
  "kernelspec": {
   "display_name": "Python 3",
   "language": "python",
   "name": "python3"
  },
  "language_info": {
   "codemirror_mode": {
    "name": "ipython",
    "version": 2
   },
   "file_extension": ".py",
   "mimetype": "text/x-python",
   "name": "python",
   "nbconvert_exporter": "python",
   "pygments_lexer": "ipython2",
   "version": "2.7.6"
  }
 },
 "nbformat": 4,
 "nbformat_minor": 5
}
