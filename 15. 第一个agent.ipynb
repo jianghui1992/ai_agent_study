{
 "cells": [
  {
   "cell_type": "code",
   "id": "initial_id",
   "metadata": {
    "collapsed": true,
    "ExecuteTime": {
     "end_time": "2024-04-25T03:10:37.817047Z",
     "start_time": "2024-04-25T03:10:37.804087Z"
    }
   },
   "source": [
    "from dotenv import load_dotenv\n",
    "\n",
    "load_dotenv(\"openai.env\")"
   ],
   "outputs": [
    {
     "data": {
      "text/plain": [
       "True"
      ]
     },
     "execution_count": 3,
     "metadata": {},
     "output_type": "execute_result"
    }
   ],
   "execution_count": 3
  },
  {
   "metadata": {},
   "cell_type": "markdown",
   "source": [
    "# 第一个agent\n",
    "- 会做数学题\n",
    "- 不知道答案的时候可以搜索\n",
    "<hr>"
   ],
   "id": "f10402daa0c91798"
  },
  {
   "metadata": {},
   "cell_type": "markdown",
   "source": [
    "搭建工具\n",
    "- serpai是一个聚合搜索引擎，需要安装谷歌搜索包以及申请账号 https://serpapi.com/manage-api-key\n",
    "- llm-math是一个封装好的数学计算链"
   ],
   "id": "5cdfe9b9fda954fa"
  },
  {
   "metadata": {},
   "cell_type": "code",
   "source": "! pip install google-search-results",
   "id": "66b03ed69edf5260",
   "outputs": [],
   "execution_count": null
  },
  {
   "metadata": {
    "ExecuteTime": {
     "end_time": "2024-04-25T03:13:46.173584Z",
     "start_time": "2024-04-25T03:13:46.128246Z"
    }
   },
   "cell_type": "code",
   "source": [
    "#定义llm\n",
    "from langchain.chat_models import ChatOpenAI\n",
    "import os\n",
    "from langchain.agents import initialize_agent\n",
    "from langchain.agents import AgentType\n",
    "from langchain.agents import load_tools\n",
    "\n",
    "llm = ChatOpenAI(temperature=0, model=\"gpt-3.5-turbo\")\n",
    "# serpapi申请的密钥\n",
    "os.environ[\"SERPAPI_API_KEY\"] = \"32109af1224c43d11768866970c41e4e681e03bf220c7bd2b9a16af817431719\"\n",
    "\n",
    "tools = load_tools([\"serpapi\", \"llm-math\"], llm=llm)\n",
    "\n",
    "agent = initialize_agent(\n",
    "    tools,\n",
    "    llm,\n",
    "    agent=AgentType.ZERO_SHOT_REACT_DESCRIPTION,  #这里有不同的类型\n",
    "    verbose=True,  #是否打印日志\n",
    ")"
   ],
   "id": "68c30cf3927cad67",
   "outputs": [],
   "execution_count": 10
  },
  {
   "metadata": {
    "ExecuteTime": {
     "end_time": "2024-04-25T03:16:57.761388Z",
     "start_time": "2024-04-25T03:16:43.775726Z"
    }
   },
   "cell_type": "code",
   "source": "agent(\"请问现任的美国总统是谁？他的年龄的平方是多少?\")",
   "id": "16a156f8c955561f",
   "outputs": [
    {
     "name": "stderr",
     "output_type": "stream",
     "text": [
      "/Users/jianghui/PycharmProjects/ai_agent_study/venv/lib/python3.11/site-packages/langchain_core/_api/deprecation.py:117: LangChainDeprecationWarning: The function `__call__` was deprecated in LangChain 0.1.0 and will be removed in 0.2.0. Use invoke instead.\n",
      "  warn_deprecated(\n"
     ]
    },
    {
     "name": "stdout",
     "output_type": "stream",
     "text": [
      "\n",
      "\n",
      "\u001B[1m> Entering new AgentExecutor chain...\u001B[0m\n",
      "\u001B[32;1m\u001B[1;3mI need to find out who the current president of the United States is and then calculate the square of his age.\n",
      "Action: Search\n",
      "Action Input: current president of the United States\u001B[0m\n",
      "Observation: \u001B[36;1m\u001B[1;3mJoe Biden\u001B[0m\n",
      "Thought:\u001B[32;1m\u001B[1;3mNow I need to find out Joe Biden's age and calculate the square of it.\n",
      "Action: Search\n",
      "Action Input: Joe Biden age\u001B[0m\n",
      "Observation: \u001B[36;1m\u001B[1;3m81 years\u001B[0m\n",
      "Thought:\u001B[32;1m\u001B[1;3mNow I need to calculate the square of 81.\n",
      "Action: Calculator\n",
      "Action Input: 81^2\u001B[0m\n",
      "Observation: \u001B[33;1m\u001B[1;3mAnswer: 6561\u001B[0m\n",
      "Thought:\u001B[32;1m\u001B[1;3mI now know the final answer.\n",
      "Final Answer: Joe Biden, 81 years old, square of his age is 6561.\u001B[0m\n",
      "\n",
      "\u001B[1m> Finished chain.\u001B[0m\n"
     ]
    },
    {
     "data": {
      "text/plain": [
       "{'input': '请问现任的美国总统是谁？他的年龄的平方是多少?',\n",
       " 'output': 'Joe Biden, 81 years old, square of his age is 6561.'}"
      ]
     },
     "execution_count": 14,
     "metadata": {},
     "output_type": "execute_result"
    }
   ],
   "execution_count": 14
  },
  {
   "metadata": {},
   "cell_type": "code",
   "outputs": [],
   "execution_count": null,
   "source": "",
   "id": "2b55035989d4885a"
  }
 ],
 "metadata": {
  "kernelspec": {
   "display_name": "Python 3",
   "language": "python",
   "name": "python3"
  },
  "language_info": {
   "codemirror_mode": {
    "name": "ipython",
    "version": 2
   },
   "file_extension": ".py",
   "mimetype": "text/x-python",
   "name": "python",
   "nbconvert_exporter": "python",
   "pygments_lexer": "ipython2",
   "version": "2.7.6"
  }
 },
 "nbformat": 4,
 "nbformat_minor": 5
}
