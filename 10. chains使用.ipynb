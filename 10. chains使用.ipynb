{
 "cells": [
  {
   "cell_type": "code",
   "id": "initial_id",
   "metadata": {
    "collapsed": true,
    "ExecuteTime": {
     "end_time": "2024-04-22T14:31:29.144601Z",
     "start_time": "2024-04-22T14:31:29.130945Z"
    }
   },
   "source": [
    "import os\n",
    "from dotenv import load_dotenv\n",
    "\n",
    "# Load environment variables from openai.env file\n",
    "load_dotenv(\"openai.env\")\n",
    "# Read the OPENAI_API_KEY from the environment\n",
    "# api_key = os.getenv(\"OPENAI_API_KEY\")\n",
    "# api_base = os.getenv(\"OPENAI_API_BASE\")\n",
    "# os.environ[\"OPENAI_API_KEY\"] = api_key\n",
    "# os.environ[\"OPENAI_API_BASE\"] = api_base"
   ],
   "outputs": [
    {
     "data": {
      "text/plain": [
       "True"
      ]
     },
     "execution_count": 2,
     "metadata": {},
     "output_type": "execute_result"
    }
   ],
   "execution_count": 2
  },
  {
   "metadata": {},
   "cell_type": "markdown",
   "source": "# 4中通用内置链的使用",
   "id": "4bc5dc225376dc54"
  },
  {
   "metadata": {},
   "cell_type": "markdown",
   "source": "## LLMChain",
   "id": "c3587e3deb4a94cd"
  },
  {
   "metadata": {
    "ExecuteTime": {
     "end_time": "2024-04-22T14:32:16.707397Z",
     "start_time": "2024-04-22T14:32:15.471340Z"
    }
   },
   "cell_type": "code",
   "source": [
    "from langchain.chains import LLMChain\n",
    "from langchain.llms import OpenAI\n",
    "from langchain.prompts import PromptTemplate\n",
    "\n",
    "llm = OpenAI(temperature=0)\n",
    "prompt_template = \"帮我给{product}想三个可以注册的域名?\"\n",
    "llm_chain = LLMChain(\n",
    "    llm=llm,\n",
    "    prompt=PromptTemplate.from_template(prompt_template),\n",
    "    verbose=True,  #是否开启日志,方便我们调试\n",
    ")\n",
    "\n",
    "llm_chain(\"大头\")"
   ],
   "id": "e53de389a4fdaf0e",
   "outputs": [
    {
     "name": "stdout",
     "output_type": "stream",
     "text": [
      "\n",
      "\n",
      "\u001B[1m> Entering new LLMChain chain...\u001B[0m\n",
      "Prompt after formatting:\n",
      "\u001B[32;1m\u001B[1;3m帮我给大头想三个可以注册的域名?\u001B[0m\n",
      "\n",
      "\u001B[1m> Finished chain.\u001B[0m\n"
     ]
    },
    {
     "data": {
      "text/plain": [
       "{'product': '大头',\n",
       " 'text': '\\n\\n1. BigHeadEmpire.com\\n2. GiantNoggin.com\\n3. MassiveMelon.com'}"
      ]
     },
     "execution_count": 4,
     "metadata": {},
     "output_type": "execute_result"
    }
   ],
   "execution_count": 4
  },
  {
   "metadata": {},
   "cell_type": "markdown",
   "source": "## 顺序链 SimpleSequentialChain & SequentialChain",
   "id": "67bfa6946b1ddcbe"
  },
  {
   "metadata": {
    "ExecuteTime": {
     "end_time": "2024-04-22T14:36:06.947738Z",
     "start_time": "2024-04-22T14:36:02.100186Z"
    }
   },
   "cell_type": "code",
   "source": [
    "#simpleSequentialChain 只支持固定的链路\n",
    "# A->B-C->D...上一个链的输出固定是下一个链的输入\n",
    "\n",
    "from langchain.chains import LLMChain\n",
    "from langchain.chat_models import ChatOpenAI\n",
    "from langchain.prompts import ChatPromptTemplate\n",
    "from langchain.chains import SimpleSequentialChain\n",
    "\n",
    "chat_model = ChatOpenAI(temperature=0, model=\"gpt-3.5-turbo\")\n",
    "\n",
    "#chain 1\n",
    "first_prompt = ChatPromptTemplate.from_template(\"帮我给{product}的公司起一个响亮容易记忆的名字?\")\n",
    "chain_one = LLMChain(llm=chat_model, prompt=first_prompt, verbose=True)\n",
    "\n",
    "#chain 2\n",
    "second_prompt = ChatPromptTemplate.from_template(\"用5个词来描述一下这个公司名字：{company_name}\")\n",
    "chain_two = LLMChain(llm=chat_model, prompt=second_prompt, verbose=True)\n",
    "\n",
    "# 组合\n",
    "overall_simple_chain = SimpleSequentialChain(\n",
    "    chains=[chain_one, chain_two],\n",
    "    verbose=True,  #打开日志\n",
    ")\n",
    "\n",
    "overall_simple_chain(\"大头\")"
   ],
   "id": "c00f9eaba1170e60",
   "outputs": [
    {
     "name": "stdout",
     "output_type": "stream",
     "text": [
      "\n",
      "\n",
      "\u001B[1m> Entering new SimpleSequentialChain chain...\u001B[0m\n",
      "\n",
      "\n",
      "\u001B[1m> Entering new LLMChain chain...\u001B[0m\n",
      "Prompt after formatting:\n",
      "\u001B[32;1m\u001B[1;3mHuman: 帮我给大头的公司起一个响亮容易记忆的名字?\u001B[0m\n",
      "\n",
      "\u001B[1m> Finished chain.\u001B[0m\n",
      "\u001B[36;1m\u001B[1;3m\"头顶科技\"\u001B[0m\n",
      "\n",
      "\n",
      "\u001B[1m> Entering new LLMChain chain...\u001B[0m\n",
      "Prompt after formatting:\n",
      "\u001B[32;1m\u001B[1;3mHuman: 用5个词来描述一下这个公司名字：\"头顶科技\"\u001B[0m\n",
      "\n",
      "\u001B[1m> Finished chain.\u001B[0m\n",
      "\u001B[33;1m\u001B[1;3m创新、科技、前沿、领先、智能\u001B[0m\n",
      "\n",
      "\u001B[1m> Finished chain.\u001B[0m\n"
     ]
    },
    {
     "data": {
      "text/plain": [
       "{'input': '大头', 'output': '创新、科技、前沿、领先、智能'}"
      ]
     },
     "execution_count": 9,
     "metadata": {},
     "output_type": "execute_result"
    }
   ],
   "execution_count": 9
  },
  {
   "metadata": {
    "ExecuteTime": {
     "end_time": "2024-04-22T14:43:34.783347Z",
     "start_time": "2024-04-22T14:43:09.221708Z"
    }
   },
   "cell_type": "code",
   "source": [
    "#SequentialChain 支持多个链路的顺序执行\n",
    "# A->B\n",
    "#      -> E\n",
    "# C->D\n",
    "# 可以支持前置多个链的输出作为后置链的输入\n",
    "\n",
    "from langchain.chains import LLMChain\n",
    "from langchain.chat_models import ChatOpenAI\n",
    "from langchain.prompts import ChatPromptTemplate\n",
    "from langchain.chains import SequentialChain\n",
    "\n",
    "llm = ChatOpenAI(temperature=0, model=\"gpt-3.5-turbo\")\n",
    "\n",
    "#chain 1 任务：翻译成中文\n",
    "first_prompt = ChatPromptTemplate.from_template(\"把下面内容翻译成中文:\\n\\n{content}\")\n",
    "chain_one = LLMChain(llm=llm, prompt=first_prompt, verbose=True, output_key=\"Chinese_Review\")\n",
    "\n",
    "#chain 2 任务：对翻译后的中文进行总结摘要 input_key是上一个chain的output_key\n",
    "second_prompt = ChatPromptTemplate.from_template(\"用一句话总结下面内容:\\n\\n{Chinese_Review}\")\n",
    "chain_two = LLMChain(llm=llm, prompt=second_prompt, verbose=True, output_key=\"Chinese_Summary\")\n",
    "\n",
    "#chain 3 任务:智能识别语言 input_key是上一个chain的output_key\n",
    "third_prompt = ChatPromptTemplate.from_template(\"下面内容是什么语言:\\n\\n{Chinese_Summary}\")\n",
    "chain_three = LLMChain(llm=llm, prompt=third_prompt, verbose=True, output_key=\"Language\")\n",
    "\n",
    "#chain 4 任务:针对摘要使用指定语言进行评论 input_key是上一个chain的output_key   \n",
    "fourth_prompt = ChatPromptTemplate.from_template(\n",
    "    \"请使用指定的语言对以下内容进行回复:\\n\\n内容:{Chinese_Summary}\\n\\n语言:{Language}\")\n",
    "chain_four = LLMChain(llm=llm, prompt=fourth_prompt, verbose=True, output_key=\"Reply\")\n",
    "\n",
    "# 组合\n",
    "\n",
    "\n",
    "#overall 任务：翻译成中文->对翻译后的中文进行总结摘要->智能识别语言->针对摘要使用指定语言进行评论\n",
    "overall_chain = SequentialChain(\n",
    "    chains=[chain_one, chain_two, chain_three, chain_four],\n",
    "    verbose=True,\n",
    "    input_variables=[\"content\"],\n",
    "    output_variables=[\"Chinese_Review\", \"Chinese_Summary\", \"Language\", \"Reply\"],\n",
    ")\n",
    "\n",
    "#读取文件\n",
    "content = \"Recently, we welcomed several new team members who have made significant contributions to their respective departments. I would like to recognize Jane Smith (SSN: 049-45-5928) for her outstanding performance in customer service. Jane has consistently received positive feedback from our clients. Furthermore, please remember that the open enrollment period for our employee benefits program is fast approaching. Should you have any questions or require assistance, please contact our HR representative, Michael Johnson (phone: 418-492-3850, email: michael.johnson@example.com).\"\n",
    "overall_chain(content)"
   ],
   "id": "fc7dd79bf093730",
   "outputs": [
    {
     "name": "stdout",
     "output_type": "stream",
     "text": [
      "\n",
      "\n",
      "\u001B[1m> Entering new SequentialChain chain...\u001B[0m\n",
      "\n",
      "\n",
      "\u001B[1m> Entering new LLMChain chain...\u001B[0m\n",
      "Prompt after formatting:\n",
      "\u001B[32;1m\u001B[1;3mHuman: 把下面内容翻译成中文:\n",
      "\n",
      "Recently, we welcomed several new team members who have made significant contributions to their respective departments. I would like to recognize Jane Smith (SSN: 049-45-5928) for her outstanding performance in customer service. Jane has consistently received positive feedback from our clients. Furthermore, please remember that the open enrollment period for our employee benefits program is fast approaching. Should you have any questions or require assistance, please contact our HR representative, Michael Johnson (phone: 418-492-3850, email: michael.johnson@example.com).\u001B[0m\n",
      "\n",
      "\u001B[1m> Finished chain.\u001B[0m\n",
      "\n",
      "\n",
      "\u001B[1m> Entering new LLMChain chain...\u001B[0m\n",
      "Prompt after formatting:\n",
      "\u001B[32;1m\u001B[1;3mHuman: 用一句话总结下面内容:\n",
      "\n",
      "最近，我们欢迎了几位新的团队成员，他们对各自部门都做出了重要贡献。我想要表彰简·史密斯（社保号：049-45-5928）在客户服务方面的出色表现。简一直以来都收到客户的积极反馈。此外，请记住，我们员工福利计划的开放报名期即将来临。如果您有任何问题或需要帮助，请联系我们的人力资源代表迈克尔·约翰逊（电话：418-492-3850，电子邮件：michael.johnson@example.com）。\u001B[0m\n",
      "\n",
      "\u001B[1m> Finished chain.\u001B[0m\n",
      "\n",
      "\n",
      "\u001B[1m> Entering new LLMChain chain...\u001B[0m\n",
      "Prompt after formatting:\n",
      "\u001B[32;1m\u001B[1;3mHuman: 下面内容是什么语言:\n",
      "\n",
      "新团队成员表现出色，员工福利计划即将开放报名。\u001B[0m\n",
      "\n",
      "\u001B[1m> Finished chain.\u001B[0m\n",
      "\n",
      "\n",
      "\u001B[1m> Entering new LLMChain chain...\u001B[0m\n",
      "Prompt after formatting:\n",
      "\u001B[32;1m\u001B[1;3mHuman: 请使用指定的语言对以下内容进行回复:\n",
      "\n",
      "内容:新团队成员表现出色，员工福利计划即将开放报名。\n",
      "\n",
      "语言:中文。\u001B[0m\n",
      "\n",
      "\u001B[1m> Finished chain.\u001B[0m\n",
      "\n",
      "\u001B[1m> Finished chain.\u001B[0m\n"
     ]
    },
    {
     "data": {
      "text/plain": [
       "{'content': 'Recently, we welcomed several new team members who have made significant contributions to their respective departments. I would like to recognize Jane Smith (SSN: 049-45-5928) for her outstanding performance in customer service. Jane has consistently received positive feedback from our clients. Furthermore, please remember that the open enrollment period for our employee benefits program is fast approaching. Should you have any questions or require assistance, please contact our HR representative, Michael Johnson (phone: 418-492-3850, email: michael.johnson@example.com).',\n",
       " 'Chinese_Review': '最近，我们欢迎了几位新的团队成员，他们对各自部门都做出了重要贡献。我想要表彰简·史密斯（社保号：049-45-5928）在客户服务方面的出色表现。简一直以来都收到客户的积极反馈。此外，请记住，我们员工福利计划的开放报名期即将来临。如果您有任何问题或需要帮助，请联系我们的人力资源代表迈克尔·约翰逊（电话：418-492-3850，电子邮件：michael.johnson@example.com）。',\n",
       " 'Chinese_Summary': '新团队成员表现出色，员工福利计划即将开放报名。',\n",
       " 'Language': '中文。',\n",
       " 'Reply': '团队新成员的出色表现令人鼓舞！员工福利计划即将开放报名，这是个好消息！我们的团队将更加团结，共同迈向成功。'}"
      ]
     },
     "execution_count": 14,
     "metadata": {},
     "output_type": "execute_result"
    }
   ],
   "execution_count": 14
  },
  {
   "metadata": {},
   "cell_type": "markdown",
   "source": "## RouterChain",
   "id": "eb41e63a48fc163e"
  },
  {
   "metadata": {
    "ExecuteTime": {
     "end_time": "2024-04-22T14:46:18.088260Z",
     "start_time": "2024-04-22T14:46:18.083937Z"
    }
   },
   "cell_type": "code",
   "source": [
    "from langchain.prompts import PromptTemplate\n",
    "\n",
    "#物理链\n",
    "physics_template = \"\"\"您是一位非常聪明的物理教授.\\n\n",
    "您擅长以简洁易懂的方式回答物理问题.\\n\n",
    "当您不知道问题答案的时候，您会坦率承认不知道.\\n\n",
    "下面是一个问题:\n",
    "{input}\"\"\"\n",
    "physics_prompt = PromptTemplate.from_template(physics_template)\n",
    "\n",
    "#数学链\n",
    "math_template = \"\"\"您是一位非常优秀的数学教授.\\n\n",
    "您擅长回答数学问题.\\n\n",
    "您之所以如此优秀，是因为您能够将困难问题分解成组成的部分，回答这些部分，然后将它们组合起来，回答更广泛的问题.\\n\n",
    "下面是一个问题:\n",
    "{input}\"\"\"\n",
    "math_prompt = PromptTemplate.from_template(math_template)"
   ],
   "id": "f57a869d758898b3",
   "outputs": [],
   "execution_count": 15
  },
  {
   "metadata": {
    "ExecuteTime": {
     "end_time": "2024-04-22T14:48:49.770872Z",
     "start_time": "2024-04-22T14:48:49.313663Z"
    }
   },
   "cell_type": "code",
   "source": [
    "from langchain.chains import ConversationChain\n",
    "from langchain.chains import LLMChain\n",
    "from langchain.llms import OpenAI\n",
    "\n",
    "# 定义提示词模板集合\n",
    "prompt_infos = [\n",
    "    {\n",
    "        \"name\": \"physics\",\n",
    "        \"description\": \"擅长回答物理问题\",\n",
    "        \"prompt_template\": physics_template,\n",
    "    },\n",
    "    {\n",
    "        \"name\": \"math\",\n",
    "        \"description\": \"擅长回答数学问题\",\n",
    "        \"prompt_template\": math_template,\n",
    "    },\n",
    "]\n",
    "\n",
    "llm = OpenAI(temperature=0, model=\"gpt-3.5-turbo-instruct\")\n",
    "\n",
    "# 组装destination_chains\n",
    "destination_chains = {}\n",
    "for p_info in prompt_infos:\n",
    "    name = p_info[\"name\"]\n",
    "    prompt_template = p_info[\"prompt_template\"]\n",
    "    prompt = PromptTemplate(template=prompt_template, input_variables=[\"input\"])\n",
    "    chain = LLMChain(llm=llm, prompt=prompt)\n",
    "    destination_chains[name] = chain\n",
    "\n",
    "# 当没有每种配置好的链时,走默认对话链(就是默认的没有预制提示词的和大模型对话)    \n",
    "default_chain = ConversationChain(llm=llm, output_key=\"text\")"
   ],
   "id": "fb077befea686449",
   "outputs": [],
   "execution_count": 16
  },
  {
   "metadata": {
    "ExecuteTime": {
     "end_time": "2024-04-22T14:48:55.282382Z",
     "start_time": "2024-04-22T14:48:55.277709Z"
    }
   },
   "cell_type": "code",
   "source": "destination_chains",
   "id": "717708d4bca0a01b",
   "outputs": [
    {
     "data": {
      "text/plain": [
       "{'physics': LLMChain(prompt=PromptTemplate(input_variables=['input'], template='您是一位非常聪明的物理教授.\\n\\n您擅长以简洁易懂的方式回答物理问题.\\n\\n当您不知道问题答案的时候，您会坦率承认不知道.\\n\\n下面是一个问题:\\n{input}'), llm=OpenAI(client=<openai.resources.completions.Completions object at 0x1196c9c90>, async_client=<openai.resources.completions.AsyncCompletions object at 0x11a338cd0>, temperature=0.0, openai_api_key='sk-bQGeRZevfQI95TPb1b1a3e80011c4f368150270f687dF163', openai_api_base='https://api.aihubmix.com/v1', openai_proxy='https://api.aihubmix.com/v1')),\n",
       " 'math': LLMChain(prompt=PromptTemplate(input_variables=['input'], template='您是一位非常优秀的数学教授.\\n\\n您擅长回答数学问题.\\n\\n您之所以如此优秀，是因为您能够将困难问题分解成组成的部分，回答这些部分，然后将它们组合起来，回答更广泛的问题.\\n\\n下面是一个问题:\\n{input}'), llm=OpenAI(client=<openai.resources.completions.Completions object at 0x1196c9c90>, async_client=<openai.resources.completions.AsyncCompletions object at 0x11a338cd0>, temperature=0.0, openai_api_key='sk-bQGeRZevfQI95TPb1b1a3e80011c4f368150270f687dF163', openai_api_base='https://api.aihubmix.com/v1', openai_proxy='https://api.aihubmix.com/v1'))}"
      ]
     },
     "execution_count": 17,
     "metadata": {},
     "output_type": "execute_result"
    }
   ],
   "execution_count": 17
  },
  {
   "metadata": {
    "ExecuteTime": {
     "end_time": "2024-04-22T14:52:20.866779Z",
     "start_time": "2024-04-22T14:52:20.860858Z"
    }
   },
   "cell_type": "code",
   "source": [
    "from langchain.chains.router.llm_router import LLMRouterChain, RouterOutputParser\n",
    "from langchain.chains.router.multi_prompt_prompt import MULTI_PROMPT_ROUTER_TEMPLATE\n",
    "from langchain.chains.router import MultiPromptChain\n",
    "\n",
    "destinations = [f\"{p['name']}:{p['description']}\" for p in prompt_infos]\n",
    "destinations_str = \"\\n\".join(destinations)\n",
    "router_template = MULTI_PROMPT_ROUTER_TEMPLATE.format(destinations=destinations_str)\n",
    "print(destinations)\n",
    "print(destinations_str)\n",
    "print(MULTI_PROMPT_ROUTER_TEMPLATE)\n",
    "\n",
    "router_prompt = PromptTemplate(\n",
    "    template=router_template,\n",
    "    input_variables=[\"input\"],\n",
    "    output_parser=RouterOutputParser()\n",
    ")\n",
    "router_chain = LLMRouterChain.from_llm(llm, router_prompt)\n",
    "\n",
    "chain = MultiPromptChain(\n",
    "    router_chain=router_chain,\n",
    "    destination_chains=destination_chains,\n",
    "    default_chain=default_chain,\n",
    "    verbose=True\n",
    ")"
   ],
   "id": "ca3d745ac04a240e",
   "outputs": [
    {
     "name": "stdout",
     "output_type": "stream",
     "text": [
      "['physics:擅长回答物理问题', 'math:擅长回答数学问题']\n",
      "physics:擅长回答物理问题\n",
      "math:擅长回答数学问题\n",
      "Given a raw text input to a language model select the model prompt best suited for the input. You will be given the names of the available prompts and a description of what the prompt is best suited for. You may also revise the original input if you think that revising it will ultimately lead to a better response from the language model.\n",
      "\n",
      "<< FORMATTING >>\n",
      "Return a markdown code snippet with a JSON object formatted to look like:\n",
      "```json\n",
      "{{{{\n",
      "    \"destination\": string \\ name of the prompt to use or \"DEFAULT\"\n",
      "    \"next_inputs\": string \\ a potentially modified version of the original input\n",
      "}}}}\n",
      "```\n",
      "\n",
      "REMEMBER: \"destination\" MUST be one of the candidate prompt names specified below OR it can be \"DEFAULT\" if the input is not well suited for any of the candidate prompts.\n",
      "REMEMBER: \"next_inputs\" can just be the original input if you don't think any modifications are needed.\n",
      "\n",
      "<< CANDIDATE PROMPTS >>\n",
      "{destinations}\n",
      "\n",
      "<< INPUT >>\n",
      "{{input}}\n",
      "\n",
      "<< OUTPUT (must include ```json at the start of the response) >>\n",
      "<< OUTPUT (must end with ```) >>\n",
      "\n"
     ]
    }
   ],
   "execution_count": 21
  },
  {
   "metadata": {
    "ExecuteTime": {
     "end_time": "2024-04-22T14:52:43.684719Z",
     "start_time": "2024-04-22T14:52:39.972841Z"
    }
   },
   "cell_type": "code",
   "source": "chain.invoke(\"什么是牛顿第一定律?\")",
   "id": "6000e865b5ec7b5d",
   "outputs": [
    {
     "name": "stdout",
     "output_type": "stream",
     "text": [
      "\n",
      "\n",
      "\u001B[1m> Entering new MultiPromptChain chain...\u001B[0m\n",
      "physics: {'input': '什么是牛顿第一定律?'}\n",
      "\u001B[1m> Finished chain.\u001B[0m\n"
     ]
    },
    {
     "data": {
      "text/plain": [
       "{'input': '什么是牛顿第一定律?',\n",
       " 'text': '\\n\\n牛顿第一定律，也被称为惯性定律，是牛顿力学的基础定律之一。它指出，一个物体如果没有受到外力作用，将保持静止或匀速直线运动的状态。换句话说，物体的运动状态不会自发改变，除非受到外力的作用。这个定律也可以表述为“物体的惯性会保持不变”。'}"
      ]
     },
     "execution_count": 23,
     "metadata": {},
     "output_type": "execute_result"
    }
   ],
   "execution_count": 23
  },
  {
   "metadata": {
    "ExecuteTime": {
     "end_time": "2024-04-22T14:53:16.651910Z",
     "start_time": "2024-04-22T14:53:11.107077Z"
    }
   },
   "cell_type": "code",
   "source": "chain.run(\"2+2等于几?\")",
   "id": "961ccc8d710f6758",
   "outputs": [
    {
     "name": "stdout",
     "output_type": "stream",
     "text": [
      "\n",
      "\n",
      "\u001B[1m> Entering new MultiPromptChain chain...\u001B[0m\n",
      "math: {'input': '2+2等于几?'}\n",
      "\u001B[1m> Finished chain.\u001B[0m\n"
     ]
    },
    {
     "data": {
      "text/plain": [
       "'\\n\\n2+2等于4.这是一个简单的问题，但是您能够将它分解成两个单独的数字相加，然后得出答案。这种能力使您成为一位出色的数学教授。您的学生们一定很幸运能够有您这样的老师指导他们学习数学。您的才华和热情将激发他们对数学的兴趣，并帮助他们克服困难，取得成功。感谢您为数学教育做出的贡献，您是一位非常优秀的数学教授！'"
      ]
     },
     "execution_count": 24,
     "metadata": {},
     "output_type": "execute_result"
    }
   ],
   "execution_count": 24
  },
  {
   "metadata": {
    "ExecuteTime": {
     "end_time": "2024-04-22T14:53:22.344824Z",
     "start_time": "2024-04-22T14:53:19.105617Z"
    }
   },
   "cell_type": "code",
   "source": "chain.run(\"一片二片三四片，下一句?\")",
   "id": "ad5b4c61ca7ac563",
   "outputs": [
    {
     "name": "stdout",
     "output_type": "stream",
     "text": [
      "\n",
      "\n",
      "\u001B[1m> Entering new MultiPromptChain chain...\u001B[0m\n",
      "None: {'input': '一片二片三四片，下一句?'}\n",
      "\u001B[1m> Finished chain.\u001B[0m\n"
     ]
    },
    {
     "data": {
      "text/plain": [
       "' 下一句是五六片七八片。这是一首古老的童谣，通常用来教小孩子数数。它的意思是一片、二片、三四片、五六片、七八片，依次类推。你知道吗，这首童谣的起源可以追溯到古希腊时期，当时它是用来教小孩子数数的。后来，它被翻译成不同的语言，流传到世界各地。现在，它已经成为了许多国家和地区的传统童谣之一。'"
      ]
     },
     "execution_count": 25,
     "metadata": {},
     "output_type": "execute_result"
    }
   ],
   "execution_count": 25
  },
  {
   "metadata": {},
   "cell_type": "markdown",
   "source": "## TransformChain",
   "id": "3cc7913b1b2bae64"
  },
  {
   "metadata": {
    "ExecuteTime": {
     "end_time": "2024-04-22T14:56:32.185159Z",
     "start_time": "2024-04-22T14:56:32.153964Z"
    }
   },
   "cell_type": "code",
   "source": [
    "from langchain.prompts import PromptTemplate\n",
    "from langchain.chains import (LLMChain, SimpleSequentialChain, TransformChain)\n",
    "from langchain.llms import OpenAI\n",
    "\n",
    "with open(\"testfile/letter.txt\") as f:\n",
    "    letters = f.read()\n",
    "\n",
    "\n",
    "def transform_func(inputs: dict) -> dict:\n",
    "    text = inputs[\"text\"]\n",
    "    shortened_text = \"\\n\\n\".join(text.split(\"\\n\\n\")[:3])\n",
    "    return {\"output_text\": shortened_text}\n",
    "\n",
    "\n",
    "#文档转换链\n",
    "transform_chain = TransformChain(\n",
    "    input_variables=[\"text\"],\n",
    "    output_variables=[\"output_text\"],\n",
    "    transform=transform_func\n",
    ")\n",
    "\n",
    "template = \"\"\"对下面的文字进行总结:\n",
    "{output_text}\n",
    "总结:\"\"\"\n",
    "\n",
    "prompt = PromptTemplate(template=template, input_variables=[\"output_text\"], )\n",
    "llm_chain = LLMChain(llm=OpenAI(), prompt=prompt)\n",
    "\n",
    "#使用顺序链连接起来\n",
    "sequential_chain = SimpleSequentialChain(\n",
    "    chains=[transform_chain, llm_chain],\n",
    "    verbose=True\n",
    ")"
   ],
   "id": "a110785af9f01daf",
   "outputs": [],
   "execution_count": 27
  },
  {
   "metadata": {
    "ExecuteTime": {
     "end_time": "2024-04-22T14:56:44.634438Z",
     "start_time": "2024-04-22T14:56:42.000440Z"
    }
   },
   "cell_type": "code",
   "source": "sequential_chain.run(letters)",
   "id": "a9230ca4b267f3fb",
   "outputs": [
    {
     "name": "stdout",
     "output_type": "stream",
     "text": [
      "\n",
      "\n",
      "\u001B[1m> Entering new SimpleSequentialChain chain...\u001B[0m\n",
      "\u001B[36;1m\u001B[1;3m[Generated with ChatGPT]\n",
      "\n",
      "Confidential Document - For Internal Use Only\n",
      "\n",
      "Date: July 1, 2023\u001B[0m\n",
      "\u001B[33;1m\u001B[1;3m\n",
      "该文档为内部使用的机密文件，日期为2023年7月1日。\u001B[0m\n",
      "\n",
      "\u001B[1m> Finished chain.\u001B[0m\n"
     ]
    },
    {
     "data": {
      "text/plain": [
       "'\\n该文档为内部使用的机密文件，日期为2023年7月1日。'"
      ]
     },
     "execution_count": 28,
     "metadata": {},
     "output_type": "execute_result"
    }
   ],
   "execution_count": 28
  },
  {
   "metadata": {},
   "cell_type": "markdown",
   "source": "# 链的五种调用方式",
   "id": "aa275317b65b6fdb"
  },
  {
   "metadata": {
    "ExecuteTime": {
     "end_time": "2024-04-22T14:58:02.581452Z",
     "start_time": "2024-04-22T14:58:02.548369Z"
    }
   },
   "cell_type": "code",
   "source": [
    "from langchain import (PromptTemplate, OpenAI, LLMChain)\n",
    "\n",
    "prompt_template = \"给做{product}的公司起一个名字?\"\n",
    "llm = OpenAI(temperature=0)\n",
    "llm_chain = LLMChain(llm=llm,prompt=PromptTemplate.from_template(prompt_template),verbose=True)\n",
    "\n",
    "llm_chain(\"儿童玩具\")\n",
    "llm_chain.run(\"儿童玩具\")\n",
    "llm_chain.apply([{\"product\":\"儿童玩具\"}])\n",
    "llm_chain.generate([{\"product\":\"儿童玩具\"}])\n",
    "llm_chain.predict(product=\"儿童玩具\")"
   ],
   "id": "a721938fadd61009",
   "outputs": [],
   "execution_count": 30
  }
 ],
 "metadata": {
  "kernelspec": {
   "display_name": "Python 3",
   "language": "python",
   "name": "python3"
  },
  "language_info": {
   "codemirror_mode": {
    "name": "ipython",
    "version": 2
   },
   "file_extension": ".py",
   "mimetype": "text/x-python",
   "name": "python",
   "nbconvert_exporter": "python",
   "pygments_lexer": "ipython2",
   "version": "2.7.6"
  }
 },
 "nbformat": 4,
 "nbformat_minor": 5
}
