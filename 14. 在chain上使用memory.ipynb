{
 "cells": [
  {
   "cell_type": "code",
   "id": "initial_id",
   "metadata": {
    "collapsed": true,
    "ExecuteTime": {
     "end_time": "2024-04-24T14:25:01.885041Z",
     "start_time": "2024-04-24T14:25:01.869613Z"
    }
   },
   "source": [
    "from dotenv import load_dotenv\n",
    "\n",
    "load_dotenv(\"openai.env\")"
   ],
   "outputs": [
    {
     "data": {
      "text/plain": [
       "True"
      ]
     },
     "execution_count": 1,
     "metadata": {},
     "output_type": "execute_result"
    }
   ],
   "execution_count": 1
  },
  {
   "metadata": {},
   "cell_type": "markdown",
   "source": [
    "# LLMChain使用memory\n",
    "- 之前的对话内容会作为上下文翻入prompt中"
   ],
   "id": "c75ff651d5d46f24"
  },
  {
   "metadata": {
    "ExecuteTime": {
     "end_time": "2024-04-24T14:26:24.936779Z",
     "start_time": "2024-04-24T14:26:24.899883Z"
    }
   },
   "cell_type": "code",
   "source": [
    "from langchain.chains import LLMChain\n",
    "from langchain.llms import OpenAI\n",
    "from langchain.memory import ConversationBufferMemory\n",
    "from langchain.prompts import PromptTemplate\n",
    "\n",
    "#自定义模板\n",
    "template = \"\"\"你是一个可以和人类对话的机器人.\n",
    "{chat_history}\n",
    "人类:{human_input}\n",
    "机器人:\"\"\"\n",
    "\n",
    "prompt = PromptTemplate(\n",
    "    template=template,\n",
    "    input_variables=[\"chat_history\", \"human_input\"],\n",
    ")\n",
    "memory = ConversationBufferMemory(memory_key=\"chat_history\")\n",
    "llm = OpenAI(temperature=0)\n",
    "\n",
    "chain = LLMChain(\n",
    "    llm=llm,\n",
    "    memory=memory,\n",
    "    prompt=prompt,\n",
    "    verbose=True,\n",
    ")"
   ],
   "id": "fa37167b41405302",
   "outputs": [],
   "execution_count": 3
  },
  {
   "metadata": {
    "ExecuteTime": {
     "end_time": "2024-04-24T14:26:45.269691Z",
     "start_time": "2024-04-24T14:26:41.548044Z"
    }
   },
   "cell_type": "code",
   "source": "chain.predict(human_input=\"你好\")",
   "id": "a48628df26acd48b",
   "outputs": [
    {
     "name": "stdout",
     "output_type": "stream",
     "text": [
      "\n",
      "\n",
      "\u001B[1m> Entering new LLMChain chain...\u001B[0m\n",
      "Prompt after formatting:\n",
      "\u001B[32;1m\u001B[1;3m你是一个可以和人类对话的机器人.\n",
      "\n",
      "人类:你好\n",
      "机器人:\u001B[0m\n",
      "\n",
      "\u001B[1m> Finished chain.\u001B[0m\n"
     ]
    },
    {
     "data": {
      "text/plain": [
       "'你好，我是一个可以和人类对话的机器人。你有什么问题想要问我吗？'"
      ]
     },
     "execution_count": 4,
     "metadata": {},
     "output_type": "execute_result"
    }
   ],
   "execution_count": 4
  },
  {
   "metadata": {
    "ExecuteTime": {
     "end_time": "2024-04-24T14:27:10.602660Z",
     "start_time": "2024-04-24T14:27:08.765947Z"
    }
   },
   "cell_type": "code",
   "source": "chain.predict(human_input=\"我想去香港旅游\")",
   "id": "fb5429d94df80a5a",
   "outputs": [
    {
     "name": "stdout",
     "output_type": "stream",
     "text": [
      "\n",
      "\n",
      "\u001B[1m> Entering new LLMChain chain...\u001B[0m\n",
      "Prompt after formatting:\n",
      "\u001B[32;1m\u001B[1;3m你是一个可以和人类对话的机器人.\n",
      "Human: 你好\n",
      "AI: 你好，我是一个可以和人类对话的机器人。你有什么问题想要问我吗？\n",
      "人类:我想去香港旅游\n",
      "机器人:\u001B[0m\n",
      "\n",
      "\u001B[1m> Finished chain.\u001B[0m\n"
     ]
    },
    {
     "data": {
      "text/plain": [
       "' 香港是一个非常美丽和繁华的城市，有很多著名的景点和美食。你可以去看看维多利亚港、太平山顶、迪士尼乐园等地方。不过，最近香港有些社会动荡，你需要提前做好安全措施。'"
      ]
     },
     "execution_count": 5,
     "metadata": {},
     "output_type": "execute_result"
    }
   ],
   "execution_count": 5
  },
  {
   "metadata": {
    "ExecuteTime": {
     "end_time": "2024-04-24T14:31:17.031871Z",
     "start_time": "2024-04-24T14:31:17.009374Z"
    }
   },
   "cell_type": "code",
   "source": [
    "from langchain.chat_models import ChatOpenAI\n",
    "from langchain.prompts import (\n",
    "    ChatPromptTemplate,\n",
    "    HumanMessagePromptTemplate,\n",
    "    MessagesPlaceholder,\n",
    ")\n",
    "from langchain.schema import SystemMessage\n",
    "\n",
    "prompt = ChatPromptTemplate.from_messages(\n",
    "    [\n",
    "        SystemMessage(\n",
    "            role=\"system\",\n",
    "            content=\"你好，我是一个可以和人类对话的机器人\",\n",
    "\n",
    "        ),\n",
    "        MessagesPlaceholder(\n",
    "            variable_name=\"chat_history\",\n",
    "        ),\n",
    "        HumanMessagePromptTemplate.from_template(\n",
    "            \"{human_input}\"\n",
    "        ),\n",
    "    ]\n",
    ")\n",
    "\n",
    "print(prompt.format(human_input=\"你好\", chat_history=[]))"
   ],
   "id": "2231ff6e570bec71",
   "outputs": [
    {
     "name": "stdout",
     "output_type": "stream",
     "text": [
      "System: 你好，我是一个可以和人类对话的机器人\n",
      "Human: 你好\n"
     ]
    }
   ],
   "execution_count": 8
  },
  {
   "metadata": {},
   "cell_type": "code",
   "source": [
    "memory = ConversationBufferMemory(memory_key=\"chat_history\", return_messages=True, )\n",
    "llm = ChatOpenAI(temperature=0)\n",
    "\n",
    "chain = LLMChain(\n",
    "    llm=llm,\n",
    "    memory=memory,\n",
    "    prompt=prompt,\n",
    "    verbose=True,\n",
    ")"
   ],
   "id": "34323b762816dc9f",
   "outputs": [],
   "execution_count": null
  },
  {
   "metadata": {
    "ExecuteTime": {
     "end_time": "2024-04-24T14:32:06.985069Z",
     "start_time": "2024-04-24T14:32:01.491088Z"
    }
   },
   "cell_type": "code",
   "source": "chain.predict(human_input=\"我叫tomie，我是一个AI应用程序猿\")",
   "id": "eb5f6b085bc70969",
   "outputs": [
    {
     "name": "stdout",
     "output_type": "stream",
     "text": [
      "\n",
      "\n",
      "\u001B[1m> Entering new LLMChain chain...\u001B[0m\n",
      "Prompt after formatting:\n",
      "\u001B[32;1m\u001B[1;3mSystem: 你好，我是一个可以和人类对话的机器人\n",
      "Human: 我叫tomie，我是一个AI应用程序猿\u001B[0m\n",
      "\n",
      "\u001B[1m> Finished chain.\u001B[0m\n"
     ]
    },
    {
     "data": {
      "text/plain": [
       "'很高兴认识你，Tomie！作为一个AI应用程序猿，你对编程和人工智能一定有很深的了解。有什么关于编程或者人工智能方面的话题想和我讨论吗？'"
      ]
     },
     "execution_count": 10,
     "metadata": {},
     "output_type": "execute_result"
    }
   ],
   "execution_count": 10
  },
  {
   "metadata": {},
   "cell_type": "markdown",
   "source": [
    "# ConversationChain\n",
    "- 简化了上述LLMChain中的对话存储memory形式"
   ],
   "id": "e236d1723eaea6f8"
  },
  {
   "metadata": {
    "ExecuteTime": {
     "end_time": "2024-04-24T14:33:19.944711Z",
     "start_time": "2024-04-24T14:33:19.903534Z"
    }
   },
   "cell_type": "code",
   "source": [
    "from langchain.chains import ConversationChain\n",
    "from langchain.llms import OpenAI\n",
    "from langchain.memory import ConversationBufferMemory\n",
    "\n",
    "llm = OpenAI(\n",
    "    temperature=0,\n",
    ")\n",
    "memory = ConversationBufferMemory(\n",
    "    memory_key=\"history\",\n",
    "    return_messages=True,\n",
    ")\n",
    "chain = ConversationChain(\n",
    "    llm=llm,\n",
    "    memory=memory,\n",
    "    verbose=True,\n",
    ")"
   ],
   "id": "36eeba35ba584536",
   "outputs": [],
   "execution_count": 11
  },
  {
   "metadata": {
    "ExecuteTime": {
     "end_time": "2024-04-24T14:33:41.554351Z",
     "start_time": "2024-04-24T14:33:37.559451Z"
    }
   },
   "cell_type": "code",
   "source": "chain.predict(input=\"你好,我想去北京玩\")",
   "id": "b7739623da2a0da",
   "outputs": [
    {
     "name": "stdout",
     "output_type": "stream",
     "text": [
      "\n",
      "\n",
      "\u001B[1m> Entering new ConversationChain chain...\u001B[0m\n",
      "Prompt after formatting:\n",
      "\u001B[32;1m\u001B[1;3mThe following is a friendly conversation between a human and an AI. The AI is talkative and provides lots of specific details from its context. If the AI does not know the answer to a question, it truthfully says it does not know.\n",
      "\n",
      "Current conversation:\n",
      "[]\n",
      "Human: 你好,我想去北京玩\n",
      "AI:\u001B[0m\n",
      "\n",
      "\u001B[1m> Finished chain.\u001B[0m\n"
     ]
    },
    {
     "data": {
      "text/plain": [
       "' 你好！欢迎来到北京！北京是中国的首都，也是一个历史悠久的城市。它有许多著名的景点，比如故宫、天安门广场、长城等等。你想去哪里玩呢？我可以为你提供详细的旅游建议。'"
      ]
     },
     "execution_count": 12,
     "metadata": {},
     "output_type": "execute_result"
    }
   ],
   "execution_count": 12
  },
  {
   "metadata": {
    "ExecuteTime": {
     "end_time": "2024-04-24T14:33:54.004566Z",
     "start_time": "2024-04-24T14:33:49.605671Z"
    }
   },
   "cell_type": "code",
   "source": "chain.predict(input=\"帮我做个一日游攻略\")",
   "id": "3072b533018b5fe4",
   "outputs": [
    {
     "name": "stdout",
     "output_type": "stream",
     "text": [
      "\n",
      "\n",
      "\u001B[1m> Entering new ConversationChain chain...\u001B[0m\n",
      "Prompt after formatting:\n",
      "\u001B[32;1m\u001B[1;3mThe following is a friendly conversation between a human and an AI. The AI is talkative and provides lots of specific details from its context. If the AI does not know the answer to a question, it truthfully says it does not know.\n",
      "\n",
      "Current conversation:\n",
      "[HumanMessage(content='你好,我想去北京玩'), AIMessage(content=' 你好！欢迎来到北京！北京是中国的首都，也是一个历史悠久的城市。它有许多著名的景点，比如故宫、天安门广场、长城等等。你想去哪里玩呢？我可以为你提供详细的旅游建议。')]\n",
      "Human: 帮我做个一日游攻略\n",
      "AI:\u001B[0m\n",
      "\n",
      "\u001B[1m> Finished chain.\u001B[0m\n"
     ]
    },
    {
     "data": {
      "text/plain": [
       "' 当然可以！一日游攻略的话，我推荐你先去故宫，这是中国古代皇宫的代表，里面有许多珍贵的文物和建筑。然后可以去天安门广场，这是中国的政治中心，也是一个重要的历史纪念地。如果你喜欢自然风光，可以去颐和园，那里有美丽的湖泊和园林。最后，如果时间允许，可以去长城，这是中国的标志性建筑，也是世界上最长的防御工程。你觉得怎么样？'"
      ]
     },
     "execution_count": 13,
     "metadata": {},
     "output_type": "execute_result"
    }
   ],
   "execution_count": 13
  },
  {
   "metadata": {},
   "cell_type": "markdown",
   "source": [
    "# 自定义一下，覆盖ConversationChain\n",
    "- 默认ConversationChain中格式比较固定(比如human,AI),我们可以自定义对话角色"
   ],
   "id": "da496198b32082cb"
  },
  {
   "metadata": {
    "ExecuteTime": {
     "end_time": "2024-04-24T14:35:43.959604Z",
     "start_time": "2024-04-24T14:35:43.917405Z"
    }
   },
   "cell_type": "code",
   "source": [
    "from langchain.chains import ConversationChain\n",
    "from langchain.memory import ConversationBufferMemory\n",
    "from langchain.prompts import PromptTemplate\n",
    "from langchain.llms import OpenAI\n",
    "\n",
    "llm = OpenAI(temperature=0)\n",
    "\n",
    "template = \"\"\"下面是一段AI与人类的对话，AI会针对人类问题，提供尽可能详细的回答，如果AI不知道答案，会直接回复'人类brother，我真的不知道'.\n",
    "当前对话:\n",
    "{history}\n",
    "Human:{input}\n",
    "大头AI:\"\"\"\n",
    "\n",
    "prompt = PromptTemplate(\n",
    "    template=template,\n",
    "    input_variables=[\"history\", \"input\"],\n",
    ")\n",
    "\n",
    "chain = ConversationChain(\n",
    "    llm=llm,\n",
    "    memory=ConversationBufferMemory(\n",
    "        ai_prefix=\"大头AI\",\n",
    "        return_messages=True,\n",
    "    ),\n",
    "    prompt=prompt,\n",
    "    verbose=True,\n",
    ")"
   ],
   "id": "534ea917f35366f2",
   "outputs": [],
   "execution_count": 14
  },
  {
   "metadata": {
    "ExecuteTime": {
     "end_time": "2024-04-24T14:35:54.597712Z",
     "start_time": "2024-04-24T14:35:51.066066Z"
    }
   },
   "cell_type": "code",
   "source": "chain.predict(input=\"你知道我叫什么名字吗?\")",
   "id": "4f519ed5a6d79d12",
   "outputs": [
    {
     "name": "stdout",
     "output_type": "stream",
     "text": [
      "\n",
      "\n",
      "\u001B[1m> Entering new ConversationChain chain...\u001B[0m\n",
      "Prompt after formatting:\n",
      "\u001B[32;1m\u001B[1;3m下面是一段AI与人类的对话，AI会针对人类问题，提供尽可能详细的回答，如果AI不知道答案，会直接回复'人类brother，我真的不知道'.\n",
      "当前对话:\n",
      "[]\n",
      "Human:你知道我叫什么名字吗?\n",
      "大头AI:\u001B[0m\n",
      "\n",
      "\u001B[1m> Finished chain.\u001B[0m\n"
     ]
    },
    {
     "data": {
      "text/plain": [
       "' 人类brother，我真的不知道。'"
      ]
     },
     "execution_count": 15,
     "metadata": {},
     "output_type": "execute_result"
    }
   ],
   "execution_count": 15
  },
  {
   "metadata": {},
   "cell_type": "markdown",
   "source": "# 同一个链合并使用多个memory",
   "id": "eb3fae1e21a6103e"
  },
  {
   "metadata": {
    "ExecuteTime": {
     "end_time": "2024-04-24T14:41:32.622714Z",
     "start_time": "2024-04-24T14:41:32.588389Z"
    }
   },
   "cell_type": "code",
   "source": [
    "from langchain.chains import ConversationChain\n",
    "from langchain.llms import OpenAI\n",
    "from langchain.memory import (ConversationBufferMemory, ConversationSummaryMemory, CombinedMemory)\n",
    "from langchain.prompts import PromptTemplate\n",
    "\n",
    "llm = OpenAI(temperature=0)\n",
    "\n",
    "#使用 ConversationSummaryMemory 对对话进行总结\n",
    "summary_memory = ConversationSummaryMemory(llm=llm, input_key=\"input\", memory_key=\"history_summary\")\n",
    "#使用ConversationBufferMemory对对话进行缓存\n",
    "cov_memory = ConversationBufferMemory(memory_key=\"history_now\", input_key=\"input\", )\n",
    "# 组合使用\n",
    "memory = CombinedMemory(memories=[summary_memory, cov_memory])\n",
    "\n",
    "TEMPLATE = \"\"\"下面是一段AI与人类的对话，AI会针对人类问题，提供尽可能详细的回答，如果AI不知道答案，会直接回复'人类老爷，我真的不知道'.\n",
    "之前的对话摘要:\n",
    "---------------\n",
    "{history_summary}\n",
    "---------------\n",
    "当前对话:\n",
    "---------------\n",
    "{history_now}\n",
    "---------------\n",
    "Human:{input}\n",
    "AI：\"\"\"\n",
    "\n",
    "prompt = PromptTemplate(\n",
    "    template=TEMPLATE,\n",
    "    input_variables=[\"history_summary\", \"history_now\", \"input\"],\n",
    ")\n",
    "\n",
    "chain = ConversationChain(\n",
    "    llm=llm,\n",
    "    memory=memory,\n",
    "    prompt=prompt,\n",
    "    verbose=True,\n",
    ")"
   ],
   "id": "20c01d432dd13b50",
   "outputs": [],
   "execution_count": 20
  },
  {
   "metadata": {
    "ExecuteTime": {
     "end_time": "2024-04-24T14:42:01.920744Z",
     "start_time": "2024-04-24T14:41:56.997429Z"
    }
   },
   "cell_type": "code",
   "source": "chain.invoke(\"你了解mq吗？\")",
   "id": "cdbb99aeb129213b",
   "outputs": [
    {
     "name": "stderr",
     "output_type": "stream",
     "text": [
      "/Users/jianghui/PycharmProjects/ai_agent_study/venv/lib/python3.11/site-packages/langchain_core/_api/deprecation.py:117: LangChainDeprecationWarning: The function `run` was deprecated in LangChain 0.1.0 and will be removed in 0.2.0. Use invoke instead.\n",
      "  warn_deprecated(\n"
     ]
    },
    {
     "name": "stdout",
     "output_type": "stream",
     "text": [
      "\n",
      "\n",
      "\u001B[1m> Entering new ConversationChain chain...\u001B[0m\n",
      "Prompt after formatting:\n",
      "\u001B[32;1m\u001B[1;3m下面是一段AI与人类的对话，AI会针对人类问题，提供尽可能详细的回答，如果AI不知道答案，会直接回复'人类老爷，我真的不知道'.\n",
      "之前的对话摘要:\n",
      "---------------\n",
      "\n",
      "---------------\n",
      "当前对话:\n",
      "---------------\n",
      "\n",
      "---------------\n",
      "Human:你了解mq吗？\n",
      "AI：\u001B[0m\n",
      "\n",
      "\u001B[1m> Finished chain.\u001B[0m\n"
     ]
    },
    {
     "data": {
      "text/plain": [
       "'是的，MQ是一种消息队列，它可以帮助不同的应用程序之间进行通信和数据交换。它可以提高系统的可靠性和可扩展性，并且可以处理大量的消息。'"
      ]
     },
     "execution_count": 21,
     "metadata": {},
     "output_type": "execute_result"
    }
   ],
   "execution_count": 21
  },
  {
   "metadata": {
    "ExecuteTime": {
     "end_time": "2024-04-24T14:42:34.302905Z",
     "start_time": "2024-04-24T14:42:29.226700Z"
    }
   },
   "cell_type": "code",
   "source": [
    "# 可以看到 我们使用了2种类型的memory在prompt中\n",
    "chain.invoke(\"kafka怎么样？\")"
   ],
   "id": "c5953538b8b0e40d",
   "outputs": [
    {
     "name": "stdout",
     "output_type": "stream",
     "text": [
      "\n",
      "\n",
      "\u001B[1m> Entering new ConversationChain chain...\u001B[0m\n",
      "Prompt after formatting:\n",
      "\u001B[32;1m\u001B[1;3m下面是一段AI与人类的对话，AI会针对人类问题，提供尽可能详细的回答，如果AI不知道答案，会直接回复'人类老爷，我真的不知道'.\n",
      "之前的对话摘要:\n",
      "---------------\n",
      "\n",
      "The human asks if the AI is familiar with MQ. The AI responds that MQ is a type of message queue that helps different applications communicate and exchange data. It also improves system reliability and scalability, and can handle large volumes of messages.\n",
      "---------------\n",
      "当前对话:\n",
      "---------------\n",
      "Human: 你了解mq吗？\n",
      "AI: 是的，MQ是一种消息队列，它可以帮助不同的应用程序之间进行通信和数据交换。它可以提高系统的可靠性和可扩展性，并且可以处理大量的消息。\n",
      "---------------\n",
      "Human:kafka怎么样？\n",
      "AI：\u001B[0m\n",
      "\n",
      "\u001B[1m> Finished chain.\u001B[0m\n"
     ]
    },
    {
     "data": {
      "text/plain": [
       "{'input': 'kafka怎么样？',\n",
       " 'history_summary': '\\nThe human asks if the AI is familiar with MQ. The AI responds that MQ is a type of message queue that helps different applications communicate and exchange data. It also improves system reliability and scalability, and can handle large volumes of messages.',\n",
       " 'history_now': 'Human: 你了解mq吗？\\nAI: 是的，MQ是一种消息队列，它可以帮助不同的应用程序之间进行通信和数据交换。它可以提高系统的可靠性和可扩展性，并且可以处理大量的消息。',\n",
       " 'response': 'Kafka是一种分布式流处理平台，它可以帮助处理大量的实时数据流。它具有高吞吐量、低延迟和可扩展性的特点，被广泛应用于大数据领域。'}"
      ]
     },
     "execution_count": 22,
     "metadata": {},
     "output_type": "execute_result"
    }
   ],
   "execution_count": 22
  },
  {
   "metadata": {},
   "cell_type": "markdown",
   "source": [
    "# 多参数链增加记忆  \n",
    "\n",
    "<hr>"
   ],
   "id": "90e234dd414f6a54"
  },
  {
   "metadata": {
    "ExecuteTime": {
     "end_time": "2024-04-24T14:45:05.614334Z",
     "start_time": "2024-04-24T14:44:57.767733Z"
    }
   },
   "cell_type": "code",
   "source": [
    "from langchain.embeddings.openai import OpenAIEmbeddings\n",
    "from langchain.text_splitter import CharacterTextSplitter\n",
    "from langchain.vectorstores import Chroma\n",
    "\n",
    "with open(\"testfile/letter.txt\") as f:\n",
    "    text = f.read()\n",
    "    #切分文本\n",
    "    text_splitter = CharacterTextSplitter(\n",
    "        chunk_size=20,\n",
    "        chunk_overlap=5\n",
    "    )\n",
    "    texts = text_splitter.split_text(text)\n",
    "    #使用chroma向量存储\n",
    "    docssearch = Chroma.from_texts(\n",
    "        texts,\n",
    "        #使用openai的embedding\n",
    "        OpenAIEmbeddings(),\n",
    "    )\n",
    "    query = \"公司有什么新策略?\"\n",
    "    docs = docssearch.similarity_search(query=query)"
   ],
   "id": "dbe54574cd244fa5",
   "outputs": [
    {
     "name": "stderr",
     "output_type": "stream",
     "text": [
      "Created a chunk of size 24, which is longer than the specified 20\n",
      "Created a chunk of size 45, which is longer than the specified 20\n",
      "Created a chunk of size 50, which is longer than the specified 20\n",
      "Created a chunk of size 232, which is longer than the specified 20\n",
      "Created a chunk of size 589, which is longer than the specified 20\n",
      "Created a chunk of size 610, which is longer than the specified 20\n",
      "Created a chunk of size 561, which is longer than the specified 20\n",
      "Created a chunk of size 563, which is longer than the specified 20\n",
      "Created a chunk of size 259, which is longer than the specified 20\n",
      "Created a chunk of size 87, which is longer than the specified 20\n",
      "/Users/jianghui/PycharmProjects/ai_agent_study/venv/lib/python3.11/site-packages/langchain_core/_api/deprecation.py:117: LangChainDeprecationWarning: The class `langchain_community.embeddings.openai.OpenAIEmbeddings` was deprecated in langchain-community 0.0.9 and will be removed in 0.2.0. An updated version of the class exists in the langchain-openai package and should be used instead. To use it run `pip install -U langchain-openai` and import as `from langchain_openai import OpenAIEmbeddings`.\n",
      "  warn_deprecated(\n"
     ]
    }
   ],
   "execution_count": 23
  },
  {
   "metadata": {
    "ExecuteTime": {
     "end_time": "2024-04-24T14:46:02.779531Z",
     "start_time": "2024-04-24T14:45:58.229330Z"
    }
   },
   "cell_type": "code",
   "source": [
    "#构建问答对话链\n",
    "from langchain.chains.question_answering import  load_qa_chain\n",
    "from langchain.llms import OpenAI\n",
    "from langchain.memory import ConversationBufferMemory\n",
    "from langchain.prompts import PromptTemplate\n",
    "\n",
    "llm = OpenAI(temperature=0)\n",
    "\n",
    "template = \"\"\"下面是一段AI与人类的对话，AI会针对人类问题，提供尽可能详细的回答，\n",
    "如果AI不知道答案，会直接回复'人类老爷，我真的不知道'，\n",
    "参考一下相关文档以及历史对话信息，AI会据此组织最终回答内容.\n",
    "{context}\n",
    "{chat_history}\n",
    "Human:{human_input}\n",
    "AI:\"\"\"\n",
    "\n",
    "prompt = PromptTemplate(\n",
    "    template=template,\n",
    "    input_variables=[\"context\", \"chat_history\", \"human_input\"],\n",
    ")\n",
    "\n",
    "#使用ConversationBufferMemory对对话进行缓存 \n",
    "memory = ConversationBufferMemory(\n",
    "    memory_key=\"chat_history\",\n",
    "    input_key=\"human_input\",\n",
    "    return_messages=True,\n",
    ")\n",
    "\n",
    "#加载对话链\n",
    "chain = load_qa_chain(\n",
    "    llm=llm,\n",
    "    memory=memory,\n",
    "    prompt=prompt,\n",
    "    verbose=True,\n",
    "    chain_type=\"stuff\"\n",
    ")\n",
    "\n",
    "chain({\"input_documents\":docs,\"human_input\":\"公司的营销策略是什么？\"})"
   ],
   "id": "9c73f272df849383",
   "outputs": [
    {
     "name": "stderr",
     "output_type": "stream",
     "text": [
      "/Users/jianghui/PycharmProjects/ai_agent_study/venv/lib/python3.11/site-packages/langchain_core/_api/deprecation.py:117: LangChainDeprecationWarning: The function `__call__` was deprecated in LangChain 0.1.0 and will be removed in 0.2.0. Use invoke instead.\n",
      "  warn_deprecated(\n"
     ]
    },
    {
     "name": "stdout",
     "output_type": "stream",
     "text": [
      "\n",
      "\n",
      "\u001B[1m> Entering new StuffDocumentsChain chain...\u001B[0m\n",
      "\n",
      "\n",
      "\u001B[1m> Entering new LLMChain chain...\u001B[0m\n",
      "Prompt after formatting:\n",
      "\u001B[32;1m\u001B[1;3m下面是一段AI与人类的对话，AI会针对人类问题，提供尽可能详细的回答，\n",
      "如果AI不知道答案，会直接回复'人类老爷，我真的不知道'，\n",
      "参考一下相关文档以及历史对话信息，AI会据此组织最终回答内容.\n",
      "Marketing Initiatives and Campaigns\n",
      "Our marketing team has been actively working on developing new strategies to increase brand awareness and drive customer engagement. We would like to thank Sarah Thompson (phone: 415-555-1234) for her exceptional efforts in managing our social media platforms. Sarah has successfully increased our follower base by 20% in the past month alone. Moreover, please mark your calendars for the upcoming product launch event on July 15th. We encourage all team members to attend and support this exciting milestone for our company.\n",
      "\n",
      "Dear Team,\n",
      "\n",
      "Subject: Updates and Discussions on Various Topics\n",
      "\n",
      "I hope this email finds you well. In this document, I would like to provide you with some important updates and discuss various topics that require our attention. Please treat the information contained herein as highly confidential.\n",
      "[]\n",
      "Human:公司的营销策略是什么？\n",
      "AI:\u001B[0m\n",
      "\n",
      "\u001B[1m> Finished chain.\u001B[0m\n",
      "\n",
      "\u001B[1m> Finished chain.\u001B[0m\n"
     ]
    },
    {
     "data": {
      "text/plain": [
       "{'input_documents': [Document(page_content='Marketing Initiatives and Campaigns\\nOur marketing team has been actively working on developing new strategies to increase brand awareness and drive customer engagement. We would like to thank Sarah Thompson (phone: 415-555-1234) for her exceptional efforts in managing our social media platforms. Sarah has successfully increased our follower base by 20% in the past month alone. Moreover, please mark your calendars for the upcoming product launch event on July 15th. We encourage all team members to attend and support this exciting milestone for our company.'),\n",
       "  Document(page_content='Dear Team,'),\n",
       "  Document(page_content='Subject: Updates and Discussions on Various Topics'),\n",
       "  Document(page_content='I hope this email finds you well. In this document, I would like to provide you with some important updates and discuss various topics that require our attention. Please treat the information contained herein as highly confidential.')],\n",
       " 'human_input': '公司的营销策略是什么？',\n",
       " 'chat_history': [HumanMessage(content='公司的营销策略是什么？'),\n",
       "  AIMessage(content='公司的营销策略是通过各种手段来提高品牌知名度和促进客户参与。我们的营销团队一直在积极开发新的策略。我们还要感谢Sarah Thompson（电话：415-555-1234）在管理我们的社交媒体平台方面所做出的杰出努力。Sarah在过去一个月内成功地将我们的粉丝基础增加了20％。此外，请在7月15日标记您的日历，届时将举行产品发布活动。我们鼓励所有团队成员参加并支持我们公司的这一重要里程碑。')],\n",
       " 'output_text': '公司的营销策略是通过各种手段来提高品牌知名度和促进客户参与。我们的营销团队一直在积极开发新的策略。我们还要感谢Sarah Thompson（电话：415-555-1234）在管理我们的社交媒体平台方面所做出的杰出努力。Sarah在过去一个月内成功地将我们的粉丝基础增加了20％。此外，请在7月15日标记您的日历，届时将举行产品发布活动。我们鼓励所有团队成员参加并支持我们公司的这一重要里程碑。'}"
      ]
     },
     "execution_count": 24,
     "metadata": {},
     "output_type": "execute_result"
    }
   ],
   "execution_count": 24
  },
  {
   "metadata": {
    "ExecuteTime": {
     "end_time": "2024-04-24T14:46:51.580113Z",
     "start_time": "2024-04-24T14:46:49.256605Z"
    }
   },
   "cell_type": "code",
   "source": "chain({\"input_documents\":docs,\"human_input\":\"公司叫什么名称?\"})",
   "id": "a7b8171c34853ddc",
   "outputs": [
    {
     "name": "stdout",
     "output_type": "stream",
     "text": [
      "\n",
      "\n",
      "\u001B[1m> Entering new StuffDocumentsChain chain...\u001B[0m\n",
      "\n",
      "\n",
      "\u001B[1m> Entering new LLMChain chain...\u001B[0m\n",
      "Prompt after formatting:\n",
      "\u001B[32;1m\u001B[1;3m下面是一段AI与人类的对话，AI会针对人类问题，提供尽可能详细的回答，\n",
      "如果AI不知道答案，会直接回复'人类老爷，我真的不知道'，\n",
      "参考一下相关文档以及历史对话信息，AI会据此组织最终回答内容.\n",
      "Marketing Initiatives and Campaigns\n",
      "Our marketing team has been actively working on developing new strategies to increase brand awareness and drive customer engagement. We would like to thank Sarah Thompson (phone: 415-555-1234) for her exceptional efforts in managing our social media platforms. Sarah has successfully increased our follower base by 20% in the past month alone. Moreover, please mark your calendars for the upcoming product launch event on July 15th. We encourage all team members to attend and support this exciting milestone for our company.\n",
      "\n",
      "Dear Team,\n",
      "\n",
      "Subject: Updates and Discussions on Various Topics\n",
      "\n",
      "I hope this email finds you well. In this document, I would like to provide you with some important updates and discuss various topics that require our attention. Please treat the information contained herein as highly confidential.\n",
      "[HumanMessage(content='公司的营销策略是什么？'), AIMessage(content='公司的营销策略是通过各种手段来提高品牌知名度和促进客户参与。我们的营销团队一直在积极开发新的策略。我们还要感谢Sarah Thompson（电话：415-555-1234）在管理我们的社交媒体平台方面所做出的杰出努力。Sarah在过去一个月内成功地将我们的粉丝基础增加了20％。此外，请在7月15日标记您的日历，届时将举行产品发布活动。我们鼓励所有团队成员参加并支持我们公司的这一重要里程碑。')]\n",
      "Human:公司叫什么名称?\n",
      "AI:\u001B[0m\n",
      "\n",
      "\u001B[1m> Finished chain.\u001B[0m\n",
      "\n",
      "\u001B[1m> Finished chain.\u001B[0m\n"
     ]
    },
    {
     "data": {
      "text/plain": [
       "{'input_documents': [Document(page_content='Marketing Initiatives and Campaigns\\nOur marketing team has been actively working on developing new strategies to increase brand awareness and drive customer engagement. We would like to thank Sarah Thompson (phone: 415-555-1234) for her exceptional efforts in managing our social media platforms. Sarah has successfully increased our follower base by 20% in the past month alone. Moreover, please mark your calendars for the upcoming product launch event on July 15th. We encourage all team members to attend and support this exciting milestone for our company.'),\n",
       "  Document(page_content='Dear Team,'),\n",
       "  Document(page_content='Subject: Updates and Discussions on Various Topics'),\n",
       "  Document(page_content='I hope this email finds you well. In this document, I would like to provide you with some important updates and discuss various topics that require our attention. Please treat the information contained herein as highly confidential.')],\n",
       " 'human_input': '公司叫什么名称?',\n",
       " 'chat_history': [HumanMessage(content='公司的营销策略是什么？'),\n",
       "  AIMessage(content='公司的营销策略是通过各种手段来提高品牌知名度和促进客户参与。我们的营销团队一直在积极开发新的策略。我们还要感谢Sarah Thompson（电话：415-555-1234）在管理我们的社交媒体平台方面所做出的杰出努力。Sarah在过去一个月内成功地将我们的粉丝基础增加了20％。此外，请在7月15日标记您的日历，届时将举行产品发布活动。我们鼓励所有团队成员参加并支持我们公司的这一重要里程碑。'),\n",
       "  HumanMessage(content='公司叫什么名称?'),\n",
       "  AIMessage(content='公司的名称是未来科技有限公司。')],\n",
       " 'output_text': '公司的名称是未来科技有限公司。'}"
      ]
     },
     "execution_count": 25,
     "metadata": {},
     "output_type": "execute_result"
    }
   ],
   "execution_count": 25
  }
 ],
 "metadata": {
  "kernelspec": {
   "display_name": "Python 3",
   "language": "python",
   "name": "python3"
  },
  "language_info": {
   "codemirror_mode": {
    "name": "ipython",
    "version": 2
   },
   "file_extension": ".py",
   "mimetype": "text/x-python",
   "name": "python",
   "nbconvert_exporter": "python",
   "pygments_lexer": "ipython2",
   "version": "2.7.6"
  }
 },
 "nbformat": 4,
 "nbformat_minor": 5
}
