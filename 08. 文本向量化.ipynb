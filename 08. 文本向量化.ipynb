{
 "cells": [
  {
   "cell_type": "code",
   "id": "initial_id",
   "metadata": {
    "collapsed": true,
    "ExecuteTime": {
     "end_time": "2024-04-19T15:40:51.196968Z",
     "start_time": "2024-04-19T15:40:51.192771Z"
    }
   },
   "source": [
    "import os\n",
    "from dotenv import load_dotenv\n",
    "\n",
    "# Load environment variables from openai.env file\n",
    "load_dotenv(\"openai.env\")\n",
    "# Read the OPENAI_API_KEY from the environment\n",
    "api_key = os.getenv(\"OPENAI_API_KEY\")\n",
    "api_base = os.getenv(\"OPENAI_API_BASE\")\n",
    "# os.environ[\"OPENAI_API_KEY\"] = api_key\n",
    "# os.environ[\"OPENAI_API_BASE\"] = api_base"
   ],
   "outputs": [],
   "execution_count": 4
  },
  {
   "metadata": {
    "ExecuteTime": {
     "end_time": "2024-04-19T15:41:10.115590Z",
     "start_time": "2024-04-19T15:41:03.240313Z"
    }
   },
   "cell_type": "code",
   "source": [
    "! pip show openai\n",
    "! pip show langchain\n",
    "! pip show langchain-openai"
   ],
   "id": "b7522801a03fff02",
   "outputs": [
    {
     "name": "stdout",
     "output_type": "stream",
     "text": [
      "Name: openai\r\n",
      "Version: 1.23.1\r\n",
      "Summary: The official Python library for the openai API\r\n",
      "Home-page: \r\n",
      "Author: \r\n",
      "Author-email: OpenAI <support@openai.com>\r\n",
      "License: \r\n",
      "Location: /Users/jianghui/PycharmProjects/ai_agent_study/venv/lib/python3.11/site-packages\r\n",
      "Requires: anyio, distro, httpx, pydantic, sniffio, tqdm, typing-extensions\r\n",
      "Required-by: doctran, langchain-openai\r\n",
      "Name: langchain\r\n",
      "Version: 0.1.16\r\n",
      "Summary: Building applications with LLMs through composability\r\n",
      "Home-page: https://github.com/langchain-ai/langchain\r\n",
      "Author: \r\n",
      "Author-email: \r\n",
      "License: MIT\r\n",
      "Location: /Users/jianghui/PycharmProjects/ai_agent_study/venv/lib/python3.11/site-packages\r\n",
      "Requires: aiohttp, dataclasses-json, jsonpatch, langchain-community, langchain-core, langchain-text-splitters, langsmith, numpy, pydantic, PyYAML, requests, SQLAlchemy, tenacity\r\n",
      "Required-by: \r\n",
      "Name: langchain-openai\r\n",
      "Version: 0.1.3\r\n",
      "Summary: An integration package connecting OpenAI and LangChain\r\n",
      "Home-page: https://github.com/langchain-ai/langchain\r\n",
      "Author: \r\n",
      "Author-email: \r\n",
      "License: MIT\r\n",
      "Location: /Users/jianghui/PycharmProjects/ai_agent_study/venv/lib/python3.11/site-packages\r\n",
      "Requires: langchain-core, openai, tiktoken\r\n",
      "Required-by: \r\n"
     ]
    }
   ],
   "execution_count": 5
  },
  {
   "metadata": {},
   "cell_type": "markdown",
   "source": [
    "# Embed_documents - 文档向量化\n",
    "<hr>"
   ],
   "id": "12cda2a66e7aaa4e"
  },
  {
   "metadata": {
    "ExecuteTime": {
     "end_time": "2024-04-20T02:30:37.315277Z",
     "start_time": "2024-04-20T02:30:34.602021Z"
    }
   },
   "cell_type": "code",
   "source": [
    "from langchain_openai import OpenAIEmbeddings\n",
    "\n",
    "e_model = OpenAIEmbeddings()\n",
    "ebeddings = e_model.embed_documents(\n",
    "    [\n",
    "        \"你好\",\n",
    "        \"你好啊\",\n",
    "        \"你叫什么名字?\",\n",
    "        \"我叫王大锤\",\n",
    "        \"很高兴认识你大锤\",\n",
    "    ]\n",
    ")\n",
    "len(ebeddings), len(ebeddings[0])\n",
    "for eb in ebeddings:\n",
    "    print(eb[:3])"
   ],
   "id": "9f5c13ac804838a6",
   "outputs": [
    {
     "name": "stdout",
     "output_type": "stream",
     "text": [
      "[0.00020955622160252435, -0.006233604612335191, -0.0024306937584522587]\n",
      "[-0.0021001850192939645, -0.012442666069256553, 0.0036603687223206584]\n",
      "[0.002229126507444422, -0.00382731204210948, 0.016356849100074573]\n",
      "[-0.020926184912547125, -0.011347020954711991, -0.006701486172475551]\n",
      "[-0.0028738629242587603, -0.019952275300050004, 0.010649075967061414]\n"
     ]
    }
   ],
   "execution_count": 12
  },
  {
   "metadata": {},
   "cell_type": "markdown",
   "source": [
    "# embed_query - 问题向量化\n",
    "<hr>"
   ],
   "id": "5c00ef7610785b89"
  },
  {
   "metadata": {
    "ExecuteTime": {
     "end_time": "2024-04-20T02:30:02.138808Z",
     "start_time": "2024-04-20T02:30:01.056640Z"
    }
   },
   "cell_type": "code",
   "source": [
    "embedded_query = e_model.embed_query(\"这段对话中提到了什么名字?\")\n",
    "embedded_query[:5]"
   ],
   "id": "ef28ff7f985872e8",
   "outputs": [
    {
     "data": {
      "text/plain": [
       "[0.0037302004841590695,\n",
       " 0.0008163917854050834,\n",
       " 0.02971025758721624,\n",
       " -0.006974423807729123,\n",
       " -0.025034373762037175]"
      ]
     },
     "execution_count": 11,
     "metadata": {},
     "output_type": "execute_result"
    }
   ],
   "execution_count": 11
  },
  {
   "metadata": {},
   "cell_type": "markdown",
   "source": [
    "# 嵌入向量缓存\n",
    "\n",
    "<hr>"
   ],
   "id": "4d26f762df23fe7d"
  },
  {
   "metadata": {
    "ExecuteTime": {
     "end_time": "2024-04-20T02:32:50.076215Z",
     "start_time": "2024-04-20T02:32:49.984428Z"
    }
   },
   "cell_type": "code",
   "source": [
    "from langchain.embeddings import CacheBackedEmbeddings\n",
    "from langchain.storage import LocalFileStore\n",
    "from langchain.document_loaders import TextLoader\n",
    "from langchain.text_splitter import CharacterTextSplitter\n",
    "from langchain_openai import OpenAIEmbeddings\n",
    "\n",
    "u_embeddings = OpenAIEmbeddings()\n",
    "fs = LocalFileStore(\"./cache/\")\n",
    "cached_embeddings = CacheBackedEmbeddings.from_bytes_store(\n",
    "    u_embeddings,\n",
    "    fs,\n",
    "    namespace=u_embeddings.model,\n",
    ")\n",
    "list(fs.yield_keys())"
   ],
   "id": "689c10454f6db7ac",
   "outputs": [
    {
     "data": {
      "text/plain": [
       "[]"
      ]
     },
     "execution_count": 13,
     "metadata": {},
     "output_type": "execute_result"
    }
   ],
   "execution_count": 13
  },
  {
   "metadata": {
    "ExecuteTime": {
     "end_time": "2024-04-20T02:33:25.462239Z",
     "start_time": "2024-04-20T02:33:25.454865Z"
    }
   },
   "cell_type": "code",
   "source": [
    "#加载文档，切分文档，将切分文档向量化病存储在缓存中\n",
    "raw_documents = TextLoader(\"testfile/letter.txt\").load()\n",
    "text_splitter = CharacterTextSplitter(chunk_size=620, chunk_overlap=0)\n",
    "documents = text_splitter.split_documents(raw_documents)"
   ],
   "id": "a558db96be871445",
   "outputs": [],
   "execution_count": 15
  },
  {
   "metadata": {},
   "cell_type": "code",
   "source": "! pip install faiss-cup",
   "id": "cf16482efa6e03db",
   "outputs": [],
   "execution_count": null
  },
  {
   "metadata": {
    "ExecuteTime": {
     "end_time": "2024-04-20T02:34:52.020216Z",
     "start_time": "2024-04-20T02:34:52.002948Z"
    }
   },
   "cell_type": "code",
   "source": [
    "from langchain.vectorstores import FAISS\n",
    "%timeit -r  1 -n 1 db= FAISS.from_documents(documents,cached_embeddings)"
   ],
   "id": "d69f201cad0673a2",
   "outputs": [
    {
     "name": "stdout",
     "output_type": "stream",
     "text": [
      "11 ms ± 0 ns per loop (mean ± std. dev. of 1 run, 1 loop each)\n"
     ]
    }
   ],
   "execution_count": 21
  },
  {
   "metadata": {
    "ExecuteTime": {
     "end_time": "2024-04-20T02:34:12.699481Z",
     "start_time": "2024-04-20T02:34:12.694583Z"
    }
   },
   "cell_type": "code",
   "source": [
    "#查看缓存中的键\n",
    "list(fs.yield_keys())"
   ],
   "id": "f4b4cd54a9c23642",
   "outputs": [
    {
     "data": {
      "text/plain": [
       "['text-embedding-ada-002c63ea318-3b5d-533b-960b-46434f8b3c22',\n",
       " 'text-embedding-ada-002f05b40fb-a095-546e-9c5d-49e069720828',\n",
       " 'text-embedding-ada-0024250f053-4b1e-5c34-927d-a7857749217f',\n",
       " 'text-embedding-ada-002b0c54c27-a009-50b4-9ccc-661d5478b195',\n",
       " 'text-embedding-ada-002e94acbbe-7d17-5331-8310-4e37bdc56d31',\n",
       " 'text-embedding-ada-0029286d74c-b3fc-56ff-8b08-9071a193f724']"
      ]
     },
     "execution_count": 18,
     "metadata": {},
     "output_type": "execute_result"
    }
   ],
   "execution_count": 18
  }
 ],
 "metadata": {
  "kernelspec": {
   "display_name": "Python 3",
   "language": "python",
   "name": "python3"
  },
  "language_info": {
   "codemirror_mode": {
    "name": "ipython",
    "version": 2
   },
   "file_extension": ".py",
   "mimetype": "text/x-python",
   "name": "python",
   "nbconvert_exporter": "python",
   "pygments_lexer": "ipython2",
   "version": "2.7.6"
  }
 },
 "nbformat": 4,
 "nbformat_minor": 5
}
