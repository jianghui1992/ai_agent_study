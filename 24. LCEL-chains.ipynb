{
 "cells": [
  {
   "cell_type": "code",
   "id": "initial_id",
   "metadata": {
    "collapsed": true,
    "ExecuteTime": {
     "end_time": "2024-04-27T09:43:19.483177Z",
     "start_time": "2024-04-27T09:43:19.470462Z"
    }
   },
   "source": [
    "from dotenv import load_dotenv\n",
    "\n",
    "load_dotenv(\"openai.env\")"
   ],
   "outputs": [
    {
     "data": {
      "text/plain": [
       "True"
      ]
     },
     "execution_count": 3,
     "metadata": {},
     "output_type": "execute_result"
    }
   ],
   "execution_count": 3
  },
  {
   "metadata": {},
   "cell_type": "markdown",
   "source": "# 使用Runnables来连接2个链",
   "id": "38e982e34c7c8ecc"
  },
  {
   "metadata": {
    "ExecuteTime": {
     "end_time": "2024-04-27T09:43:24.231587Z",
     "start_time": "2024-04-27T09:43:24.198757Z"
    }
   },
   "cell_type": "code",
   "source": [
    "from operator import itemgetter  #获取可迭代对象中指定索引或键对应的元素\n",
    "\n",
    "from langchain.schema import StrOutputParser\n",
    "from langchain_core.prompts import ChatPromptTemplate\n",
    "from langchain_openai import ChatOpenAI\n",
    "\n",
    "prompt1 = ChatPromptTemplate.from_template(\"{person}来自于哪个城市?只返回城市名,其他不要返回\")\n",
    "prompt2 = ChatPromptTemplate.from_template(\"{city}属于哪个省? 用{language}来回答\")\n",
    "\n",
    "model = ChatOpenAI()\n",
    "chain1 = prompt1 | model | StrOutputParser()\n",
    "\n",
    "chain2 = (\n",
    "    # chain1的返回值直接作为city参数的值\n",
    "    # itemgetter获取invoke中的language\n",
    "        {\"city\": chain1, \"language\": itemgetter(\"language\")}\n",
    "        | prompt2\n",
    "        | model\n",
    "        | StrOutputParser()\n",
    ")"
   ],
   "id": "6324c5bc5d8e87a1",
   "outputs": [],
   "execution_count": 5
  },
  {
   "metadata": {
    "ExecuteTime": {
     "end_time": "2024-04-27T09:43:28.282740Z",
     "start_time": "2024-04-27T09:43:25.877761Z"
    }
   },
   "cell_type": "code",
   "source": [
    "chain1.invoke({\"person\": \"马化腾\"})\n",
    "#chain2.invoke({\"person\": \"马化腾\", \"language\": \"中文\"})"
   ],
   "id": "6d94b05edad60af6",
   "outputs": [
    {
     "data": {
      "text/plain": [
       "'深圳'"
      ]
     },
     "execution_count": 6,
     "metadata": {},
     "output_type": "execute_result"
    }
   ],
   "execution_count": 6
  },
  {
   "metadata": {
    "ExecuteTime": {
     "end_time": "2024-04-27T09:43:50.158384Z",
     "start_time": "2024-04-27T09:43:48.062578Z"
    }
   },
   "cell_type": "code",
   "source": "chain2.invoke({\"person\": \"马化腾\", \"language\": \"英文\"})",
   "id": "af65a4c6607b3296",
   "outputs": [
    {
     "data": {
      "text/plain": [
       "'Shenzhen belongs to Guangdong province.'"
      ]
     },
     "execution_count": 8,
     "metadata": {},
     "output_type": "execute_result"
    }
   ],
   "execution_count": 8
  },
  {
   "metadata": {},
   "cell_type": "markdown",
   "source": "# 连接多分支链",
   "id": "c314bd89156f02c6"
  },
  {
   "metadata": {},
   "cell_type": "code",
   "outputs": [],
   "execution_count": null,
   "source": [
    "     输入\n",
    "/ \\\n",
    "    / \\\n",
    "    分支1   分支2\n",
    "\\   /\n",
    "\\ /\n",
    "合并结果"
   ],
   "id": "bfb4d6a1701c95df"
  },
  {
   "metadata": {
    "ExecuteTime": {
     "end_time": "2024-04-27T09:49:10.261437Z",
     "start_time": "2024-04-27T09:49:10.147273Z"
    }
   },
   "cell_type": "code",
   "source": [
    "from langchain_core.runnables import RunnablePassthrough\n",
    "\n",
    "planner = (\n",
    "        ChatPromptTemplate.from_template(\"生成一个关于{input}的论点\")\n",
    "        | ChatOpenAI() | StrOutputParser() | {\"base_response\": RunnablePassthrough()}\n",
    ")\n",
    "arguments_for = (\n",
    "        ChatPromptTemplate.from_template(\"列出以下内容的优点或积极方面:{base_response}\")\n",
    "        | ChatOpenAI() | StrOutputParser()\n",
    ")\n",
    "arguments_against = (\n",
    "        ChatPromptTemplate.from_template(\"列出以下内容的缺点或消极方面:{base_response}\")\n",
    "        | ChatOpenAI() | StrOutputParser()\n",
    ")\n",
    "\n",
    "final_responder = (\n",
    "        ChatPromptTemplate.from_messages(\n",
    "            [\n",
    "                (\"ai\", \"{original_response}\"),\n",
    "                (\"human\", \"积极看法:\\n{results_1}\\n\\n消极看法:\\n{results_2}\"),\n",
    "                (\"system\", \"根据上述评论生成最终的回复\"),\n",
    "            ]\n",
    "        )\n",
    "        | ChatOpenAI() | StrOutputParser()\n",
    ")\n",
    "\n",
    "chain = (\n",
    "        planner\n",
    "        | {\n",
    "            \"results_1\": arguments_for,\n",
    "            \"results_2\": arguments_against,\n",
    "            \"original_response\": itemgetter(\"base_response\"),\n",
    "        }\n",
    "        | final_responder\n",
    ")"
   ],
   "id": "c8bed576d95ad791",
   "outputs": [],
   "execution_count": 9
  },
  {
   "metadata": {
    "ExecuteTime": {
     "end_time": "2024-04-27T09:49:26.871619Z",
     "start_time": "2024-04-27T09:49:22.321295Z"
    }
   },
   "cell_type": "code",
   "source": "planner.invoke(\"生孩子\")",
   "id": "b876ce151795769a",
   "outputs": [
    {
     "data": {
      "text/plain": [
       "{'base_response': '生孩子是人类社会中至关重要的事情，它不仅是延续种族的必然选择，更是家庭和社会发展的基石。通过生育子女，我们不仅可以传承血脉，延续家族的传统，更可以为社会注入新的活力和希望。同时，生育子女也是一种人类天性的体现，是对生命的尊重和热爱。因此，生孩子不仅是一种责任，更是一种荣耀和幸福。'}"
      ]
     },
     "execution_count": 10,
     "metadata": {},
     "output_type": "execute_result"
    }
   ],
   "execution_count": 10
  },
  {
   "metadata": {
    "ExecuteTime": {
     "end_time": "2024-04-27T09:50:34.719665Z",
     "start_time": "2024-04-27T09:50:21.788313Z"
    }
   },
   "cell_type": "code",
   "source": "chain.invoke({\"input\": \"生孩子\"})",
   "id": "3471d72d57b924aa",
   "outputs": [
    {
     "data": {
      "text/plain": [
       "'感谢评论者提供的意见和看法。的确，生孩子是一项需要认真考虑和权衡利弊的决定和责任。虽然生孩子可以带来很多幸福和满足感，但也需要付出巨大的精力、时间和金钱，并且存在着健康风险和社会影响等问题。因此，在做出生育决定之前，需要充分了解自己和家庭的情况，并认真考虑自己的生活和事业发展计划。同时，社会和政府也应该提供必要的支持和保障，为生育家庭创造更好的条件和环境。'"
      ]
     },
     "execution_count": 11,
     "metadata": {},
     "output_type": "execute_result"
    }
   ],
   "execution_count": 11
  },
  {
   "metadata": {},
   "cell_type": "markdown",
   "source": "# 自定义输出解析器 - python代码生成工具",
   "id": "14a5f9203eb5625a"
  },
  {
   "metadata": {
    "ExecuteTime": {
     "end_time": "2024-04-27T09:53:15.418626Z",
     "start_time": "2024-04-27T09:53:15.368411Z"
    }
   },
   "cell_type": "code",
   "source": [
    "from langchain_core.output_parsers import StrOutputParser\n",
    "from langchain_core.prompts import ChatPromptTemplate\n",
    "from langchain_experimental.utilities import PythonREPL\n",
    "from langchain_openai import ChatOpenAI\n",
    "\n",
    "template = \"\"\"根据用户需求帮助用户编写python代码. \n",
    "只需要返回markdown格式的python代码, 比如:\n",
    "```python\n",
    "def add(a, b):\n",
    "    return a + b\n",
    "....\n",
    "```\"\"\"\n",
    "prompt = ChatPromptTemplate.from_messages([(\"system\", template), (\"human\", \"{input}\")])\n",
    "model = ChatOpenAI(model=\"gpt-4\", temperature=0)\n",
    "\n",
    "\n",
    "#自定义输出解析，只返回python代码\n",
    "def _sanitize_output(text: str):\n",
    "    _, after = text.split(\"```python\")\n",
    "    return after.split(\"```\")[0]\n",
    "\n",
    "\n",
    "#定义链\n",
    "chain = prompt | model | StrOutputParser() | _sanitize_output"
   ],
   "id": "7a506c9302c55388",
   "outputs": [],
   "execution_count": 12
  },
  {
   "metadata": {
    "ExecuteTime": {
     "end_time": "2024-04-27T09:53:56.371262Z",
     "start_time": "2024-04-27T09:53:51.198097Z"
    }
   },
   "cell_type": "code",
   "source": [
    "code = chain.invoke({\"input\": \"从10里面循环找出所有质数\"})\n",
    "print(code)"
   ],
   "id": "a573f3dbc37fe639",
   "outputs": [
    {
     "name": "stdout",
     "output_type": "stream",
     "text": [
      "\n",
      "def find_prime(n):\n",
      "    prime_nums = []\n",
      "    for num in range(2, n+1):\n",
      "        if num > 1:\n",
      "            for i in range(2, num):\n",
      "                if (num % i) == 0:\n",
      "                    break\n",
      "            else:\n",
      "                prime_nums.append(num)\n",
      "    return prime_nums\n",
      "\n",
      "print(find_prime(10))\n",
      "\n"
     ]
    }
   ],
   "execution_count": 14
  },
  {
   "metadata": {
    "ExecuteTime": {
     "end_time": "2024-04-27T09:55:41.608082Z",
     "start_time": "2024-04-27T09:55:34.095458Z"
    }
   },
   "cell_type": "code",
   "source": [
    "chain = prompt | model | StrOutputParser() | _sanitize_output | PythonREPL().run\n",
    "ans = chain.invoke({\"input\": \"从10里面循环找出所有质数\"})\n",
    "print(ans)"
   ],
   "id": "8062ac5a7f9319af",
   "outputs": [
    {
     "name": "stdout",
     "output_type": "stream",
     "text": [
      "[2, 3, 5, 7]\n",
      "\n"
     ]
    }
   ],
   "execution_count": 19
  },
  {
   "metadata": {},
   "cell_type": "markdown",
   "source": "# 查询sql",
   "id": "a755ee10582ffa33"
  },
  {
   "metadata": {
    "ExecuteTime": {
     "end_time": "2024-04-27T09:57:45.156341Z",
     "start_time": "2024-04-27T09:57:45.116013Z"
    }
   },
   "cell_type": "code",
   "source": [
    "from langchain_core.prompts import ChatPromptTemplate\n",
    "from langchain_community.utilities import SQLDatabase\n",
    "\n",
    "template = \"\"\"Based on the table schema below, write a SQL query that would answer the user's question:\n",
    "{schema}\n",
    "\n",
    "Question: {question}\n",
    "SQL Query:\"\"\"\n",
    "prompt = ChatPromptTemplate.from_template(template)\n",
    "\n",
    "db = SQLDatabase.from_uri(\"sqlite:///Chinook.db\")\n",
    "print(db.get_table_info())"
   ],
   "id": "8a0f2402e43273db",
   "outputs": [
    {
     "name": "stdout",
     "output_type": "stream",
     "text": [
      "\n",
      "CREATE TABLE \"Album\" (\n",
      "\t\"AlbumId\" INTEGER NOT NULL, \n",
      "\t\"Title\" NVARCHAR(160) NOT NULL, \n",
      "\t\"ArtistId\" INTEGER NOT NULL, \n",
      "\tPRIMARY KEY (\"AlbumId\"), \n",
      "\tFOREIGN KEY(\"ArtistId\") REFERENCES \"Artist\" (\"ArtistId\")\n",
      ")\n",
      "\n",
      "/*\n",
      "3 rows from Album table:\n",
      "AlbumId\tTitle\tArtistId\n",
      "1\tFor Those About To Rock We Salute You\t1\n",
      "2\tBalls to the Wall\t2\n",
      "3\tRestless and Wild\t2\n",
      "*/\n",
      "\n",
      "\n",
      "CREATE TABLE \"Artist\" (\n",
      "\t\"ArtistId\" INTEGER NOT NULL, \n",
      "\t\"Name\" NVARCHAR(120), \n",
      "\tPRIMARY KEY (\"ArtistId\")\n",
      ")\n",
      "\n",
      "/*\n",
      "3 rows from Artist table:\n",
      "ArtistId\tName\n",
      "1\tAC/DC\n",
      "2\tAccept\n",
      "3\tAerosmith\n",
      "*/\n",
      "\n",
      "\n",
      "CREATE TABLE \"Customer\" (\n",
      "\t\"CustomerId\" INTEGER NOT NULL, \n",
      "\t\"FirstName\" NVARCHAR(40) NOT NULL, \n",
      "\t\"LastName\" NVARCHAR(20) NOT NULL, \n",
      "\t\"Company\" NVARCHAR(80), \n",
      "\t\"Address\" NVARCHAR(70), \n",
      "\t\"City\" NVARCHAR(40), \n",
      "\t\"State\" NVARCHAR(40), \n",
      "\t\"Country\" NVARCHAR(40), \n",
      "\t\"PostalCode\" NVARCHAR(10), \n",
      "\t\"Phone\" NVARCHAR(24), \n",
      "\t\"Fax\" NVARCHAR(24), \n",
      "\t\"Email\" NVARCHAR(60) NOT NULL, \n",
      "\t\"SupportRepId\" INTEGER, \n",
      "\tPRIMARY KEY (\"CustomerId\"), \n",
      "\tFOREIGN KEY(\"SupportRepId\") REFERENCES \"Employee\" (\"EmployeeId\")\n",
      ")\n",
      "\n",
      "/*\n",
      "3 rows from Customer table:\n",
      "CustomerId\tFirstName\tLastName\tCompany\tAddress\tCity\tState\tCountry\tPostalCode\tPhone\tFax\tEmail\tSupportRepId\n",
      "1\tLuís\tGonçalves\tEmbraer - Empresa Brasileira de Aeronáutica S.A.\tAv. Brigadeiro Faria Lima, 2170\tSão José dos Campos\tSP\tBrazil\t12227-000\t+55 (12) 3923-5555\t+55 (12) 3923-5566\tluisg@embraer.com.br\t3\n",
      "2\tLeonie\tKöhler\tNone\tTheodor-Heuss-Straße 34\tStuttgart\tNone\tGermany\t70174\t+49 0711 2842222\tNone\tleonekohler@surfeu.de\t5\n",
      "3\tFrançois\tTremblay\tNone\t1498 rue Bélanger\tMontréal\tQC\tCanada\tH2G 1A7\t+1 (514) 721-4711\tNone\tftremblay@gmail.com\t3\n",
      "*/\n",
      "\n",
      "\n",
      "CREATE TABLE \"Employee\" (\n",
      "\t\"EmployeeId\" INTEGER NOT NULL, \n",
      "\t\"LastName\" NVARCHAR(20) NOT NULL, \n",
      "\t\"FirstName\" NVARCHAR(20) NOT NULL, \n",
      "\t\"Title\" NVARCHAR(30), \n",
      "\t\"ReportsTo\" INTEGER, \n",
      "\t\"BirthDate\" DATETIME, \n",
      "\t\"HireDate\" DATETIME, \n",
      "\t\"Address\" NVARCHAR(70), \n",
      "\t\"City\" NVARCHAR(40), \n",
      "\t\"State\" NVARCHAR(40), \n",
      "\t\"Country\" NVARCHAR(40), \n",
      "\t\"PostalCode\" NVARCHAR(10), \n",
      "\t\"Phone\" NVARCHAR(24), \n",
      "\t\"Fax\" NVARCHAR(24), \n",
      "\t\"Email\" NVARCHAR(60), \n",
      "\tPRIMARY KEY (\"EmployeeId\"), \n",
      "\tFOREIGN KEY(\"ReportsTo\") REFERENCES \"Employee\" (\"EmployeeId\")\n",
      ")\n",
      "\n",
      "/*\n",
      "3 rows from Employee table:\n",
      "EmployeeId\tLastName\tFirstName\tTitle\tReportsTo\tBirthDate\tHireDate\tAddress\tCity\tState\tCountry\tPostalCode\tPhone\tFax\tEmail\n",
      "1\tAdams\tAndrew\tGeneral Manager\tNone\t1962-02-18 00:00:00\t2002-08-14 00:00:00\t11120 Jasper Ave NW\tEdmonton\tAB\tCanada\tT5K 2N1\t+1 (780) 428-9482\t+1 (780) 428-3457\tandrew@chinookcorp.com\n",
      "2\tEdwards\tNancy\tSales Manager\t1\t1958-12-08 00:00:00\t2002-05-01 00:00:00\t825 8 Ave SW\tCalgary\tAB\tCanada\tT2P 2T3\t+1 (403) 262-3443\t+1 (403) 262-3322\tnancy@chinookcorp.com\n",
      "3\tPeacock\tJane\tSales Support Agent\t2\t1973-08-29 00:00:00\t2002-04-01 00:00:00\t1111 6 Ave SW\tCalgary\tAB\tCanada\tT2P 5M5\t+1 (403) 262-3443\t+1 (403) 262-6712\tjane@chinookcorp.com\n",
      "*/\n",
      "\n",
      "\n",
      "CREATE TABLE \"Genre\" (\n",
      "\t\"GenreId\" INTEGER NOT NULL, \n",
      "\t\"Name\" NVARCHAR(120), \n",
      "\tPRIMARY KEY (\"GenreId\")\n",
      ")\n",
      "\n",
      "/*\n",
      "3 rows from Genre table:\n",
      "GenreId\tName\n",
      "1\tRock\n",
      "2\tJazz\n",
      "3\tMetal\n",
      "*/\n",
      "\n",
      "\n",
      "CREATE TABLE \"Invoice\" (\n",
      "\t\"InvoiceId\" INTEGER NOT NULL, \n",
      "\t\"CustomerId\" INTEGER NOT NULL, \n",
      "\t\"InvoiceDate\" DATETIME NOT NULL, \n",
      "\t\"BillingAddress\" NVARCHAR(70), \n",
      "\t\"BillingCity\" NVARCHAR(40), \n",
      "\t\"BillingState\" NVARCHAR(40), \n",
      "\t\"BillingCountry\" NVARCHAR(40), \n",
      "\t\"BillingPostalCode\" NVARCHAR(10), \n",
      "\t\"Total\" NUMERIC(10, 2) NOT NULL, \n",
      "\tPRIMARY KEY (\"InvoiceId\"), \n",
      "\tFOREIGN KEY(\"CustomerId\") REFERENCES \"Customer\" (\"CustomerId\")\n",
      ")\n",
      "\n",
      "/*\n",
      "3 rows from Invoice table:\n",
      "InvoiceId\tCustomerId\tInvoiceDate\tBillingAddress\tBillingCity\tBillingState\tBillingCountry\tBillingPostalCode\tTotal\n",
      "1\t2\t2009-01-01 00:00:00\tTheodor-Heuss-Straße 34\tStuttgart\tNone\tGermany\t70174\t1.98\n",
      "2\t4\t2009-01-02 00:00:00\tUllevålsveien 14\tOslo\tNone\tNorway\t0171\t3.96\n",
      "3\t8\t2009-01-03 00:00:00\tGrétrystraat 63\tBrussels\tNone\tBelgium\t1000\t5.94\n",
      "*/\n",
      "\n",
      "\n",
      "CREATE TABLE \"InvoiceLine\" (\n",
      "\t\"InvoiceLineId\" INTEGER NOT NULL, \n",
      "\t\"InvoiceId\" INTEGER NOT NULL, \n",
      "\t\"TrackId\" INTEGER NOT NULL, \n",
      "\t\"UnitPrice\" NUMERIC(10, 2) NOT NULL, \n",
      "\t\"Quantity\" INTEGER NOT NULL, \n",
      "\tPRIMARY KEY (\"InvoiceLineId\"), \n",
      "\tFOREIGN KEY(\"TrackId\") REFERENCES \"Track\" (\"TrackId\"), \n",
      "\tFOREIGN KEY(\"InvoiceId\") REFERENCES \"Invoice\" (\"InvoiceId\")\n",
      ")\n",
      "\n",
      "/*\n",
      "3 rows from InvoiceLine table:\n",
      "InvoiceLineId\tInvoiceId\tTrackId\tUnitPrice\tQuantity\n",
      "1\t1\t2\t0.99\t1\n",
      "2\t1\t4\t0.99\t1\n",
      "3\t2\t6\t0.99\t1\n",
      "*/\n",
      "\n",
      "\n",
      "CREATE TABLE \"MediaType\" (\n",
      "\t\"MediaTypeId\" INTEGER NOT NULL, \n",
      "\t\"Name\" NVARCHAR(120), \n",
      "\tPRIMARY KEY (\"MediaTypeId\")\n",
      ")\n",
      "\n",
      "/*\n",
      "3 rows from MediaType table:\n",
      "MediaTypeId\tName\n",
      "1\tMPEG audio file\n",
      "2\tProtected AAC audio file\n",
      "3\tProtected MPEG-4 video file\n",
      "*/\n",
      "\n",
      "\n",
      "CREATE TABLE \"Playlist\" (\n",
      "\t\"PlaylistId\" INTEGER NOT NULL, \n",
      "\t\"Name\" NVARCHAR(120), \n",
      "\tPRIMARY KEY (\"PlaylistId\")\n",
      ")\n",
      "\n",
      "/*\n",
      "3 rows from Playlist table:\n",
      "PlaylistId\tName\n",
      "1\tMusic\n",
      "2\tMovies\n",
      "3\tTV Shows\n",
      "*/\n",
      "\n",
      "\n",
      "CREATE TABLE \"PlaylistTrack\" (\n",
      "\t\"PlaylistId\" INTEGER NOT NULL, \n",
      "\t\"TrackId\" INTEGER NOT NULL, \n",
      "\tPRIMARY KEY (\"PlaylistId\", \"TrackId\"), \n",
      "\tFOREIGN KEY(\"TrackId\") REFERENCES \"Track\" (\"TrackId\"), \n",
      "\tFOREIGN KEY(\"PlaylistId\") REFERENCES \"Playlist\" (\"PlaylistId\")\n",
      ")\n",
      "\n",
      "/*\n",
      "3 rows from PlaylistTrack table:\n",
      "PlaylistId\tTrackId\n",
      "1\t3402\n",
      "1\t3389\n",
      "1\t3390\n",
      "*/\n",
      "\n",
      "\n",
      "CREATE TABLE \"Track\" (\n",
      "\t\"TrackId\" INTEGER NOT NULL, \n",
      "\t\"Name\" NVARCHAR(200) NOT NULL, \n",
      "\t\"AlbumId\" INTEGER, \n",
      "\t\"MediaTypeId\" INTEGER NOT NULL, \n",
      "\t\"GenreId\" INTEGER, \n",
      "\t\"Composer\" NVARCHAR(220), \n",
      "\t\"Milliseconds\" INTEGER NOT NULL, \n",
      "\t\"Bytes\" INTEGER, \n",
      "\t\"UnitPrice\" NUMERIC(10, 2) NOT NULL, \n",
      "\tPRIMARY KEY (\"TrackId\"), \n",
      "\tFOREIGN KEY(\"MediaTypeId\") REFERENCES \"MediaType\" (\"MediaTypeId\"), \n",
      "\tFOREIGN KEY(\"GenreId\") REFERENCES \"Genre\" (\"GenreId\"), \n",
      "\tFOREIGN KEY(\"AlbumId\") REFERENCES \"Album\" (\"AlbumId\")\n",
      ")\n",
      "\n",
      "/*\n",
      "3 rows from Track table:\n",
      "TrackId\tName\tAlbumId\tMediaTypeId\tGenreId\tComposer\tMilliseconds\tBytes\tUnitPrice\n",
      "1\tFor Those About To Rock (We Salute You)\t1\t1\t1\tAngus Young, Malcolm Young, Brian Johnson\t343719\t11170334\t0.99\n",
      "2\tBalls to the Wall\t2\t2\t1\tNone\t342562\t5510424\t0.99\n",
      "3\tFast As a Shark\t3\t2\t1\tF. Baltes, S. Kaufman, U. Dirkscneider & W. Hoffman\t230619\t3990994\t0.99\n",
      "*/\n"
     ]
    }
   ],
   "execution_count": 21
  },
  {
   "metadata": {
    "ExecuteTime": {
     "end_time": "2024-04-27T09:59:03.791227Z",
     "start_time": "2024-04-27T09:59:03.759551Z"
    }
   },
   "cell_type": "code",
   "source": [
    "from langchain_core.output_parsers import StrOutputParser\n",
    "from langchain_core.runnables import RunnablePassthrough\n",
    "from langchain_openai import ChatOpenAI\n",
    "\n",
    "model = ChatOpenAI(model=\"gpt-4\", temperature=0)\n",
    "\n",
    "\n",
    "def get_schema(_):\n",
    "    return db.get_table_info()\n",
    "\n",
    "\n",
    "sql_response = (\n",
    "        RunnablePassthrough.assign(schema=get_schema)\n",
    "        | prompt\n",
    "        # 遇到SQLResult:就停止输出\n",
    "        | model.bind(stop=[\"\\nSQLResult:\"])\n",
    "        | StrOutputParser()\n",
    ")"
   ],
   "id": "986047b8c4192df",
   "outputs": [],
   "execution_count": 23
  },
  {
   "metadata": {
    "ExecuteTime": {
     "end_time": "2024-04-27T09:59:19.259437Z",
     "start_time": "2024-04-27T09:59:16.413658Z"
    }
   },
   "cell_type": "code",
   "source": "sql_response.invoke({\"question\": \"How many artists are there?\"})",
   "id": "64cd10f54d5327d3",
   "outputs": [
    {
     "data": {
      "text/plain": [
       "'SELECT COUNT(*) FROM Artist;'"
      ]
     },
     "execution_count": 24,
     "metadata": {},
     "output_type": "execute_result"
    }
   ],
   "execution_count": 24
  },
  {
   "metadata": {},
   "cell_type": "markdown",
   "source": "也可以帮我们直接查询出来结果",
   "id": "57c353c4a08b49c1"
  },
  {
   "metadata": {
    "ExecuteTime": {
     "end_time": "2024-04-27T10:02:05.619312Z",
     "start_time": "2024-04-27T10:01:55.083061Z"
    }
   },
   "cell_type": "code",
   "source": [
    "from langchain.globals import set_debug\n",
    "\n",
    "\n",
    "def run_query(query):\n",
    "    print(query)\n",
    "    return db.run(query)\n",
    "\n",
    "\n",
    "template = \"\"\"Based on the table schema below, question, sql query, and sql response, write a natural language response:\n",
    "{schema}\n",
    "\n",
    "Question: {question}\n",
    "SQL Query: {query}\n",
    "SQL Response: {response}\"\"\"\n",
    "prompt_response = ChatPromptTemplate.from_template(template)\n",
    "\n",
    "full_chain = (\n",
    "        RunnablePassthrough.assign(query=sql_response).assign(\n",
    "            schema=get_schema,\n",
    "            response=lambda x: db.run(x[\"query\"]),\n",
    "        )\n",
    "        | prompt_response\n",
    "        | model\n",
    ")\n",
    "set_debug(True)\n",
    "full_chain.invoke({\"question\": \"How many artists are there?\"})"
   ],
   "id": "ae07d2e892d3f629",
   "outputs": [
    {
     "name": "stdout",
     "output_type": "stream",
     "text": [
      "\u001B[32;1m\u001B[1;3m[chain/start]\u001B[0m \u001B[1m[1:chain:RunnableSequence] Entering Chain run with input:\n",
      "\u001B[0m{\n",
      "  \"question\": \"How many artists are there?\"\n",
      "}\n",
      "\u001B[32;1m\u001B[1;3m[chain/start]\u001B[0m \u001B[1m[1:chain:RunnableSequence > 2:chain:RunnableAssign<query>] Entering Chain run with input:\n",
      "\u001B[0m{\n",
      "  \"question\": \"How many artists are there?\"\n",
      "}\n",
      "\u001B[32;1m\u001B[1;3m[chain/start]\u001B[0m \u001B[1m[1:chain:RunnableSequence > 2:chain:RunnableAssign<query> > 3:chain:RunnableParallel<query>] Entering Chain run with input:\n",
      "\u001B[0m{\n",
      "  \"question\": \"How many artists are there?\"\n",
      "}\n",
      "\u001B[32;1m\u001B[1;3m[chain/start]\u001B[0m \u001B[1m[1:chain:RunnableSequence > 2:chain:RunnableAssign<query> > 3:chain:RunnableParallel<query> > 4:chain:RunnableSequence] Entering Chain run with input:\n",
      "\u001B[0m{\n",
      "  \"question\": \"How many artists are there?\"\n",
      "}\n",
      "\u001B[32;1m\u001B[1;3m[chain/start]\u001B[0m \u001B[1m[1:chain:RunnableSequence > 2:chain:RunnableAssign<query> > 3:chain:RunnableParallel<query> > 4:chain:RunnableSequence > 5:chain:RunnableAssign<schema>] Entering Chain run with input:\n",
      "\u001B[0m{\n",
      "  \"question\": \"How many artists are there?\"\n",
      "}\n",
      "\u001B[32;1m\u001B[1;3m[chain/start]\u001B[0m \u001B[1m[1:chain:RunnableSequence > 2:chain:RunnableAssign<query> > 3:chain:RunnableParallel<query> > 4:chain:RunnableSequence > 5:chain:RunnableAssign<schema> > 6:chain:RunnableParallel<schema>] Entering Chain run with input:\n",
      "\u001B[0m{\n",
      "  \"question\": \"How many artists are there?\"\n",
      "}\n",
      "\u001B[32;1m\u001B[1;3m[chain/start]\u001B[0m \u001B[1m[1:chain:RunnableSequence > 2:chain:RunnableAssign<query> > 3:chain:RunnableParallel<query> > 4:chain:RunnableSequence > 5:chain:RunnableAssign<schema> > 6:chain:RunnableParallel<schema> > 7:chain:get_schema] Entering Chain run with input:\n",
      "\u001B[0m{\n",
      "  \"question\": \"How many artists are there?\"\n",
      "}\n",
      "\u001B[36;1m\u001B[1;3m[chain/end]\u001B[0m \u001B[1m[1:chain:RunnableSequence > 2:chain:RunnableAssign<query> > 3:chain:RunnableParallel<query> > 4:chain:RunnableSequence > 5:chain:RunnableAssign<schema> > 6:chain:RunnableParallel<schema> > 7:chain:get_schema] [5ms] Exiting Chain run with output:\n",
      "\u001B[0m{\n",
      "  \"output\": \"\\nCREATE TABLE \\\"Album\\\" (\\n\\t\\\"AlbumId\\\" INTEGER NOT NULL, \\n\\t\\\"Title\\\" NVARCHAR(160) NOT NULL, \\n\\t\\\"ArtistId\\\" INTEGER NOT NULL, \\n\\tPRIMARY KEY (\\\"AlbumId\\\"), \\n\\tFOREIGN KEY(\\\"ArtistId\\\") REFERENCES \\\"Artist\\\" (\\\"ArtistId\\\")\\n)\\n\\n/*\\n3 rows from Album table:\\nAlbumId\\tTitle\\tArtistId\\n1\\tFor Those About To Rock We Salute You\\t1\\n2\\tBalls to the Wall\\t2\\n3\\tRestless and Wild\\t2\\n*/\\n\\n\\nCREATE TABLE \\\"Artist\\\" (\\n\\t\\\"ArtistId\\\" INTEGER NOT NULL, \\n\\t\\\"Name\\\" NVARCHAR(120), \\n\\tPRIMARY KEY (\\\"ArtistId\\\")\\n)\\n\\n/*\\n3 rows from Artist table:\\nArtistId\\tName\\n1\\tAC/DC\\n2\\tAccept\\n3\\tAerosmith\\n*/\\n\\n\\nCREATE TABLE \\\"Customer\\\" (\\n\\t\\\"CustomerId\\\" INTEGER NOT NULL, \\n\\t\\\"FirstName\\\" NVARCHAR(40) NOT NULL, \\n\\t\\\"LastName\\\" NVARCHAR(20) NOT NULL, \\n\\t\\\"Company\\\" NVARCHAR(80), \\n\\t\\\"Address\\\" NVARCHAR(70), \\n\\t\\\"City\\\" NVARCHAR(40), \\n\\t\\\"State\\\" NVARCHAR(40), \\n\\t\\\"Country\\\" NVARCHAR(40), \\n\\t\\\"PostalCode\\\" NVARCHAR(10), \\n\\t\\\"Phone\\\" NVARCHAR(24), \\n\\t\\\"Fax\\\" NVARCHAR(24), \\n\\t\\\"Email\\\" NVARCHAR(60) NOT NULL, \\n\\t\\\"SupportRepId\\\" INTEGER, \\n\\tPRIMARY KEY (\\\"CustomerId\\\"), \\n\\tFOREIGN KEY(\\\"SupportRepId\\\") REFERENCES \\\"Employee\\\" (\\\"EmployeeId\\\")\\n)\\n\\n/*\\n3 rows from Customer table:\\nCustomerId\\tFirstName\\tLastName\\tCompany\\tAddress\\tCity\\tState\\tCountry\\tPostalCode\\tPhone\\tFax\\tEmail\\tSupportRepId\\n1\\tLuís\\tGonçalves\\tEmbraer - Empresa Brasileira de Aeronáutica S.A.\\tAv. Brigadeiro Faria Lima, 2170\\tSão José dos Campos\\tSP\\tBrazil\\t12227-000\\t+55 (12) 3923-5555\\t+55 (12) 3923-5566\\tluisg@embraer.com.br\\t3\\n2\\tLeonie\\tKöhler\\tNone\\tTheodor-Heuss-Straße 34\\tStuttgart\\tNone\\tGermany\\t70174\\t+49 0711 2842222\\tNone\\tleonekohler@surfeu.de\\t5\\n3\\tFrançois\\tTremblay\\tNone\\t1498 rue Bélanger\\tMontréal\\tQC\\tCanada\\tH2G 1A7\\t+1 (514) 721-4711\\tNone\\tftremblay@gmail.com\\t3\\n*/\\n\\n\\nCREATE TABLE \\\"Employee\\\" (\\n\\t\\\"EmployeeId\\\" INTEGER NOT NULL, \\n\\t\\\"LastName\\\" NVARCHAR(20) NOT NULL, \\n\\t\\\"FirstName\\\" NVARCHAR(20) NOT NULL, \\n\\t\\\"Title\\\" NVARCHAR(30), \\n\\t\\\"ReportsTo\\\" INTEGER, \\n\\t\\\"BirthDate\\\" DATETIME, \\n\\t\\\"HireDate\\\" DATETIME, \\n\\t\\\"Address\\\" NVARCHAR(70), \\n\\t\\\"City\\\" NVARCHAR(40), \\n\\t\\\"State\\\" NVARCHAR(40), \\n\\t\\\"Country\\\" NVARCHAR(40), \\n\\t\\\"PostalCode\\\" NVARCHAR(10), \\n\\t\\\"Phone\\\" NVARCHAR(24), \\n\\t\\\"Fax\\\" NVARCHAR(24), \\n\\t\\\"Email\\\" NVARCHAR(60), \\n\\tPRIMARY KEY (\\\"EmployeeId\\\"), \\n\\tFOREIGN KEY(\\\"ReportsTo\\\") REFERENCES \\\"Employee\\\" (\\\"EmployeeId\\\")\\n)\\n\\n/*\\n3 rows from Employee table:\\nEmployeeId\\tLastName\\tFirstName\\tTitle\\tReportsTo\\tBirthDate\\tHireDate\\tAddress\\tCity\\tState\\tCountry\\tPostalCode\\tPhone\\tFax\\tEmail\\n1\\tAdams\\tAndrew\\tGeneral Manager\\tNone\\t1962-02-18 00:00:00\\t2002-08-14 00:00:00\\t11120 Jasper Ave NW\\tEdmonton\\tAB\\tCanada\\tT5K 2N1\\t+1 (780) 428-9482\\t+1 (780) 428-3457\\tandrew@chinookcorp.com\\n2\\tEdwards\\tNancy\\tSales Manager\\t1\\t1958-12-08 00:00:00\\t2002-05-01 00:00:00\\t825 8 Ave SW\\tCalgary\\tAB\\tCanada\\tT2P 2T3\\t+1 (403) 262-3443\\t+1 (403) 262-3322\\tnancy@chinookcorp.com\\n3\\tPeacock\\tJane\\tSales Support Agent\\t2\\t1973-08-29 00:00:00\\t2002-04-01 00:00:00\\t1111 6 Ave SW\\tCalgary\\tAB\\tCanada\\tT2P 5M5\\t+1 (403) 262-3443\\t+1 (403) 262-6712\\tjane@chinookcorp.com\\n*/\\n\\n\\nCREATE TABLE \\\"Genre\\\" (\\n\\t\\\"GenreId\\\" INTEGER NOT NULL, \\n\\t\\\"Name\\\" NVARCHAR(120), \\n\\tPRIMARY KEY (\\\"GenreId\\\")\\n)\\n\\n/*\\n3 rows from Genre table:\\nGenreId\\tName\\n1\\tRock\\n2\\tJazz\\n3\\tMetal\\n*/\\n\\n\\nCREATE TABLE \\\"Invoice\\\" (\\n\\t\\\"InvoiceId\\\" INTEGER NOT NULL, \\n\\t\\\"CustomerId\\\" INTEGER NOT NULL, \\n\\t\\\"InvoiceDate\\\" DATETIME NOT NULL, \\n\\t\\\"BillingAddress\\\" NVARCHAR(70), \\n\\t\\\"BillingCity\\\" NVARCHAR(40), \\n\\t\\\"BillingState\\\" NVARCHAR(40), \\n\\t\\\"BillingCountry\\\" NVARCHAR(40), \\n\\t\\\"BillingPostalCode\\\" NVARCHAR(10), \\n\\t\\\"Total\\\" NUMERIC(10, 2) NOT NULL, \\n\\tPRIMARY KEY (\\\"InvoiceId\\\"), \\n\\tFOREIGN KEY(\\\"CustomerId\\\") REFERENCES \\\"Customer\\\" (\\\"CustomerId\\\")\\n)\\n\\n/*\\n3 rows from Invoice table:\\nInvoiceId\\tCustomerId\\tInvoiceDate\\tBillingAddress\\tBillingCity\\tBillingState\\tBillingCountry\\tBillingPostalCode\\tTotal\\n1\\t2\\t2009-01-01 00:00:00\\tTheodor-Heuss-Straße 34\\tStuttgart\\tNone\\tGermany\\t70174\\t1.98\\n2\\t4\\t2009-01-02 00:00:00\\tUllevålsveien 14\\tOslo\\tNone\\tNorway\\t0171\\t3.96\\n3\\t8\\t2009-01-03 00:00:00\\tGrétrystraat 63\\tBrussels\\tNone\\tBelgium\\t1000\\t5.94\\n*/\\n\\n\\nCREATE TABLE \\\"InvoiceLine\\\" (\\n\\t\\\"InvoiceLineId\\\" INTEGER NOT NULL, \\n\\t\\\"InvoiceId\\\" INTEGER NOT NULL, \\n\\t\\\"TrackId\\\" INTEGER NOT NULL, \\n\\t\\\"UnitPrice\\\" NUMERIC(10, 2) NOT NULL, \\n\\t\\\"Quantity\\\" INTEGER NOT NULL, \\n\\tPRIMARY KEY (\\\"InvoiceLineId\\\"), \\n\\tFOREIGN KEY(\\\"TrackId\\\") REFERENCES \\\"Track\\\" (\\\"TrackId\\\"), \\n\\tFOREIGN KEY(\\\"InvoiceId\\\") REFERENCES \\\"Invoice\\\" (\\\"InvoiceId\\\")\\n)\\n\\n/*\\n3 rows from InvoiceLine table:\\nInvoiceLineId\\tInvoiceId\\tTrackId\\tUnitPrice\\tQuantity\\n1\\t1\\t2\\t0.99\\t1\\n2\\t1\\t4\\t0.99\\t1\\n3\\t2\\t6\\t0.99\\t1\\n*/\\n\\n\\nCREATE TABLE \\\"MediaType\\\" (\\n\\t\\\"MediaTypeId\\\" INTEGER NOT NULL, \\n\\t\\\"Name\\\" NVARCHAR(120), \\n\\tPRIMARY KEY (\\\"MediaTypeId\\\")\\n)\\n\\n/*\\n3 rows from MediaType table:\\nMediaTypeId\\tName\\n1\\tMPEG audio file\\n2\\tProtected AAC audio file\\n3\\tProtected MPEG-4 video file\\n*/\\n\\n\\nCREATE TABLE \\\"Playlist\\\" (\\n\\t\\\"PlaylistId\\\" INTEGER NOT NULL, \\n\\t\\\"Name\\\" NVARCHAR(120), \\n\\tPRIMARY KEY (\\\"PlaylistId\\\")\\n)\\n\\n/*\\n3 rows from Playlist table:\\nPlaylistId\\tName\\n1\\tMusic\\n2\\tMovies\\n3\\tTV Shows\\n*/\\n\\n\\nCREATE TABLE \\\"PlaylistTrack\\\" (\\n\\t\\\"PlaylistId\\\" INTEGER NOT NULL, \\n\\t\\\"TrackId\\\" INTEGER NOT NULL, \\n\\tPRIMARY KEY (\\\"PlaylistId\\\", \\\"TrackId\\\"), \\n\\tFOREIGN KEY(\\\"TrackId\\\") REFERENCES \\\"Track\\\" (\\\"TrackId\\\"), \\n\\tFOREIGN KEY(\\\"PlaylistId\\\") REFERENCES \\\"Playlist\\\" (\\\"PlaylistId\\\")\\n)\\n\\n/*\\n3 rows from PlaylistTrack table:\\nPlaylistId\\tTrackId\\n1\\t3402\\n1\\t3389\\n1\\t3390\\n*/\\n\\n\\nCREATE TABLE \\\"Track\\\" (\\n\\t\\\"TrackId\\\" INTEGER NOT NULL, \\n\\t\\\"Name\\\" NVARCHAR(200) NOT NULL, \\n\\t\\\"AlbumId\\\" INTEGER, \\n\\t\\\"MediaTypeId\\\" INTEGER NOT NULL, \\n\\t\\\"GenreId\\\" INTEGER, \\n\\t\\\"Composer\\\" NVARCHAR(220), \\n\\t\\\"Milliseconds\\\" INTEGER NOT NULL, \\n\\t\\\"Bytes\\\" INTEGER, \\n\\t\\\"UnitPrice\\\" NUMERIC(10, 2) NOT NULL, \\n\\tPRIMARY KEY (\\\"TrackId\\\"), \\n\\tFOREIGN KEY(\\\"MediaTypeId\\\") REFERENCES \\\"MediaType\\\" (\\\"MediaTypeId\\\"), \\n\\tFOREIGN KEY(\\\"GenreId\\\") REFERENCES \\\"Genre\\\" (\\\"GenreId\\\"), \\n\\tFOREIGN KEY(\\\"AlbumId\\\") REFERENCES \\\"Album\\\" (\\\"AlbumId\\\")\\n)\\n\\n/*\\n3 rows from Track table:\\nTrackId\\tName\\tAlbumId\\tMediaTypeId\\tGenreId\\tComposer\\tMilliseconds\\tBytes\\tUnitPrice\\n1\\tFor Those About To Rock (We Salute You)\\t1\\t1\\t1\\tAngus Young, Malcolm Young, Brian Johnson\\t343719\\t11170334\\t0.99\\n2\\tBalls to the Wall\\t2\\t2\\t1\\tNone\\t342562\\t5510424\\t0.99\\n3\\tFast As a Shark\\t3\\t2\\t1\\tF. Baltes, S. Kaufman, U. Dirkscneider & W. Hoffman\\t230619\\t3990994\\t0.99\\n*/\"\n",
      "}\n",
      "\u001B[36;1m\u001B[1;3m[chain/end]\u001B[0m \u001B[1m[1:chain:RunnableSequence > 2:chain:RunnableAssign<query> > 3:chain:RunnableParallel<query> > 4:chain:RunnableSequence > 5:chain:RunnableAssign<schema> > 6:chain:RunnableParallel<schema>] [6ms] Exiting Chain run with output:\n",
      "\u001B[0m{\n",
      "  \"schema\": \"\\nCREATE TABLE \\\"Album\\\" (\\n\\t\\\"AlbumId\\\" INTEGER NOT NULL, \\n\\t\\\"Title\\\" NVARCHAR(160) NOT NULL, \\n\\t\\\"ArtistId\\\" INTEGER NOT NULL, \\n\\tPRIMARY KEY (\\\"AlbumId\\\"), \\n\\tFOREIGN KEY(\\\"ArtistId\\\") REFERENCES \\\"Artist\\\" (\\\"ArtistId\\\")\\n)\\n\\n/*\\n3 rows from Album table:\\nAlbumId\\tTitle\\tArtistId\\n1\\tFor Those About To Rock We Salute You\\t1\\n2\\tBalls to the Wall\\t2\\n3\\tRestless and Wild\\t2\\n*/\\n\\n\\nCREATE TABLE \\\"Artist\\\" (\\n\\t\\\"ArtistId\\\" INTEGER NOT NULL, \\n\\t\\\"Name\\\" NVARCHAR(120), \\n\\tPRIMARY KEY (\\\"ArtistId\\\")\\n)\\n\\n/*\\n3 rows from Artist table:\\nArtistId\\tName\\n1\\tAC/DC\\n2\\tAccept\\n3\\tAerosmith\\n*/\\n\\n\\nCREATE TABLE \\\"Customer\\\" (\\n\\t\\\"CustomerId\\\" INTEGER NOT NULL, \\n\\t\\\"FirstName\\\" NVARCHAR(40) NOT NULL, \\n\\t\\\"LastName\\\" NVARCHAR(20) NOT NULL, \\n\\t\\\"Company\\\" NVARCHAR(80), \\n\\t\\\"Address\\\" NVARCHAR(70), \\n\\t\\\"City\\\" NVARCHAR(40), \\n\\t\\\"State\\\" NVARCHAR(40), \\n\\t\\\"Country\\\" NVARCHAR(40), \\n\\t\\\"PostalCode\\\" NVARCHAR(10), \\n\\t\\\"Phone\\\" NVARCHAR(24), \\n\\t\\\"Fax\\\" NVARCHAR(24), \\n\\t\\\"Email\\\" NVARCHAR(60) NOT NULL, \\n\\t\\\"SupportRepId\\\" INTEGER, \\n\\tPRIMARY KEY (\\\"CustomerId\\\"), \\n\\tFOREIGN KEY(\\\"SupportRepId\\\") REFERENCES \\\"Employee\\\" (\\\"EmployeeId\\\")\\n)\\n\\n/*\\n3 rows from Customer table:\\nCustomerId\\tFirstName\\tLastName\\tCompany\\tAddress\\tCity\\tState\\tCountry\\tPostalCode\\tPhone\\tFax\\tEmail\\tSupportRepId\\n1\\tLuís\\tGonçalves\\tEmbraer - Empresa Brasileira de Aeronáutica S.A.\\tAv. Brigadeiro Faria Lima, 2170\\tSão José dos Campos\\tSP\\tBrazil\\t12227-000\\t+55 (12) 3923-5555\\t+55 (12) 3923-5566\\tluisg@embraer.com.br\\t3\\n2\\tLeonie\\tKöhler\\tNone\\tTheodor-Heuss-Straße 34\\tStuttgart\\tNone\\tGermany\\t70174\\t+49 0711 2842222\\tNone\\tleonekohler@surfeu.de\\t5\\n3\\tFrançois\\tTremblay\\tNone\\t1498 rue Bélanger\\tMontréal\\tQC\\tCanada\\tH2G 1A7\\t+1 (514) 721-4711\\tNone\\tftremblay@gmail.com\\t3\\n*/\\n\\n\\nCREATE TABLE \\\"Employee\\\" (\\n\\t\\\"EmployeeId\\\" INTEGER NOT NULL, \\n\\t\\\"LastName\\\" NVARCHAR(20) NOT NULL, \\n\\t\\\"FirstName\\\" NVARCHAR(20) NOT NULL, \\n\\t\\\"Title\\\" NVARCHAR(30), \\n\\t\\\"ReportsTo\\\" INTEGER, \\n\\t\\\"BirthDate\\\" DATETIME, \\n\\t\\\"HireDate\\\" DATETIME, \\n\\t\\\"Address\\\" NVARCHAR(70), \\n\\t\\\"City\\\" NVARCHAR(40), \\n\\t\\\"State\\\" NVARCHAR(40), \\n\\t\\\"Country\\\" NVARCHAR(40), \\n\\t\\\"PostalCode\\\" NVARCHAR(10), \\n\\t\\\"Phone\\\" NVARCHAR(24), \\n\\t\\\"Fax\\\" NVARCHAR(24), \\n\\t\\\"Email\\\" NVARCHAR(60), \\n\\tPRIMARY KEY (\\\"EmployeeId\\\"), \\n\\tFOREIGN KEY(\\\"ReportsTo\\\") REFERENCES \\\"Employee\\\" (\\\"EmployeeId\\\")\\n)\\n\\n/*\\n3 rows from Employee table:\\nEmployeeId\\tLastName\\tFirstName\\tTitle\\tReportsTo\\tBirthDate\\tHireDate\\tAddress\\tCity\\tState\\tCountry\\tPostalCode\\tPhone\\tFax\\tEmail\\n1\\tAdams\\tAndrew\\tGeneral Manager\\tNone\\t1962-02-18 00:00:00\\t2002-08-14 00:00:00\\t11120 Jasper Ave NW\\tEdmonton\\tAB\\tCanada\\tT5K 2N1\\t+1 (780) 428-9482\\t+1 (780) 428-3457\\tandrew@chinookcorp.com\\n2\\tEdwards\\tNancy\\tSales Manager\\t1\\t1958-12-08 00:00:00\\t2002-05-01 00:00:00\\t825 8 Ave SW\\tCalgary\\tAB\\tCanada\\tT2P 2T3\\t+1 (403) 262-3443\\t+1 (403) 262-3322\\tnancy@chinookcorp.com\\n3\\tPeacock\\tJane\\tSales Support Agent\\t2\\t1973-08-29 00:00:00\\t2002-04-01 00:00:00\\t1111 6 Ave SW\\tCalgary\\tAB\\tCanada\\tT2P 5M5\\t+1 (403) 262-3443\\t+1 (403) 262-6712\\tjane@chinookcorp.com\\n*/\\n\\n\\nCREATE TABLE \\\"Genre\\\" (\\n\\t\\\"GenreId\\\" INTEGER NOT NULL, \\n\\t\\\"Name\\\" NVARCHAR(120), \\n\\tPRIMARY KEY (\\\"GenreId\\\")\\n)\\n\\n/*\\n3 rows from Genre table:\\nGenreId\\tName\\n1\\tRock\\n2\\tJazz\\n3\\tMetal\\n*/\\n\\n\\nCREATE TABLE \\\"Invoice\\\" (\\n\\t\\\"InvoiceId\\\" INTEGER NOT NULL, \\n\\t\\\"CustomerId\\\" INTEGER NOT NULL, \\n\\t\\\"InvoiceDate\\\" DATETIME NOT NULL, \\n\\t\\\"BillingAddress\\\" NVARCHAR(70), \\n\\t\\\"BillingCity\\\" NVARCHAR(40), \\n\\t\\\"BillingState\\\" NVARCHAR(40), \\n\\t\\\"BillingCountry\\\" NVARCHAR(40), \\n\\t\\\"BillingPostalCode\\\" NVARCHAR(10), \\n\\t\\\"Total\\\" NUMERIC(10, 2) NOT NULL, \\n\\tPRIMARY KEY (\\\"InvoiceId\\\"), \\n\\tFOREIGN KEY(\\\"CustomerId\\\") REFERENCES \\\"Customer\\\" (\\\"CustomerId\\\")\\n)\\n\\n/*\\n3 rows from Invoice table:\\nInvoiceId\\tCustomerId\\tInvoiceDate\\tBillingAddress\\tBillingCity\\tBillingState\\tBillingCountry\\tBillingPostalCode\\tTotal\\n1\\t2\\t2009-01-01 00:00:00\\tTheodor-Heuss-Straße 34\\tStuttgart\\tNone\\tGermany\\t70174\\t1.98\\n2\\t4\\t2009-01-02 00:00:00\\tUllevålsveien 14\\tOslo\\tNone\\tNorway\\t0171\\t3.96\\n3\\t8\\t2009-01-03 00:00:00\\tGrétrystraat 63\\tBrussels\\tNone\\tBelgium\\t1000\\t5.94\\n*/\\n\\n\\nCREATE TABLE \\\"InvoiceLine\\\" (\\n\\t\\\"InvoiceLineId\\\" INTEGER NOT NULL, \\n\\t\\\"InvoiceId\\\" INTEGER NOT NULL, \\n\\t\\\"TrackId\\\" INTEGER NOT NULL, \\n\\t\\\"UnitPrice\\\" NUMERIC(10, 2) NOT NULL, \\n\\t\\\"Quantity\\\" INTEGER NOT NULL, \\n\\tPRIMARY KEY (\\\"InvoiceLineId\\\"), \\n\\tFOREIGN KEY(\\\"TrackId\\\") REFERENCES \\\"Track\\\" (\\\"TrackId\\\"), \\n\\tFOREIGN KEY(\\\"InvoiceId\\\") REFERENCES \\\"Invoice\\\" (\\\"InvoiceId\\\")\\n)\\n\\n/*\\n3 rows from InvoiceLine table:\\nInvoiceLineId\\tInvoiceId\\tTrackId\\tUnitPrice\\tQuantity\\n1\\t1\\t2\\t0.99\\t1\\n2\\t1\\t4\\t0.99\\t1\\n3\\t2\\t6\\t0.99\\t1\\n*/\\n\\n\\nCREATE TABLE \\\"MediaType\\\" (\\n\\t\\\"MediaTypeId\\\" INTEGER NOT NULL, \\n\\t\\\"Name\\\" NVARCHAR(120), \\n\\tPRIMARY KEY (\\\"MediaTypeId\\\")\\n)\\n\\n/*\\n3 rows from MediaType table:\\nMediaTypeId\\tName\\n1\\tMPEG audio file\\n2\\tProtected AAC audio file\\n3\\tProtected MPEG-4 video file\\n*/\\n\\n\\nCREATE TABLE \\\"Playlist\\\" (\\n\\t\\\"PlaylistId\\\" INTEGER NOT NULL, \\n\\t\\\"Name\\\" NVARCHAR(120), \\n\\tPRIMARY KEY (\\\"PlaylistId\\\")\\n)\\n\\n/*\\n3 rows from Playlist table:\\nPlaylistId\\tName\\n1\\tMusic\\n2\\tMovies\\n3\\tTV Shows\\n*/\\n\\n\\nCREATE TABLE \\\"PlaylistTrack\\\" (\\n\\t\\\"PlaylistId\\\" INTEGER NOT NULL, \\n\\t\\\"TrackId\\\" INTEGER NOT NULL, \\n\\tPRIMARY KEY (\\\"PlaylistId\\\", \\\"TrackId\\\"), \\n\\tFOREIGN KEY(\\\"TrackId\\\") REFERENCES \\\"Track\\\" (\\\"TrackId\\\"), \\n\\tFOREIGN KEY(\\\"PlaylistId\\\") REFERENCES \\\"Playlist\\\" (\\\"PlaylistId\\\")\\n)\\n\\n/*\\n3 rows from PlaylistTrack table:\\nPlaylistId\\tTrackId\\n1\\t3402\\n1\\t3389\\n1\\t3390\\n*/\\n\\n\\nCREATE TABLE \\\"Track\\\" (\\n\\t\\\"TrackId\\\" INTEGER NOT NULL, \\n\\t\\\"Name\\\" NVARCHAR(200) NOT NULL, \\n\\t\\\"AlbumId\\\" INTEGER, \\n\\t\\\"MediaTypeId\\\" INTEGER NOT NULL, \\n\\t\\\"GenreId\\\" INTEGER, \\n\\t\\\"Composer\\\" NVARCHAR(220), \\n\\t\\\"Milliseconds\\\" INTEGER NOT NULL, \\n\\t\\\"Bytes\\\" INTEGER, \\n\\t\\\"UnitPrice\\\" NUMERIC(10, 2) NOT NULL, \\n\\tPRIMARY KEY (\\\"TrackId\\\"), \\n\\tFOREIGN KEY(\\\"MediaTypeId\\\") REFERENCES \\\"MediaType\\\" (\\\"MediaTypeId\\\"), \\n\\tFOREIGN KEY(\\\"GenreId\\\") REFERENCES \\\"Genre\\\" (\\\"GenreId\\\"), \\n\\tFOREIGN KEY(\\\"AlbumId\\\") REFERENCES \\\"Album\\\" (\\\"AlbumId\\\")\\n)\\n\\n/*\\n3 rows from Track table:\\nTrackId\\tName\\tAlbumId\\tMediaTypeId\\tGenreId\\tComposer\\tMilliseconds\\tBytes\\tUnitPrice\\n1\\tFor Those About To Rock (We Salute You)\\t1\\t1\\t1\\tAngus Young, Malcolm Young, Brian Johnson\\t343719\\t11170334\\t0.99\\n2\\tBalls to the Wall\\t2\\t2\\t1\\tNone\\t342562\\t5510424\\t0.99\\n3\\tFast As a Shark\\t3\\t2\\t1\\tF. Baltes, S. Kaufman, U. Dirkscneider & W. Hoffman\\t230619\\t3990994\\t0.99\\n*/\"\n",
      "}\n",
      "\u001B[36;1m\u001B[1;3m[chain/end]\u001B[0m \u001B[1m[1:chain:RunnableSequence > 2:chain:RunnableAssign<query> > 3:chain:RunnableParallel<query> > 4:chain:RunnableSequence > 5:chain:RunnableAssign<schema>] [8ms] Exiting Chain run with output:\n",
      "\u001B[0m{\n",
      "  \"question\": \"How many artists are there?\",\n",
      "  \"schema\": \"\\nCREATE TABLE \\\"Album\\\" (\\n\\t\\\"AlbumId\\\" INTEGER NOT NULL, \\n\\t\\\"Title\\\" NVARCHAR(160) NOT NULL, \\n\\t\\\"ArtistId\\\" INTEGER NOT NULL, \\n\\tPRIMARY KEY (\\\"AlbumId\\\"), \\n\\tFOREIGN KEY(\\\"ArtistId\\\") REFERENCES \\\"Artist\\\" (\\\"ArtistId\\\")\\n)\\n\\n/*\\n3 rows from Album table:\\nAlbumId\\tTitle\\tArtistId\\n1\\tFor Those About To Rock We Salute You\\t1\\n2\\tBalls to the Wall\\t2\\n3\\tRestless and Wild\\t2\\n*/\\n\\n\\nCREATE TABLE \\\"Artist\\\" (\\n\\t\\\"ArtistId\\\" INTEGER NOT NULL, \\n\\t\\\"Name\\\" NVARCHAR(120), \\n\\tPRIMARY KEY (\\\"ArtistId\\\")\\n)\\n\\n/*\\n3 rows from Artist table:\\nArtistId\\tName\\n1\\tAC/DC\\n2\\tAccept\\n3\\tAerosmith\\n*/\\n\\n\\nCREATE TABLE \\\"Customer\\\" (\\n\\t\\\"CustomerId\\\" INTEGER NOT NULL, \\n\\t\\\"FirstName\\\" NVARCHAR(40) NOT NULL, \\n\\t\\\"LastName\\\" NVARCHAR(20) NOT NULL, \\n\\t\\\"Company\\\" NVARCHAR(80), \\n\\t\\\"Address\\\" NVARCHAR(70), \\n\\t\\\"City\\\" NVARCHAR(40), \\n\\t\\\"State\\\" NVARCHAR(40), \\n\\t\\\"Country\\\" NVARCHAR(40), \\n\\t\\\"PostalCode\\\" NVARCHAR(10), \\n\\t\\\"Phone\\\" NVARCHAR(24), \\n\\t\\\"Fax\\\" NVARCHAR(24), \\n\\t\\\"Email\\\" NVARCHAR(60) NOT NULL, \\n\\t\\\"SupportRepId\\\" INTEGER, \\n\\tPRIMARY KEY (\\\"CustomerId\\\"), \\n\\tFOREIGN KEY(\\\"SupportRepId\\\") REFERENCES \\\"Employee\\\" (\\\"EmployeeId\\\")\\n)\\n\\n/*\\n3 rows from Customer table:\\nCustomerId\\tFirstName\\tLastName\\tCompany\\tAddress\\tCity\\tState\\tCountry\\tPostalCode\\tPhone\\tFax\\tEmail\\tSupportRepId\\n1\\tLuís\\tGonçalves\\tEmbraer - Empresa Brasileira de Aeronáutica S.A.\\tAv. Brigadeiro Faria Lima, 2170\\tSão José dos Campos\\tSP\\tBrazil\\t12227-000\\t+55 (12) 3923-5555\\t+55 (12) 3923-5566\\tluisg@embraer.com.br\\t3\\n2\\tLeonie\\tKöhler\\tNone\\tTheodor-Heuss-Straße 34\\tStuttgart\\tNone\\tGermany\\t70174\\t+49 0711 2842222\\tNone\\tleonekohler@surfeu.de\\t5\\n3\\tFrançois\\tTremblay\\tNone\\t1498 rue Bélanger\\tMontréal\\tQC\\tCanada\\tH2G 1A7\\t+1 (514) 721-4711\\tNone\\tftremblay@gmail.com\\t3\\n*/\\n\\n\\nCREATE TABLE \\\"Employee\\\" (\\n\\t\\\"EmployeeId\\\" INTEGER NOT NULL, \\n\\t\\\"LastName\\\" NVARCHAR(20) NOT NULL, \\n\\t\\\"FirstName\\\" NVARCHAR(20) NOT NULL, \\n\\t\\\"Title\\\" NVARCHAR(30), \\n\\t\\\"ReportsTo\\\" INTEGER, \\n\\t\\\"BirthDate\\\" DATETIME, \\n\\t\\\"HireDate\\\" DATETIME, \\n\\t\\\"Address\\\" NVARCHAR(70), \\n\\t\\\"City\\\" NVARCHAR(40), \\n\\t\\\"State\\\" NVARCHAR(40), \\n\\t\\\"Country\\\" NVARCHAR(40), \\n\\t\\\"PostalCode\\\" NVARCHAR(10), \\n\\t\\\"Phone\\\" NVARCHAR(24), \\n\\t\\\"Fax\\\" NVARCHAR(24), \\n\\t\\\"Email\\\" NVARCHAR(60), \\n\\tPRIMARY KEY (\\\"EmployeeId\\\"), \\n\\tFOREIGN KEY(\\\"ReportsTo\\\") REFERENCES \\\"Employee\\\" (\\\"EmployeeId\\\")\\n)\\n\\n/*\\n3 rows from Employee table:\\nEmployeeId\\tLastName\\tFirstName\\tTitle\\tReportsTo\\tBirthDate\\tHireDate\\tAddress\\tCity\\tState\\tCountry\\tPostalCode\\tPhone\\tFax\\tEmail\\n1\\tAdams\\tAndrew\\tGeneral Manager\\tNone\\t1962-02-18 00:00:00\\t2002-08-14 00:00:00\\t11120 Jasper Ave NW\\tEdmonton\\tAB\\tCanada\\tT5K 2N1\\t+1 (780) 428-9482\\t+1 (780) 428-3457\\tandrew@chinookcorp.com\\n2\\tEdwards\\tNancy\\tSales Manager\\t1\\t1958-12-08 00:00:00\\t2002-05-01 00:00:00\\t825 8 Ave SW\\tCalgary\\tAB\\tCanada\\tT2P 2T3\\t+1 (403) 262-3443\\t+1 (403) 262-3322\\tnancy@chinookcorp.com\\n3\\tPeacock\\tJane\\tSales Support Agent\\t2\\t1973-08-29 00:00:00\\t2002-04-01 00:00:00\\t1111 6 Ave SW\\tCalgary\\tAB\\tCanada\\tT2P 5M5\\t+1 (403) 262-3443\\t+1 (403) 262-6712\\tjane@chinookcorp.com\\n*/\\n\\n\\nCREATE TABLE \\\"Genre\\\" (\\n\\t\\\"GenreId\\\" INTEGER NOT NULL, \\n\\t\\\"Name\\\" NVARCHAR(120), \\n\\tPRIMARY KEY (\\\"GenreId\\\")\\n)\\n\\n/*\\n3 rows from Genre table:\\nGenreId\\tName\\n1\\tRock\\n2\\tJazz\\n3\\tMetal\\n*/\\n\\n\\nCREATE TABLE \\\"Invoice\\\" (\\n\\t\\\"InvoiceId\\\" INTEGER NOT NULL, \\n\\t\\\"CustomerId\\\" INTEGER NOT NULL, \\n\\t\\\"InvoiceDate\\\" DATETIME NOT NULL, \\n\\t\\\"BillingAddress\\\" NVARCHAR(70), \\n\\t\\\"BillingCity\\\" NVARCHAR(40), \\n\\t\\\"BillingState\\\" NVARCHAR(40), \\n\\t\\\"BillingCountry\\\" NVARCHAR(40), \\n\\t\\\"BillingPostalCode\\\" NVARCHAR(10), \\n\\t\\\"Total\\\" NUMERIC(10, 2) NOT NULL, \\n\\tPRIMARY KEY (\\\"InvoiceId\\\"), \\n\\tFOREIGN KEY(\\\"CustomerId\\\") REFERENCES \\\"Customer\\\" (\\\"CustomerId\\\")\\n)\\n\\n/*\\n3 rows from Invoice table:\\nInvoiceId\\tCustomerId\\tInvoiceDate\\tBillingAddress\\tBillingCity\\tBillingState\\tBillingCountry\\tBillingPostalCode\\tTotal\\n1\\t2\\t2009-01-01 00:00:00\\tTheodor-Heuss-Straße 34\\tStuttgart\\tNone\\tGermany\\t70174\\t1.98\\n2\\t4\\t2009-01-02 00:00:00\\tUllevålsveien 14\\tOslo\\tNone\\tNorway\\t0171\\t3.96\\n3\\t8\\t2009-01-03 00:00:00\\tGrétrystraat 63\\tBrussels\\tNone\\tBelgium\\t1000\\t5.94\\n*/\\n\\n\\nCREATE TABLE \\\"InvoiceLine\\\" (\\n\\t\\\"InvoiceLineId\\\" INTEGER NOT NULL, \\n\\t\\\"InvoiceId\\\" INTEGER NOT NULL, \\n\\t\\\"TrackId\\\" INTEGER NOT NULL, \\n\\t\\\"UnitPrice\\\" NUMERIC(10, 2) NOT NULL, \\n\\t\\\"Quantity\\\" INTEGER NOT NULL, \\n\\tPRIMARY KEY (\\\"InvoiceLineId\\\"), \\n\\tFOREIGN KEY(\\\"TrackId\\\") REFERENCES \\\"Track\\\" (\\\"TrackId\\\"), \\n\\tFOREIGN KEY(\\\"InvoiceId\\\") REFERENCES \\\"Invoice\\\" (\\\"InvoiceId\\\")\\n)\\n\\n/*\\n3 rows from InvoiceLine table:\\nInvoiceLineId\\tInvoiceId\\tTrackId\\tUnitPrice\\tQuantity\\n1\\t1\\t2\\t0.99\\t1\\n2\\t1\\t4\\t0.99\\t1\\n3\\t2\\t6\\t0.99\\t1\\n*/\\n\\n\\nCREATE TABLE \\\"MediaType\\\" (\\n\\t\\\"MediaTypeId\\\" INTEGER NOT NULL, \\n\\t\\\"Name\\\" NVARCHAR(120), \\n\\tPRIMARY KEY (\\\"MediaTypeId\\\")\\n)\\n\\n/*\\n3 rows from MediaType table:\\nMediaTypeId\\tName\\n1\\tMPEG audio file\\n2\\tProtected AAC audio file\\n3\\tProtected MPEG-4 video file\\n*/\\n\\n\\nCREATE TABLE \\\"Playlist\\\" (\\n\\t\\\"PlaylistId\\\" INTEGER NOT NULL, \\n\\t\\\"Name\\\" NVARCHAR(120), \\n\\tPRIMARY KEY (\\\"PlaylistId\\\")\\n)\\n\\n/*\\n3 rows from Playlist table:\\nPlaylistId\\tName\\n1\\tMusic\\n2\\tMovies\\n3\\tTV Shows\\n*/\\n\\n\\nCREATE TABLE \\\"PlaylistTrack\\\" (\\n\\t\\\"PlaylistId\\\" INTEGER NOT NULL, \\n\\t\\\"TrackId\\\" INTEGER NOT NULL, \\n\\tPRIMARY KEY (\\\"PlaylistId\\\", \\\"TrackId\\\"), \\n\\tFOREIGN KEY(\\\"TrackId\\\") REFERENCES \\\"Track\\\" (\\\"TrackId\\\"), \\n\\tFOREIGN KEY(\\\"PlaylistId\\\") REFERENCES \\\"Playlist\\\" (\\\"PlaylistId\\\")\\n)\\n\\n/*\\n3 rows from PlaylistTrack table:\\nPlaylistId\\tTrackId\\n1\\t3402\\n1\\t3389\\n1\\t3390\\n*/\\n\\n\\nCREATE TABLE \\\"Track\\\" (\\n\\t\\\"TrackId\\\" INTEGER NOT NULL, \\n\\t\\\"Name\\\" NVARCHAR(200) NOT NULL, \\n\\t\\\"AlbumId\\\" INTEGER, \\n\\t\\\"MediaTypeId\\\" INTEGER NOT NULL, \\n\\t\\\"GenreId\\\" INTEGER, \\n\\t\\\"Composer\\\" NVARCHAR(220), \\n\\t\\\"Milliseconds\\\" INTEGER NOT NULL, \\n\\t\\\"Bytes\\\" INTEGER, \\n\\t\\\"UnitPrice\\\" NUMERIC(10, 2) NOT NULL, \\n\\tPRIMARY KEY (\\\"TrackId\\\"), \\n\\tFOREIGN KEY(\\\"MediaTypeId\\\") REFERENCES \\\"MediaType\\\" (\\\"MediaTypeId\\\"), \\n\\tFOREIGN KEY(\\\"GenreId\\\") REFERENCES \\\"Genre\\\" (\\\"GenreId\\\"), \\n\\tFOREIGN KEY(\\\"AlbumId\\\") REFERENCES \\\"Album\\\" (\\\"AlbumId\\\")\\n)\\n\\n/*\\n3 rows from Track table:\\nTrackId\\tName\\tAlbumId\\tMediaTypeId\\tGenreId\\tComposer\\tMilliseconds\\tBytes\\tUnitPrice\\n1\\tFor Those About To Rock (We Salute You)\\t1\\t1\\t1\\tAngus Young, Malcolm Young, Brian Johnson\\t343719\\t11170334\\t0.99\\n2\\tBalls to the Wall\\t2\\t2\\t1\\tNone\\t342562\\t5510424\\t0.99\\n3\\tFast As a Shark\\t3\\t2\\t1\\tF. Baltes, S. Kaufman, U. Dirkscneider & W. Hoffman\\t230619\\t3990994\\t0.99\\n*/\"\n",
      "}\n",
      "\u001B[32;1m\u001B[1;3m[chain/start]\u001B[0m \u001B[1m[1:chain:RunnableSequence > 2:chain:RunnableAssign<query> > 3:chain:RunnableParallel<query> > 4:chain:RunnableSequence > 8:prompt:ChatPromptTemplate] Entering Prompt run with input:\n",
      "\u001B[0m{\n",
      "  \"question\": \"How many artists are there?\",\n",
      "  \"schema\": \"\\nCREATE TABLE \\\"Album\\\" (\\n\\t\\\"AlbumId\\\" INTEGER NOT NULL, \\n\\t\\\"Title\\\" NVARCHAR(160) NOT NULL, \\n\\t\\\"ArtistId\\\" INTEGER NOT NULL, \\n\\tPRIMARY KEY (\\\"AlbumId\\\"), \\n\\tFOREIGN KEY(\\\"ArtistId\\\") REFERENCES \\\"Artist\\\" (\\\"ArtistId\\\")\\n)\\n\\n/*\\n3 rows from Album table:\\nAlbumId\\tTitle\\tArtistId\\n1\\tFor Those About To Rock We Salute You\\t1\\n2\\tBalls to the Wall\\t2\\n3\\tRestless and Wild\\t2\\n*/\\n\\n\\nCREATE TABLE \\\"Artist\\\" (\\n\\t\\\"ArtistId\\\" INTEGER NOT NULL, \\n\\t\\\"Name\\\" NVARCHAR(120), \\n\\tPRIMARY KEY (\\\"ArtistId\\\")\\n)\\n\\n/*\\n3 rows from Artist table:\\nArtistId\\tName\\n1\\tAC/DC\\n2\\tAccept\\n3\\tAerosmith\\n*/\\n\\n\\nCREATE TABLE \\\"Customer\\\" (\\n\\t\\\"CustomerId\\\" INTEGER NOT NULL, \\n\\t\\\"FirstName\\\" NVARCHAR(40) NOT NULL, \\n\\t\\\"LastName\\\" NVARCHAR(20) NOT NULL, \\n\\t\\\"Company\\\" NVARCHAR(80), \\n\\t\\\"Address\\\" NVARCHAR(70), \\n\\t\\\"City\\\" NVARCHAR(40), \\n\\t\\\"State\\\" NVARCHAR(40), \\n\\t\\\"Country\\\" NVARCHAR(40), \\n\\t\\\"PostalCode\\\" NVARCHAR(10), \\n\\t\\\"Phone\\\" NVARCHAR(24), \\n\\t\\\"Fax\\\" NVARCHAR(24), \\n\\t\\\"Email\\\" NVARCHAR(60) NOT NULL, \\n\\t\\\"SupportRepId\\\" INTEGER, \\n\\tPRIMARY KEY (\\\"CustomerId\\\"), \\n\\tFOREIGN KEY(\\\"SupportRepId\\\") REFERENCES \\\"Employee\\\" (\\\"EmployeeId\\\")\\n)\\n\\n/*\\n3 rows from Customer table:\\nCustomerId\\tFirstName\\tLastName\\tCompany\\tAddress\\tCity\\tState\\tCountry\\tPostalCode\\tPhone\\tFax\\tEmail\\tSupportRepId\\n1\\tLuís\\tGonçalves\\tEmbraer - Empresa Brasileira de Aeronáutica S.A.\\tAv. Brigadeiro Faria Lima, 2170\\tSão José dos Campos\\tSP\\tBrazil\\t12227-000\\t+55 (12) 3923-5555\\t+55 (12) 3923-5566\\tluisg@embraer.com.br\\t3\\n2\\tLeonie\\tKöhler\\tNone\\tTheodor-Heuss-Straße 34\\tStuttgart\\tNone\\tGermany\\t70174\\t+49 0711 2842222\\tNone\\tleonekohler@surfeu.de\\t5\\n3\\tFrançois\\tTremblay\\tNone\\t1498 rue Bélanger\\tMontréal\\tQC\\tCanada\\tH2G 1A7\\t+1 (514) 721-4711\\tNone\\tftremblay@gmail.com\\t3\\n*/\\n\\n\\nCREATE TABLE \\\"Employee\\\" (\\n\\t\\\"EmployeeId\\\" INTEGER NOT NULL, \\n\\t\\\"LastName\\\" NVARCHAR(20) NOT NULL, \\n\\t\\\"FirstName\\\" NVARCHAR(20) NOT NULL, \\n\\t\\\"Title\\\" NVARCHAR(30), \\n\\t\\\"ReportsTo\\\" INTEGER, \\n\\t\\\"BirthDate\\\" DATETIME, \\n\\t\\\"HireDate\\\" DATETIME, \\n\\t\\\"Address\\\" NVARCHAR(70), \\n\\t\\\"City\\\" NVARCHAR(40), \\n\\t\\\"State\\\" NVARCHAR(40), \\n\\t\\\"Country\\\" NVARCHAR(40), \\n\\t\\\"PostalCode\\\" NVARCHAR(10), \\n\\t\\\"Phone\\\" NVARCHAR(24), \\n\\t\\\"Fax\\\" NVARCHAR(24), \\n\\t\\\"Email\\\" NVARCHAR(60), \\n\\tPRIMARY KEY (\\\"EmployeeId\\\"), \\n\\tFOREIGN KEY(\\\"ReportsTo\\\") REFERENCES \\\"Employee\\\" (\\\"EmployeeId\\\")\\n)\\n\\n/*\\n3 rows from Employee table:\\nEmployeeId\\tLastName\\tFirstName\\tTitle\\tReportsTo\\tBirthDate\\tHireDate\\tAddress\\tCity\\tState\\tCountry\\tPostalCode\\tPhone\\tFax\\tEmail\\n1\\tAdams\\tAndrew\\tGeneral Manager\\tNone\\t1962-02-18 00:00:00\\t2002-08-14 00:00:00\\t11120 Jasper Ave NW\\tEdmonton\\tAB\\tCanada\\tT5K 2N1\\t+1 (780) 428-9482\\t+1 (780) 428-3457\\tandrew@chinookcorp.com\\n2\\tEdwards\\tNancy\\tSales Manager\\t1\\t1958-12-08 00:00:00\\t2002-05-01 00:00:00\\t825 8 Ave SW\\tCalgary\\tAB\\tCanada\\tT2P 2T3\\t+1 (403) 262-3443\\t+1 (403) 262-3322\\tnancy@chinookcorp.com\\n3\\tPeacock\\tJane\\tSales Support Agent\\t2\\t1973-08-29 00:00:00\\t2002-04-01 00:00:00\\t1111 6 Ave SW\\tCalgary\\tAB\\tCanada\\tT2P 5M5\\t+1 (403) 262-3443\\t+1 (403) 262-6712\\tjane@chinookcorp.com\\n*/\\n\\n\\nCREATE TABLE \\\"Genre\\\" (\\n\\t\\\"GenreId\\\" INTEGER NOT NULL, \\n\\t\\\"Name\\\" NVARCHAR(120), \\n\\tPRIMARY KEY (\\\"GenreId\\\")\\n)\\n\\n/*\\n3 rows from Genre table:\\nGenreId\\tName\\n1\\tRock\\n2\\tJazz\\n3\\tMetal\\n*/\\n\\n\\nCREATE TABLE \\\"Invoice\\\" (\\n\\t\\\"InvoiceId\\\" INTEGER NOT NULL, \\n\\t\\\"CustomerId\\\" INTEGER NOT NULL, \\n\\t\\\"InvoiceDate\\\" DATETIME NOT NULL, \\n\\t\\\"BillingAddress\\\" NVARCHAR(70), \\n\\t\\\"BillingCity\\\" NVARCHAR(40), \\n\\t\\\"BillingState\\\" NVARCHAR(40), \\n\\t\\\"BillingCountry\\\" NVARCHAR(40), \\n\\t\\\"BillingPostalCode\\\" NVARCHAR(10), \\n\\t\\\"Total\\\" NUMERIC(10, 2) NOT NULL, \\n\\tPRIMARY KEY (\\\"InvoiceId\\\"), \\n\\tFOREIGN KEY(\\\"CustomerId\\\") REFERENCES \\\"Customer\\\" (\\\"CustomerId\\\")\\n)\\n\\n/*\\n3 rows from Invoice table:\\nInvoiceId\\tCustomerId\\tInvoiceDate\\tBillingAddress\\tBillingCity\\tBillingState\\tBillingCountry\\tBillingPostalCode\\tTotal\\n1\\t2\\t2009-01-01 00:00:00\\tTheodor-Heuss-Straße 34\\tStuttgart\\tNone\\tGermany\\t70174\\t1.98\\n2\\t4\\t2009-01-02 00:00:00\\tUllevålsveien 14\\tOslo\\tNone\\tNorway\\t0171\\t3.96\\n3\\t8\\t2009-01-03 00:00:00\\tGrétrystraat 63\\tBrussels\\tNone\\tBelgium\\t1000\\t5.94\\n*/\\n\\n\\nCREATE TABLE \\\"InvoiceLine\\\" (\\n\\t\\\"InvoiceLineId\\\" INTEGER NOT NULL, \\n\\t\\\"InvoiceId\\\" INTEGER NOT NULL, \\n\\t\\\"TrackId\\\" INTEGER NOT NULL, \\n\\t\\\"UnitPrice\\\" NUMERIC(10, 2) NOT NULL, \\n\\t\\\"Quantity\\\" INTEGER NOT NULL, \\n\\tPRIMARY KEY (\\\"InvoiceLineId\\\"), \\n\\tFOREIGN KEY(\\\"TrackId\\\") REFERENCES \\\"Track\\\" (\\\"TrackId\\\"), \\n\\tFOREIGN KEY(\\\"InvoiceId\\\") REFERENCES \\\"Invoice\\\" (\\\"InvoiceId\\\")\\n)\\n\\n/*\\n3 rows from InvoiceLine table:\\nInvoiceLineId\\tInvoiceId\\tTrackId\\tUnitPrice\\tQuantity\\n1\\t1\\t2\\t0.99\\t1\\n2\\t1\\t4\\t0.99\\t1\\n3\\t2\\t6\\t0.99\\t1\\n*/\\n\\n\\nCREATE TABLE \\\"MediaType\\\" (\\n\\t\\\"MediaTypeId\\\" INTEGER NOT NULL, \\n\\t\\\"Name\\\" NVARCHAR(120), \\n\\tPRIMARY KEY (\\\"MediaTypeId\\\")\\n)\\n\\n/*\\n3 rows from MediaType table:\\nMediaTypeId\\tName\\n1\\tMPEG audio file\\n2\\tProtected AAC audio file\\n3\\tProtected MPEG-4 video file\\n*/\\n\\n\\nCREATE TABLE \\\"Playlist\\\" (\\n\\t\\\"PlaylistId\\\" INTEGER NOT NULL, \\n\\t\\\"Name\\\" NVARCHAR(120), \\n\\tPRIMARY KEY (\\\"PlaylistId\\\")\\n)\\n\\n/*\\n3 rows from Playlist table:\\nPlaylistId\\tName\\n1\\tMusic\\n2\\tMovies\\n3\\tTV Shows\\n*/\\n\\n\\nCREATE TABLE \\\"PlaylistTrack\\\" (\\n\\t\\\"PlaylistId\\\" INTEGER NOT NULL, \\n\\t\\\"TrackId\\\" INTEGER NOT NULL, \\n\\tPRIMARY KEY (\\\"PlaylistId\\\", \\\"TrackId\\\"), \\n\\tFOREIGN KEY(\\\"TrackId\\\") REFERENCES \\\"Track\\\" (\\\"TrackId\\\"), \\n\\tFOREIGN KEY(\\\"PlaylistId\\\") REFERENCES \\\"Playlist\\\" (\\\"PlaylistId\\\")\\n)\\n\\n/*\\n3 rows from PlaylistTrack table:\\nPlaylistId\\tTrackId\\n1\\t3402\\n1\\t3389\\n1\\t3390\\n*/\\n\\n\\nCREATE TABLE \\\"Track\\\" (\\n\\t\\\"TrackId\\\" INTEGER NOT NULL, \\n\\t\\\"Name\\\" NVARCHAR(200) NOT NULL, \\n\\t\\\"AlbumId\\\" INTEGER, \\n\\t\\\"MediaTypeId\\\" INTEGER NOT NULL, \\n\\t\\\"GenreId\\\" INTEGER, \\n\\t\\\"Composer\\\" NVARCHAR(220), \\n\\t\\\"Milliseconds\\\" INTEGER NOT NULL, \\n\\t\\\"Bytes\\\" INTEGER, \\n\\t\\\"UnitPrice\\\" NUMERIC(10, 2) NOT NULL, \\n\\tPRIMARY KEY (\\\"TrackId\\\"), \\n\\tFOREIGN KEY(\\\"MediaTypeId\\\") REFERENCES \\\"MediaType\\\" (\\\"MediaTypeId\\\"), \\n\\tFOREIGN KEY(\\\"GenreId\\\") REFERENCES \\\"Genre\\\" (\\\"GenreId\\\"), \\n\\tFOREIGN KEY(\\\"AlbumId\\\") REFERENCES \\\"Album\\\" (\\\"AlbumId\\\")\\n)\\n\\n/*\\n3 rows from Track table:\\nTrackId\\tName\\tAlbumId\\tMediaTypeId\\tGenreId\\tComposer\\tMilliseconds\\tBytes\\tUnitPrice\\n1\\tFor Those About To Rock (We Salute You)\\t1\\t1\\t1\\tAngus Young, Malcolm Young, Brian Johnson\\t343719\\t11170334\\t0.99\\n2\\tBalls to the Wall\\t2\\t2\\t1\\tNone\\t342562\\t5510424\\t0.99\\n3\\tFast As a Shark\\t3\\t2\\t1\\tF. Baltes, S. Kaufman, U. Dirkscneider & W. Hoffman\\t230619\\t3990994\\t0.99\\n*/\"\n",
      "}\n",
      "\u001B[36;1m\u001B[1;3m[chain/end]\u001B[0m \u001B[1m[1:chain:RunnableSequence > 2:chain:RunnableAssign<query> > 3:chain:RunnableParallel<query> > 4:chain:RunnableSequence > 8:prompt:ChatPromptTemplate] [0ms] Exiting Prompt run with output:\n",
      "\u001B[0m[outputs]\n",
      "\u001B[32;1m\u001B[1;3m[llm/start]\u001B[0m \u001B[1m[1:chain:RunnableSequence > 2:chain:RunnableAssign<query> > 3:chain:RunnableParallel<query> > 4:chain:RunnableSequence > 9:llm:ChatOpenAI] Entering LLM run with input:\n",
      "\u001B[0m{\n",
      "  \"prompts\": [\n",
      "    \"Human: Based on the table schema below, write a SQL query that would answer the user's question:\\n\\nCREATE TABLE \\\"Album\\\" (\\n\\t\\\"AlbumId\\\" INTEGER NOT NULL, \\n\\t\\\"Title\\\" NVARCHAR(160) NOT NULL, \\n\\t\\\"ArtistId\\\" INTEGER NOT NULL, \\n\\tPRIMARY KEY (\\\"AlbumId\\\"), \\n\\tFOREIGN KEY(\\\"ArtistId\\\") REFERENCES \\\"Artist\\\" (\\\"ArtistId\\\")\\n)\\n\\n/*\\n3 rows from Album table:\\nAlbumId\\tTitle\\tArtistId\\n1\\tFor Those About To Rock We Salute You\\t1\\n2\\tBalls to the Wall\\t2\\n3\\tRestless and Wild\\t2\\n*/\\n\\n\\nCREATE TABLE \\\"Artist\\\" (\\n\\t\\\"ArtistId\\\" INTEGER NOT NULL, \\n\\t\\\"Name\\\" NVARCHAR(120), \\n\\tPRIMARY KEY (\\\"ArtistId\\\")\\n)\\n\\n/*\\n3 rows from Artist table:\\nArtistId\\tName\\n1\\tAC/DC\\n2\\tAccept\\n3\\tAerosmith\\n*/\\n\\n\\nCREATE TABLE \\\"Customer\\\" (\\n\\t\\\"CustomerId\\\" INTEGER NOT NULL, \\n\\t\\\"FirstName\\\" NVARCHAR(40) NOT NULL, \\n\\t\\\"LastName\\\" NVARCHAR(20) NOT NULL, \\n\\t\\\"Company\\\" NVARCHAR(80), \\n\\t\\\"Address\\\" NVARCHAR(70), \\n\\t\\\"City\\\" NVARCHAR(40), \\n\\t\\\"State\\\" NVARCHAR(40), \\n\\t\\\"Country\\\" NVARCHAR(40), \\n\\t\\\"PostalCode\\\" NVARCHAR(10), \\n\\t\\\"Phone\\\" NVARCHAR(24), \\n\\t\\\"Fax\\\" NVARCHAR(24), \\n\\t\\\"Email\\\" NVARCHAR(60) NOT NULL, \\n\\t\\\"SupportRepId\\\" INTEGER, \\n\\tPRIMARY KEY (\\\"CustomerId\\\"), \\n\\tFOREIGN KEY(\\\"SupportRepId\\\") REFERENCES \\\"Employee\\\" (\\\"EmployeeId\\\")\\n)\\n\\n/*\\n3 rows from Customer table:\\nCustomerId\\tFirstName\\tLastName\\tCompany\\tAddress\\tCity\\tState\\tCountry\\tPostalCode\\tPhone\\tFax\\tEmail\\tSupportRepId\\n1\\tLuís\\tGonçalves\\tEmbraer - Empresa Brasileira de Aeronáutica S.A.\\tAv. Brigadeiro Faria Lima, 2170\\tSão José dos Campos\\tSP\\tBrazil\\t12227-000\\t+55 (12) 3923-5555\\t+55 (12) 3923-5566\\tluisg@embraer.com.br\\t3\\n2\\tLeonie\\tKöhler\\tNone\\tTheodor-Heuss-Straße 34\\tStuttgart\\tNone\\tGermany\\t70174\\t+49 0711 2842222\\tNone\\tleonekohler@surfeu.de\\t5\\n3\\tFrançois\\tTremblay\\tNone\\t1498 rue Bélanger\\tMontréal\\tQC\\tCanada\\tH2G 1A7\\t+1 (514) 721-4711\\tNone\\tftremblay@gmail.com\\t3\\n*/\\n\\n\\nCREATE TABLE \\\"Employee\\\" (\\n\\t\\\"EmployeeId\\\" INTEGER NOT NULL, \\n\\t\\\"LastName\\\" NVARCHAR(20) NOT NULL, \\n\\t\\\"FirstName\\\" NVARCHAR(20) NOT NULL, \\n\\t\\\"Title\\\" NVARCHAR(30), \\n\\t\\\"ReportsTo\\\" INTEGER, \\n\\t\\\"BirthDate\\\" DATETIME, \\n\\t\\\"HireDate\\\" DATETIME, \\n\\t\\\"Address\\\" NVARCHAR(70), \\n\\t\\\"City\\\" NVARCHAR(40), \\n\\t\\\"State\\\" NVARCHAR(40), \\n\\t\\\"Country\\\" NVARCHAR(40), \\n\\t\\\"PostalCode\\\" NVARCHAR(10), \\n\\t\\\"Phone\\\" NVARCHAR(24), \\n\\t\\\"Fax\\\" NVARCHAR(24), \\n\\t\\\"Email\\\" NVARCHAR(60), \\n\\tPRIMARY KEY (\\\"EmployeeId\\\"), \\n\\tFOREIGN KEY(\\\"ReportsTo\\\") REFERENCES \\\"Employee\\\" (\\\"EmployeeId\\\")\\n)\\n\\n/*\\n3 rows from Employee table:\\nEmployeeId\\tLastName\\tFirstName\\tTitle\\tReportsTo\\tBirthDate\\tHireDate\\tAddress\\tCity\\tState\\tCountry\\tPostalCode\\tPhone\\tFax\\tEmail\\n1\\tAdams\\tAndrew\\tGeneral Manager\\tNone\\t1962-02-18 00:00:00\\t2002-08-14 00:00:00\\t11120 Jasper Ave NW\\tEdmonton\\tAB\\tCanada\\tT5K 2N1\\t+1 (780) 428-9482\\t+1 (780) 428-3457\\tandrew@chinookcorp.com\\n2\\tEdwards\\tNancy\\tSales Manager\\t1\\t1958-12-08 00:00:00\\t2002-05-01 00:00:00\\t825 8 Ave SW\\tCalgary\\tAB\\tCanada\\tT2P 2T3\\t+1 (403) 262-3443\\t+1 (403) 262-3322\\tnancy@chinookcorp.com\\n3\\tPeacock\\tJane\\tSales Support Agent\\t2\\t1973-08-29 00:00:00\\t2002-04-01 00:00:00\\t1111 6 Ave SW\\tCalgary\\tAB\\tCanada\\tT2P 5M5\\t+1 (403) 262-3443\\t+1 (403) 262-6712\\tjane@chinookcorp.com\\n*/\\n\\n\\nCREATE TABLE \\\"Genre\\\" (\\n\\t\\\"GenreId\\\" INTEGER NOT NULL, \\n\\t\\\"Name\\\" NVARCHAR(120), \\n\\tPRIMARY KEY (\\\"GenreId\\\")\\n)\\n\\n/*\\n3 rows from Genre table:\\nGenreId\\tName\\n1\\tRock\\n2\\tJazz\\n3\\tMetal\\n*/\\n\\n\\nCREATE TABLE \\\"Invoice\\\" (\\n\\t\\\"InvoiceId\\\" INTEGER NOT NULL, \\n\\t\\\"CustomerId\\\" INTEGER NOT NULL, \\n\\t\\\"InvoiceDate\\\" DATETIME NOT NULL, \\n\\t\\\"BillingAddress\\\" NVARCHAR(70), \\n\\t\\\"BillingCity\\\" NVARCHAR(40), \\n\\t\\\"BillingState\\\" NVARCHAR(40), \\n\\t\\\"BillingCountry\\\" NVARCHAR(40), \\n\\t\\\"BillingPostalCode\\\" NVARCHAR(10), \\n\\t\\\"Total\\\" NUMERIC(10, 2) NOT NULL, \\n\\tPRIMARY KEY (\\\"InvoiceId\\\"), \\n\\tFOREIGN KEY(\\\"CustomerId\\\") REFERENCES \\\"Customer\\\" (\\\"CustomerId\\\")\\n)\\n\\n/*\\n3 rows from Invoice table:\\nInvoiceId\\tCustomerId\\tInvoiceDate\\tBillingAddress\\tBillingCity\\tBillingState\\tBillingCountry\\tBillingPostalCode\\tTotal\\n1\\t2\\t2009-01-01 00:00:00\\tTheodor-Heuss-Straße 34\\tStuttgart\\tNone\\tGermany\\t70174\\t1.98\\n2\\t4\\t2009-01-02 00:00:00\\tUllevålsveien 14\\tOslo\\tNone\\tNorway\\t0171\\t3.96\\n3\\t8\\t2009-01-03 00:00:00\\tGrétrystraat 63\\tBrussels\\tNone\\tBelgium\\t1000\\t5.94\\n*/\\n\\n\\nCREATE TABLE \\\"InvoiceLine\\\" (\\n\\t\\\"InvoiceLineId\\\" INTEGER NOT NULL, \\n\\t\\\"InvoiceId\\\" INTEGER NOT NULL, \\n\\t\\\"TrackId\\\" INTEGER NOT NULL, \\n\\t\\\"UnitPrice\\\" NUMERIC(10, 2) NOT NULL, \\n\\t\\\"Quantity\\\" INTEGER NOT NULL, \\n\\tPRIMARY KEY (\\\"InvoiceLineId\\\"), \\n\\tFOREIGN KEY(\\\"TrackId\\\") REFERENCES \\\"Track\\\" (\\\"TrackId\\\"), \\n\\tFOREIGN KEY(\\\"InvoiceId\\\") REFERENCES \\\"Invoice\\\" (\\\"InvoiceId\\\")\\n)\\n\\n/*\\n3 rows from InvoiceLine table:\\nInvoiceLineId\\tInvoiceId\\tTrackId\\tUnitPrice\\tQuantity\\n1\\t1\\t2\\t0.99\\t1\\n2\\t1\\t4\\t0.99\\t1\\n3\\t2\\t6\\t0.99\\t1\\n*/\\n\\n\\nCREATE TABLE \\\"MediaType\\\" (\\n\\t\\\"MediaTypeId\\\" INTEGER NOT NULL, \\n\\t\\\"Name\\\" NVARCHAR(120), \\n\\tPRIMARY KEY (\\\"MediaTypeId\\\")\\n)\\n\\n/*\\n3 rows from MediaType table:\\nMediaTypeId\\tName\\n1\\tMPEG audio file\\n2\\tProtected AAC audio file\\n3\\tProtected MPEG-4 video file\\n*/\\n\\n\\nCREATE TABLE \\\"Playlist\\\" (\\n\\t\\\"PlaylistId\\\" INTEGER NOT NULL, \\n\\t\\\"Name\\\" NVARCHAR(120), \\n\\tPRIMARY KEY (\\\"PlaylistId\\\")\\n)\\n\\n/*\\n3 rows from Playlist table:\\nPlaylistId\\tName\\n1\\tMusic\\n2\\tMovies\\n3\\tTV Shows\\n*/\\n\\n\\nCREATE TABLE \\\"PlaylistTrack\\\" (\\n\\t\\\"PlaylistId\\\" INTEGER NOT NULL, \\n\\t\\\"TrackId\\\" INTEGER NOT NULL, \\n\\tPRIMARY KEY (\\\"PlaylistId\\\", \\\"TrackId\\\"), \\n\\tFOREIGN KEY(\\\"TrackId\\\") REFERENCES \\\"Track\\\" (\\\"TrackId\\\"), \\n\\tFOREIGN KEY(\\\"PlaylistId\\\") REFERENCES \\\"Playlist\\\" (\\\"PlaylistId\\\")\\n)\\n\\n/*\\n3 rows from PlaylistTrack table:\\nPlaylistId\\tTrackId\\n1\\t3402\\n1\\t3389\\n1\\t3390\\n*/\\n\\n\\nCREATE TABLE \\\"Track\\\" (\\n\\t\\\"TrackId\\\" INTEGER NOT NULL, \\n\\t\\\"Name\\\" NVARCHAR(200) NOT NULL, \\n\\t\\\"AlbumId\\\" INTEGER, \\n\\t\\\"MediaTypeId\\\" INTEGER NOT NULL, \\n\\t\\\"GenreId\\\" INTEGER, \\n\\t\\\"Composer\\\" NVARCHAR(220), \\n\\t\\\"Milliseconds\\\" INTEGER NOT NULL, \\n\\t\\\"Bytes\\\" INTEGER, \\n\\t\\\"UnitPrice\\\" NUMERIC(10, 2) NOT NULL, \\n\\tPRIMARY KEY (\\\"TrackId\\\"), \\n\\tFOREIGN KEY(\\\"MediaTypeId\\\") REFERENCES \\\"MediaType\\\" (\\\"MediaTypeId\\\"), \\n\\tFOREIGN KEY(\\\"GenreId\\\") REFERENCES \\\"Genre\\\" (\\\"GenreId\\\"), \\n\\tFOREIGN KEY(\\\"AlbumId\\\") REFERENCES \\\"Album\\\" (\\\"AlbumId\\\")\\n)\\n\\n/*\\n3 rows from Track table:\\nTrackId\\tName\\tAlbumId\\tMediaTypeId\\tGenreId\\tComposer\\tMilliseconds\\tBytes\\tUnitPrice\\n1\\tFor Those About To Rock (We Salute You)\\t1\\t1\\t1\\tAngus Young, Malcolm Young, Brian Johnson\\t343719\\t11170334\\t0.99\\n2\\tBalls to the Wall\\t2\\t2\\t1\\tNone\\t342562\\t5510424\\t0.99\\n3\\tFast As a Shark\\t3\\t2\\t1\\tF. Baltes, S. Kaufman, U. Dirkscneider & W. Hoffman\\t230619\\t3990994\\t0.99\\n*/\\n\\nQuestion: How many artists are there?\\nSQL Query:\"\n",
      "  ]\n",
      "}\n",
      "\u001B[36;1m\u001B[1;3m[llm/end]\u001B[0m \u001B[1m[1:chain:RunnableSequence > 2:chain:RunnableAssign<query> > 3:chain:RunnableParallel<query> > 4:chain:RunnableSequence > 9:llm:ChatOpenAI] [8.99s] Exiting LLM run with output:\n",
      "\u001B[0m{\n",
      "  \"generations\": [\n",
      "    [\n",
      "      {\n",
      "        \"text\": \"SELECT COUNT(DISTINCT ArtistId) AS NumberOfArtists\\nFROM Artist;\",\n",
      "        \"generation_info\": {\n",
      "          \"finish_reason\": \"stop\",\n",
      "          \"logprobs\": null\n",
      "        },\n",
      "        \"type\": \"ChatGeneration\",\n",
      "        \"message\": {\n",
      "          \"lc\": 1,\n",
      "          \"type\": \"constructor\",\n",
      "          \"id\": [\n",
      "            \"langchain\",\n",
      "            \"schema\",\n",
      "            \"messages\",\n",
      "            \"AIMessage\"\n",
      "          ],\n",
      "          \"kwargs\": {\n",
      "            \"content\": \"SELECT COUNT(DISTINCT ArtistId) AS NumberOfArtists\\nFROM Artist;\",\n",
      "            \"additional_kwargs\": {},\n",
      "            \"name\": null,\n",
      "            \"id\": \"run-0fb04954-adc6-40e4-803a-6c31c60dd27e-0\",\n",
      "            \"tool_calls\": [],\n",
      "            \"invalid_tool_calls\": []\n",
      "          }\n",
      "        }\n",
      "      }\n",
      "    ]\n",
      "  ],\n",
      "  \"llm_output\": {\n",
      "    \"token_usage\": {\n",
      "      \"completion_tokens\": 16,\n",
      "      \"prompt_tokens\": 2133,\n",
      "      \"total_tokens\": 2149\n",
      "    },\n",
      "    \"model_name\": \"gpt-4\",\n",
      "    \"system_fingerprint\": null\n",
      "  },\n",
      "  \"run\": null\n",
      "}\n",
      "\u001B[32;1m\u001B[1;3m[chain/start]\u001B[0m \u001B[1m[1:chain:RunnableSequence > 2:chain:RunnableAssign<query> > 3:chain:RunnableParallel<query> > 4:chain:RunnableSequence > 10:parser:StrOutputParser] Entering Parser run with input:\n",
      "\u001B[0m[inputs]\n",
      "\u001B[36;1m\u001B[1;3m[chain/end]\u001B[0m \u001B[1m[1:chain:RunnableSequence > 2:chain:RunnableAssign<query> > 3:chain:RunnableParallel<query> > 4:chain:RunnableSequence > 10:parser:StrOutputParser] [0ms] Exiting Parser run with output:\n",
      "\u001B[0m{\n",
      "  \"output\": \"SELECT COUNT(DISTINCT ArtistId) AS NumberOfArtists\\nFROM Artist;\"\n",
      "}\n",
      "\u001B[36;1m\u001B[1;3m[chain/end]\u001B[0m \u001B[1m[1:chain:RunnableSequence > 2:chain:RunnableAssign<query> > 3:chain:RunnableParallel<query> > 4:chain:RunnableSequence] [9.01s] Exiting Chain run with output:\n",
      "\u001B[0m{\n",
      "  \"output\": \"SELECT COUNT(DISTINCT ArtistId) AS NumberOfArtists\\nFROM Artist;\"\n",
      "}\n",
      "\u001B[36;1m\u001B[1;3m[chain/end]\u001B[0m \u001B[1m[1:chain:RunnableSequence > 2:chain:RunnableAssign<query> > 3:chain:RunnableParallel<query>] [9.01s] Exiting Chain run with output:\n",
      "\u001B[0m{\n",
      "  \"query\": \"SELECT COUNT(DISTINCT ArtistId) AS NumberOfArtists\\nFROM Artist;\"\n",
      "}\n",
      "\u001B[36;1m\u001B[1;3m[chain/end]\u001B[0m \u001B[1m[1:chain:RunnableSequence > 2:chain:RunnableAssign<query>] [9.02s] Exiting Chain run with output:\n",
      "\u001B[0m{\n",
      "  \"question\": \"How many artists are there?\",\n",
      "  \"query\": \"SELECT COUNT(DISTINCT ArtistId) AS NumberOfArtists\\nFROM Artist;\"\n",
      "}\n",
      "\u001B[32;1m\u001B[1;3m[chain/start]\u001B[0m \u001B[1m[1:chain:RunnableSequence > 11:chain:RunnableAssign<schema,response>] Entering Chain run with input:\n",
      "\u001B[0m{\n",
      "  \"question\": \"How many artists are there?\",\n",
      "  \"query\": \"SELECT COUNT(DISTINCT ArtistId) AS NumberOfArtists\\nFROM Artist;\"\n",
      "}\n",
      "\u001B[32;1m\u001B[1;3m[chain/start]\u001B[0m \u001B[1m[1:chain:RunnableSequence > 11:chain:RunnableAssign<schema,response> > 12:chain:RunnableParallel<schema,response>] Entering Chain run with input:\n",
      "\u001B[0m{\n",
      "  \"question\": \"How many artists are there?\",\n",
      "  \"query\": \"SELECT COUNT(DISTINCT ArtistId) AS NumberOfArtists\\nFROM Artist;\"\n",
      "}\n",
      "\u001B[32;1m\u001B[1;3m[chain/start]\u001B[0m \u001B[1m[1:chain:RunnableSequence > 11:chain:RunnableAssign<schema,response> > 12:chain:RunnableParallel<schema,response> > 13:chain:get_schema] Entering Chain run with input:\n",
      "\u001B[0m{\n",
      "  \"question\": \"How many artists are there?\",\n",
      "  \"query\": \"SELECT COUNT(DISTINCT ArtistId) AS NumberOfArtists\\nFROM Artist;\"\n",
      "}\n",
      "\u001B[32;1m\u001B[1;3m[chain/start]\u001B[0m \u001B[1m[1:chain:RunnableSequence > 11:chain:RunnableAssign<schema,response> > 12:chain:RunnableParallel<schema,response> > 14:chain:RunnableLambda] Entering Chain run with input:\n",
      "\u001B[0m{\n",
      "  \"question\": \"How many artists are there?\",\n",
      "  \"query\": \"SELECT COUNT(DISTINCT ArtistId) AS NumberOfArtists\\nFROM Artist;\"\n",
      "}\n",
      "\u001B[36;1m\u001B[1;3m[chain/end]\u001B[0m \u001B[1m[1:chain:RunnableSequence > 11:chain:RunnableAssign<schema,response> > 12:chain:RunnableParallel<schema,response> > 14:chain:RunnableLambda] [1ms] Exiting Chain run with output:\n",
      "\u001B[0m{\n",
      "  \"output\": \"[(275,)]\"\n",
      "}\n",
      "\u001B[36;1m\u001B[1;3m[chain/end]\u001B[0m \u001B[1m[1:chain:RunnableSequence > 11:chain:RunnableAssign<schema,response> > 12:chain:RunnableParallel<schema,response> > 13:chain:get_schema] [5ms] Exiting Chain run with output:\n",
      "\u001B[0m{\n",
      "  \"output\": \"\\nCREATE TABLE \\\"Album\\\" (\\n\\t\\\"AlbumId\\\" INTEGER NOT NULL, \\n\\t\\\"Title\\\" NVARCHAR(160) NOT NULL, \\n\\t\\\"ArtistId\\\" INTEGER NOT NULL, \\n\\tPRIMARY KEY (\\\"AlbumId\\\"), \\n\\tFOREIGN KEY(\\\"ArtistId\\\") REFERENCES \\\"Artist\\\" (\\\"ArtistId\\\")\\n)\\n\\n/*\\n3 rows from Album table:\\nAlbumId\\tTitle\\tArtistId\\n1\\tFor Those About To Rock We Salute You\\t1\\n2\\tBalls to the Wall\\t2\\n3\\tRestless and Wild\\t2\\n*/\\n\\n\\nCREATE TABLE \\\"Artist\\\" (\\n\\t\\\"ArtistId\\\" INTEGER NOT NULL, \\n\\t\\\"Name\\\" NVARCHAR(120), \\n\\tPRIMARY KEY (\\\"ArtistId\\\")\\n)\\n\\n/*\\n3 rows from Artist table:\\nArtistId\\tName\\n1\\tAC/DC\\n2\\tAccept\\n3\\tAerosmith\\n*/\\n\\n\\nCREATE TABLE \\\"Customer\\\" (\\n\\t\\\"CustomerId\\\" INTEGER NOT NULL, \\n\\t\\\"FirstName\\\" NVARCHAR(40) NOT NULL, \\n\\t\\\"LastName\\\" NVARCHAR(20) NOT NULL, \\n\\t\\\"Company\\\" NVARCHAR(80), \\n\\t\\\"Address\\\" NVARCHAR(70), \\n\\t\\\"City\\\" NVARCHAR(40), \\n\\t\\\"State\\\" NVARCHAR(40), \\n\\t\\\"Country\\\" NVARCHAR(40), \\n\\t\\\"PostalCode\\\" NVARCHAR(10), \\n\\t\\\"Phone\\\" NVARCHAR(24), \\n\\t\\\"Fax\\\" NVARCHAR(24), \\n\\t\\\"Email\\\" NVARCHAR(60) NOT NULL, \\n\\t\\\"SupportRepId\\\" INTEGER, \\n\\tPRIMARY KEY (\\\"CustomerId\\\"), \\n\\tFOREIGN KEY(\\\"SupportRepId\\\") REFERENCES \\\"Employee\\\" (\\\"EmployeeId\\\")\\n)\\n\\n/*\\n3 rows from Customer table:\\nCustomerId\\tFirstName\\tLastName\\tCompany\\tAddress\\tCity\\tState\\tCountry\\tPostalCode\\tPhone\\tFax\\tEmail\\tSupportRepId\\n1\\tLuís\\tGonçalves\\tEmbraer - Empresa Brasileira de Aeronáutica S.A.\\tAv. Brigadeiro Faria Lima, 2170\\tSão José dos Campos\\tSP\\tBrazil\\t12227-000\\t+55 (12) 3923-5555\\t+55 (12) 3923-5566\\tluisg@embraer.com.br\\t3\\n2\\tLeonie\\tKöhler\\tNone\\tTheodor-Heuss-Straße 34\\tStuttgart\\tNone\\tGermany\\t70174\\t+49 0711 2842222\\tNone\\tleonekohler@surfeu.de\\t5\\n3\\tFrançois\\tTremblay\\tNone\\t1498 rue Bélanger\\tMontréal\\tQC\\tCanada\\tH2G 1A7\\t+1 (514) 721-4711\\tNone\\tftremblay@gmail.com\\t3\\n*/\\n\\n\\nCREATE TABLE \\\"Employee\\\" (\\n\\t\\\"EmployeeId\\\" INTEGER NOT NULL, \\n\\t\\\"LastName\\\" NVARCHAR(20) NOT NULL, \\n\\t\\\"FirstName\\\" NVARCHAR(20) NOT NULL, \\n\\t\\\"Title\\\" NVARCHAR(30), \\n\\t\\\"ReportsTo\\\" INTEGER, \\n\\t\\\"BirthDate\\\" DATETIME, \\n\\t\\\"HireDate\\\" DATETIME, \\n\\t\\\"Address\\\" NVARCHAR(70), \\n\\t\\\"City\\\" NVARCHAR(40), \\n\\t\\\"State\\\" NVARCHAR(40), \\n\\t\\\"Country\\\" NVARCHAR(40), \\n\\t\\\"PostalCode\\\" NVARCHAR(10), \\n\\t\\\"Phone\\\" NVARCHAR(24), \\n\\t\\\"Fax\\\" NVARCHAR(24), \\n\\t\\\"Email\\\" NVARCHAR(60), \\n\\tPRIMARY KEY (\\\"EmployeeId\\\"), \\n\\tFOREIGN KEY(\\\"ReportsTo\\\") REFERENCES \\\"Employee\\\" (\\\"EmployeeId\\\")\\n)\\n\\n/*\\n3 rows from Employee table:\\nEmployeeId\\tLastName\\tFirstName\\tTitle\\tReportsTo\\tBirthDate\\tHireDate\\tAddress\\tCity\\tState\\tCountry\\tPostalCode\\tPhone\\tFax\\tEmail\\n1\\tAdams\\tAndrew\\tGeneral Manager\\tNone\\t1962-02-18 00:00:00\\t2002-08-14 00:00:00\\t11120 Jasper Ave NW\\tEdmonton\\tAB\\tCanada\\tT5K 2N1\\t+1 (780) 428-9482\\t+1 (780) 428-3457\\tandrew@chinookcorp.com\\n2\\tEdwards\\tNancy\\tSales Manager\\t1\\t1958-12-08 00:00:00\\t2002-05-01 00:00:00\\t825 8 Ave SW\\tCalgary\\tAB\\tCanada\\tT2P 2T3\\t+1 (403) 262-3443\\t+1 (403) 262-3322\\tnancy@chinookcorp.com\\n3\\tPeacock\\tJane\\tSales Support Agent\\t2\\t1973-08-29 00:00:00\\t2002-04-01 00:00:00\\t1111 6 Ave SW\\tCalgary\\tAB\\tCanada\\tT2P 5M5\\t+1 (403) 262-3443\\t+1 (403) 262-6712\\tjane@chinookcorp.com\\n*/\\n\\n\\nCREATE TABLE \\\"Genre\\\" (\\n\\t\\\"GenreId\\\" INTEGER NOT NULL, \\n\\t\\\"Name\\\" NVARCHAR(120), \\n\\tPRIMARY KEY (\\\"GenreId\\\")\\n)\\n\\n/*\\n3 rows from Genre table:\\nGenreId\\tName\\n1\\tRock\\n2\\tJazz\\n3\\tMetal\\n*/\\n\\n\\nCREATE TABLE \\\"Invoice\\\" (\\n\\t\\\"InvoiceId\\\" INTEGER NOT NULL, \\n\\t\\\"CustomerId\\\" INTEGER NOT NULL, \\n\\t\\\"InvoiceDate\\\" DATETIME NOT NULL, \\n\\t\\\"BillingAddress\\\" NVARCHAR(70), \\n\\t\\\"BillingCity\\\" NVARCHAR(40), \\n\\t\\\"BillingState\\\" NVARCHAR(40), \\n\\t\\\"BillingCountry\\\" NVARCHAR(40), \\n\\t\\\"BillingPostalCode\\\" NVARCHAR(10), \\n\\t\\\"Total\\\" NUMERIC(10, 2) NOT NULL, \\n\\tPRIMARY KEY (\\\"InvoiceId\\\"), \\n\\tFOREIGN KEY(\\\"CustomerId\\\") REFERENCES \\\"Customer\\\" (\\\"CustomerId\\\")\\n)\\n\\n/*\\n3 rows from Invoice table:\\nInvoiceId\\tCustomerId\\tInvoiceDate\\tBillingAddress\\tBillingCity\\tBillingState\\tBillingCountry\\tBillingPostalCode\\tTotal\\n1\\t2\\t2009-01-01 00:00:00\\tTheodor-Heuss-Straße 34\\tStuttgart\\tNone\\tGermany\\t70174\\t1.98\\n2\\t4\\t2009-01-02 00:00:00\\tUllevålsveien 14\\tOslo\\tNone\\tNorway\\t0171\\t3.96\\n3\\t8\\t2009-01-03 00:00:00\\tGrétrystraat 63\\tBrussels\\tNone\\tBelgium\\t1000\\t5.94\\n*/\\n\\n\\nCREATE TABLE \\\"InvoiceLine\\\" (\\n\\t\\\"InvoiceLineId\\\" INTEGER NOT NULL, \\n\\t\\\"InvoiceId\\\" INTEGER NOT NULL, \\n\\t\\\"TrackId\\\" INTEGER NOT NULL, \\n\\t\\\"UnitPrice\\\" NUMERIC(10, 2) NOT NULL, \\n\\t\\\"Quantity\\\" INTEGER NOT NULL, \\n\\tPRIMARY KEY (\\\"InvoiceLineId\\\"), \\n\\tFOREIGN KEY(\\\"TrackId\\\") REFERENCES \\\"Track\\\" (\\\"TrackId\\\"), \\n\\tFOREIGN KEY(\\\"InvoiceId\\\") REFERENCES \\\"Invoice\\\" (\\\"InvoiceId\\\")\\n)\\n\\n/*\\n3 rows from InvoiceLine table:\\nInvoiceLineId\\tInvoiceId\\tTrackId\\tUnitPrice\\tQuantity\\n1\\t1\\t2\\t0.99\\t1\\n2\\t1\\t4\\t0.99\\t1\\n3\\t2\\t6\\t0.99\\t1\\n*/\\n\\n\\nCREATE TABLE \\\"MediaType\\\" (\\n\\t\\\"MediaTypeId\\\" INTEGER NOT NULL, \\n\\t\\\"Name\\\" NVARCHAR(120), \\n\\tPRIMARY KEY (\\\"MediaTypeId\\\")\\n)\\n\\n/*\\n3 rows from MediaType table:\\nMediaTypeId\\tName\\n1\\tMPEG audio file\\n2\\tProtected AAC audio file\\n3\\tProtected MPEG-4 video file\\n*/\\n\\n\\nCREATE TABLE \\\"Playlist\\\" (\\n\\t\\\"PlaylistId\\\" INTEGER NOT NULL, \\n\\t\\\"Name\\\" NVARCHAR(120), \\n\\tPRIMARY KEY (\\\"PlaylistId\\\")\\n)\\n\\n/*\\n3 rows from Playlist table:\\nPlaylistId\\tName\\n1\\tMusic\\n2\\tMovies\\n3\\tTV Shows\\n*/\\n\\n\\nCREATE TABLE \\\"PlaylistTrack\\\" (\\n\\t\\\"PlaylistId\\\" INTEGER NOT NULL, \\n\\t\\\"TrackId\\\" INTEGER NOT NULL, \\n\\tPRIMARY KEY (\\\"PlaylistId\\\", \\\"TrackId\\\"), \\n\\tFOREIGN KEY(\\\"TrackId\\\") REFERENCES \\\"Track\\\" (\\\"TrackId\\\"), \\n\\tFOREIGN KEY(\\\"PlaylistId\\\") REFERENCES \\\"Playlist\\\" (\\\"PlaylistId\\\")\\n)\\n\\n/*\\n3 rows from PlaylistTrack table:\\nPlaylistId\\tTrackId\\n1\\t3402\\n1\\t3389\\n1\\t3390\\n*/\\n\\n\\nCREATE TABLE \\\"Track\\\" (\\n\\t\\\"TrackId\\\" INTEGER NOT NULL, \\n\\t\\\"Name\\\" NVARCHAR(200) NOT NULL, \\n\\t\\\"AlbumId\\\" INTEGER, \\n\\t\\\"MediaTypeId\\\" INTEGER NOT NULL, \\n\\t\\\"GenreId\\\" INTEGER, \\n\\t\\\"Composer\\\" NVARCHAR(220), \\n\\t\\\"Milliseconds\\\" INTEGER NOT NULL, \\n\\t\\\"Bytes\\\" INTEGER, \\n\\t\\\"UnitPrice\\\" NUMERIC(10, 2) NOT NULL, \\n\\tPRIMARY KEY (\\\"TrackId\\\"), \\n\\tFOREIGN KEY(\\\"MediaTypeId\\\") REFERENCES \\\"MediaType\\\" (\\\"MediaTypeId\\\"), \\n\\tFOREIGN KEY(\\\"GenreId\\\") REFERENCES \\\"Genre\\\" (\\\"GenreId\\\"), \\n\\tFOREIGN KEY(\\\"AlbumId\\\") REFERENCES \\\"Album\\\" (\\\"AlbumId\\\")\\n)\\n\\n/*\\n3 rows from Track table:\\nTrackId\\tName\\tAlbumId\\tMediaTypeId\\tGenreId\\tComposer\\tMilliseconds\\tBytes\\tUnitPrice\\n1\\tFor Those About To Rock (We Salute You)\\t1\\t1\\t1\\tAngus Young, Malcolm Young, Brian Johnson\\t343719\\t11170334\\t0.99\\n2\\tBalls to the Wall\\t2\\t2\\t1\\tNone\\t342562\\t5510424\\t0.99\\n3\\tFast As a Shark\\t3\\t2\\t1\\tF. Baltes, S. Kaufman, U. Dirkscneider & W. Hoffman\\t230619\\t3990994\\t0.99\\n*/\"\n",
      "}\n",
      "\u001B[36;1m\u001B[1;3m[chain/end]\u001B[0m \u001B[1m[1:chain:RunnableSequence > 11:chain:RunnableAssign<schema,response> > 12:chain:RunnableParallel<schema,response>] [7ms] Exiting Chain run with output:\n",
      "\u001B[0m{\n",
      "  \"schema\": \"\\nCREATE TABLE \\\"Album\\\" (\\n\\t\\\"AlbumId\\\" INTEGER NOT NULL, \\n\\t\\\"Title\\\" NVARCHAR(160) NOT NULL, \\n\\t\\\"ArtistId\\\" INTEGER NOT NULL, \\n\\tPRIMARY KEY (\\\"AlbumId\\\"), \\n\\tFOREIGN KEY(\\\"ArtistId\\\") REFERENCES \\\"Artist\\\" (\\\"ArtistId\\\")\\n)\\n\\n/*\\n3 rows from Album table:\\nAlbumId\\tTitle\\tArtistId\\n1\\tFor Those About To Rock We Salute You\\t1\\n2\\tBalls to the Wall\\t2\\n3\\tRestless and Wild\\t2\\n*/\\n\\n\\nCREATE TABLE \\\"Artist\\\" (\\n\\t\\\"ArtistId\\\" INTEGER NOT NULL, \\n\\t\\\"Name\\\" NVARCHAR(120), \\n\\tPRIMARY KEY (\\\"ArtistId\\\")\\n)\\n\\n/*\\n3 rows from Artist table:\\nArtistId\\tName\\n1\\tAC/DC\\n2\\tAccept\\n3\\tAerosmith\\n*/\\n\\n\\nCREATE TABLE \\\"Customer\\\" (\\n\\t\\\"CustomerId\\\" INTEGER NOT NULL, \\n\\t\\\"FirstName\\\" NVARCHAR(40) NOT NULL, \\n\\t\\\"LastName\\\" NVARCHAR(20) NOT NULL, \\n\\t\\\"Company\\\" NVARCHAR(80), \\n\\t\\\"Address\\\" NVARCHAR(70), \\n\\t\\\"City\\\" NVARCHAR(40), \\n\\t\\\"State\\\" NVARCHAR(40), \\n\\t\\\"Country\\\" NVARCHAR(40), \\n\\t\\\"PostalCode\\\" NVARCHAR(10), \\n\\t\\\"Phone\\\" NVARCHAR(24), \\n\\t\\\"Fax\\\" NVARCHAR(24), \\n\\t\\\"Email\\\" NVARCHAR(60) NOT NULL, \\n\\t\\\"SupportRepId\\\" INTEGER, \\n\\tPRIMARY KEY (\\\"CustomerId\\\"), \\n\\tFOREIGN KEY(\\\"SupportRepId\\\") REFERENCES \\\"Employee\\\" (\\\"EmployeeId\\\")\\n)\\n\\n/*\\n3 rows from Customer table:\\nCustomerId\\tFirstName\\tLastName\\tCompany\\tAddress\\tCity\\tState\\tCountry\\tPostalCode\\tPhone\\tFax\\tEmail\\tSupportRepId\\n1\\tLuís\\tGonçalves\\tEmbraer - Empresa Brasileira de Aeronáutica S.A.\\tAv. Brigadeiro Faria Lima, 2170\\tSão José dos Campos\\tSP\\tBrazil\\t12227-000\\t+55 (12) 3923-5555\\t+55 (12) 3923-5566\\tluisg@embraer.com.br\\t3\\n2\\tLeonie\\tKöhler\\tNone\\tTheodor-Heuss-Straße 34\\tStuttgart\\tNone\\tGermany\\t70174\\t+49 0711 2842222\\tNone\\tleonekohler@surfeu.de\\t5\\n3\\tFrançois\\tTremblay\\tNone\\t1498 rue Bélanger\\tMontréal\\tQC\\tCanada\\tH2G 1A7\\t+1 (514) 721-4711\\tNone\\tftremblay@gmail.com\\t3\\n*/\\n\\n\\nCREATE TABLE \\\"Employee\\\" (\\n\\t\\\"EmployeeId\\\" INTEGER NOT NULL, \\n\\t\\\"LastName\\\" NVARCHAR(20) NOT NULL, \\n\\t\\\"FirstName\\\" NVARCHAR(20) NOT NULL, \\n\\t\\\"Title\\\" NVARCHAR(30), \\n\\t\\\"ReportsTo\\\" INTEGER, \\n\\t\\\"BirthDate\\\" DATETIME, \\n\\t\\\"HireDate\\\" DATETIME, \\n\\t\\\"Address\\\" NVARCHAR(70), \\n\\t\\\"City\\\" NVARCHAR(40), \\n\\t\\\"State\\\" NVARCHAR(40), \\n\\t\\\"Country\\\" NVARCHAR(40), \\n\\t\\\"PostalCode\\\" NVARCHAR(10), \\n\\t\\\"Phone\\\" NVARCHAR(24), \\n\\t\\\"Fax\\\" NVARCHAR(24), \\n\\t\\\"Email\\\" NVARCHAR(60), \\n\\tPRIMARY KEY (\\\"EmployeeId\\\"), \\n\\tFOREIGN KEY(\\\"ReportsTo\\\") REFERENCES \\\"Employee\\\" (\\\"EmployeeId\\\")\\n)\\n\\n/*\\n3 rows from Employee table:\\nEmployeeId\\tLastName\\tFirstName\\tTitle\\tReportsTo\\tBirthDate\\tHireDate\\tAddress\\tCity\\tState\\tCountry\\tPostalCode\\tPhone\\tFax\\tEmail\\n1\\tAdams\\tAndrew\\tGeneral Manager\\tNone\\t1962-02-18 00:00:00\\t2002-08-14 00:00:00\\t11120 Jasper Ave NW\\tEdmonton\\tAB\\tCanada\\tT5K 2N1\\t+1 (780) 428-9482\\t+1 (780) 428-3457\\tandrew@chinookcorp.com\\n2\\tEdwards\\tNancy\\tSales Manager\\t1\\t1958-12-08 00:00:00\\t2002-05-01 00:00:00\\t825 8 Ave SW\\tCalgary\\tAB\\tCanada\\tT2P 2T3\\t+1 (403) 262-3443\\t+1 (403) 262-3322\\tnancy@chinookcorp.com\\n3\\tPeacock\\tJane\\tSales Support Agent\\t2\\t1973-08-29 00:00:00\\t2002-04-01 00:00:00\\t1111 6 Ave SW\\tCalgary\\tAB\\tCanada\\tT2P 5M5\\t+1 (403) 262-3443\\t+1 (403) 262-6712\\tjane@chinookcorp.com\\n*/\\n\\n\\nCREATE TABLE \\\"Genre\\\" (\\n\\t\\\"GenreId\\\" INTEGER NOT NULL, \\n\\t\\\"Name\\\" NVARCHAR(120), \\n\\tPRIMARY KEY (\\\"GenreId\\\")\\n)\\n\\n/*\\n3 rows from Genre table:\\nGenreId\\tName\\n1\\tRock\\n2\\tJazz\\n3\\tMetal\\n*/\\n\\n\\nCREATE TABLE \\\"Invoice\\\" (\\n\\t\\\"InvoiceId\\\" INTEGER NOT NULL, \\n\\t\\\"CustomerId\\\" INTEGER NOT NULL, \\n\\t\\\"InvoiceDate\\\" DATETIME NOT NULL, \\n\\t\\\"BillingAddress\\\" NVARCHAR(70), \\n\\t\\\"BillingCity\\\" NVARCHAR(40), \\n\\t\\\"BillingState\\\" NVARCHAR(40), \\n\\t\\\"BillingCountry\\\" NVARCHAR(40), \\n\\t\\\"BillingPostalCode\\\" NVARCHAR(10), \\n\\t\\\"Total\\\" NUMERIC(10, 2) NOT NULL, \\n\\tPRIMARY KEY (\\\"InvoiceId\\\"), \\n\\tFOREIGN KEY(\\\"CustomerId\\\") REFERENCES \\\"Customer\\\" (\\\"CustomerId\\\")\\n)\\n\\n/*\\n3 rows from Invoice table:\\nInvoiceId\\tCustomerId\\tInvoiceDate\\tBillingAddress\\tBillingCity\\tBillingState\\tBillingCountry\\tBillingPostalCode\\tTotal\\n1\\t2\\t2009-01-01 00:00:00\\tTheodor-Heuss-Straße 34\\tStuttgart\\tNone\\tGermany\\t70174\\t1.98\\n2\\t4\\t2009-01-02 00:00:00\\tUllevålsveien 14\\tOslo\\tNone\\tNorway\\t0171\\t3.96\\n3\\t8\\t2009-01-03 00:00:00\\tGrétrystraat 63\\tBrussels\\tNone\\tBelgium\\t1000\\t5.94\\n*/\\n\\n\\nCREATE TABLE \\\"InvoiceLine\\\" (\\n\\t\\\"InvoiceLineId\\\" INTEGER NOT NULL, \\n\\t\\\"InvoiceId\\\" INTEGER NOT NULL, \\n\\t\\\"TrackId\\\" INTEGER NOT NULL, \\n\\t\\\"UnitPrice\\\" NUMERIC(10, 2) NOT NULL, \\n\\t\\\"Quantity\\\" INTEGER NOT NULL, \\n\\tPRIMARY KEY (\\\"InvoiceLineId\\\"), \\n\\tFOREIGN KEY(\\\"TrackId\\\") REFERENCES \\\"Track\\\" (\\\"TrackId\\\"), \\n\\tFOREIGN KEY(\\\"InvoiceId\\\") REFERENCES \\\"Invoice\\\" (\\\"InvoiceId\\\")\\n)\\n\\n/*\\n3 rows from InvoiceLine table:\\nInvoiceLineId\\tInvoiceId\\tTrackId\\tUnitPrice\\tQuantity\\n1\\t1\\t2\\t0.99\\t1\\n2\\t1\\t4\\t0.99\\t1\\n3\\t2\\t6\\t0.99\\t1\\n*/\\n\\n\\nCREATE TABLE \\\"MediaType\\\" (\\n\\t\\\"MediaTypeId\\\" INTEGER NOT NULL, \\n\\t\\\"Name\\\" NVARCHAR(120), \\n\\tPRIMARY KEY (\\\"MediaTypeId\\\")\\n)\\n\\n/*\\n3 rows from MediaType table:\\nMediaTypeId\\tName\\n1\\tMPEG audio file\\n2\\tProtected AAC audio file\\n3\\tProtected MPEG-4 video file\\n*/\\n\\n\\nCREATE TABLE \\\"Playlist\\\" (\\n\\t\\\"PlaylistId\\\" INTEGER NOT NULL, \\n\\t\\\"Name\\\" NVARCHAR(120), \\n\\tPRIMARY KEY (\\\"PlaylistId\\\")\\n)\\n\\n/*\\n3 rows from Playlist table:\\nPlaylistId\\tName\\n1\\tMusic\\n2\\tMovies\\n3\\tTV Shows\\n*/\\n\\n\\nCREATE TABLE \\\"PlaylistTrack\\\" (\\n\\t\\\"PlaylistId\\\" INTEGER NOT NULL, \\n\\t\\\"TrackId\\\" INTEGER NOT NULL, \\n\\tPRIMARY KEY (\\\"PlaylistId\\\", \\\"TrackId\\\"), \\n\\tFOREIGN KEY(\\\"TrackId\\\") REFERENCES \\\"Track\\\" (\\\"TrackId\\\"), \\n\\tFOREIGN KEY(\\\"PlaylistId\\\") REFERENCES \\\"Playlist\\\" (\\\"PlaylistId\\\")\\n)\\n\\n/*\\n3 rows from PlaylistTrack table:\\nPlaylistId\\tTrackId\\n1\\t3402\\n1\\t3389\\n1\\t3390\\n*/\\n\\n\\nCREATE TABLE \\\"Track\\\" (\\n\\t\\\"TrackId\\\" INTEGER NOT NULL, \\n\\t\\\"Name\\\" NVARCHAR(200) NOT NULL, \\n\\t\\\"AlbumId\\\" INTEGER, \\n\\t\\\"MediaTypeId\\\" INTEGER NOT NULL, \\n\\t\\\"GenreId\\\" INTEGER, \\n\\t\\\"Composer\\\" NVARCHAR(220), \\n\\t\\\"Milliseconds\\\" INTEGER NOT NULL, \\n\\t\\\"Bytes\\\" INTEGER, \\n\\t\\\"UnitPrice\\\" NUMERIC(10, 2) NOT NULL, \\n\\tPRIMARY KEY (\\\"TrackId\\\"), \\n\\tFOREIGN KEY(\\\"MediaTypeId\\\") REFERENCES \\\"MediaType\\\" (\\\"MediaTypeId\\\"), \\n\\tFOREIGN KEY(\\\"GenreId\\\") REFERENCES \\\"Genre\\\" (\\\"GenreId\\\"), \\n\\tFOREIGN KEY(\\\"AlbumId\\\") REFERENCES \\\"Album\\\" (\\\"AlbumId\\\")\\n)\\n\\n/*\\n3 rows from Track table:\\nTrackId\\tName\\tAlbumId\\tMediaTypeId\\tGenreId\\tComposer\\tMilliseconds\\tBytes\\tUnitPrice\\n1\\tFor Those About To Rock (We Salute You)\\t1\\t1\\t1\\tAngus Young, Malcolm Young, Brian Johnson\\t343719\\t11170334\\t0.99\\n2\\tBalls to the Wall\\t2\\t2\\t1\\tNone\\t342562\\t5510424\\t0.99\\n3\\tFast As a Shark\\t3\\t2\\t1\\tF. Baltes, S. Kaufman, U. Dirkscneider & W. Hoffman\\t230619\\t3990994\\t0.99\\n*/\",\n",
      "  \"response\": \"[(275,)]\"\n",
      "}\n",
      "\u001B[36;1m\u001B[1;3m[chain/end]\u001B[0m \u001B[1m[1:chain:RunnableSequence > 11:chain:RunnableAssign<schema,response>] [9ms] Exiting Chain run with output:\n",
      "\u001B[0m{\n",
      "  \"question\": \"How many artists are there?\",\n",
      "  \"query\": \"SELECT COUNT(DISTINCT ArtistId) AS NumberOfArtists\\nFROM Artist;\",\n",
      "  \"schema\": \"\\nCREATE TABLE \\\"Album\\\" (\\n\\t\\\"AlbumId\\\" INTEGER NOT NULL, \\n\\t\\\"Title\\\" NVARCHAR(160) NOT NULL, \\n\\t\\\"ArtistId\\\" INTEGER NOT NULL, \\n\\tPRIMARY KEY (\\\"AlbumId\\\"), \\n\\tFOREIGN KEY(\\\"ArtistId\\\") REFERENCES \\\"Artist\\\" (\\\"ArtistId\\\")\\n)\\n\\n/*\\n3 rows from Album table:\\nAlbumId\\tTitle\\tArtistId\\n1\\tFor Those About To Rock We Salute You\\t1\\n2\\tBalls to the Wall\\t2\\n3\\tRestless and Wild\\t2\\n*/\\n\\n\\nCREATE TABLE \\\"Artist\\\" (\\n\\t\\\"ArtistId\\\" INTEGER NOT NULL, \\n\\t\\\"Name\\\" NVARCHAR(120), \\n\\tPRIMARY KEY (\\\"ArtistId\\\")\\n)\\n\\n/*\\n3 rows from Artist table:\\nArtistId\\tName\\n1\\tAC/DC\\n2\\tAccept\\n3\\tAerosmith\\n*/\\n\\n\\nCREATE TABLE \\\"Customer\\\" (\\n\\t\\\"CustomerId\\\" INTEGER NOT NULL, \\n\\t\\\"FirstName\\\" NVARCHAR(40) NOT NULL, \\n\\t\\\"LastName\\\" NVARCHAR(20) NOT NULL, \\n\\t\\\"Company\\\" NVARCHAR(80), \\n\\t\\\"Address\\\" NVARCHAR(70), \\n\\t\\\"City\\\" NVARCHAR(40), \\n\\t\\\"State\\\" NVARCHAR(40), \\n\\t\\\"Country\\\" NVARCHAR(40), \\n\\t\\\"PostalCode\\\" NVARCHAR(10), \\n\\t\\\"Phone\\\" NVARCHAR(24), \\n\\t\\\"Fax\\\" NVARCHAR(24), \\n\\t\\\"Email\\\" NVARCHAR(60) NOT NULL, \\n\\t\\\"SupportRepId\\\" INTEGER, \\n\\tPRIMARY KEY (\\\"CustomerId\\\"), \\n\\tFOREIGN KEY(\\\"SupportRepId\\\") REFERENCES \\\"Employee\\\" (\\\"EmployeeId\\\")\\n)\\n\\n/*\\n3 rows from Customer table:\\nCustomerId\\tFirstName\\tLastName\\tCompany\\tAddress\\tCity\\tState\\tCountry\\tPostalCode\\tPhone\\tFax\\tEmail\\tSupportRepId\\n1\\tLuís\\tGonçalves\\tEmbraer - Empresa Brasileira de Aeronáutica S.A.\\tAv. Brigadeiro Faria Lima, 2170\\tSão José dos Campos\\tSP\\tBrazil\\t12227-000\\t+55 (12) 3923-5555\\t+55 (12) 3923-5566\\tluisg@embraer.com.br\\t3\\n2\\tLeonie\\tKöhler\\tNone\\tTheodor-Heuss-Straße 34\\tStuttgart\\tNone\\tGermany\\t70174\\t+49 0711 2842222\\tNone\\tleonekohler@surfeu.de\\t5\\n3\\tFrançois\\tTremblay\\tNone\\t1498 rue Bélanger\\tMontréal\\tQC\\tCanada\\tH2G 1A7\\t+1 (514) 721-4711\\tNone\\tftremblay@gmail.com\\t3\\n*/\\n\\n\\nCREATE TABLE \\\"Employee\\\" (\\n\\t\\\"EmployeeId\\\" INTEGER NOT NULL, \\n\\t\\\"LastName\\\" NVARCHAR(20) NOT NULL, \\n\\t\\\"FirstName\\\" NVARCHAR(20) NOT NULL, \\n\\t\\\"Title\\\" NVARCHAR(30), \\n\\t\\\"ReportsTo\\\" INTEGER, \\n\\t\\\"BirthDate\\\" DATETIME, \\n\\t\\\"HireDate\\\" DATETIME, \\n\\t\\\"Address\\\" NVARCHAR(70), \\n\\t\\\"City\\\" NVARCHAR(40), \\n\\t\\\"State\\\" NVARCHAR(40), \\n\\t\\\"Country\\\" NVARCHAR(40), \\n\\t\\\"PostalCode\\\" NVARCHAR(10), \\n\\t\\\"Phone\\\" NVARCHAR(24), \\n\\t\\\"Fax\\\" NVARCHAR(24), \\n\\t\\\"Email\\\" NVARCHAR(60), \\n\\tPRIMARY KEY (\\\"EmployeeId\\\"), \\n\\tFOREIGN KEY(\\\"ReportsTo\\\") REFERENCES \\\"Employee\\\" (\\\"EmployeeId\\\")\\n)\\n\\n/*\\n3 rows from Employee table:\\nEmployeeId\\tLastName\\tFirstName\\tTitle\\tReportsTo\\tBirthDate\\tHireDate\\tAddress\\tCity\\tState\\tCountry\\tPostalCode\\tPhone\\tFax\\tEmail\\n1\\tAdams\\tAndrew\\tGeneral Manager\\tNone\\t1962-02-18 00:00:00\\t2002-08-14 00:00:00\\t11120 Jasper Ave NW\\tEdmonton\\tAB\\tCanada\\tT5K 2N1\\t+1 (780) 428-9482\\t+1 (780) 428-3457\\tandrew@chinookcorp.com\\n2\\tEdwards\\tNancy\\tSales Manager\\t1\\t1958-12-08 00:00:00\\t2002-05-01 00:00:00\\t825 8 Ave SW\\tCalgary\\tAB\\tCanada\\tT2P 2T3\\t+1 (403) 262-3443\\t+1 (403) 262-3322\\tnancy@chinookcorp.com\\n3\\tPeacock\\tJane\\tSales Support Agent\\t2\\t1973-08-29 00:00:00\\t2002-04-01 00:00:00\\t1111 6 Ave SW\\tCalgary\\tAB\\tCanada\\tT2P 5M5\\t+1 (403) 262-3443\\t+1 (403) 262-6712\\tjane@chinookcorp.com\\n*/\\n\\n\\nCREATE TABLE \\\"Genre\\\" (\\n\\t\\\"GenreId\\\" INTEGER NOT NULL, \\n\\t\\\"Name\\\" NVARCHAR(120), \\n\\tPRIMARY KEY (\\\"GenreId\\\")\\n)\\n\\n/*\\n3 rows from Genre table:\\nGenreId\\tName\\n1\\tRock\\n2\\tJazz\\n3\\tMetal\\n*/\\n\\n\\nCREATE TABLE \\\"Invoice\\\" (\\n\\t\\\"InvoiceId\\\" INTEGER NOT NULL, \\n\\t\\\"CustomerId\\\" INTEGER NOT NULL, \\n\\t\\\"InvoiceDate\\\" DATETIME NOT NULL, \\n\\t\\\"BillingAddress\\\" NVARCHAR(70), \\n\\t\\\"BillingCity\\\" NVARCHAR(40), \\n\\t\\\"BillingState\\\" NVARCHAR(40), \\n\\t\\\"BillingCountry\\\" NVARCHAR(40), \\n\\t\\\"BillingPostalCode\\\" NVARCHAR(10), \\n\\t\\\"Total\\\" NUMERIC(10, 2) NOT NULL, \\n\\tPRIMARY KEY (\\\"InvoiceId\\\"), \\n\\tFOREIGN KEY(\\\"CustomerId\\\") REFERENCES \\\"Customer\\\" (\\\"CustomerId\\\")\\n)\\n\\n/*\\n3 rows from Invoice table:\\nInvoiceId\\tCustomerId\\tInvoiceDate\\tBillingAddress\\tBillingCity\\tBillingState\\tBillingCountry\\tBillingPostalCode\\tTotal\\n1\\t2\\t2009-01-01 00:00:00\\tTheodor-Heuss-Straße 34\\tStuttgart\\tNone\\tGermany\\t70174\\t1.98\\n2\\t4\\t2009-01-02 00:00:00\\tUllevålsveien 14\\tOslo\\tNone\\tNorway\\t0171\\t3.96\\n3\\t8\\t2009-01-03 00:00:00\\tGrétrystraat 63\\tBrussels\\tNone\\tBelgium\\t1000\\t5.94\\n*/\\n\\n\\nCREATE TABLE \\\"InvoiceLine\\\" (\\n\\t\\\"InvoiceLineId\\\" INTEGER NOT NULL, \\n\\t\\\"InvoiceId\\\" INTEGER NOT NULL, \\n\\t\\\"TrackId\\\" INTEGER NOT NULL, \\n\\t\\\"UnitPrice\\\" NUMERIC(10, 2) NOT NULL, \\n\\t\\\"Quantity\\\" INTEGER NOT NULL, \\n\\tPRIMARY KEY (\\\"InvoiceLineId\\\"), \\n\\tFOREIGN KEY(\\\"TrackId\\\") REFERENCES \\\"Track\\\" (\\\"TrackId\\\"), \\n\\tFOREIGN KEY(\\\"InvoiceId\\\") REFERENCES \\\"Invoice\\\" (\\\"InvoiceId\\\")\\n)\\n\\n/*\\n3 rows from InvoiceLine table:\\nInvoiceLineId\\tInvoiceId\\tTrackId\\tUnitPrice\\tQuantity\\n1\\t1\\t2\\t0.99\\t1\\n2\\t1\\t4\\t0.99\\t1\\n3\\t2\\t6\\t0.99\\t1\\n*/\\n\\n\\nCREATE TABLE \\\"MediaType\\\" (\\n\\t\\\"MediaTypeId\\\" INTEGER NOT NULL, \\n\\t\\\"Name\\\" NVARCHAR(120), \\n\\tPRIMARY KEY (\\\"MediaTypeId\\\")\\n)\\n\\n/*\\n3 rows from MediaType table:\\nMediaTypeId\\tName\\n1\\tMPEG audio file\\n2\\tProtected AAC audio file\\n3\\tProtected MPEG-4 video file\\n*/\\n\\n\\nCREATE TABLE \\\"Playlist\\\" (\\n\\t\\\"PlaylistId\\\" INTEGER NOT NULL, \\n\\t\\\"Name\\\" NVARCHAR(120), \\n\\tPRIMARY KEY (\\\"PlaylistId\\\")\\n)\\n\\n/*\\n3 rows from Playlist table:\\nPlaylistId\\tName\\n1\\tMusic\\n2\\tMovies\\n3\\tTV Shows\\n*/\\n\\n\\nCREATE TABLE \\\"PlaylistTrack\\\" (\\n\\t\\\"PlaylistId\\\" INTEGER NOT NULL, \\n\\t\\\"TrackId\\\" INTEGER NOT NULL, \\n\\tPRIMARY KEY (\\\"PlaylistId\\\", \\\"TrackId\\\"), \\n\\tFOREIGN KEY(\\\"TrackId\\\") REFERENCES \\\"Track\\\" (\\\"TrackId\\\"), \\n\\tFOREIGN KEY(\\\"PlaylistId\\\") REFERENCES \\\"Playlist\\\" (\\\"PlaylistId\\\")\\n)\\n\\n/*\\n3 rows from PlaylistTrack table:\\nPlaylistId\\tTrackId\\n1\\t3402\\n1\\t3389\\n1\\t3390\\n*/\\n\\n\\nCREATE TABLE \\\"Track\\\" (\\n\\t\\\"TrackId\\\" INTEGER NOT NULL, \\n\\t\\\"Name\\\" NVARCHAR(200) NOT NULL, \\n\\t\\\"AlbumId\\\" INTEGER, \\n\\t\\\"MediaTypeId\\\" INTEGER NOT NULL, \\n\\t\\\"GenreId\\\" INTEGER, \\n\\t\\\"Composer\\\" NVARCHAR(220), \\n\\t\\\"Milliseconds\\\" INTEGER NOT NULL, \\n\\t\\\"Bytes\\\" INTEGER, \\n\\t\\\"UnitPrice\\\" NUMERIC(10, 2) NOT NULL, \\n\\tPRIMARY KEY (\\\"TrackId\\\"), \\n\\tFOREIGN KEY(\\\"MediaTypeId\\\") REFERENCES \\\"MediaType\\\" (\\\"MediaTypeId\\\"), \\n\\tFOREIGN KEY(\\\"GenreId\\\") REFERENCES \\\"Genre\\\" (\\\"GenreId\\\"), \\n\\tFOREIGN KEY(\\\"AlbumId\\\") REFERENCES \\\"Album\\\" (\\\"AlbumId\\\")\\n)\\n\\n/*\\n3 rows from Track table:\\nTrackId\\tName\\tAlbumId\\tMediaTypeId\\tGenreId\\tComposer\\tMilliseconds\\tBytes\\tUnitPrice\\n1\\tFor Those About To Rock (We Salute You)\\t1\\t1\\t1\\tAngus Young, Malcolm Young, Brian Johnson\\t343719\\t11170334\\t0.99\\n2\\tBalls to the Wall\\t2\\t2\\t1\\tNone\\t342562\\t5510424\\t0.99\\n3\\tFast As a Shark\\t3\\t2\\t1\\tF. Baltes, S. Kaufman, U. Dirkscneider & W. Hoffman\\t230619\\t3990994\\t0.99\\n*/\",\n",
      "  \"response\": \"[(275,)]\"\n",
      "}\n",
      "\u001B[32;1m\u001B[1;3m[chain/start]\u001B[0m \u001B[1m[1:chain:RunnableSequence > 15:prompt:ChatPromptTemplate] Entering Prompt run with input:\n",
      "\u001B[0m{\n",
      "  \"question\": \"How many artists are there?\",\n",
      "  \"query\": \"SELECT COUNT(DISTINCT ArtistId) AS NumberOfArtists\\nFROM Artist;\",\n",
      "  \"schema\": \"\\nCREATE TABLE \\\"Album\\\" (\\n\\t\\\"AlbumId\\\" INTEGER NOT NULL, \\n\\t\\\"Title\\\" NVARCHAR(160) NOT NULL, \\n\\t\\\"ArtistId\\\" INTEGER NOT NULL, \\n\\tPRIMARY KEY (\\\"AlbumId\\\"), \\n\\tFOREIGN KEY(\\\"ArtistId\\\") REFERENCES \\\"Artist\\\" (\\\"ArtistId\\\")\\n)\\n\\n/*\\n3 rows from Album table:\\nAlbumId\\tTitle\\tArtistId\\n1\\tFor Those About To Rock We Salute You\\t1\\n2\\tBalls to the Wall\\t2\\n3\\tRestless and Wild\\t2\\n*/\\n\\n\\nCREATE TABLE \\\"Artist\\\" (\\n\\t\\\"ArtistId\\\" INTEGER NOT NULL, \\n\\t\\\"Name\\\" NVARCHAR(120), \\n\\tPRIMARY KEY (\\\"ArtistId\\\")\\n)\\n\\n/*\\n3 rows from Artist table:\\nArtistId\\tName\\n1\\tAC/DC\\n2\\tAccept\\n3\\tAerosmith\\n*/\\n\\n\\nCREATE TABLE \\\"Customer\\\" (\\n\\t\\\"CustomerId\\\" INTEGER NOT NULL, \\n\\t\\\"FirstName\\\" NVARCHAR(40) NOT NULL, \\n\\t\\\"LastName\\\" NVARCHAR(20) NOT NULL, \\n\\t\\\"Company\\\" NVARCHAR(80), \\n\\t\\\"Address\\\" NVARCHAR(70), \\n\\t\\\"City\\\" NVARCHAR(40), \\n\\t\\\"State\\\" NVARCHAR(40), \\n\\t\\\"Country\\\" NVARCHAR(40), \\n\\t\\\"PostalCode\\\" NVARCHAR(10), \\n\\t\\\"Phone\\\" NVARCHAR(24), \\n\\t\\\"Fax\\\" NVARCHAR(24), \\n\\t\\\"Email\\\" NVARCHAR(60) NOT NULL, \\n\\t\\\"SupportRepId\\\" INTEGER, \\n\\tPRIMARY KEY (\\\"CustomerId\\\"), \\n\\tFOREIGN KEY(\\\"SupportRepId\\\") REFERENCES \\\"Employee\\\" (\\\"EmployeeId\\\")\\n)\\n\\n/*\\n3 rows from Customer table:\\nCustomerId\\tFirstName\\tLastName\\tCompany\\tAddress\\tCity\\tState\\tCountry\\tPostalCode\\tPhone\\tFax\\tEmail\\tSupportRepId\\n1\\tLuís\\tGonçalves\\tEmbraer - Empresa Brasileira de Aeronáutica S.A.\\tAv. Brigadeiro Faria Lima, 2170\\tSão José dos Campos\\tSP\\tBrazil\\t12227-000\\t+55 (12) 3923-5555\\t+55 (12) 3923-5566\\tluisg@embraer.com.br\\t3\\n2\\tLeonie\\tKöhler\\tNone\\tTheodor-Heuss-Straße 34\\tStuttgart\\tNone\\tGermany\\t70174\\t+49 0711 2842222\\tNone\\tleonekohler@surfeu.de\\t5\\n3\\tFrançois\\tTremblay\\tNone\\t1498 rue Bélanger\\tMontréal\\tQC\\tCanada\\tH2G 1A7\\t+1 (514) 721-4711\\tNone\\tftremblay@gmail.com\\t3\\n*/\\n\\n\\nCREATE TABLE \\\"Employee\\\" (\\n\\t\\\"EmployeeId\\\" INTEGER NOT NULL, \\n\\t\\\"LastName\\\" NVARCHAR(20) NOT NULL, \\n\\t\\\"FirstName\\\" NVARCHAR(20) NOT NULL, \\n\\t\\\"Title\\\" NVARCHAR(30), \\n\\t\\\"ReportsTo\\\" INTEGER, \\n\\t\\\"BirthDate\\\" DATETIME, \\n\\t\\\"HireDate\\\" DATETIME, \\n\\t\\\"Address\\\" NVARCHAR(70), \\n\\t\\\"City\\\" NVARCHAR(40), \\n\\t\\\"State\\\" NVARCHAR(40), \\n\\t\\\"Country\\\" NVARCHAR(40), \\n\\t\\\"PostalCode\\\" NVARCHAR(10), \\n\\t\\\"Phone\\\" NVARCHAR(24), \\n\\t\\\"Fax\\\" NVARCHAR(24), \\n\\t\\\"Email\\\" NVARCHAR(60), \\n\\tPRIMARY KEY (\\\"EmployeeId\\\"), \\n\\tFOREIGN KEY(\\\"ReportsTo\\\") REFERENCES \\\"Employee\\\" (\\\"EmployeeId\\\")\\n)\\n\\n/*\\n3 rows from Employee table:\\nEmployeeId\\tLastName\\tFirstName\\tTitle\\tReportsTo\\tBirthDate\\tHireDate\\tAddress\\tCity\\tState\\tCountry\\tPostalCode\\tPhone\\tFax\\tEmail\\n1\\tAdams\\tAndrew\\tGeneral Manager\\tNone\\t1962-02-18 00:00:00\\t2002-08-14 00:00:00\\t11120 Jasper Ave NW\\tEdmonton\\tAB\\tCanada\\tT5K 2N1\\t+1 (780) 428-9482\\t+1 (780) 428-3457\\tandrew@chinookcorp.com\\n2\\tEdwards\\tNancy\\tSales Manager\\t1\\t1958-12-08 00:00:00\\t2002-05-01 00:00:00\\t825 8 Ave SW\\tCalgary\\tAB\\tCanada\\tT2P 2T3\\t+1 (403) 262-3443\\t+1 (403) 262-3322\\tnancy@chinookcorp.com\\n3\\tPeacock\\tJane\\tSales Support Agent\\t2\\t1973-08-29 00:00:00\\t2002-04-01 00:00:00\\t1111 6 Ave SW\\tCalgary\\tAB\\tCanada\\tT2P 5M5\\t+1 (403) 262-3443\\t+1 (403) 262-6712\\tjane@chinookcorp.com\\n*/\\n\\n\\nCREATE TABLE \\\"Genre\\\" (\\n\\t\\\"GenreId\\\" INTEGER NOT NULL, \\n\\t\\\"Name\\\" NVARCHAR(120), \\n\\tPRIMARY KEY (\\\"GenreId\\\")\\n)\\n\\n/*\\n3 rows from Genre table:\\nGenreId\\tName\\n1\\tRock\\n2\\tJazz\\n3\\tMetal\\n*/\\n\\n\\nCREATE TABLE \\\"Invoice\\\" (\\n\\t\\\"InvoiceId\\\" INTEGER NOT NULL, \\n\\t\\\"CustomerId\\\" INTEGER NOT NULL, \\n\\t\\\"InvoiceDate\\\" DATETIME NOT NULL, \\n\\t\\\"BillingAddress\\\" NVARCHAR(70), \\n\\t\\\"BillingCity\\\" NVARCHAR(40), \\n\\t\\\"BillingState\\\" NVARCHAR(40), \\n\\t\\\"BillingCountry\\\" NVARCHAR(40), \\n\\t\\\"BillingPostalCode\\\" NVARCHAR(10), \\n\\t\\\"Total\\\" NUMERIC(10, 2) NOT NULL, \\n\\tPRIMARY KEY (\\\"InvoiceId\\\"), \\n\\tFOREIGN KEY(\\\"CustomerId\\\") REFERENCES \\\"Customer\\\" (\\\"CustomerId\\\")\\n)\\n\\n/*\\n3 rows from Invoice table:\\nInvoiceId\\tCustomerId\\tInvoiceDate\\tBillingAddress\\tBillingCity\\tBillingState\\tBillingCountry\\tBillingPostalCode\\tTotal\\n1\\t2\\t2009-01-01 00:00:00\\tTheodor-Heuss-Straße 34\\tStuttgart\\tNone\\tGermany\\t70174\\t1.98\\n2\\t4\\t2009-01-02 00:00:00\\tUllevålsveien 14\\tOslo\\tNone\\tNorway\\t0171\\t3.96\\n3\\t8\\t2009-01-03 00:00:00\\tGrétrystraat 63\\tBrussels\\tNone\\tBelgium\\t1000\\t5.94\\n*/\\n\\n\\nCREATE TABLE \\\"InvoiceLine\\\" (\\n\\t\\\"InvoiceLineId\\\" INTEGER NOT NULL, \\n\\t\\\"InvoiceId\\\" INTEGER NOT NULL, \\n\\t\\\"TrackId\\\" INTEGER NOT NULL, \\n\\t\\\"UnitPrice\\\" NUMERIC(10, 2) NOT NULL, \\n\\t\\\"Quantity\\\" INTEGER NOT NULL, \\n\\tPRIMARY KEY (\\\"InvoiceLineId\\\"), \\n\\tFOREIGN KEY(\\\"TrackId\\\") REFERENCES \\\"Track\\\" (\\\"TrackId\\\"), \\n\\tFOREIGN KEY(\\\"InvoiceId\\\") REFERENCES \\\"Invoice\\\" (\\\"InvoiceId\\\")\\n)\\n\\n/*\\n3 rows from InvoiceLine table:\\nInvoiceLineId\\tInvoiceId\\tTrackId\\tUnitPrice\\tQuantity\\n1\\t1\\t2\\t0.99\\t1\\n2\\t1\\t4\\t0.99\\t1\\n3\\t2\\t6\\t0.99\\t1\\n*/\\n\\n\\nCREATE TABLE \\\"MediaType\\\" (\\n\\t\\\"MediaTypeId\\\" INTEGER NOT NULL, \\n\\t\\\"Name\\\" NVARCHAR(120), \\n\\tPRIMARY KEY (\\\"MediaTypeId\\\")\\n)\\n\\n/*\\n3 rows from MediaType table:\\nMediaTypeId\\tName\\n1\\tMPEG audio file\\n2\\tProtected AAC audio file\\n3\\tProtected MPEG-4 video file\\n*/\\n\\n\\nCREATE TABLE \\\"Playlist\\\" (\\n\\t\\\"PlaylistId\\\" INTEGER NOT NULL, \\n\\t\\\"Name\\\" NVARCHAR(120), \\n\\tPRIMARY KEY (\\\"PlaylistId\\\")\\n)\\n\\n/*\\n3 rows from Playlist table:\\nPlaylistId\\tName\\n1\\tMusic\\n2\\tMovies\\n3\\tTV Shows\\n*/\\n\\n\\nCREATE TABLE \\\"PlaylistTrack\\\" (\\n\\t\\\"PlaylistId\\\" INTEGER NOT NULL, \\n\\t\\\"TrackId\\\" INTEGER NOT NULL, \\n\\tPRIMARY KEY (\\\"PlaylistId\\\", \\\"TrackId\\\"), \\n\\tFOREIGN KEY(\\\"TrackId\\\") REFERENCES \\\"Track\\\" (\\\"TrackId\\\"), \\n\\tFOREIGN KEY(\\\"PlaylistId\\\") REFERENCES \\\"Playlist\\\" (\\\"PlaylistId\\\")\\n)\\n\\n/*\\n3 rows from PlaylistTrack table:\\nPlaylistId\\tTrackId\\n1\\t3402\\n1\\t3389\\n1\\t3390\\n*/\\n\\n\\nCREATE TABLE \\\"Track\\\" (\\n\\t\\\"TrackId\\\" INTEGER NOT NULL, \\n\\t\\\"Name\\\" NVARCHAR(200) NOT NULL, \\n\\t\\\"AlbumId\\\" INTEGER, \\n\\t\\\"MediaTypeId\\\" INTEGER NOT NULL, \\n\\t\\\"GenreId\\\" INTEGER, \\n\\t\\\"Composer\\\" NVARCHAR(220), \\n\\t\\\"Milliseconds\\\" INTEGER NOT NULL, \\n\\t\\\"Bytes\\\" INTEGER, \\n\\t\\\"UnitPrice\\\" NUMERIC(10, 2) NOT NULL, \\n\\tPRIMARY KEY (\\\"TrackId\\\"), \\n\\tFOREIGN KEY(\\\"MediaTypeId\\\") REFERENCES \\\"MediaType\\\" (\\\"MediaTypeId\\\"), \\n\\tFOREIGN KEY(\\\"GenreId\\\") REFERENCES \\\"Genre\\\" (\\\"GenreId\\\"), \\n\\tFOREIGN KEY(\\\"AlbumId\\\") REFERENCES \\\"Album\\\" (\\\"AlbumId\\\")\\n)\\n\\n/*\\n3 rows from Track table:\\nTrackId\\tName\\tAlbumId\\tMediaTypeId\\tGenreId\\tComposer\\tMilliseconds\\tBytes\\tUnitPrice\\n1\\tFor Those About To Rock (We Salute You)\\t1\\t1\\t1\\tAngus Young, Malcolm Young, Brian Johnson\\t343719\\t11170334\\t0.99\\n2\\tBalls to the Wall\\t2\\t2\\t1\\tNone\\t342562\\t5510424\\t0.99\\n3\\tFast As a Shark\\t3\\t2\\t1\\tF. Baltes, S. Kaufman, U. Dirkscneider & W. Hoffman\\t230619\\t3990994\\t0.99\\n*/\",\n",
      "  \"response\": \"[(275,)]\"\n",
      "}\n",
      "\u001B[36;1m\u001B[1;3m[chain/end]\u001B[0m \u001B[1m[1:chain:RunnableSequence > 15:prompt:ChatPromptTemplate] [0ms] Exiting Prompt run with output:\n",
      "\u001B[0m[outputs]\n",
      "\u001B[32;1m\u001B[1;3m[llm/start]\u001B[0m \u001B[1m[1:chain:RunnableSequence > 16:llm:ChatOpenAI] Entering LLM run with input:\n",
      "\u001B[0m{\n",
      "  \"prompts\": [\n",
      "    \"Human: Based on the table schema below, question, sql query, and sql response, write a natural language response:\\n\\nCREATE TABLE \\\"Album\\\" (\\n\\t\\\"AlbumId\\\" INTEGER NOT NULL, \\n\\t\\\"Title\\\" NVARCHAR(160) NOT NULL, \\n\\t\\\"ArtistId\\\" INTEGER NOT NULL, \\n\\tPRIMARY KEY (\\\"AlbumId\\\"), \\n\\tFOREIGN KEY(\\\"ArtistId\\\") REFERENCES \\\"Artist\\\" (\\\"ArtistId\\\")\\n)\\n\\n/*\\n3 rows from Album table:\\nAlbumId\\tTitle\\tArtistId\\n1\\tFor Those About To Rock We Salute You\\t1\\n2\\tBalls to the Wall\\t2\\n3\\tRestless and Wild\\t2\\n*/\\n\\n\\nCREATE TABLE \\\"Artist\\\" (\\n\\t\\\"ArtistId\\\" INTEGER NOT NULL, \\n\\t\\\"Name\\\" NVARCHAR(120), \\n\\tPRIMARY KEY (\\\"ArtistId\\\")\\n)\\n\\n/*\\n3 rows from Artist table:\\nArtistId\\tName\\n1\\tAC/DC\\n2\\tAccept\\n3\\tAerosmith\\n*/\\n\\n\\nCREATE TABLE \\\"Customer\\\" (\\n\\t\\\"CustomerId\\\" INTEGER NOT NULL, \\n\\t\\\"FirstName\\\" NVARCHAR(40) NOT NULL, \\n\\t\\\"LastName\\\" NVARCHAR(20) NOT NULL, \\n\\t\\\"Company\\\" NVARCHAR(80), \\n\\t\\\"Address\\\" NVARCHAR(70), \\n\\t\\\"City\\\" NVARCHAR(40), \\n\\t\\\"State\\\" NVARCHAR(40), \\n\\t\\\"Country\\\" NVARCHAR(40), \\n\\t\\\"PostalCode\\\" NVARCHAR(10), \\n\\t\\\"Phone\\\" NVARCHAR(24), \\n\\t\\\"Fax\\\" NVARCHAR(24), \\n\\t\\\"Email\\\" NVARCHAR(60) NOT NULL, \\n\\t\\\"SupportRepId\\\" INTEGER, \\n\\tPRIMARY KEY (\\\"CustomerId\\\"), \\n\\tFOREIGN KEY(\\\"SupportRepId\\\") REFERENCES \\\"Employee\\\" (\\\"EmployeeId\\\")\\n)\\n\\n/*\\n3 rows from Customer table:\\nCustomerId\\tFirstName\\tLastName\\tCompany\\tAddress\\tCity\\tState\\tCountry\\tPostalCode\\tPhone\\tFax\\tEmail\\tSupportRepId\\n1\\tLuís\\tGonçalves\\tEmbraer - Empresa Brasileira de Aeronáutica S.A.\\tAv. Brigadeiro Faria Lima, 2170\\tSão José dos Campos\\tSP\\tBrazil\\t12227-000\\t+55 (12) 3923-5555\\t+55 (12) 3923-5566\\tluisg@embraer.com.br\\t3\\n2\\tLeonie\\tKöhler\\tNone\\tTheodor-Heuss-Straße 34\\tStuttgart\\tNone\\tGermany\\t70174\\t+49 0711 2842222\\tNone\\tleonekohler@surfeu.de\\t5\\n3\\tFrançois\\tTremblay\\tNone\\t1498 rue Bélanger\\tMontréal\\tQC\\tCanada\\tH2G 1A7\\t+1 (514) 721-4711\\tNone\\tftremblay@gmail.com\\t3\\n*/\\n\\n\\nCREATE TABLE \\\"Employee\\\" (\\n\\t\\\"EmployeeId\\\" INTEGER NOT NULL, \\n\\t\\\"LastName\\\" NVARCHAR(20) NOT NULL, \\n\\t\\\"FirstName\\\" NVARCHAR(20) NOT NULL, \\n\\t\\\"Title\\\" NVARCHAR(30), \\n\\t\\\"ReportsTo\\\" INTEGER, \\n\\t\\\"BirthDate\\\" DATETIME, \\n\\t\\\"HireDate\\\" DATETIME, \\n\\t\\\"Address\\\" NVARCHAR(70), \\n\\t\\\"City\\\" NVARCHAR(40), \\n\\t\\\"State\\\" NVARCHAR(40), \\n\\t\\\"Country\\\" NVARCHAR(40), \\n\\t\\\"PostalCode\\\" NVARCHAR(10), \\n\\t\\\"Phone\\\" NVARCHAR(24), \\n\\t\\\"Fax\\\" NVARCHAR(24), \\n\\t\\\"Email\\\" NVARCHAR(60), \\n\\tPRIMARY KEY (\\\"EmployeeId\\\"), \\n\\tFOREIGN KEY(\\\"ReportsTo\\\") REFERENCES \\\"Employee\\\" (\\\"EmployeeId\\\")\\n)\\n\\n/*\\n3 rows from Employee table:\\nEmployeeId\\tLastName\\tFirstName\\tTitle\\tReportsTo\\tBirthDate\\tHireDate\\tAddress\\tCity\\tState\\tCountry\\tPostalCode\\tPhone\\tFax\\tEmail\\n1\\tAdams\\tAndrew\\tGeneral Manager\\tNone\\t1962-02-18 00:00:00\\t2002-08-14 00:00:00\\t11120 Jasper Ave NW\\tEdmonton\\tAB\\tCanada\\tT5K 2N1\\t+1 (780) 428-9482\\t+1 (780) 428-3457\\tandrew@chinookcorp.com\\n2\\tEdwards\\tNancy\\tSales Manager\\t1\\t1958-12-08 00:00:00\\t2002-05-01 00:00:00\\t825 8 Ave SW\\tCalgary\\tAB\\tCanada\\tT2P 2T3\\t+1 (403) 262-3443\\t+1 (403) 262-3322\\tnancy@chinookcorp.com\\n3\\tPeacock\\tJane\\tSales Support Agent\\t2\\t1973-08-29 00:00:00\\t2002-04-01 00:00:00\\t1111 6 Ave SW\\tCalgary\\tAB\\tCanada\\tT2P 5M5\\t+1 (403) 262-3443\\t+1 (403) 262-6712\\tjane@chinookcorp.com\\n*/\\n\\n\\nCREATE TABLE \\\"Genre\\\" (\\n\\t\\\"GenreId\\\" INTEGER NOT NULL, \\n\\t\\\"Name\\\" NVARCHAR(120), \\n\\tPRIMARY KEY (\\\"GenreId\\\")\\n)\\n\\n/*\\n3 rows from Genre table:\\nGenreId\\tName\\n1\\tRock\\n2\\tJazz\\n3\\tMetal\\n*/\\n\\n\\nCREATE TABLE \\\"Invoice\\\" (\\n\\t\\\"InvoiceId\\\" INTEGER NOT NULL, \\n\\t\\\"CustomerId\\\" INTEGER NOT NULL, \\n\\t\\\"InvoiceDate\\\" DATETIME NOT NULL, \\n\\t\\\"BillingAddress\\\" NVARCHAR(70), \\n\\t\\\"BillingCity\\\" NVARCHAR(40), \\n\\t\\\"BillingState\\\" NVARCHAR(40), \\n\\t\\\"BillingCountry\\\" NVARCHAR(40), \\n\\t\\\"BillingPostalCode\\\" NVARCHAR(10), \\n\\t\\\"Total\\\" NUMERIC(10, 2) NOT NULL, \\n\\tPRIMARY KEY (\\\"InvoiceId\\\"), \\n\\tFOREIGN KEY(\\\"CustomerId\\\") REFERENCES \\\"Customer\\\" (\\\"CustomerId\\\")\\n)\\n\\n/*\\n3 rows from Invoice table:\\nInvoiceId\\tCustomerId\\tInvoiceDate\\tBillingAddress\\tBillingCity\\tBillingState\\tBillingCountry\\tBillingPostalCode\\tTotal\\n1\\t2\\t2009-01-01 00:00:00\\tTheodor-Heuss-Straße 34\\tStuttgart\\tNone\\tGermany\\t70174\\t1.98\\n2\\t4\\t2009-01-02 00:00:00\\tUllevålsveien 14\\tOslo\\tNone\\tNorway\\t0171\\t3.96\\n3\\t8\\t2009-01-03 00:00:00\\tGrétrystraat 63\\tBrussels\\tNone\\tBelgium\\t1000\\t5.94\\n*/\\n\\n\\nCREATE TABLE \\\"InvoiceLine\\\" (\\n\\t\\\"InvoiceLineId\\\" INTEGER NOT NULL, \\n\\t\\\"InvoiceId\\\" INTEGER NOT NULL, \\n\\t\\\"TrackId\\\" INTEGER NOT NULL, \\n\\t\\\"UnitPrice\\\" NUMERIC(10, 2) NOT NULL, \\n\\t\\\"Quantity\\\" INTEGER NOT NULL, \\n\\tPRIMARY KEY (\\\"InvoiceLineId\\\"), \\n\\tFOREIGN KEY(\\\"TrackId\\\") REFERENCES \\\"Track\\\" (\\\"TrackId\\\"), \\n\\tFOREIGN KEY(\\\"InvoiceId\\\") REFERENCES \\\"Invoice\\\" (\\\"InvoiceId\\\")\\n)\\n\\n/*\\n3 rows from InvoiceLine table:\\nInvoiceLineId\\tInvoiceId\\tTrackId\\tUnitPrice\\tQuantity\\n1\\t1\\t2\\t0.99\\t1\\n2\\t1\\t4\\t0.99\\t1\\n3\\t2\\t6\\t0.99\\t1\\n*/\\n\\n\\nCREATE TABLE \\\"MediaType\\\" (\\n\\t\\\"MediaTypeId\\\" INTEGER NOT NULL, \\n\\t\\\"Name\\\" NVARCHAR(120), \\n\\tPRIMARY KEY (\\\"MediaTypeId\\\")\\n)\\n\\n/*\\n3 rows from MediaType table:\\nMediaTypeId\\tName\\n1\\tMPEG audio file\\n2\\tProtected AAC audio file\\n3\\tProtected MPEG-4 video file\\n*/\\n\\n\\nCREATE TABLE \\\"Playlist\\\" (\\n\\t\\\"PlaylistId\\\" INTEGER NOT NULL, \\n\\t\\\"Name\\\" NVARCHAR(120), \\n\\tPRIMARY KEY (\\\"PlaylistId\\\")\\n)\\n\\n/*\\n3 rows from Playlist table:\\nPlaylistId\\tName\\n1\\tMusic\\n2\\tMovies\\n3\\tTV Shows\\n*/\\n\\n\\nCREATE TABLE \\\"PlaylistTrack\\\" (\\n\\t\\\"PlaylistId\\\" INTEGER NOT NULL, \\n\\t\\\"TrackId\\\" INTEGER NOT NULL, \\n\\tPRIMARY KEY (\\\"PlaylistId\\\", \\\"TrackId\\\"), \\n\\tFOREIGN KEY(\\\"TrackId\\\") REFERENCES \\\"Track\\\" (\\\"TrackId\\\"), \\n\\tFOREIGN KEY(\\\"PlaylistId\\\") REFERENCES \\\"Playlist\\\" (\\\"PlaylistId\\\")\\n)\\n\\n/*\\n3 rows from PlaylistTrack table:\\nPlaylistId\\tTrackId\\n1\\t3402\\n1\\t3389\\n1\\t3390\\n*/\\n\\n\\nCREATE TABLE \\\"Track\\\" (\\n\\t\\\"TrackId\\\" INTEGER NOT NULL, \\n\\t\\\"Name\\\" NVARCHAR(200) NOT NULL, \\n\\t\\\"AlbumId\\\" INTEGER, \\n\\t\\\"MediaTypeId\\\" INTEGER NOT NULL, \\n\\t\\\"GenreId\\\" INTEGER, \\n\\t\\\"Composer\\\" NVARCHAR(220), \\n\\t\\\"Milliseconds\\\" INTEGER NOT NULL, \\n\\t\\\"Bytes\\\" INTEGER, \\n\\t\\\"UnitPrice\\\" NUMERIC(10, 2) NOT NULL, \\n\\tPRIMARY KEY (\\\"TrackId\\\"), \\n\\tFOREIGN KEY(\\\"MediaTypeId\\\") REFERENCES \\\"MediaType\\\" (\\\"MediaTypeId\\\"), \\n\\tFOREIGN KEY(\\\"GenreId\\\") REFERENCES \\\"Genre\\\" (\\\"GenreId\\\"), \\n\\tFOREIGN KEY(\\\"AlbumId\\\") REFERENCES \\\"Album\\\" (\\\"AlbumId\\\")\\n)\\n\\n/*\\n3 rows from Track table:\\nTrackId\\tName\\tAlbumId\\tMediaTypeId\\tGenreId\\tComposer\\tMilliseconds\\tBytes\\tUnitPrice\\n1\\tFor Those About To Rock (We Salute You)\\t1\\t1\\t1\\tAngus Young, Malcolm Young, Brian Johnson\\t343719\\t11170334\\t0.99\\n2\\tBalls to the Wall\\t2\\t2\\t1\\tNone\\t342562\\t5510424\\t0.99\\n3\\tFast As a Shark\\t3\\t2\\t1\\tF. Baltes, S. Kaufman, U. Dirkscneider & W. Hoffman\\t230619\\t3990994\\t0.99\\n*/\\n\\nQuestion: How many artists are there?\\nSQL Query: SELECT COUNT(DISTINCT ArtistId) AS NumberOfArtists\\nFROM Artist;\\nSQL Response: [(275,)]\"\n",
      "  ]\n",
      "}\n",
      "\u001B[36;1m\u001B[1;3m[llm/end]\u001B[0m \u001B[1m[1:chain:RunnableSequence > 16:llm:ChatOpenAI] [1.48s] Exiting LLM run with output:\n",
      "\u001B[0m{\n",
      "  \"generations\": [\n",
      "    [\n",
      "      {\n",
      "        \"text\": \"There are 275 artists.\",\n",
      "        \"generation_info\": {\n",
      "          \"finish_reason\": \"stop\",\n",
      "          \"logprobs\": null\n",
      "        },\n",
      "        \"type\": \"ChatGeneration\",\n",
      "        \"message\": {\n",
      "          \"lc\": 1,\n",
      "          \"type\": \"constructor\",\n",
      "          \"id\": [\n",
      "            \"langchain\",\n",
      "            \"schema\",\n",
      "            \"messages\",\n",
      "            \"AIMessage\"\n",
      "          ],\n",
      "          \"kwargs\": {\n",
      "            \"content\": \"There are 275 artists.\",\n",
      "            \"additional_kwargs\": {},\n",
      "            \"name\": null,\n",
      "            \"id\": \"run-f91978d1-a7cb-4771-9d26-69b47287cbd6-0\",\n",
      "            \"tool_calls\": [],\n",
      "            \"invalid_tool_calls\": []\n",
      "          }\n",
      "        }\n",
      "      }\n",
      "    ]\n",
      "  ],\n",
      "  \"llm_output\": {\n",
      "    \"token_usage\": {\n",
      "      \"completion_tokens\": 6,\n",
      "      \"prompt_tokens\": 2159,\n",
      "      \"total_tokens\": 2165\n",
      "    },\n",
      "    \"model_name\": \"gpt-4\",\n",
      "    \"system_fingerprint\": null\n",
      "  },\n",
      "  \"run\": null\n",
      "}\n",
      "\u001B[36;1m\u001B[1;3m[chain/end]\u001B[0m \u001B[1m[1:chain:RunnableSequence] [10.52s] Exiting Chain run with output:\n",
      "\u001B[0m[outputs]\n"
     ]
    },
    {
     "data": {
      "text/plain": [
       "AIMessage(content='There are 275 artists.', response_metadata={'token_usage': {'completion_tokens': 6, 'prompt_tokens': 2159, 'total_tokens': 2165}, 'model_name': 'gpt-4', 'system_fingerprint': None, 'finish_reason': 'stop', 'logprobs': None}, id='run-f91978d1-a7cb-4771-9d26-69b47287cbd6-0')"
      ]
     },
     "execution_count": 27,
     "metadata": {},
     "output_type": "execute_result"
    }
   ],
   "execution_count": 27
  }
 ],
 "metadata": {
  "kernelspec": {
   "display_name": "Python 3",
   "language": "python",
   "name": "python3"
  },
  "language_info": {
   "codemirror_mode": {
    "name": "ipython",
    "version": 2
   },
   "file_extension": ".py",
   "mimetype": "text/x-python",
   "name": "python",
   "nbconvert_exporter": "python",
   "pygments_lexer": "ipython2",
   "version": "2.7.6"
  }
 },
 "nbformat": 4,
 "nbformat_minor": 5
}
