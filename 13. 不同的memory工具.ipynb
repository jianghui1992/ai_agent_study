{
 "cells": [
  {
   "cell_type": "code",
   "id": "initial_id",
   "metadata": {
    "collapsed": true,
    "ExecuteTime": {
     "end_time": "2024-04-24T13:58:33.276903Z",
     "start_time": "2024-04-24T13:58:33.265673Z"
    }
   },
   "source": [
    "from dotenv import load_dotenv\n",
    "\n",
    "load_dotenv(\"openai.env\")"
   ],
   "outputs": [
    {
     "data": {
      "text/plain": [
       "True"
      ]
     },
     "execution_count": 6,
     "metadata": {},
     "output_type": "execute_result"
    }
   ],
   "execution_count": 6
  },
  {
   "metadata": {},
   "cell_type": "markdown",
   "source": [
    "# 内存中的短时记忆\n",
    "\n",
    "<hr>"
   ],
   "id": "4e2927cf3e27fc20"
  },
  {
   "metadata": {
    "ExecuteTime": {
     "end_time": "2024-04-24T13:54:47.517640Z",
     "start_time": "2024-04-24T13:54:43.330640Z"
    }
   },
   "cell_type": "code",
   "source": [
    "from langchain.memory import ConversationBufferMemory\n",
    "\n",
    "# 存储数据到内存\n",
    "memory = ConversationBufferMemory()\n",
    "memory.chat_memory.add_user_message(\"你好，我是大头同学！\")\n",
    "memory.chat_memory.add_ai_message(\"你好，我是AI，有什么可以帮助你的吗？\")\n",
    "# 加载内存中数据\n",
    "memory.load_memory_variables({})"
   ],
   "id": "675bc3481207fe4a",
   "outputs": [
    {
     "data": {
      "text/plain": [
       "{'history': 'Human: 你好，我是大头同学！\\nAI: 你好，我是AI，有什么可以帮助你的吗？'}"
      ]
     },
     "execution_count": 1,
     "metadata": {},
     "output_type": "execute_result"
    }
   ],
   "execution_count": 1
  },
  {
   "metadata": {
    "ExecuteTime": {
     "end_time": "2024-04-24T13:54:53.100553Z",
     "start_time": "2024-04-24T13:54:53.095530Z"
    }
   },
   "cell_type": "code",
   "source": [
    "# 加载内存中数据\n",
    "memory.buffer"
   ],
   "id": "aa433fd4389c1c04",
   "outputs": [
    {
     "data": {
      "text/plain": [
       "'Human: 你好，我是大头同学！\\nAI: 你好，我是AI，有什么可以帮助你的吗？'"
      ]
     },
     "execution_count": 2,
     "metadata": {},
     "output_type": "execute_result"
    }
   ],
   "execution_count": 2
  },
  {
   "metadata": {
    "ExecuteTime": {
     "end_time": "2024-04-24T14:02:01.447983Z",
     "start_time": "2024-04-24T14:02:01.442302Z"
    }
   },
   "cell_type": "code",
   "source": [
    "#实现一个最近的对话窗口，超过窗口条数的对话(一对input+output算一组对话)将被删除\n",
    "from langchain.memory import ConversationBufferWindowMemory\n",
    "\n",
    "memory = ConversationBufferWindowMemory(k=1)\n",
    "\n",
    "memory.save_context({\"input\": \"你好，我是人类!\"}, {\"output\": \"你好，我是AI，有什么可以帮助你的吗？\"})\n",
    "memory.save_context({\"input\": \"我想吃鸡肉\"}, {\"output\": \"好的，我帮你找找鸡肉的做法\"})\n",
    "\n",
    "# k=1,内存只会保存最新的一条数据\n",
    "memory.load_memory_variables({})"
   ],
   "id": "8865f338fee33ad2",
   "outputs": [
    {
     "data": {
      "text/plain": [
       "{'history': 'Human: 我想吃鸡肉\\nAI: 好的，我帮你找找鸡肉的做法'}"
      ]
     },
     "execution_count": 17,
     "metadata": {},
     "output_type": "execute_result"
    }
   ],
   "execution_count": 17
  },
  {
   "metadata": {},
   "cell_type": "markdown",
   "source": [
    "# 构建记忆实体概念清单\n",
    "在存储的同时, 会把对话中的实体单独存储起来\n",
    "<hr>"
   ],
   "id": "3cbac3fca41ae420"
  },
  {
   "metadata": {
    "ExecuteTime": {
     "end_time": "2024-04-24T14:07:45.155498Z",
     "start_time": "2024-04-24T14:07:33.813524Z"
    }
   },
   "cell_type": "code",
   "source": [
    "from langchain.llms import OpenAI\n",
    "from langchain.memory import ConversationEntityMemory\n",
    "\n",
    "llm = OpenAI(temperature=0)\n",
    "\n",
    "# 从对话的内容中,提取实体概念\n",
    "memory = ConversationEntityMemory(llm=llm)\n",
    "_input = {\n",
    "    \"input\": \"胡八一和王胖子雪莉杨经常在一起冒险，合称盗墓铁三角.\"\n",
    "}\n",
    "ans = memory.load_memory_variables(_input)\n",
    "print(ans)\n",
    "memory.save_context(\n",
    "    _input,\n",
    "    {\n",
    "        \"output\": \"听起来很刺激，我也想加入他们！\"\n",
    "    }\n",
    ")"
   ],
   "id": "f05b8fac2592f10b",
   "outputs": [
    {
     "name": "stdout",
     "output_type": "stream",
     "text": [
      "{'history': '', 'entities': {'胡八一': '', '王胖子': '', '雪莉杨': '', '盗墓铁三角': ''}}\n"
     ]
    }
   ],
   "execution_count": 28
  },
  {
   "metadata": {
    "ExecuteTime": {
     "end_time": "2024-04-24T14:07:46.829661Z",
     "start_time": "2024-04-24T14:07:45.338004Z"
    }
   },
   "cell_type": "code",
   "source": "memory.load_memory_variables({\"input\": \"铁三角是谁?\"})",
   "id": "72825276e6295ca8",
   "outputs": [
    {
     "data": {
      "text/plain": [
       "{'history': 'Human: 胡八一和王胖子雪莉杨经常在一起冒险，合称盗墓铁三角.\\nAI: 听起来很刺激，我也想加入他们！',\n",
       " 'entities': {}}"
      ]
     },
     "execution_count": 29,
     "metadata": {},
     "output_type": "execute_result"
    }
   ],
   "execution_count": 29
  },
  {
   "metadata": {},
   "cell_type": "markdown",
   "source": "# 使用知识图谱构建记忆",
   "id": "b12a78c5550fe31b"
  },
  {
   "metadata": {
    "ExecuteTime": {
     "end_time": "2024-04-24T14:08:37.634981Z",
     "start_time": "2024-04-24T14:08:31.000991Z"
    }
   },
   "cell_type": "code",
   "source": [
    "from langchain.llms import OpenAI\n",
    "from langchain.memory import ConversationKGMemory\n",
    "\n",
    "llm = OpenAI(temperature=0)\n",
    "memory = ConversationKGMemory(llm=llm, return_messages=True)\n",
    "\n",
    "memory.save_context(\n",
    "    {\"input\": \"帮我找一下tomie\"},\n",
    "    {\"output\": \"对不起请问什么是tomie？\"}\n",
    ")\n",
    "\n",
    "memory.save_context(\n",
    "    {\"input\": \"tomie是一个培训讲师\"},\n",
    "    {\"output\": \"好的，我知道了。\"}\n",
    ")"
   ],
   "id": "c972676ed227860c",
   "outputs": [],
   "execution_count": 30
  },
  {
   "metadata": {
    "ExecuteTime": {
     "end_time": "2024-04-24T14:08:41.377984Z",
     "start_time": "2024-04-24T14:08:38.564215Z"
    }
   },
   "cell_type": "code",
   "source": "memory.load_memory_variables({\"input\": \"tomie是谁?\"})",
   "id": "9e0ee14bac951bbe",
   "outputs": [
    {
     "data": {
      "text/plain": [
       "{'history': [SystemMessage(content='On tomie: tomie is a training instructor.')]}"
      ]
     },
     "execution_count": 31,
     "metadata": {},
     "output_type": "execute_result"
    }
   ],
   "execution_count": 31
  },
  {
   "metadata": {
    "ExecuteTime": {
     "end_time": "2024-04-24T14:08:46.825112Z",
     "start_time": "2024-04-24T14:08:46.151109Z"
    }
   },
   "cell_type": "code",
   "source": [
    "# 提取实体\n",
    "memory.get_current_entities(\"tomie最喜欢做什么事?\")"
   ],
   "id": "4f88cf1bddd86048",
   "outputs": [
    {
     "data": {
      "text/plain": [
       "['tomie']"
      ]
     },
     "execution_count": 32,
     "metadata": {},
     "output_type": "execute_result"
    }
   ],
   "execution_count": 32
  },
  {
   "metadata": {
    "ExecuteTime": {
     "end_time": "2024-04-24T14:08:56.662033Z",
     "start_time": "2024-04-24T14:08:55.360248Z"
    }
   },
   "cell_type": "code",
   "source": [
    "# 获取三元知识组: 主题,动作,目标\n",
    "memory.get_knowledge_triplets(\"tomie最喜欢打游戏\")"
   ],
   "id": "534c86e8f2827dbb",
   "outputs": [
    {
     "data": {
      "text/plain": [
       "[KnowledgeTriple(subject='tomie', predicate='最喜欢', object_='打游戏')]"
      ]
     },
     "execution_count": 33,
     "metadata": {},
     "output_type": "execute_result"
    }
   ],
   "execution_count": 33
  },
  {
   "metadata": {},
   "cell_type": "markdown",
   "source": "# 长对话在内存中的处理方式：总结摘要以及token计算",
   "id": "aa9cba1a10e7e40c"
  },
  {
   "metadata": {},
   "cell_type": "markdown",
   "source": [
    "## 总结摘要\n",
    "会把之前的会话内容做总结摘要"
   ],
   "id": "f75ada17277083a4"
  },
  {
   "metadata": {
    "ExecuteTime": {
     "end_time": "2024-04-24T14:10:36.338148Z",
     "start_time": "2024-04-24T14:10:31.494435Z"
    }
   },
   "cell_type": "code",
   "source": [
    "from langchain.memory import ConversationSummaryMemory\n",
    "from langchain.llms import OpenAI\n",
    "\n",
    "llm = OpenAI(temperature=0)\n",
    "\n",
    "memory = ConversationSummaryMemory(llm=llm)\n",
    "memory.save_context(\n",
    "    {\"input\": \"帮我找一下tomie\"},\n",
    "    {\"output\": \"对不起请问什么是tomie？\"}\n",
    ")\n",
    "memory.save_context(\n",
    "    {\"input\": \"tomie是一个培训讲师\"},\n",
    "    {\"output\": \"好的，我知道了。\"}\n",
    ")"
   ],
   "id": "6b149ab5b8bd3f83",
   "outputs": [],
   "execution_count": 34
  },
  {
   "metadata": {
    "ExecuteTime": {
     "end_time": "2024-04-24T14:10:37.384909Z",
     "start_time": "2024-04-24T14:10:37.380306Z"
    }
   },
   "cell_type": "code",
   "source": "memory.load_memory_variables({})",
   "id": "f73ba07b89ed96aa",
   "outputs": [
    {
     "data": {
      "text/plain": [
       "{'history': '\\nThe human asks the AI to help find something called \"tomie\". The AI apologizes and asks what \"tomie\" is. The human explains that tomie is a training instructor. The AI acknowledges and says it understands.'}"
      ]
     },
     "execution_count": 35,
     "metadata": {},
     "output_type": "execute_result"
    }
   ],
   "execution_count": 35
  },
  {
   "metadata": {
    "ExecuteTime": {
     "end_time": "2024-04-24T14:10:53.345203Z",
     "start_time": "2024-04-24T14:10:51.193565Z"
    }
   },
   "cell_type": "code",
   "source": [
    "messages = memory.chat_memory.messages\n",
    "#print(messages)\n",
    "memory.predict_new_summary(messages, \"\")"
   ],
   "id": "9aad5d6188362ebd",
   "outputs": [
    {
     "data": {
      "text/plain": [
       "'\\nThe human asks the AI to help find information about \"tomie\". The AI asks for clarification on what \"tomie\" is. The human explains that \"tomie\" is a training instructor. The AI acknowledges and understands.'"
      ]
     },
     "execution_count": 36,
     "metadata": {},
     "output_type": "execute_result"
    }
   ],
   "execution_count": 36
  },
  {
   "metadata": {
    "ExecuteTime": {
     "end_time": "2024-04-24T14:12:34.369811Z",
     "start_time": "2024-04-24T14:12:31.420210Z"
    }
   },
   "cell_type": "code",
   "source": [
    "#使用ChatMessageHistory来快速获得对话摘要\n",
    "from langchain.memory import ConversationSummaryMemory\n",
    "from langchain.memory import ChatMessageHistory\n",
    "from langchain.llms import OpenAI\n",
    "\n",
    "history = ChatMessageHistory()\n",
    "history.add_user_message(\"你好，我是人类！\")\n",
    "history.add_ai_message(\"你好，我是AI小丸子，有什么可以帮助你的吗？\")\n",
    "\n",
    "memory = ConversationSummaryMemory.from_messages(\n",
    "    llm=OpenAI(temperature=0),\n",
    "    chat_memory=history,\n",
    "    return_messages=True\n",
    ")"
   ],
   "id": "9888936f0fca9a6f",
   "outputs": [],
   "execution_count": 37
  },
  {
   "metadata": {
    "ExecuteTime": {
     "end_time": "2024-04-24T14:12:35.425135Z",
     "start_time": "2024-04-24T14:12:35.420981Z"
    }
   },
   "cell_type": "code",
   "source": [
    "#memory.buffer\n",
    "memory.load_memory_variables({})"
   ],
   "id": "851db3ff63e153d1",
   "outputs": [
    {
     "data": {
      "text/plain": [
       "{'history': [SystemMessage(content='\\nThe human introduces themselves as a human and the AI introduces itself as AI Xiaowanzi, asking if there is anything it can help with.')]}"
      ]
     },
     "execution_count": 38,
     "metadata": {},
     "output_type": "execute_result"
    }
   ],
   "execution_count": 38
  },
  {
   "metadata": {},
   "cell_type": "markdown",
   "source": [
    "## ConversationSummaryBufferMemory\n",
    "- 当对话持续进行且对话内容很多的时候可以使用ConversationSummaryBufferMemory来存储对话摘要\n",
    "- 这是一种非常有用的方式,它会根据token的数量来自动判断是否需要进行摘要\n",
    "- 当token数量超过阈值的时候,会自动进行摘要\n",
    "- 在缓冲区中,会保留最近的k条对话, 比较久的对话会总结为摘要记录,然后删除会话"
   ],
   "id": "59e704eb049d73bc"
  },
  {
   "metadata": {
    "ExecuteTime": {
     "end_time": "2024-04-24T14:15:05.556282Z",
     "start_time": "2024-04-24T14:15:02.490406Z"
    }
   },
   "cell_type": "code",
   "source": [
    "from langchain.memory import ConversationSummaryBufferMemory\n",
    "from langchain.llms import OpenAI\n",
    "\n",
    "llm = OpenAI(temperature=0)\n",
    "\n",
    "memory = ConversationSummaryBufferMemory(\n",
    "    llm=llm,\n",
    "    max_token_limit=50,\n",
    "    return_messages=True\n",
    ")\n",
    "memory.save_context(\n",
    "    {\"input\": \"帮我找一下tomie\"},\n",
    "    {\"output\": \"对不起请问什么是tomie？\"}\n",
    ")\n",
    "memory.save_context(\n",
    "    {\"input\": \"tomie是一个培训讲师\"},\n",
    "    {\"output\": \"好的，我知道了。\"}\n",
    ")\n",
    "memory.save_context(\n",
    "    {\"input\": \"今天他要讲一门关于RAG的课程\"},\n",
    "    {\"output\": \"好的，我知道了。需要RAG的资料吗？\"}\n",
    ")\n"
   ],
   "id": "74ac7734f2b9c8b0",
   "outputs": [],
   "execution_count": 44
  },
  {
   "metadata": {
    "ExecuteTime": {
     "end_time": "2024-04-24T14:15:06.528646Z",
     "start_time": "2024-04-24T14:15:06.524410Z"
    }
   },
   "cell_type": "code",
   "source": [
    "# 可以看到之前的内容变成了摘要,后续新的会话还存在\n",
    "memory.load_memory_variables({})"
   ],
   "id": "86ca8554ea90d509",
   "outputs": [
    {
     "data": {
      "text/plain": [
       "{'history': [SystemMessage(content='\\nThe human asks the AI to help find Tomie. The AI asks for clarification on who or what Tomie is. The human explains that Tomie is a training instructor. The AI acknowledges and understands.'),\n",
       "  HumanMessage(content='今天他要讲一门关于RAG的课程'),\n",
       "  AIMessage(content='好的，我知道了。需要RAG的资料吗？')]}"
      ]
     },
     "execution_count": 45,
     "metadata": {},
     "output_type": "execute_result"
    }
   ],
   "execution_count": 45
  },
  {
   "metadata": {},
   "cell_type": "markdown",
   "source": "## Conversation Token Buffer使用token长度来决定什么时候刷新内存",
   "id": "b5f72e2d8a16e9a4"
  },
  {
   "metadata": {
    "ExecuteTime": {
     "end_time": "2024-04-24T14:16:54.219843Z",
     "start_time": "2024-04-24T14:16:54.188497Z"
    }
   },
   "cell_type": "code",
   "source": [
    "from langchain.memory import ConversationTokenBufferMemory\n",
    "from langchain.llms import OpenAI\n",
    "\n",
    "llm = OpenAI(temperature=0)\n",
    "memory = ConversationTokenBufferMemory(llm=llm, max_token_limit=100)\n",
    "memory.save_context(\n",
    "    {\"input\": \"帮我找一下tomie\"},\n",
    "    {\"output\": \"对不起请问什么是tomie？\"}\n",
    ")\n",
    "memory.save_context(\n",
    "    {\"input\": \"tomie是一个培训讲师\"},\n",
    "    {\"output\": \"好的，我知道了。\"}\n",
    ")\n",
    "memory.save_context(\n",
    "    {\"input\": \"今天他要讲一门关于RAG的课程\"},\n",
    "    {\"output\": \"好的，我知道了。需要RAG的资料吗？\"}\n",
    ")\n",
    "memory.save_context(\n",
    "    {\"input\": \"不需要资料了，谢谢\"},\n",
    "    {\"output\": \"好的，那我就不打扰你了。\"}\n",
    ")\n"
   ],
   "id": "4f052f8c4816c624",
   "outputs": [],
   "execution_count": 48
  },
  {
   "metadata": {
    "ExecuteTime": {
     "end_time": "2024-04-24T14:17:00.502185Z",
     "start_time": "2024-04-24T14:17:00.497651Z"
    }
   },
   "cell_type": "code",
   "source": [
    "# 可以看到只保留了最新100个token的对话累哦人\n",
    "memory.load_memory_variables({})"
   ],
   "id": "226237e22c8267b2",
   "outputs": [
    {
     "data": {
      "text/plain": [
       "{'history': 'Human: tomie是一个培训讲师\\nAI: 好的，我知道了。\\nHuman: 今天他要讲一门关于RAG的课程\\nAI: 好的，我知道了。需要RAG的资料吗？\\nHuman: 不需要资料了，谢谢\\nAI: 好的，那我就不打扰你了。'}"
      ]
     },
     "execution_count": 49,
     "metadata": {},
     "output_type": "execute_result"
    }
   ],
   "execution_count": 49
  },
  {
   "metadata": {},
   "cell_type": "markdown",
   "source": [
    "# 长时记忆的是实现方式\n",
    "\n",
    "- 通过向量数据库来存储之前的对话内容，有的向量数据库服务还提供自动摘要等，每次对话的时候，都会从向量数据库里查询最相关的文档或历史对话\n",
    "- 也可以使用其他的存储介质(redis,mongo,es等),langchain都有内置的实现类"
   ],
   "id": "26d620db373da633"
  },
  {
   "metadata": {
    "ExecuteTime": {
     "end_time": "2024-04-24T14:20:30.113744Z",
     "start_time": "2024-04-24T14:20:25.702577Z"
    }
   },
   "cell_type": "code",
   "source": [
    "from langchain_openai import OpenAIEmbeddings\n",
    "from langchain.memory import ConversationBufferMemory\n",
    "from langchain.vectorstores import FAISS\n",
    "\n",
    "memory = ConversationBufferMemory()\n",
    "memory.save_context(\n",
    "    {\"input\": \"帮我找一下tomie\"},\n",
    "    {\"output\": \"对不起请问什么是tomie？\"}\n",
    ")\n",
    "memory.save_context(\n",
    "    {\"input\": \"tomie是一个培训讲师\"},\n",
    "    {\"output\": \"好的，我知道了。\"}\n",
    ")\n",
    "memory.save_context(\n",
    "    {\"input\": \"今天他要讲一门关于RAG的课程\"},\n",
    "    {\"output\": \"好的，我知道了。需要RAG的资料吗？\"}\n",
    ")\n",
    "memory.save_context(\n",
    "    {\"input\": \"不需要资料了，谢谢\"},\n",
    "    {\"output\": \"好的，那我就不打扰你了。\"}\n",
    ")\n",
    "\n",
    "vectorstore = FAISS.from_texts(\n",
    "    memory.buffer.split(\"\\n\"),\n",
    "    OpenAIEmbeddings()\n",
    ")\n",
    "# 存储在本地,会有一个\n",
    "FAISS.save_local(vectorstore, \"faiss_db_file\")"
   ],
   "id": "d840c5c0f0426c30",
   "outputs": [],
   "execution_count": 50
  },
  {
   "metadata": {
    "ExecuteTime": {
     "end_time": "2024-04-24T14:21:43.186982Z",
     "start_time": "2024-04-24T14:21:39.661763Z"
    }
   },
   "cell_type": "code",
   "source": [
    "FAISS.load_local(\"faiss_db_file\", OpenAIEmbeddings(model=\"text-embedding-3-small\"),\n",
    "                 allow_dangerous_deserialization=True).similarity_search(\"tomie是什么职业?\")"
   ],
   "id": "56826927e923c861",
   "outputs": [
    {
     "data": {
      "text/plain": [
       "[Document(page_content='Human: 今天他要讲一门关于RAG的课程'),\n",
       " Document(page_content='AI: 好的，我知道了。需要RAG的资料吗？'),\n",
       " Document(page_content='Human: tomie是一个培训讲师'),\n",
       " Document(page_content='AI: 好的，那我就不打扰你了。')]"
      ]
     },
     "execution_count": 54,
     "metadata": {},
     "output_type": "execute_result"
    }
   ],
   "execution_count": 54
  },
  {
   "metadata": {
    "ExecuteTime": {
     "end_time": "2024-04-24T14:22:52.360370Z",
     "start_time": "2024-04-24T14:22:45.943133Z"
    }
   },
   "cell_type": "code",
   "source": [
    "from langchain.vectorstores import FAISS\n",
    "from langchain_openai import OpenAIEmbeddings\n",
    "from langchain.memory import VectorStoreRetrieverMemory\n",
    "\n",
    "r1 = FAISS.load_local(\"faiss_db_file\", OpenAIEmbeddings(), allow_dangerous_deserialization=True)\n",
    "memory2 = VectorStoreRetrieverMemory(\n",
    "    retriever=r1.as_retriever(search_kwargs={\"k\": 1})\n",
    ")\n",
    "memory2.load_memory_variables({\"prompt\": \"tomie是什么职业?\"})"
   ],
   "id": "8da5be5197ea9975",
   "outputs": [
    {
     "data": {
      "text/plain": [
       "{'history': 'Human: tomie是一个培训讲师'}"
      ]
     },
     "execution_count": 55,
     "metadata": {},
     "output_type": "execute_result"
    }
   ],
   "execution_count": 55
  }
 ],
 "metadata": {
  "kernelspec": {
   "display_name": "Python 3",
   "language": "python",
   "name": "python3"
  },
  "language_info": {
   "codemirror_mode": {
    "name": "ipython",
    "version": 2
   },
   "file_extension": ".py",
   "mimetype": "text/x-python",
   "name": "python",
   "nbconvert_exporter": "python",
   "pygments_lexer": "ipython2",
   "version": "2.7.6"
  }
 },
 "nbformat": 4,
 "nbformat_minor": 5
}
