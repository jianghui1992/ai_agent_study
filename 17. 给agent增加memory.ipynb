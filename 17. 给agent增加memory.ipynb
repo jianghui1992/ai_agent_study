{
 "cells": [
  {
   "cell_type": "code",
   "id": "initial_id",
   "metadata": {
    "collapsed": true,
    "ExecuteTime": {
     "end_time": "2024-04-25T14:00:35.057670Z",
     "start_time": "2024-04-25T14:00:35.043523Z"
    }
   },
   "source": [
    "from dotenv import load_dotenv\n",
    "\n",
    "load_dotenv(\"openai.env\")"
   ],
   "outputs": [
    {
     "data": {
      "text/plain": [
       "True"
      ]
     },
     "execution_count": 3,
     "metadata": {},
     "output_type": "execute_result"
    }
   ],
   "execution_count": 3
  },
  {
   "metadata": {},
   "cell_type": "markdown",
   "source": [
    "# 如何给agent正确的增加记忆\n",
    "\n",
    "- 将memory插入到提示词模板中\n",
    "<hr>"
   ],
   "id": "f959368858adb648"
  },
  {
   "metadata": {
    "ExecuteTime": {
     "end_time": "2024-04-25T14:00:36.693847Z",
     "start_time": "2024-04-25T14:00:36.118075Z"
    }
   },
   "cell_type": "code",
   "source": [
    "from langchain.agents import Tool\n",
    "from langchain.agents import AgentType\n",
    "from langchain.memory import ConversationBufferMemory\n",
    "from langchain.chat_models import ChatOpenAI\n",
    "from langchain.utilities import SerpAPIWrapper\n",
    "from langchain.agents import initialize_agent\n",
    "from langchain.chains import LLMMathChain\n",
    "from langchain.prompts import MessagesPlaceholder\n",
    "\n",
    "llm = ChatOpenAI(\n",
    "    temperature=0,\n",
    "    model=\"gpt-4-1106-preview\",\n",
    ")\n"
   ],
   "id": "4c5e8c661bfbed8",
   "outputs": [],
   "execution_count": 4
  },
  {
   "metadata": {},
   "cell_type": "markdown",
   "source": "自定义tools",
   "id": "c45b9ef091bd1a03"
  },
  {
   "metadata": {
    "ExecuteTime": {
     "end_time": "2024-04-25T14:00:38.874499Z",
     "start_time": "2024-04-25T14:00:38.849261Z"
    }
   },
   "cell_type": "code",
   "source": [
    "import os\n",
    "\n",
    "os.environ[\"SERPAPI_API_KEY\"] = \"32109af1224c43d11768866970c41e4e681e03bf220c7bd2b9a16af817431719\"\n",
    "#构建一个搜索工具\n",
    "search = SerpAPIWrapper()\n",
    "#创建一个数学计算工具\n",
    "llm_math_chain = LLMMathChain(\n",
    "    llm=llm,\n",
    "    verbose=True\n",
    ")\n",
    "tools = [\n",
    "    Tool(\n",
    "        name=\"Search\",\n",
    "        func=search.run,\n",
    "        description=\"useful for when you need to answer questions about current events or the current state of the world\"\n",
    "    ),\n",
    "    Tool(\n",
    "        name=\"Calculator\",\n",
    "        func=llm_math_chain.run,\n",
    "        description=\"useful for when you need to answer questions about math\"\n",
    "    ),\n",
    "]\n",
    "print(tools)"
   ],
   "id": "620f1a1b74d55cdf",
   "outputs": [
    {
     "name": "stdout",
     "output_type": "stream",
     "text": [
      "[Tool(name='Search', description='useful for when you need to answer questions about current events or the current state of the world', func=<bound method SerpAPIWrapper.run of SerpAPIWrapper(search_engine=<class 'serpapi.google_search.GoogleSearch'>, params={'engine': 'google', 'google_domain': 'google.com', 'gl': 'us', 'hl': 'en'}, serpapi_api_key='32109af1224c43d11768866970c41e4e681e03bf220c7bd2b9a16af817431719', aiosession=None)>), Tool(name='Calculator', description='useful for when you need to answer questions about math', func=<bound method Chain.run of LLMMathChain(verbose=True, llm_chain=LLMChain(prompt=PromptTemplate(input_variables=['question'], template='Translate a math problem into a expression that can be executed using Python\\'s numexpr library. Use the output of running this code to answer the question.\\n\\nQuestion: ${{Question with math problem.}}\\n```text\\n${{single line mathematical expression that solves the problem}}\\n```\\n...numexpr.evaluate(text)...\\n```output\\n${{Output of running the code}}\\n```\\nAnswer: ${{Answer}}\\n\\nBegin.\\n\\nQuestion: What is 37593 * 67?\\n```text\\n37593 * 67\\n```\\n...numexpr.evaluate(\"37593 * 67\")...\\n```output\\n2518731\\n```\\nAnswer: 2518731\\n\\nQuestion: 37593^(1/5)\\n```text\\n37593**(1/5)\\n```\\n...numexpr.evaluate(\"37593**(1/5)\")...\\n```output\\n8.222831614237718\\n```\\nAnswer: 8.222831614237718\\n\\nQuestion: {question}\\n'), llm=ChatOpenAI(client=<openai.resources.chat.completions.Completions object at 0x10d14dd50>, async_client=<openai.resources.chat.completions.AsyncCompletions object at 0x10d155e10>, model_name='gpt-4-1106-preview', temperature=0.0, openai_api_key='sk-bQGeRZevfQI95TPb1b1a3e80011c4f368150270f687dF163', openai_api_base='https://api.aihubmix.com/v1', openai_proxy='https://api.aihubmix.com/v1')), llm=ChatOpenAI(client=<openai.resources.chat.completions.Completions object at 0x10d14dd50>, async_client=<openai.resources.chat.completions.AsyncCompletions object at 0x10d155e10>, model_name='gpt-4-1106-preview', temperature=0.0, openai_api_key='sk-bQGeRZevfQI95TPb1b1a3e80011c4f368150270f687dF163', openai_api_base='https://api.aihubmix.com/v1', openai_proxy='https://api.aihubmix.com/v1'))>)]\n"
     ]
    },
    {
     "name": "stderr",
     "output_type": "stream",
     "text": [
      "/Users/jianghui/PycharmProjects/ai_agent_study/venv/lib/python3.11/site-packages/langchain/chains/llm_math/base.py:57: UserWarning: Directly instantiating an LLMMathChain with an llm is deprecated. Please instantiate with llm_chain argument or using the from_llm class method.\n",
      "  warnings.warn(\n"
     ]
    }
   ],
   "execution_count": 5
  },
  {
   "metadata": {},
   "cell_type": "markdown",
   "source": "增加memory组件",
   "id": "926ca19f5b9764"
  },
  {
   "metadata": {
    "ExecuteTime": {
     "end_time": "2024-04-25T14:01:37.551079Z",
     "start_time": "2024-04-25T14:01:37.548308Z"
    }
   },
   "cell_type": "code",
   "source": [
    "#记忆组件\n",
    "memory = ConversationBufferMemory(\n",
    "    memory_key=\"chat_history\",\n",
    "    return_messages=True\n",
    ")"
   ],
   "id": "ca75e9a1220a4737",
   "outputs": [],
   "execution_count": 6
  },
  {
   "metadata": {},
   "cell_type": "markdown",
   "source": "定义agent",
   "id": "34451cff6e399fa"
  },
  {
   "metadata": {
    "ExecuteTime": {
     "end_time": "2024-04-25T14:01:55.456057Z",
     "start_time": "2024-04-25T14:01:55.404975Z"
    }
   },
   "cell_type": "code",
   "source": [
    "agent_chain = initialize_agent(\n",
    "    tools,\n",
    "    llm,\n",
    "    agent=AgentType.OPENAI_FUNCTIONS,\n",
    "    verbose=True,\n",
    "    handle_parsing_errors=True,#处理解析错误\n",
    "    memory=memory #记忆组件\n",
    ")"
   ],
   "id": "267c69f769aeefdb",
   "outputs": [
    {
     "name": "stderr",
     "output_type": "stream",
     "text": [
      "/Users/jianghui/PycharmProjects/ai_agent_study/venv/lib/python3.11/site-packages/langchain_core/_api/deprecation.py:117: LangChainDeprecationWarning: The function `initialize_agent` was deprecated in LangChain 0.1.0 and will be removed in 0.2.0. Use Use new agent constructor methods like create_react_agent, create_json_agent, create_structured_chat_agent, etc. instead.\n",
      "  warn_deprecated(\n"
     ]
    }
   ],
   "execution_count": 7
  },
  {
   "metadata": {
    "ExecuteTime": {
     "end_time": "2024-04-25T14:02:09.666209Z",
     "start_time": "2024-04-25T14:02:09.661879Z"
    }
   },
   "cell_type": "code",
   "source": [
    "print(agent_chain.agent.prompt.messages)\n",
    "print(agent_chain.agent.prompt.messages[0])\n",
    "print(agent_chain.agent.prompt.messages[1])\n",
    "print(agent_chain.agent.prompt.messages[2])"
   ],
   "id": "c7b406eec5306334",
   "outputs": [
    {
     "name": "stdout",
     "output_type": "stream",
     "text": [
      "[SystemMessage(content='You are a helpful AI assistant.'), HumanMessagePromptTemplate(prompt=PromptTemplate(input_variables=['input'], template='{input}')), MessagesPlaceholder(variable_name='agent_scratchpad')]\n",
      "content='You are a helpful AI assistant.'\n",
      "prompt=PromptTemplate(input_variables=['input'], template='{input}')\n",
      "variable_name='agent_scratchpad'\n"
     ]
    }
   ],
   "execution_count": 8
  },
  {
   "metadata": {
    "ExecuteTime": {
     "end_time": "2024-04-25T14:02:39.929860Z",
     "start_time": "2024-04-25T14:02:32.028082Z"
    }
   },
   "cell_type": "code",
   "source": "agent_chain.invoke(\"你好,我是大头\")",
   "id": "1b2770e983ee1727",
   "outputs": [
    {
     "name": "stdout",
     "output_type": "stream",
     "text": [
      "\n",
      "\n",
      "\u001B[1m> Entering new AgentExecutor chain...\u001B[0m\n",
      "\u001B[32;1m\u001B[1;3m你好大头！有什么我可以帮助你的吗？\u001B[0m\n",
      "\n",
      "\u001B[1m> Finished chain.\u001B[0m\n"
     ]
    },
    {
     "data": {
      "text/plain": [
       "{'input': '你好,我是大头',\n",
       " 'chat_history': [HumanMessage(content='你好,我是大头'),\n",
       "  AIMessage(content='你好大头！有什么我可以帮助你的吗？')],\n",
       " 'output': '你好大头！有什么我可以帮助你的吗？'}"
      ]
     },
     "execution_count": 9,
     "metadata": {},
     "output_type": "execute_result"
    }
   ],
   "execution_count": 9
  },
  {
   "metadata": {
    "ExecuteTime": {
     "end_time": "2024-04-25T14:02:50.475932Z",
     "start_time": "2024-04-25T14:02:46.482728Z"
    }
   },
   "cell_type": "code",
   "source": [
    "# 可以看到memory没有生效, \n",
    "agent_chain.invoke(\"我叫什么名字?\")"
   ],
   "id": "6f27832df30c8909",
   "outputs": [
    {
     "name": "stdout",
     "output_type": "stream",
     "text": [
      "\n",
      "\n",
      "\u001B[1m> Entering new AgentExecutor chain...\u001B[0m\n",
      "\u001B[32;1m\u001B[1;3m作为一个AI，我没有访问您个人信息的权限，所以我不知道您的名字。如果您愿意告诉我，我会知道如何称呼您。\u001B[0m\n",
      "\n",
      "\u001B[1m> Finished chain.\u001B[0m\n"
     ]
    },
    {
     "data": {
      "text/plain": [
       "{'input': '我叫什么名字?',\n",
       " 'chat_history': [HumanMessage(content='你好,我是大头'),\n",
       "  AIMessage(content='你好大头！有什么我可以帮助你的吗？'),\n",
       "  HumanMessage(content='我叫什么名字?'),\n",
       "  AIMessage(content='作为一个AI，我没有访问您个人信息的权限，所以我不知道您的名字。如果您愿意告诉我，我会知道如何称呼您。')],\n",
       " 'output': '作为一个AI，我没有访问您个人信息的权限，所以我不知道您的名字。如果您愿意告诉我，我会知道如何称呼您。'}"
      ]
     },
     "execution_count": 10,
     "metadata": {},
     "output_type": "execute_result"
    }
   ],
   "execution_count": 10
  },
  {
   "metadata": {},
   "cell_type": "markdown",
   "source": "需要使用agent_kwargs传递参数，将chat_history传入",
   "id": "81d201dfa5170093"
  },
  {
   "metadata": {
    "ExecuteTime": {
     "end_time": "2024-04-25T14:04:24.983194Z",
     "start_time": "2024-04-25T14:04:24.978832Z"
    }
   },
   "cell_type": "code",
   "source": [
    "agent_chain = initialize_agent(\n",
    "    tools,\n",
    "    llm,\n",
    "    agent=AgentType.OPENAI_FUNCTIONS,\n",
    "    verbose=True,\n",
    "    handle_parsing_errors=True,#处理解析错误\n",
    "    agent_kwargs={\n",
    "        \"extra_prompt_messages\":[\n",
    "             MessagesPlaceholder(variable_name=\"chat_history\")\n",
    "            # 下面这个是原来就存在的占位符,我们也需要带上\n",
    "            ,MessagesPlaceholder(variable_name=\"agent_scratchpad\")\n",
    "        ],\n",
    "    },\n",
    "    memory=memory #记忆组件\n",
    ")"
   ],
   "id": "efadf6af5689180d",
   "outputs": [],
   "execution_count": 11
  },
  {
   "metadata": {},
   "cell_type": "markdown",
   "source": "查看重新渲染后的提示词模版",
   "id": "5c11453afc2192d8"
  },
  {
   "metadata": {
    "ExecuteTime": {
     "end_time": "2024-04-25T14:04:42.959808Z",
     "start_time": "2024-04-25T14:04:42.955636Z"
    }
   },
   "cell_type": "code",
   "source": [
    "print(agent_chain.agent.prompt.messages)\n",
    "print(agent_chain.agent.prompt.messages[0])\n",
    "print(agent_chain.agent.prompt.messages[1])\n",
    "print(agent_chain.agent.prompt.messages[2])"
   ],
   "id": "5ee5827c87f7c123",
   "outputs": [
    {
     "name": "stdout",
     "output_type": "stream",
     "text": [
      "[SystemMessage(content='You are a helpful AI assistant.'), MessagesPlaceholder(variable_name='chat_history'), MessagesPlaceholder(variable_name='agent_scratchpad'), HumanMessagePromptTemplate(prompt=PromptTemplate(input_variables=['input'], template='{input}')), MessagesPlaceholder(variable_name='agent_scratchpad')]\n",
      "content='You are a helpful AI assistant.'\n",
      "variable_name='chat_history'\n",
      "variable_name='agent_scratchpad'\n"
     ]
    }
   ],
   "execution_count": 12
  },
  {
   "metadata": {
    "ExecuteTime": {
     "end_time": "2024-04-25T14:05:20.375084Z",
     "start_time": "2024-04-25T14:05:04.814416Z"
    }
   },
   "cell_type": "code",
   "source": "agent_chain.invoke(\"好厉害，刚才我们都聊了什么？\")",
   "id": "3a9cdb44da2e2272",
   "outputs": [
    {
     "name": "stdout",
     "output_type": "stream",
     "text": [
      "\n",
      "\n",
      "\u001B[1m> Entering new AgentExecutor chain...\u001B[0m\n",
      "\u001B[32;1m\u001B[1;3m刚才我们的对话主要是您向我打招呼，告诉我您的昵称是大头，然后询问我是否知道您的名字。我回答说没有访问您个人信息的权限，所以不知道您的名字。如果您有其他问题或需要帮助，请随时告诉我！\u001B[0m\n",
      "\n",
      "\u001B[1m> Finished chain.\u001B[0m\n"
     ]
    },
    {
     "data": {
      "text/plain": [
       "{'input': '好厉害，刚才我们都聊了什么？',\n",
       " 'chat_history': [HumanMessage(content='你好,我是大头'),\n",
       "  AIMessage(content='你好大头！有什么我可以帮助你的吗？'),\n",
       "  HumanMessage(content='我叫什么名字?'),\n",
       "  AIMessage(content='作为一个AI，我没有访问您个人信息的权限，所以我不知道您的名字。如果您愿意告诉我，我会知道如何称呼您。'),\n",
       "  HumanMessage(content='好厉害，刚才我们都聊了什么？'),\n",
       "  AIMessage(content='刚才我们的对话主要是您向我打招呼，告诉我您的昵称是大头，然后询问我是否知道您的名字。我回答说没有访问您个人信息的权限，所以不知道您的名字。如果您有其他问题或需要帮助，请随时告诉我！')],\n",
       " 'output': '刚才我们的对话主要是您向我打招呼，告诉我您的昵称是大头，然后询问我是否知道您的名字。我回答说没有访问您个人信息的权限，所以不知道您的名字。如果您有其他问题或需要帮助，请随时告诉我！'}"
      ]
     },
     "execution_count": 14,
     "metadata": {},
     "output_type": "execute_result"
    }
   ],
   "execution_count": 14
  }
 ],
 "metadata": {
  "kernelspec": {
   "display_name": "Python 3",
   "language": "python",
   "name": "python3"
  },
  "language_info": {
   "codemirror_mode": {
    "name": "ipython",
    "version": 2
   },
   "file_extension": ".py",
   "mimetype": "text/x-python",
   "name": "python",
   "nbconvert_exporter": "python",
   "pygments_lexer": "ipython2",
   "version": "2.7.6"
  }
 },
 "nbformat": 4,
 "nbformat_minor": 5
}
